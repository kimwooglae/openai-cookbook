{
 "cells": [
  {
   "cell_type": "markdown",
   "metadata": {},
   "source": [
    "# 1. 웹사이트 크롤링"
   ]
  },
  {
   "cell_type": "code",
   "execution_count": 1,
   "metadata": {},
   "outputs": [],
   "source": [
    "# !pip install googletrans==3.1.0a0 "
   ]
  },
  {
   "cell_type": "code",
   "execution_count": 2,
   "metadata": {
    "scrolled": true
   },
   "outputs": [],
   "source": [
    "import requests\n",
    "import re\n",
    "import urllib.request\n",
    "from bs4 import BeautifulSoup\n",
    "from collections import deque\n",
    "from html.parser import HTMLParser\n",
    "from urllib.parse import urlparse\n",
    "import pandas as pd\n",
    "import openai\n",
    "import os\n",
    "\n",
    "# Regex pattern to match a URL\n",
    "HTTP_URL_PATTERN = r'^http[s]{0,1}://.+$'\n",
    "\n",
    "# Define root domain to crawl\n",
    "# domain = \"openai.com\"\n",
    "# full_url = \"https://openai.com/\"\n",
    "# domain = \"inswave.com\"\n",
    "# full_url = \"https://inswave.com/confluence/pages/viewpage.action?pageId=6030702\"\n",
    "# domain = \"docs1.inswave.com\"\n",
    "# full_url = \"https://docs1.inswave.com/sp5_user_guide\"\n",
    "\n",
    "# domain = \"docs2.inswave.com\"\n",
    "# full_url = \"http://docs2.inswave.com/ws5_sp5_example\"\n",
    "domain = \"localhost:8080\"\n",
    "full_url = \"http://localhost:8080/websquare/guide/websquaretoc.html\"\n",
    "# Create a class to parse the HTML and get the hyperlinks\n",
    "class HyperlinkParser(HTMLParser):\n",
    "    def __init__(self):\n",
    "        super().__init__()\n",
    "        # Create a list to store the hyperlinks\n",
    "        self.hyperlinks = []\n",
    "\n",
    "    # Override the HTMLParser's handle_starttag method to get the hyperlinks\n",
    "    def handle_starttag(self, tag, attrs):\n",
    "        attrs = dict(attrs)\n",
    "\n",
    "        # If the tag is an anchor tag and it has an href attribute, add the href attribute to the list of hyperlinks\n",
    "        if tag == \"a\" and \"href\" in attrs:\n",
    "            self.hyperlinks.append(attrs[\"href\"])\n",
    "\n",
    "# Function to get the hyperlinks from a URL\n",
    "def get_hyperlinks(url):\n",
    "    \n",
    "    # Try to open the URL and read the HTML\n",
    "    try:\n",
    "        # Open the URL and read the HTML\n",
    "        with urllib.request.urlopen(url) as response:\n",
    "\n",
    "            # If the response is not HTML, return an empty list\n",
    "            if not response.info().get('Content-Type').startswith(\"text/html\"):\n",
    "                return []\n",
    "            \n",
    "            # Decode the HTML\n",
    "            html = response.read().decode('utf-8')\n",
    "    except Exception as e:\n",
    "        print(e)\n",
    "        return []\n",
    "\n",
    "    # Create the HTML Parser and then Parse the HTML to get hyperlinks\n",
    "    parser = HyperlinkParser()\n",
    "    parser.feed(html)\n",
    "\n",
    "    return parser.hyperlinks\n",
    "\n",
    "# Function to get the hyperlinks from a URL that are within the same domain\n",
    "def get_domain_hyperlinks(local_domain, url):\n",
    "    clean_links = []\n",
    "    for link in set(get_hyperlinks(url)):\n",
    "        clean_link = None\n",
    "\n",
    "        # If the link is a URL, check if it is within the same domain\n",
    "        if re.search(HTTP_URL_PATTERN, link):\n",
    "            # Parse the URL and check if the domain is the same\n",
    "            url_obj = urlparse(link)\n",
    "            if url_obj.netloc == local_domain:\n",
    "                clean_link = link\n",
    "\n",
    "        # If the link is not a URL, check if it is a relative link\n",
    "        else:\n",
    "            if link.startswith(\"/\"):\n",
    "                link = link[1:]\n",
    "            elif link.startswith(\"#\") or link.startswith(\"mailto:\"):\n",
    "                continue\n",
    "            clean_link = \"http://\" + local_domain + \"/\" + link\n",
    "#             clean_link = \"https://\" + local_domain + \"/\" + link\n",
    "\n",
    "        if clean_link is not None:\n",
    "            if clean_link.endswith(\"/\"):\n",
    "                clean_link = clean_link[:-1]\n",
    "            clean_links.append(clean_link)\n",
    "\n",
    "    # Return the list of hyperlinks that are within the same domain\n",
    "    return list(set(clean_links))\n",
    "\n",
    "\n",
    "def crawl(url):\n",
    "    # Parse the URL and get the domain\n",
    "    local_domain = urlparse(url).netloc\n",
    "\n",
    "    # Create a queue to store the URLs to crawl\n",
    "    queue = deque([url])\n",
    "\n",
    "    # Create a set to store the URLs that have already been seen (no duplicates)\n",
    "    seen = set([url])\n",
    "\n",
    "    # Create a directory to store the text files\n",
    "    if not os.path.exists(\"text/\"):\n",
    "            os.mkdir(\"text/\")\n",
    "\n",
    "    if not os.path.exists(\"text/\"+local_domain+\"/\"):\n",
    "            os.mkdir(\"text/\" + local_domain + \"/\")\n",
    "\n",
    "    # Create a directory to store the csv files\n",
    "    if not os.path.exists(\"processed\"):\n",
    "            os.mkdir(\"processed\")\n",
    "\n",
    "    # While the queue is not empty, continue crawling\n",
    "    while queue:\n",
    "\n",
    "        # Get the next URL from the queue\n",
    "        url = queue.pop()\n",
    "        print(url) # for debugging and to see the progress\n",
    "\n",
    "        path = url[8:].replace(\"/\", \"_\")\n",
    "        m = re.search('(.+?)[#]', path)\n",
    "        if m:\n",
    "            path = m.group(1)\n",
    "\n",
    "        # Save text from the url to a <url>.txt file\n",
    "#         with open('text/'+local_domain+'/'+url[8:].replace(\"/\", \"_\") + \".txt\", \"w\") as f:\n",
    "        with open('text/'+local_domain+'/'+ path + \".txt\", \"w\") as f:\n",
    "\n",
    "            # Get the text from the URL using BeautifulSoup\n",
    "            soup = BeautifulSoup(requests.get(url).text, \"html.parser\")\n",
    "\n",
    "            # Get the text but remove the tags\n",
    "            text = soup.get_text()\n",
    "            \n",
    "            \n",
    "            # If the crawler gets to a page that requires JavaScript, it will stop the crawl\n",
    "            if (\"You need to enable JavaScript to run this app.\" in text):\n",
    "                print(\"Unable to parse page \" + url + \" due to JavaScript being required\")\n",
    "            \n",
    "            # Otherwise, write the text to the file in the text directory\n",
    "            f.write(text)\n",
    "\n",
    "        # Get the hyperlinks from the URL and add them to the queue\n",
    "        for link in get_domain_hyperlinks(local_domain, url):\n",
    "            if link not in seen:\n",
    "                queue.append(link)\n",
    "                seen.add(link)\n",
    "\n"
   ]
  },
  {
   "cell_type": "code",
   "execution_count": 3,
   "metadata": {},
   "outputs": [],
   "source": [
    "# crawl(full_url)"
   ]
  },
  {
   "cell_type": "markdown",
   "metadata": {},
   "source": [
    "# 2. 다운받은 컨텐츠를 정리한 다음 영어로 번역"
   ]
  },
  {
   "cell_type": "code",
   "execution_count": 4,
   "metadata": {},
   "outputs": [],
   "source": [
    "def remove_newlines(serie):\n",
    "    serie = serie.replace('\\t', ' ')\n",
    "    serie = serie.replace('\\n', ' ')\n",
    "    serie = serie.replace('\\r', ' ')\n",
    "    serie = serie.replace('\\\\r', ' ')\n",
    "    serie = serie.replace('\\\\n', ' ')\n",
    "    serie = serie.replace('             ', ' ')\n",
    "    serie = serie.replace('            ', ' ')\n",
    "    serie = serie.replace('           ', ' ')\n",
    "    serie = serie.replace('          ', ' ')\n",
    "    serie = serie.replace('         ', ' ')\n",
    "    serie = serie.replace('        ', ' ')\n",
    "    serie = serie.replace('       ', ' ')\n",
    "    serie = serie.replace('      ', ' ')\n",
    "    serie = serie.replace('     ', ' ')\n",
    "    serie = serie.replace('    ', ' ')\n",
    "    serie = serie.replace('   ', ' ')\n",
    "    serie = serie.replace('  ', ' ')\n",
    "    serie = serie.replace('  ', ' ')\n",
    "    serie = serie.replace(' ', ' ')\n",
    "    return serie"
   ]
  },
  {
   "cell_type": "code",
   "execution_count": 5,
   "metadata": {},
   "outputs": [],
   "source": [
    "# Function to split the text into chunks of a maximum number of tokens\n",
    "def split_str_into_many(text, max_tokens = 4000):\n",
    "\n",
    "    # Split the text into sentences\n",
    "    sentences = text.split('. ')\n",
    "\n",
    "    # Get the number of tokens for each sentence\n",
    "    n_tokens = [len(\" \" + sentence) for sentence in sentences]\n",
    "    \n",
    "    chunks = []\n",
    "    tokens_so_far = 0\n",
    "    chunk = []\n",
    "\n",
    "    # Loop through the sentences and tokens joined together in a tuple\n",
    "    for sentence, token in zip(sentences, n_tokens):\n",
    "\n",
    "        # If the number of tokens so far plus the number of tokens in the current sentence is greater \n",
    "        # than the max number of tokens, then add the chunk to the list of chunks and reset\n",
    "        # the chunk and tokens so far\n",
    "        if tokens_so_far + token > max_tokens:\n",
    "            chunks.append(\". \".join(chunk) + \".\")\n",
    "            chunk = []\n",
    "            tokens_so_far = 0\n",
    "\n",
    "        # If the number of tokens in the current sentence is greater than the max number of \n",
    "        # tokens, go to the next sentence\n",
    "        if token > max_tokens:\n",
    "            continue\n",
    "\n",
    "        # Otherwise, add the sentence to the chunk and add the number of tokens to the total\n",
    "        chunk.append(sentence)\n",
    "        tokens_so_far += token + 1\n",
    "\n",
    "        \n",
    "    chunks.append(\". \".join(chunk) + \".\")\n",
    "        \n",
    "    return chunks\n",
    "    "
   ]
  },
  {
   "cell_type": "code",
   "execution_count": 6,
   "metadata": {},
   "outputs": [
    {
     "name": "stdout",
     "output_type": "stream",
     "text": [
      "안녕하세요.  ->  hello.\n"
     ]
    }
   ],
   "source": [
    "from googletrans import Translator\n",
    "translator = Translator()\n",
    "translation = translator.translate('안녕하세요.')\n",
    "print(translation.origin, ' -> ', translation.text)\n"
   ]
  },
  {
   "cell_type": "code",
   "execution_count": 7,
   "metadata": {
    "scrolled": true
   },
   "outputs": [],
   "source": [
    "# aaa = '''Group 컴포넌트와 동일하게 외부 스타일 시트 작성이 더 수월하면 Style 창에 스타일 입력을 건너띄어도 무방합니다.그림 77-8.작성한 외부 CSS그림 77-9.데이터 헤더에 해당되는 스타일의 클래스 삽입그림 77-10.데이터 셀에 해당되는 스타일의 클래스 삽입그림 77-11.데이터 행에 해당되는 스타일의 클래스 삽입그림 77-12.테이블에 해당되는 스타일의 클래스 삽입. 두가지 이상의 클래스를 합성 하고 싶을 경우에는 html 코딩과 동일하게 class 속성에 클래스 사이를 공백으로 띄어 적용할 수 있다.그림 77-13.파싱된 구조테이블 관련 요소가 될 컴포넌트에 스타일을 적용시키고 브라우저 개발자 도구로 확인을 해봅니다. 개발자 도구를 통해서 본 파싱된 결과물은 스타일 시트에 의해테이블의 형태를 취하고 있고, 각 요소들이 테이블과 유사한 부모-자식간의 관계가 되어있지만, 파싱된 마크업이 div로 (div는 division으로 영역을 나누는(레이아웃) 용도의 태그) 의미있는 마크업이 아니기에 문서상의 테이블을 의미하는 코딩을 했다고 할 수 없을 것입니다. 여기까지 만들어진 샘플을 토대로 tagname 변경으로 간단한 테이블 마크업을 해보겠습니다.77.3마크업 변경과 속성 추가하기WebSquare의 컴포넌트 중 가장 빈번히 사용되는 컴포넌트인 Group과 Textbox 컴포넌트는 tagname 속성을 제공하여 파싱될 마크업을 변경하여 사용자가 원하는 대로 마크업을 할 수 있습니다. 두 컴포넌트 모두 tagname 변경 방법은 동일합니다. Group 컴포넌트와 같은 방법으로 해당 Textbox 컴포넌트를 Design View에서 선택하고, Property창의 tagname을 변경하면 됩니다.전 챕터(2.1.1)에서 만들었던 디자인을 적용한 샘플을 복사하여 tagname 변경을 해보도록 하겠습니다. WebSqaure는 컴포넌트를 쉽고 빠르게 복사하여 생산성을 높일 수 있습니다. Component 창에서 복사할 컴포넌트를 오른쪽 클릭하여'복사'를 누른 후, 원하는 위치(부모가 될 컴포넌트)를 선택한 후 오른쪽 클릭하여 붙여넣기를 선택하면 됩니다. id는 WebSquare 에서 자동으로 1씩 증가한 만큼 넣어주어 id 중복 문제가 일어나지 않도록 해줍니다.그림 77-14.56비교적 명확한 요소 이름을 가진 데이터의 헤더 부터 tagname 부터 적용해 보겠습니다.<table> 예제는 tableLayout을 사용하는 것을 권장하며 개별적으로 작성하기 위한 방법으로 아래 방법을 참고하겠습니다. HTML 페이지를 작성하는 것과 같이 <table>에 대한 스타일 시트를 따로 작성하겠습니다.그림 77-15.새로 작성한 table 관련 스타일 시트<table>에 관한 스타일 시트가 완성되었으니, 복사한 컴포넌트에 CSS Class를 입력합니다. 입력한 후에 Design View에 적용이 안되는 이유는 스타일 시트 작성이 요소 선택자로 tr, th, td 에 대한 스타일이기 때문에 파싱될 마크업(tagname 속성)이 설정되어있지 않아 div로 표현되어서 그렇습니다. 그렇다면, 스타일 적용을 확인하기 위해 각각 그룹핑 되어있는 컴포넌트들을 table 코딩이었을 때에 매치되는 마크업으로 변경해 보도록 하겠습니다.브라우저에 파싱될 마크업을 수정하는 것은 Group 컴포넌트와 동일하게 Property 창에서 tagname 속성을 수정하면 됩니다. 제일 명확한 마크업인 데이터의 헤더인 th 부분을 먼저 수정해 보겠습니다. Design View에서 데이터 헤더에 해당되는 컴포넌트를 선택하고, Property창의 tagname을 선택하여 'th'를 직접입력 하거나찾아넣습니다.그림 77-16.데이터 헤더 셀이 될 컴포넌트에 th를 입그림 77-17.데이터 셀이 될 컴포넌트에 td를 입그림 77-18.테이블의 행이 될 컴포넌트에 tr을 입력그림 77-19.테이블이 될 컴포넌트에 table을 입력그림 77-20.브라우저에서의 화면 확인 및 파싱 결과 확인tagname을 수정하여 마크업이 결정되었습니다. 이제 가로형 테이블이니, 데이터 헤더에 대한 제목 범위를 지정하는 'scope' 속성을 추가하면 기본적인 table 마크업이 완성됩니다. 'scope' 속성이 없어도 정상적으로 브라우저 화면에서 나오나, 접근성 작업시 'scope' 속성은 반드시 넣어주셔야 합니다.Textbox 컴포넌트의 속성 추가는 Group 컴포넌트의 속성 추가와 같은 방법으로 'scope' 속성을 추가하기 위해서 th와 매칭되는 Textbox 컴포넌트를 Component 창에서 선택하고 오른쪽 클릭하여 '속성 태그 수정'을 선택하여 추가합니다.그림 77-21.tagname을 th로 준 컴포넌트의 scope 속성 추가그림 77-22.속성을 추가한 뒤에 브라우저에서 결과 확인접근성을 위해 <caption>코딩, summary Attibute 삽입하고 싶다면, 이전 코딩 방법과 동일하게 Table이 될 Group 컴포넌트에 Textbox 컴포넌트를 삽입하고 tagname을 caption으로 직접 입력하여 바꾸고, 속성 추가하기 컨텍스트 메뉴로 추가할 수 있습니다.더 세밀한 웹표준과 웹접근성을 준수하는 table 코딩 및 내용이 정적·동적인 table 을 하기 위해서는 여러가지 컴포넌트의 조합이 필요한 경우가 있기에, 다음 장인 다른 어떤 컴포넌트와 Group 컴포넌트, Textbox 컴포넌트의 조합 파트를 참고하시기 바랍니다.77.4CSS Overriding그림 77-23.02NoClassDescription1w2textboxw2textbox은 웹스퀘어 엔진에서 정의된 클래스입니다, 브라우저가 파싱할때 자동으로 부여됩니다.2inlinewebsquare의 style 편집기에서 해당 style을 직접 수정합니다.77.5주의사항 및 TipProperty > for 속성은 컴포넌트(Label)가 클릭 됐을때 Focus를 주고 자 하는 컴포넌트 ID를 정의한다.해당속성을 활성화 할 경우 textbox 컴포넌트는 tagname을 무시하고 html 랜더링 시 div 혹은 사용자정의 태그가 아닌 label 태그로 고정된다. .'''\n",
    "\n",
    "# translation = translator.translate(aaa, src=\"ko\", dest=\"ja\")\n",
    "# print(translation.origin, ' -> ', translation.text)\n"
   ]
  },
  {
   "cell_type": "markdown",
   "metadata": {},
   "source": [
    "## 한글을 영어로 번역\n",
    "기존 파일을 사용하는 경우 번역 불필요 (실행이 필요한 경우 주석을 제거한 다음 실행)"
   ]
  },
  {
   "cell_type": "code",
   "execution_count": 8,
   "metadata": {
    "scrolled": true
   },
   "outputs": [],
   "source": [
    "# import pandas as pd\n",
    "# import time\n",
    "# from googletrans import Translator\n",
    "# translator = Translator()\n",
    "\n",
    "# # Create a list to store the text files\n",
    "# texts_ko=[]\n",
    "# texts_en=[]\n",
    "\n",
    "\n",
    "# # Get all the text files in the text directory\n",
    "# for file in os.listdir(\"text/\" + domain + \"/\"):\n",
    "\n",
    "#     if file == '.DS_Store':\n",
    "#         continue\n",
    "\n",
    "#     # Open the file and read the text\n",
    "#     with open(\"text/\" + domain + \"/\" + file, \"r\") as f:\n",
    "#         text_ko = f.read()\n",
    "#         text_ko = remove_newlines(text_ko)\n",
    "#         if len(text_ko) == 0:\n",
    "#             continue\n",
    "\n",
    "#         text_ko_list = split_str_into_many(text_ko, 2000) # 3k 이상이면 번역이 안되는 경우가 발생함\n",
    "#         text_en_list = []\n",
    "#         text_en = ''\n",
    "#         for ko_str in text_ko_list:\n",
    "#             try:\n",
    "#                 tran_result = translator.translate(ko_str, src=\"ko\", dest=\"en\")\n",
    "#                 if tran_result.text == tran_result.origin and tran_result.text != '.':\n",
    "#                     print('google translate error(not translate)-1. wait 10sec and try again:', file, len(ko_str), ko_str)\n",
    "#                     time.sleep(10)\n",
    "#                     tran_result = translator.translate(ko_str, src=\"ko\", dest=\"en\")\n",
    "#                     if tran_result.text == tran_result.origin:\n",
    "#                         print('google translate error(not translate)-2:', file, len(ko_str), ko_str)\n",
    "#                 text_en_list.append(tran_result.text)\n",
    "#             except:\n",
    "#                 print('google translate error. try again:', file, len(ko_str))\n",
    "#                 try:\n",
    "#                     tran_result = translator.translate(ko_str, src=\"ko\", dest=\"en\")\n",
    "#                     if tran_result.text == tran_result.origin:\n",
    "#                         print('google translate error(not translate). try again:', file, len(ko_str))\n",
    "#                         tran_result = translator.translate(ko_str, src=\"ko\", dest=\"en\")\n",
    "#                     text_en_list.append(tran_result.text)\n",
    "#                 except:\n",
    "#                     print('google translate error ', file, len(ko_str))\n",
    "\n",
    "#         text_en = \" \".join(text_en_list)\n",
    "# #         print(file, len(text_ko), len(text_en), len(text_ko_list))\n",
    "        \n",
    "#         # Omit the first 11 lines and the last 4 lines, then replace -, _, and #update with spaces.\n",
    "#         texts_ko.append((file[11:-4].replace('-',' ').replace('_', ' ').replace('#update',''), text_ko))\n",
    "#         texts_en.append((file[11:-4].replace('-',' ').replace('_', ' ').replace('#update',''), text_en))\n",
    "\n",
    "# # Create a dataframe from the list of texts\n",
    "# df_ko = pd.DataFrame(texts_ko, columns = ['fname', 'text'])\n",
    "# df_en = pd.DataFrame(texts_en, columns = ['fname', 'text'])\n",
    "\n",
    "# # Set the text column to be the raw text with the newlines removed\n",
    "# # df_ko['text'] = df_ko.fname + \". \" + remove_newlines(df_ko.text)\n",
    "# df_ko['text'] = df_ko.fname + \". \" + df_ko.text\n",
    "# df_en['text'] = df_en.fname + \". \" + df_en.text\n",
    "\n",
    "# df_ko.to_csv('processed/scraped_ko.csv')\n",
    "# df_ko.head()\n",
    "\n",
    "# df_en.to_csv('processed/scraped_en.csv')\n",
    "# df_en.head()\n"
   ]
  },
  {
   "cell_type": "markdown",
   "metadata": {},
   "source": [
    "# 3. tiktoken으로 token 개수 확인"
   ]
  },
  {
   "cell_type": "markdown",
   "metadata": {},
   "source": [
    "## 한글 버전의 경우 "
   ]
  },
  {
   "cell_type": "code",
   "execution_count": 9,
   "metadata": {},
   "outputs": [
    {
     "data": {
      "text/plain": [
       "<Axes: >"
      ]
     },
     "execution_count": 9,
     "metadata": {},
     "output_type": "execute_result"
    },
    {
     "data": {
      "image/png": "[encoded data removed]",
      "text/plain": [
       "<Figure size 640x480 with 1 Axes>"
      ]
     },
     "metadata": {},
     "output_type": "display_data"
    }
   ],
   "source": [
    "import tiktoken\n",
    "\n",
    "# Load the cl100k_base tokenizer which is designed to work with the ada-002 model\n",
    "tokenizer = tiktoken.get_encoding(\"cl100k_base\")\n",
    "\n",
    "df_ko = pd.read_csv('processed/scraped_ko.csv', index_col=0)\n",
    "df_ko.columns = ['title', 'text']\n",
    "\n",
    "# Tokenize the text and save the number of tokens to a new column\n",
    "df_ko['n_tokens'] = df_ko.text.apply(lambda x: len(tokenizer.encode(x)))\n",
    "\n",
    "# Visualize the distribution of the number of tokens per row using a histogram\n",
    "df_ko.n_tokens.hist(bins=30)\n",
    "\n"
   ]
  },
  {
   "cell_type": "markdown",
   "metadata": {},
   "source": [
    "## 영어 버전의 경우"
   ]
  },
  {
   "cell_type": "code",
   "execution_count": 10,
   "metadata": {},
   "outputs": [
    {
     "data": {
      "text/plain": [
       "<Axes: >"
      ]
     },
     "execution_count": 10,
     "metadata": {},
     "output_type": "execute_result"
    },
    {
     "data": {
      "image/png": "[encoded data removed]",
      "text/plain": [
       "<Figure size 640x480 with 1 Axes>"
      ]
     },
     "metadata": {},
     "output_type": "display_data"
    }
   ],
   "source": [
    "import tiktoken\n",
    "\n",
    "\n",
    "df_en = pd.read_csv('processed/scraped_en.csv', index_col=0)\n",
    "df_en.columns = ['title', 'text']\n",
    "\n",
    "df_en.tail()\n",
    "# # Tokenize the text and save the number of tokens to a new column\n",
    "df_en['n_tokens'] = df_en.text.apply(lambda x: len(tokenizer.encode(x)))\n",
    "\n",
    "# # Visualize the distribution of the number of tokens per row using a histogram\n",
    "df_en.n_tokens.hist(bins=18)\n"
   ]
  },
  {
   "cell_type": "markdown",
   "metadata": {},
   "source": [
    "# 4. 문서를 token (500)이하로 분리하여 저장"
   ]
  },
  {
   "cell_type": "code",
   "execution_count": 11,
   "metadata": {},
   "outputs": [],
   "source": [
    "max_tokens = 500\n",
    "\n",
    "# Function to split the text into chunks of a maximum number of tokens\n",
    "def split_into_many(text, max_tokens = max_tokens):\n",
    "\n",
    "    # Split the text into sentences\n",
    "    sentences = text.split('. ')\n",
    "\n",
    "    # Get the number of tokens for each sentence\n",
    "    n_tokens = [len(tokenizer.encode(\" \" + sentence)) for sentence in sentences]\n",
    "    \n",
    "    chunks = []\n",
    "    tokens_so_far = 0\n",
    "    chunk = []\n",
    "\n",
    "    # Loop through the sentences and tokens joined together in a tuple\n",
    "    for sentence, token in zip(sentences, n_tokens):\n",
    "\n",
    "        # If the number of tokens so far plus the number of tokens in the current sentence is greater \n",
    "        # than the max number of tokens, then add the chunk to the list of chunks and reset\n",
    "        # the chunk and tokens so far\n",
    "        if tokens_so_far + token > max_tokens:\n",
    "            chunks.append(\". \".join(chunk) + \".\")\n",
    "            chunk = []\n",
    "            tokens_so_far = 0\n",
    "\n",
    "        # If the number of tokens in the current sentence is greater than the max number of \n",
    "        # tokens, go to the next sentence\n",
    "        if token > max_tokens:\n",
    "            continue\n",
    "\n",
    "        # Otherwise, add the sentence to the chunk and add the number of tokens to the total\n",
    "        chunk.append(sentence)\n",
    "        tokens_so_far += token + 1\n",
    "\n",
    "    chunks.append(\". \".join(chunk) + \".\")\n",
    "    return chunks\n",
    "    \n",
    "\n",
    "shortened_ko = []\n",
    "\n",
    "# Loop through the dataframe\n",
    "for row in df_ko.iterrows():\n",
    "\n",
    "    # If the text is None, go to the next row\n",
    "    if row[1]['text'] is None:\n",
    "        continue\n",
    "\n",
    "    # If the number of tokens is greater than the max number of tokens, split the text into chunks\n",
    "    if row[1]['n_tokens'] > max_tokens:\n",
    "        shortened_ko += split_into_many(row[1]['text'])\n",
    "    \n",
    "    # Otherwise, add the text to the list of shortened texts\n",
    "    else:\n",
    "        shortened_ko.append( row[1]['text'] )\n",
    "        \n",
    "\n",
    "shortened_en = []\n",
    "\n",
    "# Loop through the dataframe\n",
    "for row in df_en.iterrows():\n",
    "\n",
    "    # If the text is None, go to the next row\n",
    "    if row[1]['text'] is None:\n",
    "        continue\n",
    "\n",
    "    # If the number of tokens is greater than the max number of tokens, split the text into chunks\n",
    "    if row[1]['n_tokens'] > max_tokens:\n",
    "        shortened_en += split_into_many(row[1]['text'])\n",
    "    \n",
    "    # Otherwise, add the text to the list of shortened texts\n",
    "    else:\n",
    "        shortened_en.append( row[1]['text'] )\n",
    "        "
   ]
  },
  {
   "cell_type": "markdown",
   "metadata": {},
   "source": [
    "# 6. token 크기 분포 확인"
   ]
  },
  {
   "cell_type": "markdown",
   "metadata": {},
   "source": [
    "## 한글의 경우"
   ]
  },
  {
   "cell_type": "code",
   "execution_count": 12,
   "metadata": {},
   "outputs": [
    {
     "data": {
      "text/plain": [
       "<Axes: >"
      ]
     },
     "execution_count": 12,
     "metadata": {},
     "output_type": "execute_result"
    },
    {
     "data": {
      "image/png": "[encoded data removed]",
      "text/plain": [
       "<Figure size 640x480 with 1 Axes>"
      ]
     },
     "metadata": {},
     "output_type": "display_data"
    }
   ],
   "source": [
    "df_ko = pd.DataFrame(shortened_ko, columns = ['text'])\n",
    "df_ko['n_tokens'] = df_ko.text.apply(lambda x: len(tokenizer.encode(x)))\n",
    "df_ko.n_tokens.hist()\n"
   ]
  },
  {
   "cell_type": "markdown",
   "metadata": {},
   "source": [
    "## 영어의 경우"
   ]
  },
  {
   "cell_type": "code",
   "execution_count": 13,
   "metadata": {},
   "outputs": [
    {
     "data": {
      "text/plain": [
       "<Axes: >"
      ]
     },
     "execution_count": 13,
     "metadata": {},
     "output_type": "execute_result"
    },
    {
     "data": {
      "image/png": "[encoded data removed]",
      "text/plain": [
       "<Figure size 640x480 with 1 Axes>"
      ]
     },
     "metadata": {},
     "output_type": "display_data"
    }
   ],
   "source": [
    "\n",
    "df_en = pd.DataFrame(shortened_en, columns = ['text'])\n",
    "df_en['n_tokens'] = df_en.text.apply(lambda x: len(tokenizer.encode(x)))\n",
    "df_en.n_tokens.hist()"
   ]
  },
  {
   "cell_type": "markdown",
   "metadata": {},
   "source": [
    "# 7. OpenAI API를 이용하여 embedding 계산 하여 저장\n",
    "이미 계산된 파일을 이용하는 경우 실행 불필요 (실행이 필요한 경우 주석을 제거한 다음 실행)"
   ]
  },
  {
   "cell_type": "code",
   "execution_count": 14,
   "metadata": {},
   "outputs": [],
   "source": [
    "# import openai\n",
    "\n",
    "# df_ko['embeddings'] = df_ko.text.apply(lambda x: openai.Embedding.create(input=x, engine='text-embedding-ada-002')['data'][0]['embedding'])\n",
    "# df_ko.to_csv('processed/embeddings_ko.csv')\n",
    "# df_ko.head()"
   ]
  },
  {
   "cell_type": "code",
   "execution_count": 15,
   "metadata": {},
   "outputs": [],
   "source": [
    "# import openai\n",
    "\n",
    "# df_en['embeddings'] = df_en.text.apply(lambda x: openai.Embedding.create(input=x, engine='text-embedding-ada-002')['data'][0]['embedding'])\n",
    "# df_en.to_csv('processed/embeddings_en.csv')\n",
    "# df_en.head()"
   ]
  },
  {
   "cell_type": "markdown",
   "metadata": {},
   "source": [
    "# 8. embedding이 포함된 파일을 pandas에 로딩"
   ]
  },
  {
   "cell_type": "markdown",
   "metadata": {},
   "source": [
    "## 한글의 경우"
   ]
  },
  {
   "cell_type": "code",
   "execution_count": 16,
   "metadata": {},
   "outputs": [
    {
     "data": {
      "text/html": [
       "<div>\n",
       "<style scoped>\n",
       "    .dataframe tbody tr th:only-of-type {\n",
       "        vertical-align: middle;\n",
       "    }\n",
       "\n",
       "    .dataframe tbody tr th {\n",
       "        vertical-align: top;\n",
       "    }\n",
       "\n",
       "    .dataframe thead th {\n",
       "        text-align: right;\n",
       "    }\n",
       "</style>\n",
       "<table border=\"1\" class=\"dataframe\">\n",
       "  <thead>\n",
       "    <tr style=\"text-align: right;\">\n",
       "      <th></th>\n",
       "      <th>text</th>\n",
       "      <th>n_tokens</th>\n",
       "      <th>embeddings</th>\n",
       "    </tr>\n",
       "  </thead>\n",
       "  <tbody>\n",
       "    <tr>\n",
       "      <th>0</th>\n",
       "      <td>80 websquare html websquare.uiplugin.tabContro...</td>\n",
       "      <td>461</td>\n",
       "      <td>[-0.009222293272614479, -0.0069480170495808125...</td>\n",
       "    </tr>\n",
       "    <tr>\n",
       "      <th>1</th>\n",
       "      <td>closable tab의 닫기 버튼을 활성화 할지의 여부로, 개별 closable ...</td>\n",
       "      <td>496</td>\n",
       "      <td>[-0.011141913011670113, -0.01115531288087368, ...</td>\n",
       "    </tr>\n",
       "    <tr>\n",
       "      <th>2</th>\n",
       "      <td>tabRole [default:true, false]tab 컴포넌트의 role=\"t...</td>\n",
       "      <td>420</td>\n",
       "      <td>[-0.008997799828648567, -0.011731056496500969,...</td>\n",
       "    </tr>\n",
       "    <tr>\n",
       "      <th>3</th>\n",
       "      <td>userData1 사용자 정의 데이터 속성 userData2 사용자 정의 데이터 속...</td>\n",
       "      <td>487</td>\n",
       "      <td>[-0.004409090615808964, -0.024778474122285843,...</td>\n",
       "    </tr>\n",
       "    <tr>\n",
       "      <th>4</th>\n",
       "      <td>bind( eventType , function ) 컴포넌트에 이벤트와 핸들러 함수...</td>\n",
       "      <td>427</td>\n",
       "      <td>[-0.013010666705667973, -0.0002241010370198637...</td>\n",
       "    </tr>\n",
       "  </tbody>\n",
       "</table>\n",
       "</div>"
      ],
      "text/plain": [
       "                                                text  n_tokens  \\\n",
       "0  80 websquare html websquare.uiplugin.tabContro...       461   \n",
       "1  closable tab의 닫기 버튼을 활성화 할지의 여부로, 개별 closable ...       496   \n",
       "2  tabRole [default:true, false]tab 컴포넌트의 role=\"t...       420   \n",
       "3  userData1 사용자 정의 데이터 속성 userData2 사용자 정의 데이터 속...       487   \n",
       "4  bind( eventType , function ) 컴포넌트에 이벤트와 핸들러 함수...       427   \n",
       "\n",
       "                                          embeddings  \n",
       "0  [-0.009222293272614479, -0.0069480170495808125...  \n",
       "1  [-0.011141913011670113, -0.01115531288087368, ...  \n",
       "2  [-0.008997799828648567, -0.011731056496500969,...  \n",
       "3  [-0.004409090615808964, -0.024778474122285843,...  \n",
       "4  [-0.013010666705667973, -0.0002241010370198637...  "
      ]
     },
     "execution_count": 16,
     "metadata": {},
     "output_type": "execute_result"
    }
   ],
   "source": [
    "import pandas as pd\n",
    "import numpy as np\n",
    "from openai.embeddings_utils import distances_from_embeddings, cosine_similarity\n",
    "\n",
    "df_ko=pd.read_csv('processed/embeddings_ko.csv', index_col=0)\n",
    "df_ko['embeddings'] = df_ko['embeddings'].apply(eval).apply(np.array)\n",
    "\n",
    "df_ko.head()\n"
   ]
  },
  {
   "cell_type": "markdown",
   "metadata": {},
   "source": [
    "## 영어의 경우"
   ]
  },
  {
   "cell_type": "code",
   "execution_count": 17,
   "metadata": {
    "scrolled": false
   },
   "outputs": [
    {
     "data": {
      "text/html": [
       "<div>\n",
       "<style scoped>\n",
       "    .dataframe tbody tr th:only-of-type {\n",
       "        vertical-align: middle;\n",
       "    }\n",
       "\n",
       "    .dataframe tbody tr th {\n",
       "        vertical-align: top;\n",
       "    }\n",
       "\n",
       "    .dataframe thead th {\n",
       "        text-align: right;\n",
       "    }\n",
       "</style>\n",
       "<table border=\"1\" class=\"dataframe\">\n",
       "  <thead>\n",
       "    <tr style=\"text-align: right;\">\n",
       "      <th></th>\n",
       "      <th>text</th>\n",
       "      <th>n_tokens</th>\n",
       "      <th>embeddings</th>\n",
       "    </tr>\n",
       "  </thead>\n",
       "  <tbody>\n",
       "    <tr>\n",
       "      <th>0</th>\n",
       "      <td>80 websquare html websquare.uiplugin.tabContro...</td>\n",
       "      <td>471</td>\n",
       "      <td>[-0.005918701644986868, 0.005215943790972233, ...</td>\n",
       "    </tr>\n",
       "    <tr>\n",
       "      <th>1</th>\n",
       "      <td>When the noUseTitle tabScroll option is used, ...</td>\n",
       "      <td>494</td>\n",
       "      <td>[-0.01587953045964241, -0.0022740792483091354,...</td>\n",
       "    </tr>\n",
       "    <tr>\n",
       "      <th>2</th>\n",
       "      <td>windowMaxNum [default:-1] If -1 is set as the ...</td>\n",
       "      <td>436</td>\n",
       "      <td>[-0.002756500383839011, -0.017225049436092377,...</td>\n",
       "    </tr>\n",
       "    <tr>\n",
       "      <th>3</th>\n",
       "      <td>getGenerator( ) Returns the parent generator o...</td>\n",
       "      <td>492</td>\n",
       "      <td>[0.015154805965721607, 0.0009454326354898512, ...</td>\n",
       "    </tr>\n",
       "    <tr>\n",
       "      <th>4</th>\n",
       "      <td>getWindow(idx) The window corresponding to the...</td>\n",
       "      <td>498</td>\n",
       "      <td>[0.004514731932431459, 0.007678211200982332, 0...</td>\n",
       "    </tr>\n",
       "  </tbody>\n",
       "</table>\n",
       "</div>"
      ],
      "text/plain": [
       "                                                text  n_tokens  \\\n",
       "0  80 websquare html websquare.uiplugin.tabContro...       471   \n",
       "1  When the noUseTitle tabScroll option is used, ...       494   \n",
       "2  windowMaxNum [default:-1] If -1 is set as the ...       436   \n",
       "3  getGenerator( ) Returns the parent generator o...       492   \n",
       "4  getWindow(idx) The window corresponding to the...       498   \n",
       "\n",
       "                                          embeddings  \n",
       "0  [-0.005918701644986868, 0.005215943790972233, ...  \n",
       "1  [-0.01587953045964241, -0.0022740792483091354,...  \n",
       "2  [-0.002756500383839011, -0.017225049436092377,...  \n",
       "3  [0.015154805965721607, 0.0009454326354898512, ...  \n",
       "4  [0.004514731932431459, 0.007678211200982332, 0...  "
      ]
     },
     "execution_count": 17,
     "metadata": {},
     "output_type": "execute_result"
    }
   ],
   "source": [
    "import pandas as pd\n",
    "import numpy as np\n",
    "from openai.embeddings_utils import distances_from_embeddings, cosine_similarity\n",
    "\n",
    "df_en=pd.read_csv('processed/embeddings_en.csv', index_col=0)\n",
    "df_en['embeddings'] = df_en['embeddings'].apply(eval).apply(np.array)\n",
    "\n",
    "df_en.head()\n"
   ]
  },
  {
   "cell_type": "markdown",
   "metadata": {},
   "source": [
    "# 9. gpt에 전달할 context 생성\n",
    "\n",
    "1. 질문의 embedding 생성\n",
    "2. 질문과 기존 embedding의 유사도를 계산하여 가장 높은 항목 추출\n",
    "3. max_token (1500)을 초과하지 않는 범위에서 유사도가 높은 항목을 context로 생성\n",
    "4. OpenAI에서 제공하는 api 호출\n",
    "\n",
    "\n",
    "* answer_question_chat는 chat api 사용\n",
    "* answer_question_completion는 completion api 사용 "
   ]
  },
  {
   "cell_type": "code",
   "execution_count": 18,
   "metadata": {},
   "outputs": [],
   "source": [
    "def create_context(\n",
    "    question, df, max_len=1500, debug=False\n",
    "):\n",
    "    \"\"\"\n",
    "    Create a context for a question by finding the most similar context from the dataframe\n",
    "    \"\"\"\n",
    "\n",
    "    # Get the embeddings for the question\n",
    "    q_embeddings = openai.Embedding.create(input=question, engine='text-embedding-ada-002')['data'][0]['embedding']\n",
    "\n",
    "    # Get the distances from the embeddings\n",
    "    df['distances'] = distances_from_embeddings(q_embeddings, df['embeddings'].values, distance_metric='cosine')\n",
    "\n",
    "\n",
    "    returns = []\n",
    "    cur_len = 0\n",
    "    prev_distance = 0\n",
    "    prev_msg = \"\"\n",
    "\n",
    "    # Sort by distance and add the text to the context until the context is too long\n",
    "    for i, row in df.sort_values('distances', ascending=True).iterrows():\n",
    "        \n",
    "        if prev_distance == row['distances']:\n",
    "#             print(\"이전 목록과 동일 (distance)\")\n",
    "            continue\n",
    "        elif prev_msg == row['text']:\n",
    "#             print(\"이전 목록과 동일 (문자열)\")\n",
    "            continue\n",
    "        else:\n",
    "            prev_distance = row['distances']\n",
    "            prev_msg = row['text']            \n",
    "\n",
    "            # Add the length of the text to the current length\n",
    "            cur_len += row['n_tokens'] + 4\n",
    "\n",
    "            # If the context is too long, break\n",
    "            if cur_len > max_len:\n",
    "                break\n",
    "\n",
    "            if debug:\n",
    "                print(i, row['distances'], row['text'])\n",
    "            # Else add it to the text that is being returned\n",
    "            returns.append(row[\"text\"])\n",
    "\n",
    "    # Return the context\n",
    "    return \"\\n\\n###\\n\\n\".join(returns)\n",
    "\n",
    "\n",
    "def answer_question_chat(\n",
    "    df,\n",
    "    model=\"gpt-3.5-turbo\",\n",
    "    question=\"Am I allowed to publish model outputs to Twitter, without a human review?\",\n",
    "    max_len=3000,\n",
    "    debug=False,\n",
    "#     max_tokens=150,\n",
    "    stop_sequence=None\n",
    "):\n",
    "    \"\"\"\n",
    "    Answer a question based on the most similar context from the dataframe texts\n",
    "    \"\"\"\n",
    "    context = create_context(\n",
    "        question,\n",
    "        df,\n",
    "        max_len=max_len,\n",
    "        debug=debug\n",
    "    )\n",
    "    # If debug, print the raw model response\n",
    "    if debug:\n",
    "        print(\"\\n\\nContext:\\n\" + context)\n",
    "        print(\"\\n\\n\")\n",
    "\n",
    "    try:\n",
    "        # Create a completions using the question and context\n",
    "        response = openai.ChatCompletion.create(\n",
    "            model=model,\n",
    "            messages=[\n",
    "                {\"role\": \"user\", \"content\": f\"Answer the question based on the context below, and if the question can't be answered based on the context, say \\\"I don't know\\\"\\n\\nContext: {context}\\n\\n---\\n\\nQuestion: {question}\\nAnswer:\"}\n",
    "            ],\n",
    "            temperature=0,\n",
    "#             max_tokens=max_tokens,\n",
    "            top_p=1,\n",
    "            frequency_penalty=0,\n",
    "            presence_penalty=0,\n",
    "            stop=stop_sequence,\n",
    "        )\n",
    "\n",
    "        return response[\"choices\"][0][\"message\"][\"content\"].strip()\n",
    "    except Exception as e:\n",
    "        print(e)\n",
    "        return \"\"\n",
    "\n",
    "def answer_question_completion(\n",
    "    df,\n",
    "    model=\"text-davinci-003\",\n",
    "    question=\"Am I allowed to publish model outputs to Twitter, without a human review?\",\n",
    "    max_len=2000,\n",
    "    debug=False,\n",
    "#     max_tokens=150,\n",
    "    stop_sequence=None\n",
    "):\n",
    "    \"\"\"\n",
    "    Answer a question based on the most similar context from the dataframe texts\n",
    "    \"\"\"\n",
    "    context = create_context(\n",
    "        question,\n",
    "        df,\n",
    "        max_len=max_len,\n",
    "        debug=debug\n",
    "    )\n",
    "    # If debug, print the raw model response\n",
    "    if debug:\n",
    "        print(\"\\n\\nContext:\\n\" + context)\n",
    "        print(\"\\n\\n\")\n",
    "\n",
    "    try:\n",
    "        # Create a completions using the question and context\n",
    "        response = openai.Completion.create(\n",
    "            prompt=f\"Answer the question based on the context below, and if the question can't be answered based on the context, say \\\"I don't know\\\"\\n\\nContext: {context}\\n\\n---\\n\\nQuestion: {question}:\\nAnswer:\",\n",
    "            temperature=0,\n",
    "#             max_tokens=max_tokens,\n",
    "            top_p=1,\n",
    "            frequency_penalty=0,\n",
    "            presence_penalty=0,\n",
    "            stop=stop_sequence,\n",
    "            model=model,\n",
    "        )\n",
    "        return response[\"choices\"][0][\"text\"].strip()\n",
    "    except Exception as e:\n",
    "        print(e)\n",
    "        return \"\""
   ]
  },
  {
   "cell_type": "markdown",
   "metadata": {},
   "source": [
    "# 10. gpt를 이용하여 질문/답변 확인\n",
    "\n",
    "gpt4를 사용하려고 하는 경우 answer_question_chat 함수에 model=\"gpt-4\" 인자를 추가하면 됨"
   ]
  },
  {
   "cell_type": "code",
   "execution_count": 19,
   "metadata": {
    "scrolled": true
   },
   "outputs": [
    {
     "data": {
      "text/plain": [
       "\"I don't know.\""
      ]
     },
     "execution_count": 19,
     "metadata": {},
     "output_type": "execute_result"
    }
   ],
   "source": [
    "answer_question_chat(df_ko, question=\"What day is it?\", debug=False)"
   ]
  },
  {
   "cell_type": "code",
   "execution_count": 20,
   "metadata": {},
   "outputs": [
    {
     "data": {
      "text/plain": [
       "\"I don't know.\""
      ]
     },
     "execution_count": 20,
     "metadata": {},
     "output_type": "execute_result"
    }
   ],
   "source": [
    "answer_question_chat(df_en, question=\"What day is it?\", debug=False)"
   ]
  },
  {
   "cell_type": "code",
   "execution_count": null,
   "metadata": {},
   "outputs": [],
   "source": [
    "answer_question_chat(df_ko, question=\"What is our newest embeddings model?\", debug=False)"
   ]
  },
  {
   "cell_type": "code",
   "execution_count": null,
   "metadata": {
    "scrolled": true
   },
   "outputs": [],
   "source": [
    "answer_question_chat(df_en, question=\"What is our newest embeddings model?\", debug=False)"
   ]
  },
  {
   "cell_type": "code",
   "execution_count": null,
   "metadata": {},
   "outputs": [],
   "source": [
    "answer_question_chat(df_ko, question=\"gridView에서 엑셀을 다운로드하려면?\", debug=False)"
   ]
  },
  {
   "cell_type": "code",
   "execution_count": null,
   "metadata": {
    "scrolled": true
   },
   "outputs": [],
   "source": [
    "answer_question_chat(df_en, question=\"gridView에서 엑셀을 다운로드하려면?\", debug=False)"
   ]
  },
  {
   "cell_type": "code",
   "execution_count": null,
   "metadata": {
    "scrolled": true
   },
   "outputs": [],
   "source": [
    "answer_question_chat(df_ko, question=\"autoComplete에서 항목을 서버에서 동적으로 조회하려면 어떤 속성이나 API를 이용해야 하나요?\", debug=False)"
   ]
  },
  {
   "cell_type": "code",
   "execution_count": null,
   "metadata": {},
   "outputs": [],
   "source": [
    "answer_question_chat(df_en, question=\"autoComplete에서 항목을 서버에서 동적으로 조회하려면 어떤 속성이나 API를 이용해야 하나요?\", debug=False)"
   ]
  },
  {
   "cell_type": "code",
   "execution_count": null,
   "metadata": {},
   "outputs": [],
   "source": [
    "answer_question_chat(df_ko, question=\"autoComplete에서 항목을 서버에서 자동으로 조회하려면 어떤 속성이나 API를 이용해야 하나요?\", debug=False)"
   ]
  },
  {
   "cell_type": "code",
   "execution_count": null,
   "metadata": {
    "scrolled": true
   },
   "outputs": [],
   "source": [
    "answer_question_chat(df_en, question=\"autoComplete에서 항목을 서버에서 자동으로 조회하려면 어떤 속성이나 API를 이용해야 하나요?\", debug=False)"
   ]
  },
  {
   "cell_type": "code",
   "execution_count": null,
   "metadata": {},
   "outputs": [],
   "source": [
    "answer_question_chat(df_ko, question=\"autoComplete에서 항목을 서버에서 조회하려면 API?\", debug=False)"
   ]
  },
  {
   "cell_type": "code",
   "execution_count": null,
   "metadata": {
    "scrolled": false
   },
   "outputs": [],
   "source": [
    "answer_question_chat(df_en, question=\"autoComplete에서 항목을 서버에서 조회하려면 API?\", debug=False)"
   ]
  },
  {
   "cell_type": "code",
   "execution_count": null,
   "metadata": {},
   "outputs": [],
   "source": [
    "answer_question_completion(df_ko, question=\"autoComplete에서 항목을 서버에서 동적으로 조회하려면 어떤 속성이나 API를 이용해야 하나요?\", debug=False)"
   ]
  },
  {
   "cell_type": "code",
   "execution_count": null,
   "metadata": {},
   "outputs": [],
   "source": [
    "answer_question_completion(df_en, question=\"autoComplete에서 항목을 서버에서 동적으로 조회하려면 어떤 속성이나 API를 이용해야 하나요?\", debug=False)"
   ]
  },
  {
   "cell_type": "code",
   "execution_count": null,
   "metadata": {},
   "outputs": [],
   "source": [
    "answer_question_chat(df_ko, question=\"첨부드린 이미지 처럼 그리드에서 특정 행이나 버튼을 클릭시 그 행에 포함되어 숨어있던 하위 행들을 노출할수 있는기능이 가능할런지요? 기능 구현상 가능여부 확인이 필요하여 문의 드립니다.전체목록열기 버튼 클릭시 기본 노출되는 행 아래로 숨어있던 전체 행들이 나타나게 구현하고자 합니다.혹여 그리드가 안된다면 다른 방법이 있을지도 추가 문의 드립니다.확인 요청 드립니다. 감사합니다.\")"
   ]
  },
  {
   "cell_type": "code",
   "execution_count": null,
   "metadata": {},
   "outputs": [],
   "source": [
    "answer_question_chat(df_en, question=\"첨부드린 이미지 처럼 그리드에서 특정 행이나 버튼을 클릭시 그 행에 포함되어 숨어있던 하위 행들을 노출할수 있는기능이 가능할런지요? 기능 구현상 가능여부 확인이 필요하여 문의 드립니다.전체목록열기 버튼 클릭시 기본 노출되는 행 아래로 숨어있던 전체 행들이 나타나게 구현하고자 합니다.혹여 그리드가 안된다면 다른 방법이 있을지도 추가 문의 드립니다.확인 요청 드립니다. 감사합니다.\")"
   ]
  },
  {
   "cell_type": "code",
   "execution_count": null,
   "metadata": {
    "scrolled": true
   },
   "outputs": [],
   "source": [
    "answer_question_chat(df_ko, question=\"그리드에서 특정 행이나 버튼을 클릭시 그 행에 포함되어 숨어있던 하위 행들을 노출할수 있는기능이 가능할런지요? 기능 구현상 가능여부 확인이 필요하여 문의 드립니다.전체목록열기 버튼 클릭시 기본 노출되는 행 아래로 숨어있던 전체 행들이 나타나게 구현하고자 합니다.혹여 그리드가 안된다면 다른 방법이 있을지도 추가 문의 드립니다.\")"
   ]
  },
  {
   "cell_type": "code",
   "execution_count": null,
   "metadata": {},
   "outputs": [],
   "source": [
    "answer_question_chat(df_en, question=\"그리드에서 특정 행이나 버튼을 클릭시 그 행에 포함되어 숨어있던 하위 행들을 노출할수 있는기능이 가능할런지요? 기능 구현상 가능여부 확인이 필요하여 문의 드립니다.전체목록열기 버튼 클릭시 기본 노출되는 행 아래로 숨어있던 전체 행들이 나타나게 구현하고자 합니다.혹여 그리드가 안된다면 다른 방법이 있을지도 추가 문의 드립니다.\")"
   ]
  },
  {
   "cell_type": "code",
   "execution_count": null,
   "metadata": {},
   "outputs": [],
   "source": [
    "answer_question_chat(df_ko, model=\"gpt-4\", question=\"그리드에서 특정 행이나 버튼을 클릭시 그 행에 포함되어 숨어있던 하위 행들을 노출할수 있는기능이 가능할런지요? 기능 구현상 가능여부 확인이 필요하여 문의 드립니다.전체목록열기 버튼 클릭시 기본 노출되는 행 아래로 숨어있던 전체 행들이 나타나게 구현하고자 합니다.혹여 그리드가 안된다면 다른 방법이 있을지도 추가 문의 드립니다.\")"
   ]
  },
  {
   "cell_type": "code",
   "execution_count": null,
   "metadata": {},
   "outputs": [],
   "source": [
    "answer_question_chat(df_en, model=\"gpt-4\", question=\"그리드에서 특정 행이나 버튼을 클릭시 그 행에 포함되어 숨어있던 하위 행들을 노출할수 있는기능이 가능할런지요? 기능 구현상 가능여부 확인이 필요하여 문의 드립니다.전체목록열기 버튼 클릭시 기본 노출되는 행 아래로 숨어있던 전체 행들이 나타나게 구현하고자 합니다.혹여 그리드가 안된다면 다른 방법이 있을지도 추가 문의 드립니다.\")"
   ]
  },
  {
   "cell_type": "code",
   "execution_count": null,
   "metadata": {},
   "outputs": [],
   "source": [
    "answer_question_chat(df_ko, question=\"첨부드린 이미지 처럼 그리드에서 특정 행이나 버튼을 클릭시 그 행에 포함되어 숨어있던 하위 행들을 노출할수 있는기능이 가능할런지요? 기능 구현상 가능여부 확인이 필요하여 문의 드립니다.전체목록열기 버튼 클릭시 기본 노출되는 행 아래로 숨어있던 전체 행들이 나타나게 구현하고자 합니다.혹여 그리드가 안된다면 다른 방법이 있을지도 추가 문의 드립니다.\")"
   ]
  },
  {
   "cell_type": "code",
   "execution_count": null,
   "metadata": {},
   "outputs": [],
   "source": [
    "answer_question_chat(df_en, question=\"첨부드린 이미지 처럼 그리드에서 특정 행이나 버튼을 클릭시 그 행에 포함되어 숨어있던 하위 행들을 노출할수 있는기능이 가능할런지요? 기능 구현상 가능여부 확인이 필요하여 문의 드립니다.전체목록열기 버튼 클릭시 기본 노출되는 행 아래로 숨어있던 전체 행들이 나타나게 구현하고자 합니다.혹여 그리드가 안된다면 다른 방법이 있을지도 추가 문의 드립니다.\")"
   ]
  },
  {
   "cell_type": "code",
   "execution_count": null,
   "metadata": {},
   "outputs": [],
   "source": [
    "answer_question_chat(df_ko, question='''pivotExcelDownload 엑셀 다운로드시 표 상단을 병합 후 제목을 적으려고합니다. \n",
    "header에 열의 수만큼 병합하려합니다. 열의 수를 알 수 있는 방법이 있을까요?\n",
    "\n",
    "예시) \n",
    "\n",
    "                                        제목 : 00 빈도수 분포\n",
    " \n",
    " \t열1\t열2\n",
    " \t \t \n",
    " \t \t \n",
    "''')"
   ]
  },
  {
   "cell_type": "code",
   "execution_count": null,
   "metadata": {},
   "outputs": [],
   "source": [
    "answer_question_chat(df_en, question='''pivotExcelDownload 엑셀 다운로드시 표 상단을 병합 후 제목을 적으려고합니다. \n",
    "header에 열의 수만큼 병합하려합니다. 열의 수를 알 수 있는 방법이 있을까요?\n",
    "\n",
    "예시) \n",
    "\n",
    "                                        제목 : 00 빈도수 분포\n",
    " \n",
    " \t열1\t열2\n",
    " \t \t \n",
    " \t \t \n",
    "''')"
   ]
  },
  {
   "cell_type": "code",
   "execution_count": null,
   "metadata": {},
   "outputs": [],
   "source": [
    "answer_question_chat(df_ko, model=\"gpt-4\", debug=False, question='''pivotExcelDownload 엑셀 다운로드시 표 상단을 병합 후 제목을 적으려고합니다. \n",
    "header에 열의 수만큼 병합하려합니다. 열의 수를 알 수 있는 방법이 있을까요?\n",
    "\n",
    "예시) \n",
    "\n",
    "                                        제목 : 00 빈도수 분포\n",
    " \n",
    " \t열1\t열2\n",
    " \t \t \n",
    " \t \t \n",
    "''')"
   ]
  },
  {
   "cell_type": "code",
   "execution_count": null,
   "metadata": {},
   "outputs": [],
   "source": [
    "answer_question_chat(df_en, model=\"gpt-4\", debug=False, question='''pivotExcelDownload 엑셀 다운로드시 표 상단을 병합 후 제목을 적으려고합니다. \n",
    "header에 열의 수만큼 병합하려합니다. 열의 수를 알 수 있는 방법이 있을까요?\n",
    "\n",
    "예시) \n",
    "\n",
    "                                        제목 : 00 빈도수 분포\n",
    " \n",
    " \t열1\t열2\n",
    " \t \t \n",
    " \t \t \n",
    "''')"
   ]
  },
  {
   "cell_type": "code",
   "execution_count": null,
   "metadata": {},
   "outputs": [],
   "source": [
    "answer_question_chat(df_ko, model=\"gpt-4\", debug=False, question='''pivotExcelDownload 엑셀 다운로드시 표 상단을 병합 후 제목을 적으려고합니다. \n",
    "header에 열의 수만큼 병합하려합니다. 열의 수를 알 수 있는 방법이 있을까요?''')"
   ]
  },
  {
   "cell_type": "code",
   "execution_count": null,
   "metadata": {},
   "outputs": [],
   "source": [
    "answer_question_chat(df_en, model=\"gpt-4\", debug=False, question='''pivotExcelDownload 엑셀 다운로드시 표 상단을 병합 후 제목을 적으려고합니다. \n",
    "header에 열의 수만큼 병합하려합니다. 열의 수를 알 수 있는 방법이 있을까요?''')"
   ]
  },
  {
   "cell_type": "code",
   "execution_count": null,
   "metadata": {},
   "outputs": [],
   "source": []
  }
 ],
 "metadata": {
  "kernelspec": {
   "display_name": "Python 3 (ipykernel)",
   "language": "python",
   "name": "python3"
  },
  "language_info": {
   "codemirror_mode": {
    "name": "ipython",
    "version": 3
   },
   "file_extension": ".py",
   "mimetype": "text/x-python",
   "name": "python",
   "nbconvert_exporter": "python",
   "pygments_lexer": "ipython3",
   "version": "3.9.6"
  },
  "vscode": {
   "interpreter": {
    "hash": "05f34a34d73b71652304030c1097be3a5720ea2447153dd6542d145a26b73181"
   }
  }
 },
 "nbformat": 4,
 "nbformat_minor": 2
}
