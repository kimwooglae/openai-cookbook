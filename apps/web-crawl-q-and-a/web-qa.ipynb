{
 "cells": [
  {
   "cell_type": "code",
   "execution_count": 1,
   "metadata": {
    "collapsed": true
   },
   "outputs": [
    {
     "name": "stdout",
     "output_type": "stream",
     "text": [
      "Requirement already satisfied: googletrans==3.1.0a0 in /usr/local/lib/python3.10/site-packages (3.1.0a0)\r\n",
      "Requirement already satisfied: httpx==0.13.3 in /usr/local/lib/python3.10/site-packages (from googletrans==3.1.0a0) (0.13.3)\r\n",
      "Requirement already satisfied: certifi in /usr/local/lib/python3.10/site-packages (from httpx==0.13.3->googletrans==3.1.0a0) (2022.12.7)\r\n",
      "Requirement already satisfied: sniffio in /usr/local/lib/python3.10/site-packages (from httpx==0.13.3->googletrans==3.1.0a0) (1.3.0)\r\n",
      "Requirement already satisfied: rfc3986<2,>=1.3 in /usr/local/lib/python3.10/site-packages (from httpx==0.13.3->googletrans==3.1.0a0) (1.5.0)\r\n",
      "Requirement already satisfied: idna==2.* in /usr/local/lib/python3.10/site-packages (from httpx==0.13.3->googletrans==3.1.0a0) (2.10)\r\n",
      "Requirement already satisfied: httpcore==0.9.* in /usr/local/lib/python3.10/site-packages (from httpx==0.13.3->googletrans==3.1.0a0) (0.9.1)\r\n",
      "Requirement already satisfied: hstspreload in /usr/local/lib/python3.10/site-packages (from httpx==0.13.3->googletrans==3.1.0a0) (2023.1.1)\r\n",
      "Requirement already satisfied: chardet==3.* in /usr/local/lib/python3.10/site-packages (from httpx==0.13.3->googletrans==3.1.0a0) (3.0.4)\r\n",
      "Requirement already satisfied: h2==3.* in /usr/local/lib/python3.10/site-packages (from httpcore==0.9.*->httpx==0.13.3->googletrans==3.1.0a0) (3.2.0)\r\n",
      "Requirement already satisfied: h11<0.10,>=0.8 in /usr/local/lib/python3.10/site-packages (from httpcore==0.9.*->httpx==0.13.3->googletrans==3.1.0a0) (0.9.0)\r\n",
      "Requirement already satisfied: hyperframe<6,>=5.2.0 in /usr/local/lib/python3.10/site-packages (from h2==3.*->httpcore==0.9.*->httpx==0.13.3->googletrans==3.1.0a0) (5.2.0)\r\n",
      "Requirement already satisfied: hpack<4,>=3.0 in /usr/local/lib/python3.10/site-packages (from h2==3.*->httpcore==0.9.*->httpx==0.13.3->googletrans==3.1.0a0) (3.0.0)\r\n"
     ]
    }
   ],
   "source": [
    "!pip install googletrans==3.1.0a0 \n"
   ]
  },
  {
   "cell_type": "code",
   "execution_count": 2,
   "metadata": {
    "scrolled": true
   },
   "outputs": [],
   "source": [
    "import requests\n",
    "import re\n",
    "import urllib.request\n",
    "from bs4 import BeautifulSoup\n",
    "from collections import deque\n",
    "from html.parser import HTMLParser\n",
    "from urllib.parse import urlparse\n",
    "import os\n",
    "\n",
    "# Regex pattern to match a URL\n",
    "HTTP_URL_PATTERN = r'^http[s]{0,1}://.+$'\n",
    "\n",
    "# Define root domain to crawl\n",
    "# domain = \"openai.com\"\n",
    "# full_url = \"https://openai.com/\"\n",
    "# domain = \"inswave.com\"\n",
    "# full_url = \"https://inswave.com/confluence/pages/viewpage.action?pageId=6030702\"\n",
    "# domain = \"docs1.inswave.com\"\n",
    "# full_url = \"https://docs1.inswave.com/sp5_user_guide\"\n",
    "\n",
    "# domain = \"docs2.inswave.com\"\n",
    "# full_url = \"http://docs2.inswave.com/ws5_sp5_example\"\n",
    "domain = \"localhost:8080\"\n",
    "full_url = \"http://localhost:8080/websquare/guide/websquaretoc.html\"\n",
    "# Create a class to parse the HTML and get the hyperlinks\n",
    "class HyperlinkParser(HTMLParser):\n",
    "    def __init__(self):\n",
    "        super().__init__()\n",
    "        # Create a list to store the hyperlinks\n",
    "        self.hyperlinks = []\n",
    "\n",
    "    # Override the HTMLParser's handle_starttag method to get the hyperlinks\n",
    "    def handle_starttag(self, tag, attrs):\n",
    "        attrs = dict(attrs)\n",
    "\n",
    "        # If the tag is an anchor tag and it has an href attribute, add the href attribute to the list of hyperlinks\n",
    "        if tag == \"a\" and \"href\" in attrs:\n",
    "            self.hyperlinks.append(attrs[\"href\"])\n",
    "\n",
    "# Function to get the hyperlinks from a URL\n",
    "def get_hyperlinks(url):\n",
    "    \n",
    "    # Try to open the URL and read the HTML\n",
    "    try:\n",
    "        # Open the URL and read the HTML\n",
    "        with urllib.request.urlopen(url) as response:\n",
    "\n",
    "            # If the response is not HTML, return an empty list\n",
    "            if not response.info().get('Content-Type').startswith(\"text/html\"):\n",
    "                return []\n",
    "            \n",
    "            # Decode the HTML\n",
    "            html = response.read().decode('utf-8')\n",
    "    except Exception as e:\n",
    "        print(e)\n",
    "        return []\n",
    "\n",
    "    # Create the HTML Parser and then Parse the HTML to get hyperlinks\n",
    "    parser = HyperlinkParser()\n",
    "    parser.feed(html)\n",
    "\n",
    "    return parser.hyperlinks\n",
    "\n",
    "# Function to get the hyperlinks from a URL that are within the same domain\n",
    "def get_domain_hyperlinks(local_domain, url):\n",
    "    clean_links = []\n",
    "    for link in set(get_hyperlinks(url)):\n",
    "        clean_link = None\n",
    "\n",
    "        # If the link is a URL, check if it is within the same domain\n",
    "        if re.search(HTTP_URL_PATTERN, link):\n",
    "            # Parse the URL and check if the domain is the same\n",
    "            url_obj = urlparse(link)\n",
    "            if url_obj.netloc == local_domain:\n",
    "                clean_link = link\n",
    "\n",
    "        # If the link is not a URL, check if it is a relative link\n",
    "        else:\n",
    "            if link.startswith(\"/\"):\n",
    "                link = link[1:]\n",
    "            elif link.startswith(\"#\") or link.startswith(\"mailto:\"):\n",
    "                continue\n",
    "            clean_link = \"http://\" + local_domain + \"/\" + link\n",
    "#             clean_link = \"https://\" + local_domain + \"/\" + link\n",
    "\n",
    "        if clean_link is not None:\n",
    "            if clean_link.endswith(\"/\"):\n",
    "                clean_link = clean_link[:-1]\n",
    "            clean_links.append(clean_link)\n",
    "\n",
    "    # Return the list of hyperlinks that are within the same domain\n",
    "    return list(set(clean_links))\n",
    "\n",
    "\n",
    "def crawl(url):\n",
    "    # Parse the URL and get the domain\n",
    "    local_domain = urlparse(url).netloc\n",
    "\n",
    "    # Create a queue to store the URLs to crawl\n",
    "    queue = deque([url])\n",
    "\n",
    "    # Create a set to store the URLs that have already been seen (no duplicates)\n",
    "    seen = set([url])\n",
    "\n",
    "    # Create a directory to store the text files\n",
    "    if not os.path.exists(\"text/\"):\n",
    "            os.mkdir(\"text/\")\n",
    "\n",
    "    if not os.path.exists(\"text/\"+local_domain+\"/\"):\n",
    "            os.mkdir(\"text/\" + local_domain + \"/\")\n",
    "\n",
    "    # Create a directory to store the csv files\n",
    "    if not os.path.exists(\"processed\"):\n",
    "            os.mkdir(\"processed\")\n",
    "\n",
    "    # While the queue is not empty, continue crawling\n",
    "    while queue:\n",
    "\n",
    "        # Get the next URL from the queue\n",
    "        url = queue.pop()\n",
    "        print(url) # for debugging and to see the progress\n",
    "\n",
    "        path = url[8:].replace(\"/\", \"_\")\n",
    "        m = re.search('(.+?)[#]', path)\n",
    "        if m:\n",
    "            path = m.group(1)\n",
    "\n",
    "        # Save text from the url to a <url>.txt file\n",
    "#         with open('text/'+local_domain+'/'+url[8:].replace(\"/\", \"_\") + \".txt\", \"w\") as f:\n",
    "        with open('text/'+local_domain+'/'+ path + \".txt\", \"w\") as f:\n",
    "\n",
    "            # Get the text from the URL using BeautifulSoup\n",
    "            soup = BeautifulSoup(requests.get(url).text, \"html.parser\")\n",
    "\n",
    "            # Get the text but remove the tags\n",
    "            text = soup.get_text()\n",
    "            \n",
    "            \n",
    "            # If the crawler gets to a page that requires JavaScript, it will stop the crawl\n",
    "            if (\"You need to enable JavaScript to run this app.\" in text):\n",
    "                print(\"Unable to parse page \" + url + \" due to JavaScript being required\")\n",
    "            \n",
    "            # Otherwise, write the text to the file in the text directory\n",
    "            f.write(text)\n",
    "\n",
    "        # Get the hyperlinks from the URL and add them to the queue\n",
    "        for link in get_domain_hyperlinks(local_domain, url):\n",
    "            if link not in seen:\n",
    "                queue.append(link)\n",
    "                seen.add(link)\n",
    "\n"
   ]
  },
  {
   "cell_type": "code",
   "execution_count": 3,
   "metadata": {},
   "outputs": [],
   "source": [
    "# crawl(full_url)"
   ]
  },
  {
   "cell_type": "code",
   "execution_count": 4,
   "metadata": {},
   "outputs": [],
   "source": [
    "def remove_newlines(serie):\n",
    "    serie = serie.replace('\\t', ' ')\n",
    "    serie = serie.replace('\\n', ' ')\n",
    "    serie = serie.replace('\\r', ' ')\n",
    "    serie = serie.replace('\\\\r', ' ')\n",
    "    serie = serie.replace('\\\\n', ' ')\n",
    "    serie = serie.replace('             ', ' ')\n",
    "    serie = serie.replace('            ', ' ')\n",
    "    serie = serie.replace('           ', ' ')\n",
    "    serie = serie.replace('          ', ' ')\n",
    "    serie = serie.replace('         ', ' ')\n",
    "    serie = serie.replace('        ', ' ')\n",
    "    serie = serie.replace('       ', ' ')\n",
    "    serie = serie.replace('      ', ' ')\n",
    "    serie = serie.replace('     ', ' ')\n",
    "    serie = serie.replace('    ', ' ')\n",
    "    serie = serie.replace('   ', ' ')\n",
    "    serie = serie.replace('  ', ' ')\n",
    "    serie = serie.replace('  ', ' ')\n",
    "    serie = serie.replace(' ', ' ')\n",
    "    return serie"
   ]
  },
  {
   "cell_type": "code",
   "execution_count": 5,
   "metadata": {},
   "outputs": [],
   "source": [
    "\n",
    "# Function to split the text into chunks of a maximum number of tokens\n",
    "def split_str_into_many(text, max_tokens = 4000):\n",
    "\n",
    "    # Split the text into sentences\n",
    "    sentences = text.split('. ')\n",
    "\n",
    "    # Get the number of tokens for each sentence\n",
    "    n_tokens = [len(\" \" + sentence) for sentence in sentences]\n",
    "    \n",
    "    chunks = []\n",
    "    tokens_so_far = 0\n",
    "    chunk = []\n",
    "\n",
    "    # Loop through the sentences and tokens joined together in a tuple\n",
    "    for sentence, token in zip(sentences, n_tokens):\n",
    "\n",
    "        # If the number of tokens so far plus the number of tokens in the current sentence is greater \n",
    "        # than the max number of tokens, then add the chunk to the list of chunks and reset\n",
    "        # the chunk and tokens so far\n",
    "        if tokens_so_far + token > max_tokens:\n",
    "            chunks.append(\". \".join(chunk) + \".\")\n",
    "            chunk = []\n",
    "            tokens_so_far = 0\n",
    "\n",
    "        # If the number of tokens in the current sentence is greater than the max number of \n",
    "        # tokens, go to the next sentence\n",
    "        if token > max_tokens:\n",
    "            continue\n",
    "\n",
    "        # Otherwise, add the sentence to the chunk and add the number of tokens to the total\n",
    "        chunk.append(sentence)\n",
    "        tokens_so_far += token + 1\n",
    "\n",
    "        \n",
    "    chunks.append(\". \".join(chunk) + \".\")\n",
    "        \n",
    "    return chunks\n",
    "    "
   ]
  },
  {
   "cell_type": "code",
   "execution_count": 6,
   "metadata": {},
   "outputs": [
    {
     "name": "stdout",
     "output_type": "stream",
     "text": [
      "안녕하세요.  ->  hello.\n"
     ]
    }
   ],
   "source": [
    "from googletrans import Translator\n",
    "translator = Translator()\n",
    "translation = translator.translate('안녕하세요.')\n",
    "print(translation.origin, ' -> ', translation.text)\n"
   ]
  },
  {
   "cell_type": "code",
   "execution_count": 14,
   "metadata": {
    "collapsed": true
   },
   "outputs": [
    {
     "name": "stdout",
     "output_type": "stream",
     "text": [
      "Group 컴포넌트와 동일하게 외부 스타일 시트 작성이 더 수월하면 Style 창에 스타일 입력을 건너띄어도 무방합니다.그림 77-8.작성한 외부 CSS그림 77-9.데이터 헤더에 해당되는 스타일의 클래스 삽입그림 77-10.데이터 셀에 해당되는 스타일의 클래스 삽입그림 77-11.데이터 행에 해당되는 스타일의 클래스 삽입그림 77-12.테이블에 해당되는 스타일의 클래스 삽입. 두가지 이상의 클래스를 합성 하고 싶을 경우에는 html 코딩과 동일하게 class 속성에 클래스 사이를 공백으로 띄어 적용할 수 있다.그림 77-13.파싱된 구조테이블 관련 요소가 될 컴포넌트에 스타일을 적용시키고 브라우저 개발자 도구로 확인을 해봅니다. 개발자 도구를 통해서 본 파싱된 결과물은 스타일 시트에 의해테이블의 형태를 취하고 있고, 각 요소들이 테이블과 유사한 부모-자식간의 관계가 되어있지만, 파싱된 마크업이 div로 (div는 division으로 영역을 나누는(레이아웃) 용도의 태그) 의미있는 마크업이 아니기에 문서상의 테이블을 의미하는 코딩을 했다고 할 수 없을 것입니다. 여기까지 만들어진 샘플을 토대로 tagname 변경으로 간단한 테이블 마크업을 해보겠습니다.77.3마크업 변경과 속성 추가하기WebSquare의 컴포넌트 중 가장 빈번히 사용되는 컴포넌트인 Group과 Textbox 컴포넌트는 tagname 속성을 제공하여 파싱될 마크업을 변경하여 사용자가 원하는 대로 마크업을 할 수 있습니다. 두 컴포넌트 모두 tagname 변경 방법은 동일합니다. Group 컴포넌트와 같은 방법으로 해당 Textbox 컴포넌트를 Design View에서 선택하고, Property창의 tagname을 변경하면 됩니다.전 챕터(2.1.1)에서 만들었던 디자인을 적용한 샘플을 복사하여 tagname 변경을 해보도록 하겠습니다. WebSqaure는 컴포넌트를 쉽고 빠르게 복사하여 생산성을 높일 수 있습니다. Component 창에서 복사할 컴포넌트를 오른쪽 클릭하여'복사'를 누른 후, 원하는 위치(부모가 될 컴포넌트)를 선택한 후 오른쪽 클릭하여 붙여넣기를 선택하면 됩니다. id는 WebSquare 에서 자동으로 1씩 증가한 만큼 넣어주어 id 중복 문제가 일어나지 않도록 해줍니다.그림 77-14.56비교적 명확한 요소 이름을 가진 데이터의 헤더 부터 tagname 부터 적용해 보겠습니다.<table> 예제는 tableLayout을 사용하는 것을 권장하며 개별적으로 작성하기 위한 방법으로 아래 방법을 참고하겠습니다. HTML 페이지를 작성하는 것과 같이 <table>에 대한 스타일 시트를 따로 작성하겠습니다.그림 77-15.새로 작성한 table 관련 스타일 시트<table>에 관한 스타일 시트가 완성되었으니, 복사한 컴포넌트에 CSS Class를 입력합니다. 입력한 후에 Design View에 적용이 안되는 이유는 스타일 시트 작성이 요소 선택자로 tr, th, td 에 대한 스타일이기 때문에 파싱될 마크업(tagname 속성)이 설정되어있지 않아 div로 표현되어서 그렇습니다. 그렇다면, 스타일 적용을 확인하기 위해 각각 그룹핑 되어있는 컴포넌트들을 table 코딩이었을 때에 매치되는 마크업으로 변경해 보도록 하겠습니다.브라우저에 파싱될 마크업을 수정하는 것은 Group 컴포넌트와 동일하게 Property 창에서 tagname 속성을 수정하면 됩니다. 제일 명확한 마크업인 데이터의 헤더인 th 부분을 먼저 수정해 보겠습니다. Design View에서 데이터 헤더에 해당되는 컴포넌트를 선택하고, Property창의 tagname을 선택하여 'th'를 직접입력 하거나찾아넣습니다.그림 77-16.데이터 헤더 셀이 될 컴포넌트에 th를 입그림 77-17.데이터 셀이 될 컴포넌트에 td를 입그림 77-18.테이블의 행이 될 컴포넌트에 tr을 입력그림 77-19.테이블이 될 컴포넌트에 table을 입력그림 77-20.브라우저에서의 화면 확인 및 파싱 결과 확인tagname을 수정하여 마크업이 결정되었습니다. 이제 가로형 테이블이니, 데이터 헤더에 대한 제목 범위를 지정하는 'scope' 속성을 추가하면 기본적인 table 마크업이 완성됩니다. 'scope' 속성이 없어도 정상적으로 브라우저 화면에서 나오나, 접근성 작업시 'scope' 속성은 반드시 넣어주셔야 합니다.Textbox 컴포넌트의 속성 추가는 Group 컴포넌트의 속성 추가와 같은 방법으로 'scope' 속성을 추가하기 위해서 th와 매칭되는 Textbox 컴포넌트를 Component 창에서 선택하고 오른쪽 클릭하여 '속성 태그 수정'을 선택하여 추가합니다.그림 77-21.tagname을 th로 준 컴포넌트의 scope 속성 추가그림 77-22.속성을 추가한 뒤에 브라우저에서 결과 확인접근성을 위해 <caption>코딩, summary Attibute 삽입하고 싶다면, 이전 코딩 방법과 동일하게 Table이 될 Group 컴포넌트에 Textbox 컴포넌트를 삽입하고 tagname을 caption으로 직접 입력하여 바꾸고, 속성 추가하기 컨텍스트 메뉴로 추가할 수 있습니다.더 세밀한 웹표준과 웹접근성을 준수하는 table 코딩 및 내용이 정적·동적인 table 을 하기 위해서는 여러가지 컴포넌트의 조합이 필요한 경우가 있기에, 다음 장인 다른 어떤 컴포넌트와 Group 컴포넌트, Textbox 컴포넌트의 조합 파트를 참고하시기 바랍니다.77.4CSS Overriding그림 77-23.02NoClassDescription1w2textboxw2textbox은 웹스퀘어 엔진에서 정의된 클래스입니다, 브라우저가 파싱할때 자동으로 부여됩니다.2inlinewebsquare의 style 편집기에서 해당 style을 직접 수정합니다.77.5주의사항 및 TipProperty > for 속성은 컴포넌트(Label)가 클릭 됐을때 Focus를 주고 자 하는 컴포넌트 ID를 정의한다.해당속성을 활성화 할 경우 textbox 컴포넌트는 tagname을 무시하고 html 랜더링 시 div 혹은 사용자정의 태그가 아닌 label 태그로 고정된다. .  ->  Group 컴포넌트와 동일하게 외부 스타일 시트 작성이 더 수월하면 Style 창에 스타일 입력을 건너띄어도 무방합니다.그림 77-8.작성한 외부 CSS그림 77-9.데이터 헤더에 해당되는 스타일의 클래스 삽입그림 77-10.데이터 셀에 해당되는 스타일의 클래스 삽입그림 77-11.데이터 행에 해당되는 스타일의 클래스 삽입그림 77-12.테이블에 해당되는 스타일의 클래스 삽입. 두가지 이상의 클래스를 합성 하고 싶을 경우에는 html 코딩과 동일하게 class 속성에 클래스 사이를 공백으로 띄어 적용할 수 있다.그림 77-13.파싱된 구조테이블 관련 요소가 될 컴포넌트에 스타일을 적용시키고 브라우저 개발자 도구로 확인을 해봅니다. 개발자 도구를 통해서 본 파싱된 결과물은 스타일 시트에 의해테이블의 형태를 취하고 있고, 각 요소들이 테이블과 유사한 부모-자식간의 관계가 되어있지만, 파싱된 마크업이 div로 (div는 division으로 영역을 나누는(레이아웃) 용도의 태그) 의미있는 마크업이 아니기에 문서상의 테이블을 의미하는 코딩을 했다고 할 수 없을 것입니다. 여기까지 만들어진 샘플을 토대로 tagname 변경으로 간단한 테이블 마크업을 해보겠습니다.77.3마크업 변경과 속성 추가하기WebSquare의 컴포넌트 중 가장 빈번히 사용되는 컴포넌트인 Group과 Textbox 컴포넌트는 tagname 속성을 제공하여 파싱될 마크업을 변경하여 사용자가 원하는 대로 마크업을 할 수 있습니다. 두 컴포넌트 모두 tagname 변경 방법은 동일합니다. Group 컴포넌트와 같은 방법으로 해당 Textbox 컴포넌트를 Design View에서 선택하고, Property창의 tagname을 변경하면 됩니다.전 챕터(2.1.1)에서 만들었던 디자인을 적용한 샘플을 복사하여 tagname 변경을 해보도록 하겠습니다. WebSqaure는 컴포넌트를 쉽고 빠르게 복사하여 생산성을 높일 수 있습니다. Component 창에서 복사할 컴포넌트를 오른쪽 클릭하여'복사'를 누른 후, 원하는 위치(부모가 될 컴포넌트)를 선택한 후 오른쪽 클릭하여 붙여넣기를 선택하면 됩니다. id는 WebSquare 에서 자동으로 1씩 증가한 만큼 넣어주어 id 중복 문제가 일어나지 않도록 해줍니다.그림 77-14.56비교적 명확한 요소 이름을 가진 데이터의 헤더 부터 tagname 부터 적용해 보겠습니다.<table> 예제는 tableLayout을 사용하는 것을 권장하며 개별적으로 작성하기 위한 방법으로 아래 방법을 참고하겠습니다. HTML 페이지를 작성하는 것과 같이 <table>에 대한 스타일 시트를 따로 작성하겠습니다.그림 77-15.새로 작성한 table 관련 스타일 시트<table>에 관한 스타일 시트가 완성되었으니, 복사한 컴포넌트에 CSS Class를 입력합니다. 입력한 후에 Design View에 적용이 안되는 이유는 스타일 시트 작성이 요소 선택자로 tr, th, td 에 대한 스타일이기 때문에 파싱될 마크업(tagname 속성)이 설정되어있지 않아 div로 표현되어서 그렇습니다. 그렇다면, 스타일 적용을 확인하기 위해 각각 그룹핑 되어있는 컴포넌트들을 table 코딩이었을 때에 매치되는 마크업으로 변경해 보도록 하겠습니다.브라우저에 파싱될 마크업을 수정하는 것은 Group 컴포넌트와 동일하게 Property 창에서 tagname 속성을 수정하면 됩니다. 제일 명확한 마크업인 데이터의 헤더인 th 부분을 먼저 수정해 보겠습니다. Design View에서 데이터 헤더에 해당되는 컴포넌트를 선택하고, Property창의 tagname을 선택하여 'th'를 직접입력 하거나찾아넣습니다.그림 77-16.데이터 헤더 셀이 될 컴포넌트에 th를 입그림 77-17.데이터 셀이 될 컴포넌트에 td를 입그림 77-18.테이블의 행이 될 컴포넌트에 tr을 입력그림 77-19.테이블이 될 컴포넌트에 table을 입력그림 77-20.브라우저에서의 화면 확인 및 파싱 결과 확인tagname을 수정하여 마크업이 결정되었습니다. 이제 가로형 테이블이니, 데이터 헤더에 대한 제목 범위를 지정하는 'scope' 속성을 추가하면 기본적인 table 마크업이 완성됩니다. 'scope' 속성이 없어도 정상적으로 브라우저 화면에서 나오나, 접근성 작업시 'scope' 속성은 반드시 넣어주셔야 합니다.Textbox 컴포넌트의 속성 추가는 Group 컴포넌트의 속성 추가와 같은 방법으로 'scope' 속성을 추가하기 위해서 th와 매칭되는 Textbox 컴포넌트를 Component 창에서 선택하고 오른쪽 클릭하여 '속성 태그 수정'을 선택하여 추가합니다.그림 77-21.tagname을 th로 준 컴포넌트의 scope 속성 추가그림 77-22.속성을 추가한 뒤에 브라우저에서 결과 확인접근성을 위해 <caption>코딩, summary Attibute 삽입하고 싶다면, 이전 코딩 방법과 동일하게 Table이 될 Group 컴포넌트에 Textbox 컴포넌트를 삽입하고 tagname을 caption으로 직접 입력하여 바꾸고, 속성 추가하기 컨텍스트 메뉴로 추가할 수 있습니다.더 세밀한 웹표준과 웹접근성을 준수하는 table 코딩 및 내용이 정적·동적인 table 을 하기 위해서는 여러가지 컴포넌트의 조합이 필요한 경우가 있기에, 다음 장인 다른 어떤 컴포넌트와 Group 컴포넌트, Textbox 컴포넌트의 조합 파트를 참고하시기 바랍니다.77.4CSS Overriding그림 77-23.02NoClassDescription1w2textboxw2textbox은 웹스퀘어 엔진에서 정의된 클래스입니다, 브라우저가 파싱할때 자동으로 부여됩니다.2inlinewebsquare의 style 편집기에서 해당 style을 직접 수정합니다.77.5주의사항 및 TipProperty > for 속성은 컴포넌트(Label)가 클릭 됐을때 Focus를 주고 자 하는 컴포넌트 ID를 정의한다.해당속성을 활성화 할 경우 textbox 컴포넌트는 tagname을 무시하고 html 랜더링 시 div 혹은 사용자정의 태그가 아닌 label 태그로 고정된다. .\n"
     ]
    }
   ],
   "source": [
    "aaa = '''Group 컴포넌트와 동일하게 외부 스타일 시트 작성이 더 수월하면 Style 창에 스타일 입력을 건너띄어도 무방합니다.그림 77-8.작성한 외부 CSS그림 77-9.데이터 헤더에 해당되는 스타일의 클래스 삽입그림 77-10.데이터 셀에 해당되는 스타일의 클래스 삽입그림 77-11.데이터 행에 해당되는 스타일의 클래스 삽입그림 77-12.테이블에 해당되는 스타일의 클래스 삽입. 두가지 이상의 클래스를 합성 하고 싶을 경우에는 html 코딩과 동일하게 class 속성에 클래스 사이를 공백으로 띄어 적용할 수 있다.그림 77-13.파싱된 구조테이블 관련 요소가 될 컴포넌트에 스타일을 적용시키고 브라우저 개발자 도구로 확인을 해봅니다. 개발자 도구를 통해서 본 파싱된 결과물은 스타일 시트에 의해테이블의 형태를 취하고 있고, 각 요소들이 테이블과 유사한 부모-자식간의 관계가 되어있지만, 파싱된 마크업이 div로 (div는 division으로 영역을 나누는(레이아웃) 용도의 태그) 의미있는 마크업이 아니기에 문서상의 테이블을 의미하는 코딩을 했다고 할 수 없을 것입니다. 여기까지 만들어진 샘플을 토대로 tagname 변경으로 간단한 테이블 마크업을 해보겠습니다.77.3마크업 변경과 속성 추가하기WebSquare의 컴포넌트 중 가장 빈번히 사용되는 컴포넌트인 Group과 Textbox 컴포넌트는 tagname 속성을 제공하여 파싱될 마크업을 변경하여 사용자가 원하는 대로 마크업을 할 수 있습니다. 두 컴포넌트 모두 tagname 변경 방법은 동일합니다. Group 컴포넌트와 같은 방법으로 해당 Textbox 컴포넌트를 Design View에서 선택하고, Property창의 tagname을 변경하면 됩니다.전 챕터(2.1.1)에서 만들었던 디자인을 적용한 샘플을 복사하여 tagname 변경을 해보도록 하겠습니다. WebSqaure는 컴포넌트를 쉽고 빠르게 복사하여 생산성을 높일 수 있습니다. Component 창에서 복사할 컴포넌트를 오른쪽 클릭하여'복사'를 누른 후, 원하는 위치(부모가 될 컴포넌트)를 선택한 후 오른쪽 클릭하여 붙여넣기를 선택하면 됩니다. id는 WebSquare 에서 자동으로 1씩 증가한 만큼 넣어주어 id 중복 문제가 일어나지 않도록 해줍니다.그림 77-14.56비교적 명확한 요소 이름을 가진 데이터의 헤더 부터 tagname 부터 적용해 보겠습니다.<table> 예제는 tableLayout을 사용하는 것을 권장하며 개별적으로 작성하기 위한 방법으로 아래 방법을 참고하겠습니다. HTML 페이지를 작성하는 것과 같이 <table>에 대한 스타일 시트를 따로 작성하겠습니다.그림 77-15.새로 작성한 table 관련 스타일 시트<table>에 관한 스타일 시트가 완성되었으니, 복사한 컴포넌트에 CSS Class를 입력합니다. 입력한 후에 Design View에 적용이 안되는 이유는 스타일 시트 작성이 요소 선택자로 tr, th, td 에 대한 스타일이기 때문에 파싱될 마크업(tagname 속성)이 설정되어있지 않아 div로 표현되어서 그렇습니다. 그렇다면, 스타일 적용을 확인하기 위해 각각 그룹핑 되어있는 컴포넌트들을 table 코딩이었을 때에 매치되는 마크업으로 변경해 보도록 하겠습니다.브라우저에 파싱될 마크업을 수정하는 것은 Group 컴포넌트와 동일하게 Property 창에서 tagname 속성을 수정하면 됩니다. 제일 명확한 마크업인 데이터의 헤더인 th 부분을 먼저 수정해 보겠습니다. Design View에서 데이터 헤더에 해당되는 컴포넌트를 선택하고, Property창의 tagname을 선택하여 'th'를 직접입력 하거나찾아넣습니다.그림 77-16.데이터 헤더 셀이 될 컴포넌트에 th를 입그림 77-17.데이터 셀이 될 컴포넌트에 td를 입그림 77-18.테이블의 행이 될 컴포넌트에 tr을 입력그림 77-19.테이블이 될 컴포넌트에 table을 입력그림 77-20.브라우저에서의 화면 확인 및 파싱 결과 확인tagname을 수정하여 마크업이 결정되었습니다. 이제 가로형 테이블이니, 데이터 헤더에 대한 제목 범위를 지정하는 'scope' 속성을 추가하면 기본적인 table 마크업이 완성됩니다. 'scope' 속성이 없어도 정상적으로 브라우저 화면에서 나오나, 접근성 작업시 'scope' 속성은 반드시 넣어주셔야 합니다.Textbox 컴포넌트의 속성 추가는 Group 컴포넌트의 속성 추가와 같은 방법으로 'scope' 속성을 추가하기 위해서 th와 매칭되는 Textbox 컴포넌트를 Component 창에서 선택하고 오른쪽 클릭하여 '속성 태그 수정'을 선택하여 추가합니다.그림 77-21.tagname을 th로 준 컴포넌트의 scope 속성 추가그림 77-22.속성을 추가한 뒤에 브라우저에서 결과 확인접근성을 위해 <caption>코딩, summary Attibute 삽입하고 싶다면, 이전 코딩 방법과 동일하게 Table이 될 Group 컴포넌트에 Textbox 컴포넌트를 삽입하고 tagname을 caption으로 직접 입력하여 바꾸고, 속성 추가하기 컨텍스트 메뉴로 추가할 수 있습니다.더 세밀한 웹표준과 웹접근성을 준수하는 table 코딩 및 내용이 정적·동적인 table 을 하기 위해서는 여러가지 컴포넌트의 조합이 필요한 경우가 있기에, 다음 장인 다른 어떤 컴포넌트와 Group 컴포넌트, Textbox 컴포넌트의 조합 파트를 참고하시기 바랍니다.77.4CSS Overriding그림 77-23.02NoClassDescription1w2textboxw2textbox은 웹스퀘어 엔진에서 정의된 클래스입니다, 브라우저가 파싱할때 자동으로 부여됩니다.2inlinewebsquare의 style 편집기에서 해당 style을 직접 수정합니다.77.5주의사항 및 TipProperty > for 속성은 컴포넌트(Label)가 클릭 됐을때 Focus를 주고 자 하는 컴포넌트 ID를 정의한다.해당속성을 활성화 할 경우 textbox 컴포넌트는 tagname을 무시하고 html 랜더링 시 div 혹은 사용자정의 태그가 아닌 label 태그로 고정된다. .'''\n",
    "\n",
    "translation = translator.translate(aaa, src=\"ko\", dest=\"ja\")\n",
    "print(translation.origin, ' -> ', translation.text)\n"
   ]
  },
  {
   "cell_type": "code",
   "execution_count": 15,
   "metadata": {
    "scrolled": true
   },
   "outputs": [
    {
     "name": "stdout",
     "output_type": "stream",
     "text": [
      "google translate error(not translate)-1. wait 10sec and try again: ocalhost:8080_websquare_guide_Developer Guide_OPS_chapter_08.html.txt 227 Status[200] async[true] url[/dws/view/com/data/dc_menuList3.json] 06:03:08.044 00006 007454 websquare] ajax complete. Status[200] async[true] url[/session/getSessionData.json] 06:03:08.045 00001 007455 websquare] ajax complete.\n",
      "google translate error(not translate)-2: ocalhost:8080_websquare_guide_Developer Guide_OPS_chapter_08.html.txt 227 Status[200] async[true] url[/dws/view/com/data/dc_menuList3.json] 06:03:08.044 00006 007454 websquare] ajax complete. Status[200] async[true] url[/session/getSessionData.json] 06:03:08.045 00001 007455 websquare] ajax complete.\n"
     ]
    },
    {
     "data": {
      "text/html": [
       "<div>\n",
       "<style scoped>\n",
       "    .dataframe tbody tr th:only-of-type {\n",
       "        vertical-align: middle;\n",
       "    }\n",
       "\n",
       "    .dataframe tbody tr th {\n",
       "        vertical-align: top;\n",
       "    }\n",
       "\n",
       "    .dataframe thead th {\n",
       "        text-align: right;\n",
       "    }\n",
       "</style>\n",
       "<table border=\"1\" class=\"dataframe\">\n",
       "  <thead>\n",
       "    <tr style=\"text-align: right;\">\n",
       "      <th></th>\n",
       "      <th>fname</th>\n",
       "      <th>text</th>\n",
       "    </tr>\n",
       "  </thead>\n",
       "  <tbody>\n",
       "    <tr>\n",
       "      <th>0</th>\n",
       "      <td>80 websquare html websquare.uiplugin.tabContro...</td>\n",
       "      <td>80 websquare html websquare.uiplugin.tabContro...</td>\n",
       "    </tr>\n",
       "    <tr>\n",
       "      <th>1</th>\n",
       "      <td>80 websquare guide Snippets Guide OPS chapter ...</td>\n",
       "      <td>80 websquare guide Snippets Guide OPS chapter ...</td>\n",
       "    </tr>\n",
       "    <tr>\n",
       "      <th>2</th>\n",
       "      <td>80 websquare guide Snippets Guide OPS chapter ...</td>\n",
       "      <td>80 websquare guide Snippets Guide OPS chapter ...</td>\n",
       "    </tr>\n",
       "    <tr>\n",
       "      <th>3</th>\n",
       "      <td>80 websquare html websquare.uiplugin.fwSparkCh...</td>\n",
       "      <td>80 websquare html websquare.uiplugin.fwSparkCh...</td>\n",
       "    </tr>\n",
       "    <tr>\n",
       "      <th>4</th>\n",
       "      <td>80 websquare html websquare.uiplugin.accordion...</td>\n",
       "      <td>80 websquare html websquare.uiplugin.accordion...</td>\n",
       "    </tr>\n",
       "  </tbody>\n",
       "</table>\n",
       "</div>"
      ],
      "text/plain": [
       "                                               fname  \\\n",
       "0  80 websquare html websquare.uiplugin.tabContro...   \n",
       "1  80 websquare guide Snippets Guide OPS chapter ...   \n",
       "2  80 websquare guide Snippets Guide OPS chapter ...   \n",
       "3  80 websquare html websquare.uiplugin.fwSparkCh...   \n",
       "4  80 websquare html websquare.uiplugin.accordion...   \n",
       "\n",
       "                                                text  \n",
       "0  80 websquare html websquare.uiplugin.tabContro...  \n",
       "1  80 websquare guide Snippets Guide OPS chapter ...  \n",
       "2  80 websquare guide Snippets Guide OPS chapter ...  \n",
       "3  80 websquare html websquare.uiplugin.fwSparkCh...  \n",
       "4  80 websquare html websquare.uiplugin.accordion...  "
      ]
     },
     "execution_count": 15,
     "metadata": {},
     "output_type": "execute_result"
    }
   ],
   "source": [
    "import pandas as pd\n",
    "import time\n",
    "from googletrans import Translator\n",
    "translator = Translator()\n",
    "\n",
    "# Create a list to store the text files\n",
    "texts_ko=[]\n",
    "texts_en=[]\n",
    "\n",
    "\n",
    "# Get all the text files in the text directory\n",
    "for file in os.listdir(\"text/\" + domain + \"/\"):\n",
    "\n",
    "    if file == '.DS_Store':\n",
    "        continue\n",
    "\n",
    "    # Open the file and read the text\n",
    "    with open(\"text/\" + domain + \"/\" + file, \"r\") as f:\n",
    "        text_ko = f.read()\n",
    "        text_ko = remove_newlines(text_ko)\n",
    "        if len(text_ko) == 0:\n",
    "            continue\n",
    "\n",
    "        text_ko_list = split_str_into_many(text_ko, 2000) # 3k 이상이면 번역이 안되는 경우가 발생함\n",
    "        text_en_list = []\n",
    "        text_en = ''\n",
    "        for ko_str in text_ko_list:\n",
    "            try:\n",
    "                tran_result = translator.translate(ko_str, src=\"ko\", dest=\"en\")\n",
    "                if tran_result.text == tran_result.origin and tran_result.text != '.':\n",
    "                    print('google translate error(not translate)-1. wait 10sec and try again:', file, len(ko_str), ko_str)\n",
    "                    time.sleep(10)\n",
    "                    tran_result = translator.translate(ko_str, src=\"ko\", dest=\"en\")\n",
    "                    if tran_result.text == tran_result.origin:\n",
    "                        print('google translate error(not translate)-2:', file, len(ko_str), ko_str)\n",
    "                text_en_list.append(tran_result.text)\n",
    "            except:\n",
    "                print('google translate error. try again:', file, len(ko_str))\n",
    "                try:\n",
    "                    tran_result = translator.translate(ko_str, src=\"ko\", dest=\"en\")\n",
    "                    if tran_result.text == tran_result.origin:\n",
    "                        print('google translate error(not translate). try again:', file, len(ko_str))\n",
    "                        tran_result = translator.translate(ko_str, src=\"ko\", dest=\"en\")\n",
    "                    text_en_list.append(tran_result.text)\n",
    "                except:\n",
    "                    print('google translate error ', file, len(ko_str))\n",
    "\n",
    "        text_en = \" \".join(text_en_list)\n",
    "#         print(file, len(text_ko), len(text_en), len(text_ko_list))\n",
    "        \n",
    "        # Omit the first 11 lines and the last 4 lines, then replace -, _, and #update with spaces.\n",
    "        texts_ko.append((file[11:-4].replace('-',' ').replace('_', ' ').replace('#update',''), text_ko))\n",
    "        texts_en.append((file[11:-4].replace('-',' ').replace('_', ' ').replace('#update',''), text_en))\n",
    "\n",
    "# Create a dataframe from the list of texts\n",
    "df_ko = pd.DataFrame(texts_ko, columns = ['fname', 'text'])\n",
    "df_en = pd.DataFrame(texts_en, columns = ['fname', 'text'])\n",
    "\n",
    "# Set the text column to be the raw text with the newlines removed\n",
    "# df_ko['text'] = df_ko.fname + \". \" + remove_newlines(df_ko.text)\n",
    "df_ko['text'] = df_ko.fname + \". \" + df_ko.text\n",
    "df_en['text'] = df_en.fname + \". \" + df_en.text\n",
    "\n",
    "df_ko.to_csv('processed/scraped_ko.csv')\n",
    "df_ko.head()\n",
    "\n",
    "df_en.to_csv('processed/scraped_en.csv')\n",
    "df_en.head()\n"
   ]
  },
  {
   "cell_type": "code",
   "execution_count": 16,
   "metadata": {},
   "outputs": [
    {
     "data": {
      "text/plain": [
       "<Axes: >"
      ]
     },
     "execution_count": 16,
     "metadata": {},
     "output_type": "execute_result"
    },
    {
     "data": {
      "image/png": "[encoded data removed]",
      "text/plain": [
       "<Figure size 640x480 with 1 Axes>"
      ]
     },
     "metadata": {},
     "output_type": "display_data"
    }
   ],
   "source": [
    "import tiktoken\n",
    "\n",
    "# Load the cl100k_base tokenizer which is designed to work with the ada-002 model\n",
    "tokenizer = tiktoken.get_encoding(\"cl100k_base\")\n",
    "\n",
    "df_ko = pd.read_csv('processed/scraped_ko.csv', index_col=0)\n",
    "df_ko.columns = ['title', 'text']\n",
    "\n",
    "# Tokenize the text and save the number of tokens to a new column\n",
    "df_ko['n_tokens'] = df_ko.text.apply(lambda x: len(tokenizer.encode(x)))\n",
    "\n",
    "# Visualize the distribution of the number of tokens per row using a histogram\n",
    "df_ko.n_tokens.hist(bins=30)\n",
    "\n"
   ]
  },
  {
   "cell_type": "code",
   "execution_count": 17,
   "metadata": {},
   "outputs": [
    {
     "data": {
      "text/plain": [
       "<Axes: >"
      ]
     },
     "execution_count": 17,
     "metadata": {},
     "output_type": "execute_result"
    },
    {
     "data": {
      "image/png": "[encoded data removed]",
      "text/plain": [
       "<Figure size 640x480 with 1 Axes>"
      ]
     },
     "metadata": {},
     "output_type": "display_data"
    }
   ],
   "source": [
    "import tiktoken\n",
    "\n",
    "\n",
    "df_en = pd.read_csv('processed/scraped_en.csv', index_col=0)\n",
    "df_en.columns = ['title', 'text']\n",
    "\n",
    "df_en.tail()\n",
    "# # Tokenize the text and save the number of tokens to a new column\n",
    "df_en['n_tokens'] = df_en.text.apply(lambda x: len(tokenizer.encode(x)))\n",
    "\n",
    "# # Visualize the distribution of the number of tokens per row using a histogram\n",
    "df_en.n_tokens.hist(bins=18)\n"
   ]
  },
  {
   "cell_type": "code",
   "execution_count": 18,
   "metadata": {},
   "outputs": [],
   "source": [
    "max_tokens = 500\n",
    "\n",
    "# Function to split the text into chunks of a maximum number of tokens\n",
    "def split_into_many(text, max_tokens = max_tokens):\n",
    "\n",
    "    # Split the text into sentences\n",
    "    sentences = text.split('. ')\n",
    "\n",
    "    # Get the number of tokens for each sentence\n",
    "    n_tokens = [len(tokenizer.encode(\" \" + sentence)) for sentence in sentences]\n",
    "    \n",
    "    chunks = []\n",
    "    tokens_so_far = 0\n",
    "    chunk = []\n",
    "\n",
    "    # Loop through the sentences and tokens joined together in a tuple\n",
    "    for sentence, token in zip(sentences, n_tokens):\n",
    "\n",
    "        # If the number of tokens so far plus the number of tokens in the current sentence is greater \n",
    "        # than the max number of tokens, then add the chunk to the list of chunks and reset\n",
    "        # the chunk and tokens so far\n",
    "        if tokens_so_far + token > max_tokens:\n",
    "            chunks.append(\". \".join(chunk) + \".\")\n",
    "            chunk = []\n",
    "            tokens_so_far = 0\n",
    "\n",
    "        # If the number of tokens in the current sentence is greater than the max number of \n",
    "        # tokens, go to the next sentence\n",
    "        if token > max_tokens:\n",
    "            continue\n",
    "\n",
    "        # Otherwise, add the sentence to the chunk and add the number of tokens to the total\n",
    "        chunk.append(sentence)\n",
    "        tokens_so_far += token + 1\n",
    "\n",
    "    chunks.append(\". \".join(chunk) + \".\")\n",
    "    return chunks\n",
    "    \n",
    "\n",
    "shortened_ko = []\n",
    "\n",
    "# Loop through the dataframe\n",
    "for row in df_ko.iterrows():\n",
    "\n",
    "    # If the text is None, go to the next row\n",
    "    if row[1]['text'] is None:\n",
    "        continue\n",
    "\n",
    "    # If the number of tokens is greater than the max number of tokens, split the text into chunks\n",
    "    if row[1]['n_tokens'] > max_tokens:\n",
    "        shortened_ko += split_into_many(row[1]['text'])\n",
    "    \n",
    "    # Otherwise, add the text to the list of shortened texts\n",
    "    else:\n",
    "        shortened_ko.append( row[1]['text'] )\n",
    "        \n",
    "\n",
    "shortened_en = []\n",
    "\n",
    "# Loop through the dataframe\n",
    "for row in df_en.iterrows():\n",
    "\n",
    "    # If the text is None, go to the next row\n",
    "    if row[1]['text'] is None:\n",
    "        continue\n",
    "\n",
    "    # If the number of tokens is greater than the max number of tokens, split the text into chunks\n",
    "    if row[1]['n_tokens'] > max_tokens:\n",
    "        shortened_en += split_into_many(row[1]['text'])\n",
    "    \n",
    "    # Otherwise, add the text to the list of shortened texts\n",
    "    else:\n",
    "        shortened_en.append( row[1]['text'] )\n",
    "        "
   ]
  },
  {
   "cell_type": "code",
   "execution_count": 19,
   "metadata": {},
   "outputs": [
    {
     "data": {
      "text/plain": [
       "<Axes: >"
      ]
     },
     "execution_count": 19,
     "metadata": {},
     "output_type": "execute_result"
    },
    {
     "data": {
      "image/png": "[encoded data removed]",
      "text/plain": [
       "<Figure size 640x480 with 1 Axes>"
      ]
     },
     "metadata": {},
     "output_type": "display_data"
    }
   ],
   "source": [
    "df_ko = pd.DataFrame(shortened_ko, columns = ['text'])\n",
    "df_ko['n_tokens'] = df_ko.text.apply(lambda x: len(tokenizer.encode(x)))\n",
    "df_ko.n_tokens.hist()\n"
   ]
  },
  {
   "cell_type": "code",
   "execution_count": 20,
   "metadata": {},
   "outputs": [
    {
     "data": {
      "text/plain": [
       "<Axes: >"
      ]
     },
     "execution_count": 20,
     "metadata": {},
     "output_type": "execute_result"
    },
    {
     "data": {
      "image/png": "[encoded data removed]",
      "text/plain": [
       "<Figure size 640x480 with 1 Axes>"
      ]
     },
     "metadata": {},
     "output_type": "display_data"
    }
   ],
   "source": [
    "\n",
    "df_en = pd.DataFrame(shortened_en, columns = ['text'])\n",
    "df_en['n_tokens'] = df_en.text.apply(lambda x: len(tokenizer.encode(x)))\n",
    "df_en.n_tokens.hist()"
   ]
  },
  {
   "cell_type": "code",
   "execution_count": 21,
   "metadata": {},
   "outputs": [
    {
     "data": {
      "text/html": [
       "<div>\n",
       "<style scoped>\n",
       "    .dataframe tbody tr th:only-of-type {\n",
       "        vertical-align: middle;\n",
       "    }\n",
       "\n",
       "    .dataframe tbody tr th {\n",
       "        vertical-align: top;\n",
       "    }\n",
       "\n",
       "    .dataframe thead th {\n",
       "        text-align: right;\n",
       "    }\n",
       "</style>\n",
       "<table border=\"1\" class=\"dataframe\">\n",
       "  <thead>\n",
       "    <tr style=\"text-align: right;\">\n",
       "      <th></th>\n",
       "      <th>text</th>\n",
       "      <th>n_tokens</th>\n",
       "      <th>embeddings</th>\n",
       "    </tr>\n",
       "  </thead>\n",
       "  <tbody>\n",
       "    <tr>\n",
       "      <th>0</th>\n",
       "      <td>80 websquare html websquare.uiplugin.tabContro...</td>\n",
       "      <td>461</td>\n",
       "      <td>[-0.009222293272614479, -0.0069480170495808125...</td>\n",
       "    </tr>\n",
       "    <tr>\n",
       "      <th>1</th>\n",
       "      <td>closable tab의 닫기 버튼을 활성화 할지의 여부로, 개별 closable ...</td>\n",
       "      <td>496</td>\n",
       "      <td>[-0.011141913011670113, -0.01115531288087368, ...</td>\n",
       "    </tr>\n",
       "    <tr>\n",
       "      <th>2</th>\n",
       "      <td>tabRole [default:true, false]tab 컴포넌트의 role=\"t...</td>\n",
       "      <td>420</td>\n",
       "      <td>[-0.008997799828648567, -0.011731056496500969,...</td>\n",
       "    </tr>\n",
       "    <tr>\n",
       "      <th>3</th>\n",
       "      <td>userData1 사용자 정의 데이터 속성 userData2 사용자 정의 데이터 속...</td>\n",
       "      <td>487</td>\n",
       "      <td>[-0.004409090615808964, -0.024778474122285843,...</td>\n",
       "    </tr>\n",
       "    <tr>\n",
       "      <th>4</th>\n",
       "      <td>bind( eventType , function ) 컴포넌트에 이벤트와 핸들러 함수...</td>\n",
       "      <td>427</td>\n",
       "      <td>[-0.013010666705667973, -0.0002241010370198637...</td>\n",
       "    </tr>\n",
       "  </tbody>\n",
       "</table>\n",
       "</div>"
      ],
      "text/plain": [
       "                                                text  n_tokens  \\\n",
       "0  80 websquare html websquare.uiplugin.tabContro...       461   \n",
       "1  closable tab의 닫기 버튼을 활성화 할지의 여부로, 개별 closable ...       496   \n",
       "2  tabRole [default:true, false]tab 컴포넌트의 role=\"t...       420   \n",
       "3  userData1 사용자 정의 데이터 속성 userData2 사용자 정의 데이터 속...       487   \n",
       "4  bind( eventType , function ) 컴포넌트에 이벤트와 핸들러 함수...       427   \n",
       "\n",
       "                                          embeddings  \n",
       "0  [-0.009222293272614479, -0.0069480170495808125...  \n",
       "1  [-0.011141913011670113, -0.01115531288087368, ...  \n",
       "2  [-0.008997799828648567, -0.011731056496500969,...  \n",
       "3  [-0.004409090615808964, -0.024778474122285843,...  \n",
       "4  [-0.013010666705667973, -0.0002241010370198637...  "
      ]
     },
     "execution_count": 21,
     "metadata": {},
     "output_type": "execute_result"
    }
   ],
   "source": [
    "import openai\n",
    "\n",
    "df_ko['embeddings'] = df_ko.text.apply(lambda x: openai.Embedding.create(input=x, engine='text-embedding-ada-002')['data'][0]['embedding'])\n",
    "df_ko.to_csv('processed/embeddings_ko.csv')\n",
    "df_ko.head()"
   ]
  },
  {
   "cell_type": "code",
   "execution_count": 22,
   "metadata": {},
   "outputs": [
    {
     "data": {
      "text/html": [
       "<div>\n",
       "<style scoped>\n",
       "    .dataframe tbody tr th:only-of-type {\n",
       "        vertical-align: middle;\n",
       "    }\n",
       "\n",
       "    .dataframe tbody tr th {\n",
       "        vertical-align: top;\n",
       "    }\n",
       "\n",
       "    .dataframe thead th {\n",
       "        text-align: right;\n",
       "    }\n",
       "</style>\n",
       "<table border=\"1\" class=\"dataframe\">\n",
       "  <thead>\n",
       "    <tr style=\"text-align: right;\">\n",
       "      <th></th>\n",
       "      <th>text</th>\n",
       "      <th>n_tokens</th>\n",
       "      <th>embeddings</th>\n",
       "    </tr>\n",
       "  </thead>\n",
       "  <tbody>\n",
       "    <tr>\n",
       "      <th>0</th>\n",
       "      <td>80 websquare html websquare.uiplugin.tabContro...</td>\n",
       "      <td>471</td>\n",
       "      <td>[-0.005918701644986868, 0.005215943790972233, ...</td>\n",
       "    </tr>\n",
       "    <tr>\n",
       "      <th>1</th>\n",
       "      <td>When the noUseTitle tabScroll option is used, ...</td>\n",
       "      <td>494</td>\n",
       "      <td>[-0.01587953045964241, -0.0022740792483091354,...</td>\n",
       "    </tr>\n",
       "    <tr>\n",
       "      <th>2</th>\n",
       "      <td>windowMaxNum [default:-1] If -1 is set as the ...</td>\n",
       "      <td>436</td>\n",
       "      <td>[-0.002756500383839011, -0.017225049436092377,...</td>\n",
       "    </tr>\n",
       "    <tr>\n",
       "      <th>3</th>\n",
       "      <td>getGenerator( ) Returns the parent generator o...</td>\n",
       "      <td>492</td>\n",
       "      <td>[0.015154805965721607, 0.0009454326354898512, ...</td>\n",
       "    </tr>\n",
       "    <tr>\n",
       "      <th>4</th>\n",
       "      <td>getWindow(idx) The window corresponding to the...</td>\n",
       "      <td>498</td>\n",
       "      <td>[0.004514731932431459, 0.007678211200982332, 0...</td>\n",
       "    </tr>\n",
       "  </tbody>\n",
       "</table>\n",
       "</div>"
      ],
      "text/plain": [
       "                                                text  n_tokens  \\\n",
       "0  80 websquare html websquare.uiplugin.tabContro...       471   \n",
       "1  When the noUseTitle tabScroll option is used, ...       494   \n",
       "2  windowMaxNum [default:-1] If -1 is set as the ...       436   \n",
       "3  getGenerator( ) Returns the parent generator o...       492   \n",
       "4  getWindow(idx) The window corresponding to the...       498   \n",
       "\n",
       "                                          embeddings  \n",
       "0  [-0.005918701644986868, 0.005215943790972233, ...  \n",
       "1  [-0.01587953045964241, -0.0022740792483091354,...  \n",
       "2  [-0.002756500383839011, -0.017225049436092377,...  \n",
       "3  [0.015154805965721607, 0.0009454326354898512, ...  \n",
       "4  [0.004514731932431459, 0.007678211200982332, 0...  "
      ]
     },
     "execution_count": 22,
     "metadata": {},
     "output_type": "execute_result"
    }
   ],
   "source": [
    "import openai\n",
    "\n",
    "df_en['embeddings'] = df_en.text.apply(lambda x: openai.Embedding.create(input=x, engine='text-embedding-ada-002')['data'][0]['embedding'])\n",
    "df_en.to_csv('processed/embeddings_en.csv')\n",
    "df_en.head()"
   ]
  },
  {
   "cell_type": "code",
   "execution_count": 23,
   "metadata": {},
   "outputs": [],
   "source": [
    "# from openai.embeddings_utils import distances_from_embeddings\n",
    "\n",
    "# df['embeddings'] = df.text.apply(lambda x: openai.Embedding.create(input=x, engine='text-embedding-ada-002')['data'][0]['embedding'])\n",
    "\n",
    "# df.to_csv('processed/embeddings.csv')\n",
    "# df.head()"
   ]
  },
  {
   "cell_type": "code",
   "execution_count": 25,
   "metadata": {},
   "outputs": [
    {
     "data": {
      "text/html": [
       "<div>\n",
       "<style scoped>\n",
       "    .dataframe tbody tr th:only-of-type {\n",
       "        vertical-align: middle;\n",
       "    }\n",
       "\n",
       "    .dataframe tbody tr th {\n",
       "        vertical-align: top;\n",
       "    }\n",
       "\n",
       "    .dataframe thead th {\n",
       "        text-align: right;\n",
       "    }\n",
       "</style>\n",
       "<table border=\"1\" class=\"dataframe\">\n",
       "  <thead>\n",
       "    <tr style=\"text-align: right;\">\n",
       "      <th></th>\n",
       "      <th>text</th>\n",
       "      <th>n_tokens</th>\n",
       "      <th>embeddings</th>\n",
       "    </tr>\n",
       "  </thead>\n",
       "  <tbody>\n",
       "    <tr>\n",
       "      <th>0</th>\n",
       "      <td>80 websquare html websquare.uiplugin.tabContro...</td>\n",
       "      <td>461</td>\n",
       "      <td>[-0.009222293272614479, -0.0069480170495808125...</td>\n",
       "    </tr>\n",
       "    <tr>\n",
       "      <th>1</th>\n",
       "      <td>closable tab의 닫기 버튼을 활성화 할지의 여부로, 개별 closable ...</td>\n",
       "      <td>496</td>\n",
       "      <td>[-0.011141913011670113, -0.01115531288087368, ...</td>\n",
       "    </tr>\n",
       "    <tr>\n",
       "      <th>2</th>\n",
       "      <td>tabRole [default:true, false]tab 컴포넌트의 role=\"t...</td>\n",
       "      <td>420</td>\n",
       "      <td>[-0.008997799828648567, -0.011731056496500969,...</td>\n",
       "    </tr>\n",
       "    <tr>\n",
       "      <th>3</th>\n",
       "      <td>userData1 사용자 정의 데이터 속성 userData2 사용자 정의 데이터 속...</td>\n",
       "      <td>487</td>\n",
       "      <td>[-0.004409090615808964, -0.024778474122285843,...</td>\n",
       "    </tr>\n",
       "    <tr>\n",
       "      <th>4</th>\n",
       "      <td>bind( eventType , function ) 컴포넌트에 이벤트와 핸들러 함수...</td>\n",
       "      <td>427</td>\n",
       "      <td>[-0.013010666705667973, -0.0002241010370198637...</td>\n",
       "    </tr>\n",
       "  </tbody>\n",
       "</table>\n",
       "</div>"
      ],
      "text/plain": [
       "                                                text  n_tokens  \\\n",
       "0  80 websquare html websquare.uiplugin.tabContro...       461   \n",
       "1  closable tab의 닫기 버튼을 활성화 할지의 여부로, 개별 closable ...       496   \n",
       "2  tabRole [default:true, false]tab 컴포넌트의 role=\"t...       420   \n",
       "3  userData1 사용자 정의 데이터 속성 userData2 사용자 정의 데이터 속...       487   \n",
       "4  bind( eventType , function ) 컴포넌트에 이벤트와 핸들러 함수...       427   \n",
       "\n",
       "                                          embeddings  \n",
       "0  [-0.009222293272614479, -0.0069480170495808125...  \n",
       "1  [-0.011141913011670113, -0.01115531288087368, ...  \n",
       "2  [-0.008997799828648567, -0.011731056496500969,...  \n",
       "3  [-0.004409090615808964, -0.024778474122285843,...  \n",
       "4  [-0.013010666705667973, -0.0002241010370198637...  "
      ]
     },
     "execution_count": 25,
     "metadata": {},
     "output_type": "execute_result"
    }
   ],
   "source": [
    "import pandas as pd\n",
    "import numpy as np\n",
    "from openai.embeddings_utils import distances_from_embeddings, cosine_similarity\n",
    "\n",
    "df_ko=pd.read_csv('processed/embeddings_ko.csv', index_col=0)\n",
    "df_ko['embeddings'] = df_ko['embeddings'].apply(eval).apply(np.array)\n",
    "\n",
    "df_ko.head()\n"
   ]
  },
  {
   "cell_type": "code",
   "execution_count": 24,
   "metadata": {
    "scrolled": false
   },
   "outputs": [
    {
     "data": {
      "text/html": [
       "<div>\n",
       "<style scoped>\n",
       "    .dataframe tbody tr th:only-of-type {\n",
       "        vertical-align: middle;\n",
       "    }\n",
       "\n",
       "    .dataframe tbody tr th {\n",
       "        vertical-align: top;\n",
       "    }\n",
       "\n",
       "    .dataframe thead th {\n",
       "        text-align: right;\n",
       "    }\n",
       "</style>\n",
       "<table border=\"1\" class=\"dataframe\">\n",
       "  <thead>\n",
       "    <tr style=\"text-align: right;\">\n",
       "      <th></th>\n",
       "      <th>text</th>\n",
       "      <th>n_tokens</th>\n",
       "      <th>embeddings</th>\n",
       "    </tr>\n",
       "  </thead>\n",
       "  <tbody>\n",
       "    <tr>\n",
       "      <th>0</th>\n",
       "      <td>80 websquare html websquare.uiplugin.tabContro...</td>\n",
       "      <td>471</td>\n",
       "      <td>[-0.005918701644986868, 0.005215943790972233, ...</td>\n",
       "    </tr>\n",
       "    <tr>\n",
       "      <th>1</th>\n",
       "      <td>When the noUseTitle tabScroll option is used, ...</td>\n",
       "      <td>494</td>\n",
       "      <td>[-0.01587953045964241, -0.0022740792483091354,...</td>\n",
       "    </tr>\n",
       "    <tr>\n",
       "      <th>2</th>\n",
       "      <td>windowMaxNum [default:-1] If -1 is set as the ...</td>\n",
       "      <td>436</td>\n",
       "      <td>[-0.002756500383839011, -0.017225049436092377,...</td>\n",
       "    </tr>\n",
       "    <tr>\n",
       "      <th>3</th>\n",
       "      <td>getGenerator( ) Returns the parent generator o...</td>\n",
       "      <td>492</td>\n",
       "      <td>[0.015154805965721607, 0.0009454326354898512, ...</td>\n",
       "    </tr>\n",
       "    <tr>\n",
       "      <th>4</th>\n",
       "      <td>getWindow(idx) The window corresponding to the...</td>\n",
       "      <td>498</td>\n",
       "      <td>[0.004514731932431459, 0.007678211200982332, 0...</td>\n",
       "    </tr>\n",
       "  </tbody>\n",
       "</table>\n",
       "</div>"
      ],
      "text/plain": [
       "                                                text  n_tokens  \\\n",
       "0  80 websquare html websquare.uiplugin.tabContro...       471   \n",
       "1  When the noUseTitle tabScroll option is used, ...       494   \n",
       "2  windowMaxNum [default:-1] If -1 is set as the ...       436   \n",
       "3  getGenerator( ) Returns the parent generator o...       492   \n",
       "4  getWindow(idx) The window corresponding to the...       498   \n",
       "\n",
       "                                          embeddings  \n",
       "0  [-0.005918701644986868, 0.005215943790972233, ...  \n",
       "1  [-0.01587953045964241, -0.0022740792483091354,...  \n",
       "2  [-0.002756500383839011, -0.017225049436092377,...  \n",
       "3  [0.015154805965721607, 0.0009454326354898512, ...  \n",
       "4  [0.004514731932431459, 0.007678211200982332, 0...  "
      ]
     },
     "execution_count": 24,
     "metadata": {},
     "output_type": "execute_result"
    }
   ],
   "source": [
    "import pandas as pd\n",
    "import numpy as np\n",
    "from openai.embeddings_utils import distances_from_embeddings, cosine_similarity\n",
    "\n",
    "df_en=pd.read_csv('processed/embeddings_en.csv', index_col=0)\n",
    "df_en['embeddings'] = df_en['embeddings'].apply(eval).apply(np.array)\n",
    "\n",
    "df_en.head()\n"
   ]
  },
  {
   "cell_type": "code",
   "execution_count": 49,
   "metadata": {},
   "outputs": [],
   "source": [
    "def create_context(\n",
    "    question, df, max_len=1500, debug=False\n",
    "):\n",
    "    \"\"\"\n",
    "    Create a context for a question by finding the most similar context from the dataframe\n",
    "    \"\"\"\n",
    "\n",
    "    # Get the embeddings for the question\n",
    "    q_embeddings = openai.Embedding.create(input=question, engine='text-embedding-ada-002')['data'][0]['embedding']\n",
    "\n",
    "    # Get the distances from the embeddings\n",
    "    df['distances'] = distances_from_embeddings(q_embeddings, df['embeddings'].values, distance_metric='cosine')\n",
    "\n",
    "\n",
    "    returns = []\n",
    "    cur_len = 0\n",
    "    prev_distance = 0\n",
    "    prev_msg = \"\"\n",
    "\n",
    "    # Sort by distance and add the text to the context until the context is too long\n",
    "    for i, row in df.sort_values('distances', ascending=True).iterrows():\n",
    "        \n",
    "        if prev_distance == row['distances']:\n",
    "#             print(\"이전 목록과 동일 (distance)\")\n",
    "            continue\n",
    "        elif prev_msg == row['text']:\n",
    "#             print(\"이전 목록과 동일 (문자열)\")\n",
    "            continue\n",
    "        else:\n",
    "            prev_distance = row['distances']\n",
    "            prev_msg = row['text']            \n",
    "\n",
    "            # Add the length of the text to the current length\n",
    "            cur_len += row['n_tokens'] + 4\n",
    "\n",
    "            # If the context is too long, break\n",
    "            if cur_len > max_len:\n",
    "                break\n",
    "\n",
    "            if debug:\n",
    "                print(i, row['distances'], row['text'])\n",
    "            # Else add it to the text that is being returned\n",
    "            returns.append(row[\"text\"])\n",
    "\n",
    "    # Return the context\n",
    "    return \"\\n\\n###\\n\\n\".join(returns)\n",
    "\n",
    "\n",
    "def answer_question(\n",
    "    df,\n",
    "    model=\"gpt-3.5-turbo\",\n",
    "    question=\"Am I allowed to publish model outputs to Twitter, without a human review?\",\n",
    "    max_len=3000,\n",
    "    debug=False,\n",
    "#     max_tokens=150,\n",
    "    stop_sequence=None\n",
    "):\n",
    "    \"\"\"\n",
    "    Answer a question based on the most similar context from the dataframe texts\n",
    "    \"\"\"\n",
    "    context = create_context(\n",
    "        question,\n",
    "        df,\n",
    "        max_len=max_len,\n",
    "        debug=debug\n",
    "    )\n",
    "    # If debug, print the raw model response\n",
    "    if debug:\n",
    "        print(\"Context:\\n\" + context)\n",
    "        print(\"\\n\\n\")\n",
    "\n",
    "    try:\n",
    "        # Create a completions using the question and context\n",
    "        response = openai.ChatCompletion.create(\n",
    "            model=model,\n",
    "            messages=[\n",
    "                {\"role\": \"user\", \"content\": f\"Answer the question based on the context below, and if the question can't be answered based on the context, say \\\"I don't know\\\"\\n\\nContext: {context}\\n\\n---\\n\\nQuestion: {question}\\nAnswer:\"}\n",
    "            ],\n",
    "            temperature=0,\n",
    "#             max_tokens=max_tokens,\n",
    "            top_p=1,\n",
    "            frequency_penalty=0,\n",
    "            presence_penalty=0,\n",
    "            stop=stop_sequence,\n",
    "        )\n",
    "\n",
    "#         response = openai.Completion.create(\n",
    "#             prompt=f\"Answer the question based on the context below, and if the question can't be answered based on the context, say \\\"I don't know\\\"\\n\\nContext: {context}\\n\\n---\\n\\nQuestion: {question}\\nAnswer:\",\n",
    "#             temperature=0,\n",
    "#             max_tokens=max_tokens,\n",
    "#             top_p=1,\n",
    "#             frequency_penalty=0,\n",
    "#             presence_penalty=0,\n",
    "#             stop=stop_sequence,\n",
    "#             model=model,\n",
    "#         )\n",
    "#         print(completion.choices[0].message)\n",
    "\n",
    "        return response[\"choices\"][0][\"message\"][\"content\"].strip()\n",
    "    except Exception as e:\n",
    "        print(e)\n",
    "        return \"\"\n",
    "\n",
    "def answer_question2(\n",
    "    df,\n",
    "    model=\"text-davinci-003\",\n",
    "    question=\"Am I allowed to publish model outputs to Twitter, without a human review?\",\n",
    "    max_len=2000,\n",
    "    debug=False,\n",
    "#     max_tokens=150,\n",
    "    stop_sequence=None\n",
    "):\n",
    "    \"\"\"\n",
    "    Answer a question based on the most similar context from the dataframe texts\n",
    "    \"\"\"\n",
    "    context = create_context(\n",
    "        question,\n",
    "        df,\n",
    "        max_len=max_len,\n",
    "        debug=debug\n",
    "    )\n",
    "    # If debug, print the raw model response\n",
    "    if debug:\n",
    "        print(\"Context:\\n\" + context)\n",
    "        print(\"\\n\\n\")\n",
    "\n",
    "    try:\n",
    "        # Create a completions using the question and context\n",
    "        response = openai.Completion.create(\n",
    "            prompt=f\"Answer the question based on the context below, and if the question can't be answered based on the context, say \\\"I don't know\\\"\\n\\nContext: {context}\\n\\n---\\n\\nQuestion: {question}:\\nAnswer:\",\n",
    "            temperature=0,\n",
    "#             max_tokens=max_tokens,\n",
    "            top_p=1,\n",
    "            frequency_penalty=0,\n",
    "            presence_penalty=0,\n",
    "            stop=stop_sequence,\n",
    "            model=model,\n",
    "        )\n",
    "        return response[\"choices\"][0][\"text\"].strip()\n",
    "    except Exception as e:\n",
    "        print(e)\n",
    "        return \"\""
   ]
  },
  {
   "cell_type": "code",
   "execution_count": 28,
   "metadata": {
    "scrolled": true
   },
   "outputs": [
    {
     "name": "stdout",
     "output_type": "stream",
     "text": [
      "1278 0.23056190145022015 .\n",
      "208 0.24291313174180418 WebSquare.date.toSolar(20220715);예제 파일인터넷에서 다운로드 혹은WEBSQUARE_DEV_PACK에서 보기 (/_WebSquare.date/toLunar_toSolar_WebSquare_date.xml)그림 21-2.YouTube 동영상 (https://youtu.be/vt8qnfyYq4k) .\n",
      "1347 0.25030387735347837 calendarValueTypeToday 버튼 옆 날짜 표시 방법 maxYear / minYearCalendar 컴포넌트에 표현할 수 있는 최대/최소 연도를 설정weekStartsOn한주의 시작일을 설정 (0: 일요일, 1: 월요일 ...)topLayoutCSS나 jQuery 조작 없이 Calendar 컴포넌트의 Today 버튼을 상단으로 이동disableBeforeToday & disableAfterToday오늘 날짜를 기준으로 날짜 선택을 제한동영상 보기13.4.1시작 요일 지정 (weekStartsOn)weekStartsOn 속성을 통해 달력의 시작 요일을 지정할 수 있습니다.\"0\" : 일요일\"1\" : 월요일\"2\" : 화요일\"3\" : 수요일\"4\" : 목요일\"5\" : 금요일\"6\" : 토요일그림 13-35.weekStartsOn=\"4\"13.4.2Today 버튼 위치 결정 (topLayout)사용자가 클릭할 경우 오늘 날짜를 표시하는 Today 버튼의 표시 위치는 topLayout 속성을 통해 결정할 수 있습니다.그림 13-36.topLayout=\"false\" Vs.\n",
      "1366 0.2524643619010337 이 Today 버튼은 showToday=\"false\" 설정을 통해 화면에 표시하지 않을 수 있습니다.그림 13-114.showToday=\"true\"예제 파일인터넷에서 다운로드 혹은WEBSQUARE_DEV_PACK의 GUIDE 프로젝트에서 보기(/InputCalendar/showToday_InputCalendar.xml)그림 13-115.YouTube 동영상 (https://youtu.be/PBOW9xKzEpM)13.12.8연도 및 월 선택13.12.8.1연도 및 월 선택 방식 설정 (pickerType)pickerType 속성을 통해 달력에서 연도 및 월을 선택하는 방식을 설정할 수 있습니다.그림 13-116.pickerType=\"selectbox\" (기본 값))그림 13-117.pickerType=\"dynamic\"예제 파일인터넷에서 다운로드 혹은WEBSQUARE_DEV_PACK의 GUIDE 프로젝트에서 보기 (/InputCalendar/pickerType_InputCalendar.xml)그림 13-118.YouTube 동영상 (https://youtu.be/PUwerF67bzs)13.12.8.2연도 및 월 표시 순서 설정 (dynamicHeaderOrder)pickerType=\"dynamic\"인 경우 달력 헤더 부분의 연도 및 월 표시 순서를 dynamicHeaderOrder 속성을 통해 설정할 수 있습니다.dynamicHeaderOrder: pickerType=\"dynamic\"인 경우 헤더 부분의 label 순서를 결정. \"month\" (기본 값) : 월 – 연도 순서로 출력.\n",
      "1859 0.25350612308022535 단, 이 경우 해당 변수는 전역에 선언되어, 함수 종료 후에도 계속 참조가 가능하고 자동 릴리즈가 되지 않습니다. SPA 방식으로 이동하는 화면인 경우 이는 메모리 누수 현상으로 이어집니다.코드 8-38.비권장 사용 예scwin.getDay = function(pYmd, format) {     try {         if (pYmd.length > 8) {             pYmd = pYmd.substring(0, 8);     }     if (typeof format !== \"undefined\" && format !== \"\" &&     WebSquare.util.getBoolean(format)) {         date = WebSquare.date.getDay(pYmd);             //date가 var 선언이 생략되어 있어 전역변수로 사용됨 } else { // … } return date; } catch (e) { } }코드 8-39.권장 사용 예scwin.getDay = function(pYmd, format) {     try { var date = -1;     //var를 생략하지 않고     // date가 가질 수 없는 값을 초기값으로 설정한뒤     // case에 따른 수식결과를 저장한뒤 리턴한다. if (pYmd.length > 8) {         pYmd = pYmd.substring(0, 8); } if (typeof format !== \"undefined\" && format !== \"\" &&     WebSquare.util.getBoolean(format)) {         date = WebSquare.date.getDay(pYmd); } else { // … } return date; } catch (e) { } }8.3.9공통 코드 조회각 업무 페이지의 SelectBox나 CheckBox와 같은 공통 코드(혹은 코드성 데이터)가 존재합니다. 이 같은 공통 코드는 업무 페이지의 데이터를 불러오기 전에 먼저 조회해야 합니다.\n",
      "1932 0.261255507597726 80 websquare guide Design Guide OPS chapter 18.html.  Calendar18.Calendar수정 일자 버전 (SP2)WebSquare5 Studio : 20180117_1349_x86_BWebSquare5 Engine : 5.0_2.2982B.20180223.154326_1.5InputCalendar는 달력 컴포넌트와 Input 컴포넌트를 그룹화시킨 복합 컴포넌트로서, 달력에서 선택한 날짜가 Input 컴포넌트에 출력 됩니다.달력 이미지를 출력하여 날짜를 선택할 수 있는 인터페이스를 제공하는 컴포넌트로 5가지의 디자인을 제공하고 있습니다.달력의 종류는 3가지로, 년월, 년월일, 년월일시간을 나타낼 수 있습니다.InputBox와 관련된 것을 제외하고 InputCalendar와 동일한 속성을 가지고 있습니다.\n",
      "1811 0.26221442462228983 그림 8-85displayDayType=\"image\"displayDayType=\"text\"인 경우, 요일이 텍스트로 표시되어, 복사가 가능합니다.그림 8-86displayDayType=\"text\"예제 파일인터넷에서 다운로드 혹은WEBSQUARE_DEV_PACK에서 보기 (/Calendar/displayDayType_InputCalendar.xml)그림 8-87YouTube 동영상 (https://youtu.be/OT_ps7WMpz4)25.6.기능 (모바일 전용 renderType 지정 / WESD-557)25.6.1.mobileRenderType표 25-147.mobileRenderType구분속성 추가. 설명 모바일 환경에서만 사용할 renderType 정의.component (기본 값)native비공개 속성 mobileRenderType 속성은 현재 비공개.25.7.변경 (renderType / WESD-841)표 25-148.변경 전 vs. 변경 후 변경 전변경 후Studio에서 XML을 생성할 경우 renderType 속성의 기본 값(\"component\")이 명시됨. renderType 속성의 기본 값(\"component\")이 XML 파일에 포함되지 않음. 25.8.변경 (displayDayType=\"text\" / WESD-772)표 25-149.변경 전 vs. 변경 후 변경 전변경 후renderType=\"native\"인 경우, displayDayType=\"text\" 설정이 적용되지 않음. renderType=\"native\"인 경우에도 displayDayType=\"text\" 설정이 적용됨. 25.9.변경 (calendarValueType 구분 가능한 클래스 추가 / WESD-591)표 25-150.변경 전 vs. 변경 후 변경 전변경 후calendarValueType 속성에 대한 클래스 없음. 각 속성 설정에 대해 클래스가 추가됨. (예시)calendarValueType=\"yearMonthDateHour\" 에 대해, w2inputCalendar_type_yearMonthDateHour 형태로 클래스가 추가됨.\n",
      "3169 0.2624652489326318 80 websquare html websquare.date WebSquare.date.html.  WebSquare.date PropertyEventMethod찾아보기 WebSquare.date - 5.0_5.4826M.20230213.171915 날짜 및 시간 관리용 API를 제공. Type engine Property Summary Event Summary Method Summary dateAdd( day1 , offset ) 날짜에 지정된 수만큼 더합니다 dateDiff( day1 , day2 ) 두 날짜 사이의 차이를 반환합니다 dateTimeAdd( day1 , offset , type ) 날짜 및 시간에 지정된 수만큼 더합니다.( date + offset ) getCurrentServerDate( pattern ) 서버의 현재 시간을 반환합니다. getDay( dateFormatStr ) \"yyyyMMdd\" 형태의 날짜를 입력받아서 해당 요일을 반환합니다 getFormattedDate( dateObj , pattern ) Date객체를 받아서 지정된 format으로 시간을 반환합니다.\n",
      "1399 0.263982984968662 80 websquare guide Design Guide OPS chapter 23.html.  DatePicker23.DatePicker수정 일자 버전 (SP2)WebSquare5 Studio : 20180117_1349_x86_BWebSquare5 Engine : 5.0_2.2982B.20180223.154326_1.5모바일 전용 컴포넌트로 Calendar 컴포넌트와 InputCalendar 컴포넌트의 대체로 사용합니다. 터치나 드래그 이벤트를 통해 날짜값을 선택할수 있습니다.23.1PropertyPropertyDescriptionampmcalendarValueType속성이 yearMonthDateTime인 경우 오전, 오후에 해당하는 문자열을 ,로 구분하여 작성합니다.calendarValueType날짜표시 형식을 지정합니다.class사용자가 임의의 class를 정의할때 사용합니다.dateSuffix[default:일]일(date)에 해당하는 숫자 뒤에 설정할 문자열을 지정합니다.id사용자가 임의의 id를 정의할때 사용합니다. monthNames 월에 해당하는 숫자를 대체할 문자열로 ,로 구분하여 작성합니다. ref DataCollection의 value 경로로 컴포넌트와 DataCollection의 value를 binding을 시킬 때 사용하며 \"data:\"라는 prefix는 필수로 붙여주어야 합니다.tabIndex SP2Tab Key를 이용 한 컴포넌트의 포커스 순서로 HTML의 tabindex속성과 동일한 기능을 제공한다. title 일반적인 tag의 title 입니다.\n",
      "Context:\n",
      ".\n",
      "\n",
      "###\n",
      "\n",
      "WebSquare.date.toSolar(20220715);예제 파일인터넷에서 다운로드 혹은WEBSQUARE_DEV_PACK에서 보기 (/_WebSquare.date/toLunar_toSolar_WebSquare_date.xml)그림 21-2.YouTube 동영상 (https://youtu.be/vt8qnfyYq4k) .\n",
      "\n",
      "###\n",
      "\n",
      "calendarValueTypeToday 버튼 옆 날짜 표시 방법 maxYear / minYearCalendar 컴포넌트에 표현할 수 있는 최대/최소 연도를 설정weekStartsOn한주의 시작일을 설정 (0: 일요일, 1: 월요일 ...)topLayoutCSS나 jQuery 조작 없이 Calendar 컴포넌트의 Today 버튼을 상단으로 이동disableBeforeToday & disableAfterToday오늘 날짜를 기준으로 날짜 선택을 제한동영상 보기13.4.1시작 요일 지정 (weekStartsOn)weekStartsOn 속성을 통해 달력의 시작 요일을 지정할 수 있습니다.\"0\" : 일요일\"1\" : 월요일\"2\" : 화요일\"3\" : 수요일\"4\" : 목요일\"5\" : 금요일\"6\" : 토요일그림 13-35.weekStartsOn=\"4\"13.4.2Today 버튼 위치 결정 (topLayout)사용자가 클릭할 경우 오늘 날짜를 표시하는 Today 버튼의 표시 위치는 topLayout 속성을 통해 결정할 수 있습니다.그림 13-36.topLayout=\"false\" Vs.\n",
      "\n",
      "###\n",
      "\n",
      "이 Today 버튼은 showToday=\"false\" 설정을 통해 화면에 표시하지 않을 수 있습니다.그림 13-114.showToday=\"true\"예제 파일인터넷에서 다운로드 혹은WEBSQUARE_DEV_PACK의 GUIDE 프로젝트에서 보기(/InputCalendar/showToday_InputCalendar.xml)그림 13-115.YouTube 동영상 (https://youtu.be/PBOW9xKzEpM)13.12.8연도 및 월 선택13.12.8.1연도 및 월 선택 방식 설정 (pickerType)pickerType 속성을 통해 달력에서 연도 및 월을 선택하는 방식을 설정할 수 있습니다.그림 13-116.pickerType=\"selectbox\" (기본 값))그림 13-117.pickerType=\"dynamic\"예제 파일인터넷에서 다운로드 혹은WEBSQUARE_DEV_PACK의 GUIDE 프로젝트에서 보기 (/InputCalendar/pickerType_InputCalendar.xml)그림 13-118.YouTube 동영상 (https://youtu.be/PUwerF67bzs)13.12.8.2연도 및 월 표시 순서 설정 (dynamicHeaderOrder)pickerType=\"dynamic\"인 경우 달력 헤더 부분의 연도 및 월 표시 순서를 dynamicHeaderOrder 속성을 통해 설정할 수 있습니다.dynamicHeaderOrder: pickerType=\"dynamic\"인 경우 헤더 부분의 label 순서를 결정. \"month\" (기본 값) : 월 – 연도 순서로 출력.\n",
      "\n",
      "###\n",
      "\n",
      "단, 이 경우 해당 변수는 전역에 선언되어, 함수 종료 후에도 계속 참조가 가능하고 자동 릴리즈가 되지 않습니다. SPA 방식으로 이동하는 화면인 경우 이는 메모리 누수 현상으로 이어집니다.코드 8-38.비권장 사용 예scwin.getDay = function(pYmd, format) {     try {         if (pYmd.length > 8) {             pYmd = pYmd.substring(0, 8);     }     if (typeof format !== \"undefined\" && format !== \"\" &&     WebSquare.util.getBoolean(format)) {         date = WebSquare.date.getDay(pYmd);             //date가 var 선언이 생략되어 있어 전역변수로 사용됨 } else { // … } return date; } catch (e) { } }코드 8-39.권장 사용 예scwin.getDay = function(pYmd, format) {     try { var date = -1;     //var를 생략하지 않고     // date가 가질 수 없는 값을 초기값으로 설정한뒤     // case에 따른 수식결과를 저장한뒤 리턴한다. if (pYmd.length > 8) {         pYmd = pYmd.substring(0, 8); } if (typeof format !== \"undefined\" && format !== \"\" &&     WebSquare.util.getBoolean(format)) {         date = WebSquare.date.getDay(pYmd); } else { // … } return date; } catch (e) { } }8.3.9공통 코드 조회각 업무 페이지의 SelectBox나 CheckBox와 같은 공통 코드(혹은 코드성 데이터)가 존재합니다. 이 같은 공통 코드는 업무 페이지의 데이터를 불러오기 전에 먼저 조회해야 합니다.\n",
      "\n",
      "###\n",
      "\n",
      "80 websquare guide Design Guide OPS chapter 18.html.  Calendar18.Calendar수정 일자 버전 (SP2)WebSquare5 Studio : 20180117_1349_x86_BWebSquare5 Engine : 5.0_2.2982B.20180223.154326_1.5InputCalendar는 달력 컴포넌트와 Input 컴포넌트를 그룹화시킨 복합 컴포넌트로서, 달력에서 선택한 날짜가 Input 컴포넌트에 출력 됩니다.달력 이미지를 출력하여 날짜를 선택할 수 있는 인터페이스를 제공하는 컴포넌트로 5가지의 디자인을 제공하고 있습니다.달력의 종류는 3가지로, 년월, 년월일, 년월일시간을 나타낼 수 있습니다.InputBox와 관련된 것을 제외하고 InputCalendar와 동일한 속성을 가지고 있습니다.\n",
      "\n",
      "###\n",
      "\n",
      "그림 8-85displayDayType=\"image\"displayDayType=\"text\"인 경우, 요일이 텍스트로 표시되어, 복사가 가능합니다.그림 8-86displayDayType=\"text\"예제 파일인터넷에서 다운로드 혹은WEBSQUARE_DEV_PACK에서 보기 (/Calendar/displayDayType_InputCalendar.xml)그림 8-87YouTube 동영상 (https://youtu.be/OT_ps7WMpz4)25.6.기능 (모바일 전용 renderType 지정 / WESD-557)25.6.1.mobileRenderType표 25-147.mobileRenderType구분속성 추가. 설명 모바일 환경에서만 사용할 renderType 정의.component (기본 값)native비공개 속성 mobileRenderType 속성은 현재 비공개.25.7.변경 (renderType / WESD-841)표 25-148.변경 전 vs. 변경 후 변경 전변경 후Studio에서 XML을 생성할 경우 renderType 속성의 기본 값(\"component\")이 명시됨. renderType 속성의 기본 값(\"component\")이 XML 파일에 포함되지 않음. 25.8.변경 (displayDayType=\"text\" / WESD-772)표 25-149.변경 전 vs. 변경 후 변경 전변경 후renderType=\"native\"인 경우, displayDayType=\"text\" 설정이 적용되지 않음. renderType=\"native\"인 경우에도 displayDayType=\"text\" 설정이 적용됨. 25.9.변경 (calendarValueType 구분 가능한 클래스 추가 / WESD-591)표 25-150.변경 전 vs. 변경 후 변경 전변경 후calendarValueType 속성에 대한 클래스 없음. 각 속성 설정에 대해 클래스가 추가됨. (예시)calendarValueType=\"yearMonthDateHour\" 에 대해, w2inputCalendar_type_yearMonthDateHour 형태로 클래스가 추가됨.\n",
      "\n",
      "###\n",
      "\n",
      "80 websquare html websquare.date WebSquare.date.html.  WebSquare.date PropertyEventMethod찾아보기 WebSquare.date - 5.0_5.4826M.20230213.171915 날짜 및 시간 관리용 API를 제공. Type engine Property Summary Event Summary Method Summary dateAdd( day1 , offset ) 날짜에 지정된 수만큼 더합니다 dateDiff( day1 , day2 ) 두 날짜 사이의 차이를 반환합니다 dateTimeAdd( day1 , offset , type ) 날짜 및 시간에 지정된 수만큼 더합니다.( date + offset ) getCurrentServerDate( pattern ) 서버의 현재 시간을 반환합니다. getDay( dateFormatStr ) \"yyyyMMdd\" 형태의 날짜를 입력받아서 해당 요일을 반환합니다 getFormattedDate( dateObj , pattern ) Date객체를 받아서 지정된 format으로 시간을 반환합니다.\n",
      "\n",
      "###\n",
      "\n",
      "80 websquare guide Design Guide OPS chapter 23.html.  DatePicker23.DatePicker수정 일자 버전 (SP2)WebSquare5 Studio : 20180117_1349_x86_BWebSquare5 Engine : 5.0_2.2982B.20180223.154326_1.5모바일 전용 컴포넌트로 Calendar 컴포넌트와 InputCalendar 컴포넌트의 대체로 사용합니다. 터치나 드래그 이벤트를 통해 날짜값을 선택할수 있습니다.23.1PropertyPropertyDescriptionampmcalendarValueType속성이 yearMonthDateTime인 경우 오전, 오후에 해당하는 문자열을 ,로 구분하여 작성합니다.calendarValueType날짜표시 형식을 지정합니다.class사용자가 임의의 class를 정의할때 사용합니다.dateSuffix[default:일]일(date)에 해당하는 숫자 뒤에 설정할 문자열을 지정합니다.id사용자가 임의의 id를 정의할때 사용합니다. monthNames 월에 해당하는 숫자를 대체할 문자열로 ,로 구분하여 작성합니다. ref DataCollection의 value 경로로 컴포넌트와 DataCollection의 value를 binding을 시킬 때 사용하며 \"data:\"라는 prefix는 필수로 붙여주어야 합니다.tabIndex SP2Tab Key를 이용 한 컴포넌트의 포커스 순서로 HTML의 tabindex속성과 동일한 기능을 제공한다. title 일반적인 tag의 title 입니다.\n",
      "\n",
      "\n",
      "\n"
     ]
    },
    {
     "data": {
      "text/plain": [
       "\"I don't know.\""
      ]
     },
     "execution_count": 28,
     "metadata": {},
     "output_type": "execute_result"
    }
   ],
   "source": [
    "answer_question(df_ko, question=\"What day is it?\", debug=True)"
   ]
  },
  {
   "cell_type": "code",
   "execution_count": 29,
   "metadata": {},
   "outputs": [
    {
     "name": "stdout",
     "output_type": "stream",
     "text": [
      "904 0.23607041001363405 Figure 13-124.displayDayType=\"image\"displayDayType=\"text\" , The day of the week is displayed as text and can be copied. Figure 13-125.displayDayType=\"text\" example file downloaded from the Internet or viewed in the GUIDE project of WEBSQUARE_DEV_PACK (/Calendar/displayDayType_InputCalendar.xml)Figure 13-126.YouTube video (https://youtu.be/OT_ps7WMpz4)13.12.11 Designating and canceling holidays13.12.11.1 Directly specifying (setHoliday())You can use the setHoliday() function to designate a specific date as a holiday as shown below.setH oliday(dateStr , toRemove)dateStr : The date to designate as a holiday. toRemove : Whether to cancel existing holiday settings. (\"true\": cancel. \"false\" (default): don't cancel.) Code 13-24. Example usage inputCalendar1.setHoliday(\"20220207 20220208\", true); You can use the ())setHolidayRef() function to refer to a specific column in the DataList and designate the corresponding value as a holiday. However, you must put \"data:\" in front of the column ID of the DataList.Code 13-25. Example usage inputCalendar1.setHolidayRef(\"data:dataList1.col1\"); You can use the function setHoliday() and setHolidayRef() to cancel all holiday settings specified using the functions. Code 13-26. Example usage inputCalendar1.removeHoliday();13.13MultiSelect Table 13-36. Component Description Summary User's Multiple selection supported. Functions and Features A component that supports multi-selection in the form of a SelectBox.13.13.1Example file for setting selected items by binding with DataList.\n",
      "1226 0.24702108231524156 Suggested usage example scwin.addDateSimpleisDate = function(sDate) {      try {           var date = \"\"; var isDate = scwin.isDate(pYmd); if (! isDate) return; var cYmd = pYmd.substring(0, 8); var dTime = pYmd.substring(8); var isSet = Number(offset); if (!isNaN(isSet)) date = $p.dateAdd(cYmd, isSet); // Perform dateAdd if not NaN when converting Number if (typeof format == “undefined” || format != “yyyyMMdd”)           date = date + dTime; return date     } catch (e) { } }8.3.8Declaring global variables JavaSript is a loosely typed language, and scripts are executed normally even if the var character used for variable declaration is omitted. However, in this case, the variable is declared as global, so it can be referenced even after the function ends and is not automatically released. If the screen moves in the SPA way, this leads to a memory leak. Code 8-38. Examples of non-recommended use .substring(0, 8); }     if (typeof format !== \"undefined\" && format !== \"\" &&     WebSquare.util.getBoolean(format)) {          date = WebSquare.date.getDay(pYmd); //date is used as a global variable because the var declaration is omitted } else { // … } return date; } catch (e) { } }Code 8-39. Recommended usage example scwin.getDay = function(pYmd, format) { Try { var date = -1; // Without omitting var, // set a value that date cannot have as an initial value, // store the formula result according to the case, and return it. if (pYmd.length > 8) {           pYmd = pYmd.substring(0, 8); } if (typeof format !== \"undefined\" && format !== \"\" && util.getBoolean(format)) {            date = WebSquare.date.getDay(pYmd); } else { // … } return date; } catch (e) { } } 8.3.9Common Code Lookup There are common codes (or coded data) such as SelectBox or CheckBox on each business page. Common code like this needs to look up the business page's data before loading it.\n",
      "903 0.24968591123006256 Figure 13-114.showToday=\"true\" example file Download from the Internet or view in the GUIDE project of WEBSQUARE_DEV_PACK (/InputCalendar/showToday_InputCalendar.xml) Figure 13-115.YouTube video (https://youtu.be/PBOW9xKzEpM) 13.12.8 Year and month selection 13.12.8.1 Year and month selection method setting (pickerType) Method of selecting year and month in the calendar through the pickerType property Figure 13-116.pickerType=\"selectbox\" (default)) Figure 13-117.pickerType=\"dynamic\" Example file downloaded from the Internet or viewed in the GUIDE project of WEBSQUARE_DEV_PACK (/InputCalendar/pickerType_InputCalendar.xml) Figure 13-118.YouTube video (https://youtu.be/PUwerF67bzs) 13.12.8.2 Setting the display order of years and months (dynamicHeaderOrder) If pickerType=\"dynamic\", set the display order of years and months in the calendar header part to the dynamicHeaderOrder property. It can be set through dynamicHeaderOrder: Determines the label order of the header part when pickerType=\"dynamic\". \"month\" (default) : Output in month-year order. \"year\" : Output in year-month order. Figure 13-119.pickerType=\"dynamic\" Figure 13-120.dynamicHeaderOrder=\"month\" Example file downloaded from the Internet or viewed in the GUIDE project of WEBSQUARE_DEV_PACK (/InputCalendar/pickerType_dynamicHeaderOrder_InputCalendar.xml )Figure 13-121.YouTube video (https://youtu.be/mdRM__Fl_zA)13.12.9Setting the number of weeks to display Through the visibleWeekNum property, you can set the number of weeks to display in the calendar. Figure 13-122.visibleWeekNum=\"10\"Example file downloaded from the Internet or viewed in the GUIDE project of WEBSQUARE_DEV_PACK (/InputCalendar/visibleWeekNum_InputCalendar.xml) Figure 13-123.YouTube video (https://youtu.be/5OYRmiYI8Cw) 13.12. 10 Display Days of the Week as Text or Images (displayDayType) Using the displayDayType property, you can select whether to display the days of the week in text or image form.\n",
      "927 0.25071875353129147 12.7.3.1 Utility code 12-10.Utility var curDate = $p.getCurrentServerDate('yyyy-MM-dd'); // Example of getting today's date from WAS 12.7.3.2UI Object Code 12-11.UI Objectinputbox1.setValue(\"WebSquare\"); // Set the value of the component corresponding to the ID of \"inputbox1\" to \"WebSquare\" 12.7.3.3 Data object code 12-12.Data object curRowDataObj = datalist1.getRowJSON(0); //After accessing the DataCollection object (DataList) corresponding to the ID of \"datalis1\", //Example of pulling out the data in the 0th row. YouTube video (https://youtu.be/uvP7ZkEogRc)..\n",
      "2090 0.2509443988457014 80 websquare html websquare.date WebSquare.date.html. WebSquare.date Look for PropertyEventMethod WebSquare.date - 5.0_5.4826M.20230213.171915 Provides API for date and time management. Type engine Property Summary Event Summary Method Summary dateAdd( day1 , offset ) Add a specified number to a date dateDiff( day1 , day2 ) Return the difference between two dates dateTimeAdd( day1 , offset , type ) Add a specified number to a date and time Add.( date + offset ) getCurrentServerDate( pattern ) Returns the current time of the server. getDay( dateFormatStr ) Receives a date in \"yyyyMMdd\" format and returns the corresponding day. getFormattedDate( dateObj , pattern ) Receives a Date object and returns the time in the specified format. getIOFormatDate( value , ioFormat , calendarValueType ) Receives a date value, ioFormat and calendarValueType getIOUnFormatDate( value , ioFormat , calendarValueType ) Receives a date value, ioFormat and calendarValueType getMaxMinYear( ) Objects containing maxYear and minYear properties for each calendarValueType Returns isValidDate( obj , sDate ) Receives a date value in \"yyyyMMdd\" format and checks whether it is a valid date and returns a boolean parseDate( str , format ) Converts the date format format to Date toLunar( solar ) Returns a \"yyyyMMdd\" format Receives a solar date as input and returns a string of the corresponding lunar date toSolar( solar ) Takes a lunar date in the form of \"yyyyMMdd\" and returns a string of the corresponding solar date toTimestampString( dateObj ) java Property Detail Event Detail Method Detail dateAdd( day1 , offset ) Adds the specified number to the date.( date + offset ) Parameter nametyperequireddescription day1StringYThe specified date offsetNumberYThe number to add to the date Return typedescription StringThe date added by the specified number Sample var addDate = WebSquare.date.dateAdd( 20120102, 7 ); //addDate : 20120109 dateDiff( day1 , day2 ) Returns the difference between two dates.\n",
      "1471 0.2520163690175836 80 websquare guide Web Accessibility OPS chapter 08.html. Calendar8.Calendar8.1CalendarIt is a component that shows the calendar and provides the ability to select a date. To support accessibility, set renderType=\"native\", keepFocusSelect=\"true\", footerDiv=\"true\", Clearly describe the title attribute, caption, and summary<Check Point>√ Are renderType=\"native\", keepFocusSelect=\"true\", footerDiv=\"true\" set? √ Does the focus by the keyboard move logically? √ Does the outline of the focus state appear clearly? √ Did you provide an appropriate caption and summary? (In case of html5, only caption is provided) Related instructions: 2.1.1. Ensuring keyboard use, 2.1.2. Shift focus, 3.2.1. Execution according to user needs, 3.3.2. Structure of the table<Xml source><w2:calendar id=\"\" style=\"\" renderType=\"native\" footerDiv=\"true\" keepFocusSelect=\"true\" summary=\"Calendar:Select the desired date.\" caption=\"Calendar\"></w2:calendar> .\n",
      "1216 0.2557923510458856 80 websquare guide Developer Guide OPS chapter 08.html. Performance improvement guide 8. Performance improvement guide 8.1 Code analysis 8.1.1 Global variables Check for unintentional global variable declarations. If you create a variable without a var declaration, a global variable is created. If a variable that is only needed inside a function is declared as global, it can be referenced even after the function exits, which can cause a memory leak. Code 8-1. length > 8) { pYmd = pYmd.substring(0, 8); } if (typeof format !== \"undefined\" && format !== \"\" && WebSquare.util.getBoolean(format)) { date = WebSquare.date.getDay(pYmd); //date is used as a global variable because the var declaration is omitted } else { … } return date; } catch (e) { } } Code 8-2. After modification scwin.getDay = function(pYmd, format) { try { var date = -1; // Without omitting var, set a value that date cannot have as an initial value, // Save the formula result according to the case, and return it. if (pYmd. length > 8) { pYmd = pYmd. substring(0, 8); } if (typeof format !== \"undefined\" && format !== \"\" && WebSquare.util.getBoolean(format)) { date = WebSquare.date.getDay(pYmd); } else { … } return date; } catch (e) { } }8.1.2Object Check whether the appropriate API is used and the formula type. . (memory saving) The API referenced by IFrame is created as an API that returns a String of top. (The return value is a string copied through slice(0).) Create a single String by using the API in IFrame of the characters allowable in the column value. Get one char from the column value and check if it exists in the available character String. .8.1.8 Passing Popup Parameters Do not use return values ​​of Object type other than String. Depending on the browser, memory leaks can occur.\n",
      "Context:\n",
      "Figure 13-124.displayDayType=\"image\"displayDayType=\"text\" , The day of the week is displayed as text and can be copied. Figure 13-125.displayDayType=\"text\" example file downloaded from the Internet or viewed in the GUIDE project of WEBSQUARE_DEV_PACK (/Calendar/displayDayType_InputCalendar.xml)Figure 13-126.YouTube video (https://youtu.be/OT_ps7WMpz4)13.12.11 Designating and canceling holidays13.12.11.1 Directly specifying (setHoliday())You can use the setHoliday() function to designate a specific date as a holiday as shown below.setH oliday(dateStr , toRemove)dateStr : The date to designate as a holiday. toRemove : Whether to cancel existing holiday settings. (\"true\": cancel. \"false\" (default): don't cancel.) Code 13-24. Example usage inputCalendar1.setHoliday(\"20220207 20220208\", true); You can use the ())setHolidayRef() function to refer to a specific column in the DataList and designate the corresponding value as a holiday. However, you must put \"data:\" in front of the column ID of the DataList.Code 13-25. Example usage inputCalendar1.setHolidayRef(\"data:dataList1.col1\"); You can use the function setHoliday() and setHolidayRef() to cancel all holiday settings specified using the functions. Code 13-26. Example usage inputCalendar1.removeHoliday();13.13MultiSelect Table 13-36. Component Description Summary User's Multiple selection supported. Functions and Features A component that supports multi-selection in the form of a SelectBox.13.13.1Example file for setting selected items by binding with DataList.\n",
      "\n",
      "###\n",
      "\n",
      "Suggested usage example scwin.addDateSimpleisDate = function(sDate) {      try {           var date = \"\"; var isDate = scwin.isDate(pYmd); if (! isDate) return; var cYmd = pYmd.substring(0, 8); var dTime = pYmd.substring(8); var isSet = Number(offset); if (!isNaN(isSet)) date = $p.dateAdd(cYmd, isSet); // Perform dateAdd if not NaN when converting Number if (typeof format == “undefined” || format != “yyyyMMdd”)           date = date + dTime; return date     } catch (e) { } }8.3.8Declaring global variables JavaSript is a loosely typed language, and scripts are executed normally even if the var character used for variable declaration is omitted. However, in this case, the variable is declared as global, so it can be referenced even after the function ends and is not automatically released. If the screen moves in the SPA way, this leads to a memory leak. Code 8-38. Examples of non-recommended use .substring(0, 8); }     if (typeof format !== \"undefined\" && format !== \"\" &&     WebSquare.util.getBoolean(format)) {          date = WebSquare.date.getDay(pYmd); //date is used as a global variable because the var declaration is omitted } else { // … } return date; } catch (e) { } }Code 8-39. Recommended usage example scwin.getDay = function(pYmd, format) { Try { var date = -1; // Without omitting var, // set a value that date cannot have as an initial value, // store the formula result according to the case, and return it. if (pYmd.length > 8) {           pYmd = pYmd.substring(0, 8); } if (typeof format !== \"undefined\" && format !== \"\" && util.getBoolean(format)) {            date = WebSquare.date.getDay(pYmd); } else { // … } return date; } catch (e) { } } 8.3.9Common Code Lookup There are common codes (or coded data) such as SelectBox or CheckBox on each business page. Common code like this needs to look up the business page's data before loading it.\n",
      "\n",
      "###\n",
      "\n",
      "Figure 13-114.showToday=\"true\" example file Download from the Internet or view in the GUIDE project of WEBSQUARE_DEV_PACK (/InputCalendar/showToday_InputCalendar.xml) Figure 13-115.YouTube video (https://youtu.be/PBOW9xKzEpM) 13.12.8 Year and month selection 13.12.8.1 Year and month selection method setting (pickerType) Method of selecting year and month in the calendar through the pickerType property Figure 13-116.pickerType=\"selectbox\" (default)) Figure 13-117.pickerType=\"dynamic\" Example file downloaded from the Internet or viewed in the GUIDE project of WEBSQUARE_DEV_PACK (/InputCalendar/pickerType_InputCalendar.xml) Figure 13-118.YouTube video (https://youtu.be/PUwerF67bzs) 13.12.8.2 Setting the display order of years and months (dynamicHeaderOrder) If pickerType=\"dynamic\", set the display order of years and months in the calendar header part to the dynamicHeaderOrder property. It can be set through dynamicHeaderOrder: Determines the label order of the header part when pickerType=\"dynamic\". \"month\" (default) : Output in month-year order. \"year\" : Output in year-month order. Figure 13-119.pickerType=\"dynamic\" Figure 13-120.dynamicHeaderOrder=\"month\" Example file downloaded from the Internet or viewed in the GUIDE project of WEBSQUARE_DEV_PACK (/InputCalendar/pickerType_dynamicHeaderOrder_InputCalendar.xml )Figure 13-121.YouTube video (https://youtu.be/mdRM__Fl_zA)13.12.9Setting the number of weeks to display Through the visibleWeekNum property, you can set the number of weeks to display in the calendar. Figure 13-122.visibleWeekNum=\"10\"Example file downloaded from the Internet or viewed in the GUIDE project of WEBSQUARE_DEV_PACK (/InputCalendar/visibleWeekNum_InputCalendar.xml) Figure 13-123.YouTube video (https://youtu.be/5OYRmiYI8Cw) 13.12. 10 Display Days of the Week as Text or Images (displayDayType) Using the displayDayType property, you can select whether to display the days of the week in text or image form.\n",
      "\n",
      "###\n",
      "\n",
      "12.7.3.1 Utility code 12-10.Utility var curDate = $p.getCurrentServerDate('yyyy-MM-dd'); // Example of getting today's date from WAS 12.7.3.2UI Object Code 12-11.UI Objectinputbox1.setValue(\"WebSquare\"); // Set the value of the component corresponding to the ID of \"inputbox1\" to \"WebSquare\" 12.7.3.3 Data object code 12-12.Data object curRowDataObj = datalist1.getRowJSON(0); //After accessing the DataCollection object (DataList) corresponding to the ID of \"datalis1\", //Example of pulling out the data in the 0th row. YouTube video (https://youtu.be/uvP7ZkEogRc)..\n",
      "\n",
      "###\n",
      "\n",
      "80 websquare html websquare.date WebSquare.date.html. WebSquare.date Look for PropertyEventMethod WebSquare.date - 5.0_5.4826M.20230213.171915 Provides API for date and time management. Type engine Property Summary Event Summary Method Summary dateAdd( day1 , offset ) Add a specified number to a date dateDiff( day1 , day2 ) Return the difference between two dates dateTimeAdd( day1 , offset , type ) Add a specified number to a date and time Add.( date + offset ) getCurrentServerDate( pattern ) Returns the current time of the server. getDay( dateFormatStr ) Receives a date in \"yyyyMMdd\" format and returns the corresponding day. getFormattedDate( dateObj , pattern ) Receives a Date object and returns the time in the specified format. getIOFormatDate( value , ioFormat , calendarValueType ) Receives a date value, ioFormat and calendarValueType getIOUnFormatDate( value , ioFormat , calendarValueType ) Receives a date value, ioFormat and calendarValueType getMaxMinYear( ) Objects containing maxYear and minYear properties for each calendarValueType Returns isValidDate( obj , sDate ) Receives a date value in \"yyyyMMdd\" format and checks whether it is a valid date and returns a boolean parseDate( str , format ) Converts the date format format to Date toLunar( solar ) Returns a \"yyyyMMdd\" format Receives a solar date as input and returns a string of the corresponding lunar date toSolar( solar ) Takes a lunar date in the form of \"yyyyMMdd\" and returns a string of the corresponding solar date toTimestampString( dateObj ) java Property Detail Event Detail Method Detail dateAdd( day1 , offset ) Adds the specified number to the date.( date + offset ) Parameter nametyperequireddescription day1StringYThe specified date offsetNumberYThe number to add to the date Return typedescription StringThe date added by the specified number Sample var addDate = WebSquare.date.dateAdd( 20120102, 7 ); //addDate : 20120109 dateDiff( day1 , day2 ) Returns the difference between two dates.\n",
      "\n",
      "###\n",
      "\n",
      "80 websquare guide Web Accessibility OPS chapter 08.html. Calendar8.Calendar8.1CalendarIt is a component that shows the calendar and provides the ability to select a date. To support accessibility, set renderType=\"native\", keepFocusSelect=\"true\", footerDiv=\"true\", Clearly describe the title attribute, caption, and summary<Check Point>√ Are renderType=\"native\", keepFocusSelect=\"true\", footerDiv=\"true\" set? √ Does the focus by the keyboard move logically? √ Does the outline of the focus state appear clearly? √ Did you provide an appropriate caption and summary? (In case of html5, only caption is provided) Related instructions: 2.1.1. Ensuring keyboard use, 2.1.2. Shift focus, 3.2.1. Execution according to user needs, 3.3.2. Structure of the table<Xml source><w2:calendar id=\"\" style=\"\" renderType=\"native\" footerDiv=\"true\" keepFocusSelect=\"true\" summary=\"Calendar:Select the desired date.\" caption=\"Calendar\"></w2:calendar> .\n",
      "\n",
      "###\n",
      "\n",
      "80 websquare guide Developer Guide OPS chapter 08.html. Performance improvement guide 8. Performance improvement guide 8.1 Code analysis 8.1.1 Global variables Check for unintentional global variable declarations. If you create a variable without a var declaration, a global variable is created. If a variable that is only needed inside a function is declared as global, it can be referenced even after the function exits, which can cause a memory leak. Code 8-1. length > 8) { pYmd = pYmd.substring(0, 8); } if (typeof format !== \"undefined\" && format !== \"\" && WebSquare.util.getBoolean(format)) { date = WebSquare.date.getDay(pYmd); //date is used as a global variable because the var declaration is omitted } else { … } return date; } catch (e) { } } Code 8-2. After modification scwin.getDay = function(pYmd, format) { try { var date = -1; // Without omitting var, set a value that date cannot have as an initial value, // Save the formula result according to the case, and return it. if (pYmd. length > 8) { pYmd = pYmd. substring(0, 8); } if (typeof format !== \"undefined\" && format !== \"\" && WebSquare.util.getBoolean(format)) { date = WebSquare.date.getDay(pYmd); } else { … } return date; } catch (e) { } }8.1.2Object Check whether the appropriate API is used and the formula type. . (memory saving) The API referenced by IFrame is created as an API that returns a String of top. (The return value is a string copied through slice(0).) Create a single String by using the API in IFrame of the characters allowable in the column value. Get one char from the column value and check if it exists in the available character String. .8.1.8 Passing Popup Parameters Do not use return values ​​of Object type other than String. Depending on the browser, memory leaks can occur.\n",
      "\n",
      "\n",
      "\n"
     ]
    },
    {
     "data": {
      "text/plain": [
       "\"I don't know.\""
      ]
     },
     "execution_count": 29,
     "metadata": {},
     "output_type": "execute_result"
    }
   ],
   "source": [
    "answer_question(df_en, question=\"What day is it?\", debug=True)"
   ]
  },
  {
   "cell_type": "code",
   "execution_count": 32,
   "metadata": {},
   "outputs": [
    {
     "data": {
      "text/plain": [
       "\"I don't know.\""
      ]
     },
     "execution_count": 32,
     "metadata": {},
     "output_type": "execute_result"
    }
   ],
   "source": [
    "answer_question(df_ko, question=\"What is our newest embeddings model?\", debug=False)"
   ]
  },
  {
   "cell_type": "code",
   "execution_count": 31,
   "metadata": {
    "scrolled": true
   },
   "outputs": [
    {
     "data": {
      "text/plain": [
       "\"I don't know.\""
      ]
     },
     "execution_count": 31,
     "metadata": {},
     "output_type": "execute_result"
    }
   ],
   "source": [
    "answer_question(df_en, question=\"What is our newest embeddings model?\", debug=False)"
   ]
  },
  {
   "cell_type": "code",
   "execution_count": 33,
   "metadata": {},
   "outputs": [
    {
     "data": {
      "text/plain": [
       "'GridView에서 엑셀을 다운로드하려면 advancedExcelDownload 함수를 사용해야 합니다. 함수를 호출할 때 다양한 옵션을 설정할 수 있으며, 예제 파일이나 WEBSQUARE_DEV_PACK의 GUIDE 프로젝트에서 확인할 수 있습니다.'"
      ]
     },
     "execution_count": 33,
     "metadata": {},
     "output_type": "execute_result"
    }
   ],
   "source": [
    "answer_question(df_ko, question=\"gridView에서 엑셀을 다운로드하려면?\", debug=False)"
   ]
  },
  {
   "cell_type": "code",
   "execution_count": 34,
   "metadata": {
    "scrolled": true
   },
   "outputs": [
    {
     "name": "stdout",
     "output_type": "stream",
     "text": [
      "599 0.1710800290087302 }; gridView1.advancedExcelDownload(options);Example fileDownload from internet or view in GUIDE project of WEBSQUARE_DEV_PACK (/GridView/Excel/advancedExcelDownload_type_GridView.xml) Figure 31-11.YouTube video (https://youtu.be/D8jt37CoAYY)31.1.1.11 Specify the type of data (value or label) to be downloaded by column If the inputType of the GridView column is \"select\", \"autoComplete\", or \"checkcombobox\", you can specify which value to download between value and label for each column. Example of using code 31-13.options.Type and options.convertIndex var options = { type: \"0\" // download value value. convertIndex: \"0,2\" // However, the column with index 0 and column with index 2 downloads the label value. }; gridView1.advancedExcelDownload(options);Example fileDownload from Internet or view in GUIDE project of WEBSQUARE_DEV_PACK (/GridView/Excel/advancedExcelDownload_type_convertIndex_GridView.xml) Figure 31-12.YouTube video (https://youtu.be/UxauFsASseU)31.1.1.12 Remove white space from Excel file When you download GridView to Excel file using advancedExcelDownload() function, you can remove white space contained in each cell of GridView. Code 31-14. Example usage var options = { ...\n",
      "600 0.17691997097250867 trim: true }; gridView1.advancedExcelDownload(options);Example fileDownload from internet or view in GUIDE project of WEBSQUARE_DEV_PACK (/GridView/Excel/advancedExcelDownload_trim_GridView.xml) Figure 31-13.YouTube video (https://youtu.be/A-F4r2LCwmI)31.1 .1.13 Error Code When downloading a GridView as an Excel file via the advancedExcelDownload() function, the error displayed is as follows: Table 31-3.Added Error Codes Code Description \"D201\"IExternalGridDataProvider ClassNotFoundException\"D202\"IExternalGridDataProvider dataProvider linkage data creation Error \"D203\"Setting initialization error\"D204\"splitProvider ClassNotFoundException\"D205\"splitProvider linkage data creation error\"D206\"Mobile Data linkage processing error\"D207\"Invalid XML format (xml is null)\"D208\"DataXMLProvider linkage error\"D301\" Error while creating Excel\"D302\"Error while outputting infoArr (title, etc.)\"D303\"Error while creating header\"D401\"Error linking splitProvider\"D402\"Error creating body\"D501\"Error creating subtotal\"D502\"Error creating subtotal UI data Error \"D601\" Error while creating footer \"D701\" Error while outputting log \"D702\" Error while setting password \"D703\" Error while creating chart \"D704\" Error while processing Excel freeze \"D705\" DescHandler Error in processing log connection ClassNotFoundException \"D706\" DescHandler Log connection processing error \"D999\" Unexpected excel download error 31.1.2 Excel upload → GridView Table 31-4. Feature DescriptionDescriptionUpload Excel, CVS, Hancell, Nexell file to GridView Save grid contents as Excel file Express Excel file contents as grid Related APIadvancedExcelUpload Figure 31-14.YouTube video (https://youtu.be/b62m9Ppr710) 31.1.2.1 Specifying Columns to Exclude You can specify the columns of the Excel file to be excluded from uploading using the removeColumns option of the advanedExcelUpload function as shown below. Code 31-15.Example usage scwin.trigger1_onclick = function(e) { var opt = {}; ... opt.removeColumns = \"0, 1, 2\"; // Upload excluding columns with indexes 0, 1, and 2. ...\n",
      "598 0.17971980528872766 Example fileDownload from Internet or view in GUIDE project of WEBSQUARE_DEV_PACK (/GridView/Excel/excelFormat_gridView_column.xml) Figure 31-8.YouTube video (https://youtu.be/vFo-uXLpHbs)31.1.1.9.2 Display format ( When downloading an Excel file through the advancedExcelDownload() function of excelFormatter)GridView, you can specify a user function to be executed to apply formatting to the column in the Excel file. Set the corresponding function name as the value of the excelFormatter property of gridView.column. However, you must implement the corresponding user function yourself. Example file Download from the Internet or view in the GUIDE project of WEBSQUARE_DEV_PACK (/GridView/Excel/excelFormatter_gridView_column/) Figure 31-9.YouTube video (https://youtu.be/4SEWyOMmfvY) 31.1.1.9.3Supporting numeric operations When downloading a GridView with inputType=\"custom\" and cells with dataType=\"number\" (or \"bigDecimal\") as an Excel file, convert the cell data into numbers in the downloaded Excel file. Recognizes and can support numeric operations. Add option setting options.customToDataType=\"true\" when using advancedExcelDownload() function. Code 31-11. Example usage var options = {}; options.fileName = \"test.xlsx\"; options.customToDataType = \"true\"; gridView1.advancedExcelDownload( options );Example fileDownload from Internet or view in GUIDE project of WEBSQUARE_DEV_PACK (/GridView/Excel/advancedExcelDownload_customToDataType_GridView/) Figure 31-10.YouTube video (https://youtu.be/5S247ShXA9g)31.1.1.10Download Specify the type of data (value or label) to be downloaded for the entire GridView When the inputType of the GridView column is \"select\", \"autoComplete\", or \"checkcombobox\", you can select which value to download between the value value and the label value. Code 31-12.options.Type usage example var options = { type: \"0\" // value Download value. // type: \"1\" // Download the label value.\n",
      "603 0.1858151608737505 }; gridView1.advancedExcelUpload(options);Example fileDownload from internet or view in GUIDE project of WEBSQUARE_DEV_PACK (/GridView/Excel/advancedExcelUpload_trim_GridView/) Figure 31-24.YouTube video (https://youtu.be/YvEkki38gz8)31.1.2.10 Decimal point Uploading Data If the Excel file stores decimal data with “Normal” display format, adding the options.applyDecimal=\"1\" option allows you to upload the Excel file to the GridView by specifying the number of rounding digits (options.decimal). Code 31-26. Example usage var options = {}; options.headerExist = \"1\"; options.decimal = \"3\"; options.applyDecimal = \"1\"; gridView1.advancedExcelUpload(options); Figure 31-25.Exceldml Example file when display format is \"Normal\"Download from Internet or view in GUIDE project of WEBSQUARE_DEV_PACK (/GridView/Excel/advancedExcelUpload_decimal_applyDecimal_GridView/)Figure 31-26.YouTube video ( https://youtu.be/1kVpL-Nw3hc)31.1.3 GridView → Download CSV You can download Gridview data to a CSV file using the saveCSV() function. 31.1.4 Upload CSV → CSV using the GridViewreadCSV() function. can be uploaded to GridView.31.1.4.1 Create CSV upload window with WFram readCSV(options); You can use a function to create a CSV upload window as a WFrame and specify the properties of the upload window.code 31-27.gridView1.readCSV(options);var options = { wframe: true, name: \"Upload CSV\", features: \" top=20,left=500,width=500,height=200\", className: \"border\", resizable: false, windowDragMove: true }; gridView1.readCSV(options);Example fileDownload from internet or view in GUIDE project of WEBSQUARE_DEV_PACK (/GridView/Excel/readCSV_wframe_features_className_GridView.xml) Figure 31-27.YouTube video (https://youtu.be/9xsDR6xp0NU)31.1.5GridView Multiple → Excel Download The Websquare.util.multipleExcelDownload() function allows you to save data from multiple grids into separate Excel files or sheets. If the Page includes a WFrame, the GridView included in the WFrame's source Page can also be downloaded.\n",
      "606 0.1903691176816097 Usage examplevar scId = \"\";var options = { common: { fileName: \"dataList.xlsx\", multipleSheet: \"true\", showProcess: true, processMsg: \"Downloading as an Excel file...\" }, excelInfo : [{ dataListId: \"dataList1\", sheetName: \"dataList1\", removeColumns: \"\", wframeId: scId }, { dataListId: \"dataList2\", sheetName: \"dataList2\", removeColumns: \"\", wframeId: scId } ] }; WebSquare.util.multipleDataListDownload(options);Example fileDownload from Internet or view in GUIDE project of WEBSQUARE_DEV_PACK (/_WebSquare.util/multipleDataListDownload_showProcess_processMsg_WebSquare_util.xml) Figure 31-33.YouTube video (https://youtu.be/p7ANqe-n_UM )31.4 Summary Table 31-5. Summary of Related APIs Component API Description GridViewadvancedExcelDownload ()GridView → Download ExceladvancedExcelUpload()Upload Excel → GridViewsaveCSV()GridView → Download CSVreadCSV()Upload CSV → GridViewPivotpivotExcelDownload()Pivot → Download ExcelpivotExcelUpload()Upload Excel → PivotpivotCSVDownloadCSV()Pivot → Download CSVpivotCSVUploadCSV()Upload CSV → PivotWebSquare.utilmultipleDatalistDownload()GridView multiple → Excel downloadmultipleExcelDownload()DataList multiple → Excel download..\n",
      "1178 0.19322094993414773 var data = gridView1.getGroupbyData(false);Example fileDownload from Internet or view from WEBSQUARE_DEV_PACK (/GridView/Grouping/getGroupbyData_GridView.xml) Figure 8-59YouTube video (https://youtu.be/8QHBOsQZ4VQ) 19.27.Function (Data Download as XML / N/A)19.27.1.saveFile()Table 19-74.saveFile() Separator function added.DescriptionDownload GridView data as XML.Private functionsaveFile() function is currently private.19.28.Function ( Reflect start index of Excel download data in SAX mode / WESD-604)19.28.1.advancedExcelDownload() − options.ignoreStartRowIndexInSAX When downloading to a file, the data also starts in the Excel file at the same point as the row where the data started in the GridView. options.ignoreStartRowIndexInSAX0 : Do not consider row index where data starts. 1: Consider the row index where the data starts.Related optionsoptions.loadingMode=\"SAX\" 19.28.2.advancedExcelDownload() − options.ignoreStartColumnIndexInSAXTable 19-76.advancedExcelDownload() – options.ignoreStartColumnIndexInSAX SeparationadvancedExcelDownload() function option added .Description When downloading the GridView to an Excel file, the data also starts in the Excel file at the same point as the column where the data started in the GridView. options.ignoreStartColumnIndexInSAX0 : Do not consider column index where data starts. 1: Consider column index where data starts.Related optionsoptions.loadingMode=\"SAX\" 19.29.Function (Consider disabled or readOnly cells when header checkbox is selected / WESD-600) 19.29.1.checkAllTypeTable 19-77. When the checkAllType header is inputType=\"checkbox\" and there are disabled or readOnly cells in the corresponding column, if the header check box is selected, disabled or readOnly cells are included in the cell state determination (\"include\" ) do not. Exclude corresponding cells from cell state determination (\"exclude\"). Description\"include\" (default value): Disabled or readOnly cells are included in cell state determination. \"exclude\" : Exclude disabled or readOnly cells from the cell state. In the example below, two rows are not selected, and the state of these two rows is included (\"included\") in the cell state determination.\n",
      "597 0.1960254765132139 80 websquare guide SP4 User Guide OPS chapter 31.html. . (Error occurs when POI 3.9 is used.) Only xlsx extension (Excel 97 or later) is supported. (xls is not supported.) pwd must be encoded in BASE64 format. 31.1.1.7 Limit download size You can limit the size of data to be downloaded as an Excel file through the advancedExcelDownload function. Related optionsoptions.maxCellCount: Download as an Excel file The maximum number of cells available options.maxRowCount: The maximum number of rows that can be downloaded as an Excel file. If the GridView exceeds the maximum number of cells or rows, the download request is not transmitted to the server and the following notification message is displayed. Figure 31 -6. Notification message (Example) 31.1.1.8 Formatting in Excel file options.useDataFormat: Data to be output in the downloaded Excel file when the GridView is downloaded as an Excel file through the advancedExcelDownload() function using the \"true\" setting. The display format (cell type) can be specified through the excelCellType property of the columns of Body, SubTotal, and Footer.excelCellType\"number\" : Output as \"number\" in Excel. .\"text\" : Output as \"text\" in Excel.\"date\" : Output as \"date\" in Excel.Code 31-10.advancedExcelDownload(); Usage examplevar options = { useDataFormat: true, //useSubTotal: true, //useFooter: true }; gridView1.advancedExcelDownload(options);Example fileDownload from internet or view in GUIDE project of WEBSQUARE_DEV_PACK (/GridView/Excel/excelCellType_gridView_column.xml) Figure 31-7.YouTube video (https://youtu.be/bhtHwu1yiOQ)31.1.1.9 Excel Format 31.1.1.9.1 Display Format (excelFormat) When GridView is downloaded as an Excel file through the advancedExcelDownload() function, the display type of the data to be applied on the downloaded Excel file can be specified through the excelFormat property of gridView.column.\n",
      "Context:\n",
      "}; gridView1.advancedExcelDownload(options);Example fileDownload from internet or view in GUIDE project of WEBSQUARE_DEV_PACK (/GridView/Excel/advancedExcelDownload_type_GridView.xml) Figure 31-11.YouTube video (https://youtu.be/D8jt37CoAYY)31.1.1.11 Specify the type of data (value or label) to be downloaded by column If the inputType of the GridView column is \"select\", \"autoComplete\", or \"checkcombobox\", you can specify which value to download between value and label for each column. Example of using code 31-13.options.Type and options.convertIndex var options = { type: \"0\" // download value value. convertIndex: \"0,2\" // However, the column with index 0 and column with index 2 downloads the label value. }; gridView1.advancedExcelDownload(options);Example fileDownload from Internet or view in GUIDE project of WEBSQUARE_DEV_PACK (/GridView/Excel/advancedExcelDownload_type_convertIndex_GridView.xml) Figure 31-12.YouTube video (https://youtu.be/UxauFsASseU)31.1.1.12 Remove white space from Excel file When you download GridView to Excel file using advancedExcelDownload() function, you can remove white space contained in each cell of GridView. Code 31-14. Example usage var options = { ...\n",
      "\n",
      "###\n",
      "\n",
      "trim: true }; gridView1.advancedExcelDownload(options);Example fileDownload from internet or view in GUIDE project of WEBSQUARE_DEV_PACK (/GridView/Excel/advancedExcelDownload_trim_GridView.xml) Figure 31-13.YouTube video (https://youtu.be/A-F4r2LCwmI)31.1 .1.13 Error Code When downloading a GridView as an Excel file via the advancedExcelDownload() function, the error displayed is as follows: Table 31-3.Added Error Codes Code Description \"D201\"IExternalGridDataProvider ClassNotFoundException\"D202\"IExternalGridDataProvider dataProvider linkage data creation Error \"D203\"Setting initialization error\"D204\"splitProvider ClassNotFoundException\"D205\"splitProvider linkage data creation error\"D206\"Mobile Data linkage processing error\"D207\"Invalid XML format (xml is null)\"D208\"DataXMLProvider linkage error\"D301\" Error while creating Excel\"D302\"Error while outputting infoArr (title, etc.)\"D303\"Error while creating header\"D401\"Error linking splitProvider\"D402\"Error creating body\"D501\"Error creating subtotal\"D502\"Error creating subtotal UI data Error \"D601\" Error while creating footer \"D701\" Error while outputting log \"D702\" Error while setting password \"D703\" Error while creating chart \"D704\" Error while processing Excel freeze \"D705\" DescHandler Error in processing log connection ClassNotFoundException \"D706\" DescHandler Log connection processing error \"D999\" Unexpected excel download error 31.1.2 Excel upload → GridView Table 31-4. Feature DescriptionDescriptionUpload Excel, CVS, Hancell, Nexell file to GridView Save grid contents as Excel file Express Excel file contents as grid Related APIadvancedExcelUpload Figure 31-14.YouTube video (https://youtu.be/b62m9Ppr710) 31.1.2.1 Specifying Columns to Exclude You can specify the columns of the Excel file to be excluded from uploading using the removeColumns option of the advanedExcelUpload function as shown below. Code 31-15.Example usage scwin.trigger1_onclick = function(e) { var opt = {}; ... opt.removeColumns = \"0, 1, 2\"; // Upload excluding columns with indexes 0, 1, and 2. ...\n",
      "\n",
      "###\n",
      "\n",
      "Example fileDownload from Internet or view in GUIDE project of WEBSQUARE_DEV_PACK (/GridView/Excel/excelFormat_gridView_column.xml) Figure 31-8.YouTube video (https://youtu.be/vFo-uXLpHbs)31.1.1.9.2 Display format ( When downloading an Excel file through the advancedExcelDownload() function of excelFormatter)GridView, you can specify a user function to be executed to apply formatting to the column in the Excel file. Set the corresponding function name as the value of the excelFormatter property of gridView.column. However, you must implement the corresponding user function yourself. Example file Download from the Internet or view in the GUIDE project of WEBSQUARE_DEV_PACK (/GridView/Excel/excelFormatter_gridView_column/) Figure 31-9.YouTube video (https://youtu.be/4SEWyOMmfvY) 31.1.1.9.3Supporting numeric operations When downloading a GridView with inputType=\"custom\" and cells with dataType=\"number\" (or \"bigDecimal\") as an Excel file, convert the cell data into numbers in the downloaded Excel file. Recognizes and can support numeric operations. Add option setting options.customToDataType=\"true\" when using advancedExcelDownload() function. Code 31-11. Example usage var options = {}; options.fileName = \"test.xlsx\"; options.customToDataType = \"true\"; gridView1.advancedExcelDownload( options );Example fileDownload from Internet or view in GUIDE project of WEBSQUARE_DEV_PACK (/GridView/Excel/advancedExcelDownload_customToDataType_GridView/) Figure 31-10.YouTube video (https://youtu.be/5S247ShXA9g)31.1.1.10Download Specify the type of data (value or label) to be downloaded for the entire GridView When the inputType of the GridView column is \"select\", \"autoComplete\", or \"checkcombobox\", you can select which value to download between the value value and the label value. Code 31-12.options.Type usage example var options = { type: \"0\" // value Download value. // type: \"1\" // Download the label value.\n",
      "\n",
      "###\n",
      "\n",
      "}; gridView1.advancedExcelUpload(options);Example fileDownload from internet or view in GUIDE project of WEBSQUARE_DEV_PACK (/GridView/Excel/advancedExcelUpload_trim_GridView/) Figure 31-24.YouTube video (https://youtu.be/YvEkki38gz8)31.1.2.10 Decimal point Uploading Data If the Excel file stores decimal data with “Normal” display format, adding the options.applyDecimal=\"1\" option allows you to upload the Excel file to the GridView by specifying the number of rounding digits (options.decimal). Code 31-26. Example usage var options = {}; options.headerExist = \"1\"; options.decimal = \"3\"; options.applyDecimal = \"1\"; gridView1.advancedExcelUpload(options); Figure 31-25.Exceldml Example file when display format is \"Normal\"Download from Internet or view in GUIDE project of WEBSQUARE_DEV_PACK (/GridView/Excel/advancedExcelUpload_decimal_applyDecimal_GridView/)Figure 31-26.YouTube video ( https://youtu.be/1kVpL-Nw3hc)31.1.3 GridView → Download CSV You can download Gridview data to a CSV file using the saveCSV() function. 31.1.4 Upload CSV → CSV using the GridViewreadCSV() function. can be uploaded to GridView.31.1.4.1 Create CSV upload window with WFram readCSV(options); You can use a function to create a CSV upload window as a WFrame and specify the properties of the upload window.code 31-27.gridView1.readCSV(options);var options = { wframe: true, name: \"Upload CSV\", features: \" top=20,left=500,width=500,height=200\", className: \"border\", resizable: false, windowDragMove: true }; gridView1.readCSV(options);Example fileDownload from internet or view in GUIDE project of WEBSQUARE_DEV_PACK (/GridView/Excel/readCSV_wframe_features_className_GridView.xml) Figure 31-27.YouTube video (https://youtu.be/9xsDR6xp0NU)31.1.5GridView Multiple → Excel Download The Websquare.util.multipleExcelDownload() function allows you to save data from multiple grids into separate Excel files or sheets. If the Page includes a WFrame, the GridView included in the WFrame's source Page can also be downloaded.\n",
      "\n",
      "###\n",
      "\n",
      "Usage examplevar scId = \"\";var options = { common: { fileName: \"dataList.xlsx\", multipleSheet: \"true\", showProcess: true, processMsg: \"Downloading as an Excel file...\" }, excelInfo : [{ dataListId: \"dataList1\", sheetName: \"dataList1\", removeColumns: \"\", wframeId: scId }, { dataListId: \"dataList2\", sheetName: \"dataList2\", removeColumns: \"\", wframeId: scId } ] }; WebSquare.util.multipleDataListDownload(options);Example fileDownload from Internet or view in GUIDE project of WEBSQUARE_DEV_PACK (/_WebSquare.util/multipleDataListDownload_showProcess_processMsg_WebSquare_util.xml) Figure 31-33.YouTube video (https://youtu.be/p7ANqe-n_UM )31.4 Summary Table 31-5. Summary of Related APIs Component API Description GridViewadvancedExcelDownload ()GridView → Download ExceladvancedExcelUpload()Upload Excel → GridViewsaveCSV()GridView → Download CSVreadCSV()Upload CSV → GridViewPivotpivotExcelDownload()Pivot → Download ExcelpivotExcelUpload()Upload Excel → PivotpivotCSVDownloadCSV()Pivot → Download CSVpivotCSVUploadCSV()Upload CSV → PivotWebSquare.utilmultipleDatalistDownload()GridView multiple → Excel downloadmultipleExcelDownload()DataList multiple → Excel download..\n",
      "\n",
      "###\n",
      "\n",
      "var data = gridView1.getGroupbyData(false);Example fileDownload from Internet or view from WEBSQUARE_DEV_PACK (/GridView/Grouping/getGroupbyData_GridView.xml) Figure 8-59YouTube video (https://youtu.be/8QHBOsQZ4VQ) 19.27.Function (Data Download as XML / N/A)19.27.1.saveFile()Table 19-74.saveFile() Separator function added.DescriptionDownload GridView data as XML.Private functionsaveFile() function is currently private.19.28.Function ( Reflect start index of Excel download data in SAX mode / WESD-604)19.28.1.advancedExcelDownload() − options.ignoreStartRowIndexInSAX When downloading to a file, the data also starts in the Excel file at the same point as the row where the data started in the GridView. options.ignoreStartRowIndexInSAX0 : Do not consider row index where data starts. 1: Consider the row index where the data starts.Related optionsoptions.loadingMode=\"SAX\" 19.28.2.advancedExcelDownload() − options.ignoreStartColumnIndexInSAXTable 19-76.advancedExcelDownload() – options.ignoreStartColumnIndexInSAX SeparationadvancedExcelDownload() function option added .Description When downloading the GridView to an Excel file, the data also starts in the Excel file at the same point as the column where the data started in the GridView. options.ignoreStartColumnIndexInSAX0 : Do not consider column index where data starts. 1: Consider column index where data starts.Related optionsoptions.loadingMode=\"SAX\" 19.29.Function (Consider disabled or readOnly cells when header checkbox is selected / WESD-600) 19.29.1.checkAllTypeTable 19-77. When the checkAllType header is inputType=\"checkbox\" and there are disabled or readOnly cells in the corresponding column, if the header check box is selected, disabled or readOnly cells are included in the cell state determination (\"include\" ) do not. Exclude corresponding cells from cell state determination (\"exclude\"). Description\"include\" (default value): Disabled or readOnly cells are included in cell state determination. \"exclude\" : Exclude disabled or readOnly cells from the cell state. In the example below, two rows are not selected, and the state of these two rows is included (\"included\") in the cell state determination.\n",
      "\n",
      "###\n",
      "\n",
      "80 websquare guide SP4 User Guide OPS chapter 31.html. . (Error occurs when POI 3.9 is used.) Only xlsx extension (Excel 97 or later) is supported. (xls is not supported.) pwd must be encoded in BASE64 format. 31.1.1.7 Limit download size You can limit the size of data to be downloaded as an Excel file through the advancedExcelDownload function. Related optionsoptions.maxCellCount: Download as an Excel file The maximum number of cells available options.maxRowCount: The maximum number of rows that can be downloaded as an Excel file. If the GridView exceeds the maximum number of cells or rows, the download request is not transmitted to the server and the following notification message is displayed. Figure 31 -6. Notification message (Example) 31.1.1.8 Formatting in Excel file options.useDataFormat: Data to be output in the downloaded Excel file when the GridView is downloaded as an Excel file through the advancedExcelDownload() function using the \"true\" setting. The display format (cell type) can be specified through the excelCellType property of the columns of Body, SubTotal, and Footer.excelCellType\"number\" : Output as \"number\" in Excel. .\"text\" : Output as \"text\" in Excel.\"date\" : Output as \"date\" in Excel.Code 31-10.advancedExcelDownload(); Usage examplevar options = { useDataFormat: true, //useSubTotal: true, //useFooter: true }; gridView1.advancedExcelDownload(options);Example fileDownload from internet or view in GUIDE project of WEBSQUARE_DEV_PACK (/GridView/Excel/excelCellType_gridView_column.xml) Figure 31-7.YouTube video (https://youtu.be/bhtHwu1yiOQ)31.1.1.9 Excel Format 31.1.1.9.1 Display Format (excelFormat) When GridView is downloaded as an Excel file through the advancedExcelDownload() function, the display type of the data to be applied on the downloaded Excel file can be specified through the excelFormat property of gridView.column.\n",
      "\n",
      "\n",
      "\n"
     ]
    },
    {
     "data": {
      "text/plain": [
       "'advancedExcelDownload() 함수를 사용해야 한다.'"
      ]
     },
     "execution_count": 34,
     "metadata": {},
     "output_type": "execute_result"
    }
   ],
   "source": [
    "answer_question(df_en, question=\"gridView에서 엑셀을 다운로드하려면?\", debug=True)"
   ]
  },
  {
   "cell_type": "code",
   "execution_count": 35,
   "metadata": {
    "scrolled": true
   },
   "outputs": [
    {
     "data": {
      "text/plain": [
       "'interactionMode 속성을 true로 설정하여 사용자 입력에 따라 서버로부터 데이터를 동적으로 받아올 수 있습니다.'"
      ]
     },
     "execution_count": 35,
     "metadata": {},
     "output_type": "execute_result"
    }
   ],
   "source": [
    "answer_question(df_ko, question=\"autoComplete에서 항목을 서버에서 동적으로 조회하려면 어떤 속성이나 API를 이용해야 하나요?\", debug=False)"
   ]
  },
  {
   "cell_type": "code",
   "execution_count": 36,
   "metadata": {},
   "outputs": [
    {
     "data": {
      "text/html": [
       "<div>\n",
       "<style scoped>\n",
       "    .dataframe tbody tr th:only-of-type {\n",
       "        vertical-align: middle;\n",
       "    }\n",
       "\n",
       "    .dataframe tbody tr th {\n",
       "        vertical-align: top;\n",
       "    }\n",
       "\n",
       "    .dataframe thead th {\n",
       "        text-align: right;\n",
       "    }\n",
       "</style>\n",
       "<table border=\"1\" class=\"dataframe\">\n",
       "  <thead>\n",
       "    <tr style=\"text-align: right;\">\n",
       "      <th></th>\n",
       "      <th>text</th>\n",
       "      <th>n_tokens</th>\n",
       "      <th>embeddings</th>\n",
       "      <th>distances</th>\n",
       "    </tr>\n",
       "  </thead>\n",
       "  <tbody>\n",
       "    <tr>\n",
       "      <th>0</th>\n",
       "      <td>80 websquare html websquare.uiplugin.tabContro...</td>\n",
       "      <td>471</td>\n",
       "      <td>[-0.005918701644986868, 0.005215943790972233, ...</td>\n",
       "      <td>0.293231</td>\n",
       "    </tr>\n",
       "    <tr>\n",
       "      <th>1</th>\n",
       "      <td>When the noUseTitle tabScroll option is used, ...</td>\n",
       "      <td>494</td>\n",
       "      <td>[-0.01587953045964241, -0.0022740792483091354,...</td>\n",
       "      <td>0.305093</td>\n",
       "    </tr>\n",
       "    <tr>\n",
       "      <th>2</th>\n",
       "      <td>windowMaxNum [default:-1] If -1 is set as the ...</td>\n",
       "      <td>436</td>\n",
       "      <td>[-0.002756500383839011, -0.017225049436092377,...</td>\n",
       "      <td>0.319423</td>\n",
       "    </tr>\n",
       "    <tr>\n",
       "      <th>3</th>\n",
       "      <td>getGenerator( ) Returns the parent generator o...</td>\n",
       "      <td>492</td>\n",
       "      <td>[0.015154805965721607, 0.0009454326354898512, ...</td>\n",
       "      <td>0.309224</td>\n",
       "    </tr>\n",
       "    <tr>\n",
       "      <th>4</th>\n",
       "      <td>getWindow(idx) The window corresponding to the...</td>\n",
       "      <td>498</td>\n",
       "      <td>[0.004514731932431459, 0.007678211200982332, 0...</td>\n",
       "      <td>0.332876</td>\n",
       "    </tr>\n",
       "    <tr>\n",
       "      <th>...</th>\n",
       "      <td>...</td>\n",
       "      <td>...</td>\n",
       "      <td>...</td>\n",
       "      <td>...</td>\n",
       "    </tr>\n",
       "    <tr>\n",
       "      <th>2271</th>\n",
       "      <td>80 websquare guide Web Accessibility OPS chapt...</td>\n",
       "      <td>166</td>\n",
       "      <td>[-0.000825249298941344, 0.004164174199104309, ...</td>\n",
       "      <td>0.298591</td>\n",
       "    </tr>\n",
       "    <tr>\n",
       "      <th>2272</th>\n",
       "      <td>80 websquare guide Design Guide OPS chapter 75...</td>\n",
       "      <td>493</td>\n",
       "      <td>[-0.00515298917889595, 0.027659017592668533, -...</td>\n",
       "      <td>0.316834</td>\n",
       "    </tr>\n",
       "    <tr>\n",
       "      <th>2273</th>\n",
       "      <td>2 The object is a general html tag wrapped in ...</td>\n",
       "      <td>141</td>\n",
       "      <td>[0.00041239653364755213, 0.032250769436359406,...</td>\n",
       "      <td>0.312892</td>\n",
       "    </tr>\n",
       "    <tr>\n",
       "      <th>2274</th>\n",
       "      <td>80 websquare guide SP4 User Guide OPS chapter ...</td>\n",
       "      <td>495</td>\n",
       "      <td>[0.010581179521977901, 0.024358756840229034, 0...</td>\n",
       "      <td>0.289617</td>\n",
       "    </tr>\n",
       "    <tr>\n",
       "      <th>2275</th>\n",
       "      <td>In this case, you can expect the effect of imp...</td>\n",
       "      <td>123</td>\n",
       "      <td>[-0.002170291729271412, 0.018353303894400597, ...</td>\n",
       "      <td>0.241796</td>\n",
       "    </tr>\n",
       "  </tbody>\n",
       "</table>\n",
       "<p>2276 rows × 4 columns</p>\n",
       "</div>"
      ],
      "text/plain": [
       "                                                   text  n_tokens  \\\n",
       "0     80 websquare html websquare.uiplugin.tabContro...       471   \n",
       "1     When the noUseTitle tabScroll option is used, ...       494   \n",
       "2     windowMaxNum [default:-1] If -1 is set as the ...       436   \n",
       "3     getGenerator( ) Returns the parent generator o...       492   \n",
       "4     getWindow(idx) The window corresponding to the...       498   \n",
       "...                                                 ...       ...   \n",
       "2271  80 websquare guide Web Accessibility OPS chapt...       166   \n",
       "2272  80 websquare guide Design Guide OPS chapter 75...       493   \n",
       "2273  2 The object is a general html tag wrapped in ...       141   \n",
       "2274  80 websquare guide SP4 User Guide OPS chapter ...       495   \n",
       "2275  In this case, you can expect the effect of imp...       123   \n",
       "\n",
       "                                             embeddings  distances  \n",
       "0     [-0.005918701644986868, 0.005215943790972233, ...   0.293231  \n",
       "1     [-0.01587953045964241, -0.0022740792483091354,...   0.305093  \n",
       "2     [-0.002756500383839011, -0.017225049436092377,...   0.319423  \n",
       "3     [0.015154805965721607, 0.0009454326354898512, ...   0.309224  \n",
       "4     [0.004514731932431459, 0.007678211200982332, 0...   0.332876  \n",
       "...                                                 ...        ...  \n",
       "2271  [-0.000825249298941344, 0.004164174199104309, ...   0.298591  \n",
       "2272  [-0.00515298917889595, 0.027659017592668533, -...   0.316834  \n",
       "2273  [0.00041239653364755213, 0.032250769436359406,...   0.312892  \n",
       "2274  [0.010581179521977901, 0.024358756840229034, 0...   0.289617  \n",
       "2275  [-0.002170291729271412, 0.018353303894400597, ...   0.241796  \n",
       "\n",
       "[2276 rows x 4 columns]"
      ]
     },
     "execution_count": 36,
     "metadata": {},
     "output_type": "execute_result"
    }
   ],
   "source": [
    "df_en"
   ]
  },
  {
   "cell_type": "code",
   "execution_count": 37,
   "metadata": {},
   "outputs": [
    {
     "name": "stdout",
     "output_type": "stream",
     "text": [
      "736 0.2123424334489028 80 websquare guide Design Guide OPS chapter 17.html. AutoComplete17.AutoCompleteRevision Date Version (SP2)WebSquare5 Studio : 20180117_1349_x86_BWebSquare5 Engine : 5.0_2.2982B.20180223.154326_1.5 The AutoComplete component provides an auto-completion function according to the entered text. It is an extension component of SelectBox that auto-completes specific strings and A search function is provided, static data and dynamic data can be set, and the corresponding list can be retrieved from the server in real time using the Enter key or user key input. The main API is similar to SelectBox. 17.1PropertyPropertyDescriptionallowEmptySubmission[default:false , true] If the interactionMode property is true, whether to allow searching for empty strings or not animation Sets the animation of SP2itemtable. caseSensitive[default:true, false] Whether to distinguish English case when searching chooseOption[default:false,true] Whether to display optional items If the chooseOptionLabel property is not set, the label is set to \"-choice-\" and the value to \"\" (empty string).chooseOptionLabel Defines the text to be displayed in the label when the chooseOption property is set to true. It is referred to in the user-defined classdelimiter displayMode property and is a delimiter used when expressing value and label together. The value corresponding to \"delim\" of the displayMode property is the value defined in this property.direction[defulat:auto, down, up, fit] The opening direction of the item.disabledWhether to disable the component disableEdit SP2[default:false, true] Whether or not to enter edit mode when clicked and display only the list. Refers to the value defined in editType[default:select, focus] When the user clicks the component to focus on the input, selects the selected text (select) or moves the cursor to the end of the text (focus). emptyIndex The index of the item to be selected when autoComplete is drawn for the first time in SP2. If the emptyItem property is set to true and the emptyIndex property is set to -1, an empty value can be selected during initial loading. emptyItem SP2[default:false, true] Set with the same API as) Whether to set to empty label and empty value (empty string).\n",
      "883 0.22349977039329616 This means that if you open one panel after opening another, the first panel(s) you opened will remain open, not closed. EXAMPLE FILEDownload from the Internet or viewed in the GUIDE project of WEBSQUARE_DEV_PACK (/Accordion/independentPanel_Accordion.xml) Figure 13- 7.YouTube video (https://youtu.be/KHSd1h2JA6s) 13.3AutoComplete Table 13-3.Component description summary Component that extends the SelectBox function Provides an auto-completion function according to the input text Functions and features Case-sensitive (caseSensitive) Highlight input text (useKeywordHighlight)Support both keyword-included search and keyword match search (search)Main purposeKeyword input box for searchApplications26. Video related to components for selection AutoComplete Figure 13-8.AutoComplete Table 13-4.Main APIinteractionModeUsed when outputting a list of search words through an auto-completion function, such as the search function of major portals. Data is dynamically received from the server according to user input. Figure 13-9.caseSensitivie=\"true\" Figure 13-10.search = \"contain\" caseSensitive = \"true\" 13.3.1Selected item setting Double-click the AutoComplete component to directly input the selected item or bind to DataList or LinkedDataList. Figure 13-11.Selection settings 13.3.1.1 Direct input Figure 13-12.YouTube video (https://youtu.be/x40RQUFAS3c) 13.3.1.2 DataList and binding example files Downloaded from the Internet or from the GUIDE project of WEBSQUARE_DEV_PACK View (/AutoComplete/BindItemSet_allOption_chooseOption_chooseOptionLabel_AutoComplete.xml) Figure 13-13.YouTube video (https://youtu.be/n5T5uTVtJE4) 13.3.2 Choice guidance message You can use the chooseOption, chooseOptionLabel, and chooseOptionValue properties to set the choice guidance message. The following is the selection guide message displayed in the AutoComplete selection list when chooseOption=\"true\" and chooseOptionLabel=\"Select a fruit.\" can be changed to In addition, the showChooseOption() function can be used to dynamically show or hide the value of the chooseOptionLabel property.\n",
      "352 0.23315135634209705 If the byteCheckEncoding setting value of the config.xml file is euc-kr, Hangul is calculated as 2 bytes, and in case of UTF-8, it is calculated as 3 bytes. maxlength This is the maximum length that can be entered. If characters over maxLength are entered in the engine, it is automatically cut. When calling the minByteLength validate API, it is referred to when checking the minimum byte length in the engine. If the byteCheckEncoding setting value of the config.xml file is euc-kr, it is calculated as 2 bytes for Korean and 3 bytes for utf-8. When calling the minlength validate API, it is referred to when checking the minimum length in the engine. nextTabByEnter If nextTabID is specified, whether to move focus to nextTabID-component when Enter key is pressed. nextTabID When moving with the Tab key, the ID of the component to be selected when the Tab key is pressed. numberMask Masking value applied when dataType = \"number\" is set to change currency unit or when changeCurrency API is used. [default: \"\"] onFocusClass Class name to apply when onFocus. placeholder Provides the same function as HTML5 placeholder. Hint phrases to be notified to the user are specified. When the value of the InputBox is empty, the value set as the placeholder is displayed, and disappears as soon as a value is entered. Different browsers operate differently. (Example: In IE, the text disappears when focusing, but in Chrome, the text disappears when text is entered.) preventCopyPaste [default:false, true] Whether to prevent copy&paste for the component's value. readOnly [default:false, true] Provides the same function as the readonly attribute of HTML depending on readonly. readOnlyClass Class name to be applied in readOnly state. readOnlyFocusEvent [default:false, true] Whether to generate a focus event when the input object is readOnly. ref Key of DataMap or Column of DataList that is bound. It must be specified in the format of data:[DataCollection ID].[Key id or Column id] by adding \"data:\" prefix. When bound with DataList, the value of the row selected in the GridView is bound. (Example) When linking with data:dataMap1.dept data:dataList1.CityInstance Data, the XPath of the XML data to be linked must be specified.\n",
      "884 0.23389574473168062 Code 13-2.changeChooseOption() usage example autoComplete1.changeChooseOption(\"0\", \"Select one.\"); Example of using .showChooseOption() // Show the value defined by the chooseOptionLabel property in the choice list. autoComplete1.showChooseOption(true); // Do not display the value defined by the chooseOptionLabel property in the selection list. autoComplete1.showChooseOption(false);Example fileDownload from internet or view in GUIDE project of WEBSQUARE_DEV_PACK (/AutoComplete/showChooseOption_changeChooseOption_AutoComplete.xml) Figure 13-15.YouTube video (https://youtu.be/Hz_tUrOeOsY)13.3.3 Select some Hide Items When binding with a DataList to show selections, you can hide some selections based on the values ​​of specific columns in the bound DataList. FileDownload from internet or view in GUIDE project of WEBSQUARE_DEV_PACK (/AutoComplete/visibleColumn_visibleColumnFalseValue_setVisibleColumn_AutoComplete.xml) Figure 13-16.YouTube video (https://youtu.be/tw5OYIVIRHQ) 13.3.4Disabling some selected items Selected by binding with DataList When displaying items, you can hide some selected items based on the value of a specific column in the bound DataList. Figure 13-17. When a selected item is bound with a DataList You can disable specific items in the select list using the and enableColumnFalseValue properties.enableColumn: The column in the DataList to be consulted for whether to disable it.enableColumnFalseValue: Condition to disable. (The data value of the column referenced for deactivation.) The example below is a case where two items are deactivated and displayed. .xml) Figure 13-19.YouTube video (https://youtu.be/7jwLEOi3GY4) 13.3.4.2 Dynamic setting via function (setEnableColumn()) The setEnableColumn() function can be used to disable specific items in the selection list. Code 13-4. Example usage autoComplete1.setEnableColumn(\"Country\", \"Canada\"); // Disable the item whose \"Country\" column value is \"Canada\" in the selection list Figure 13-20.\n",
      "310 0.2339193721445224 [default: start, contain, none] searchTarget Specifies what to search for to suggest choices based on the user's input values ​​selectedData Whether to retain the selected value if the selected value is not in the list of the bound DataList setNodeSetNoOnchange list by the setNodeSet API Property that prevents the onchange event from occurring when the selected item is initialized due to this change (property added for backward compatibility) (Example) When the third item in the list of autoComplete is selected, the selected item is initialized first by setNodeSet API. If setNodeSetNoOnchange=\"false\" (default) : Recognizes that the selected item has changed from the 3rd to the 1st, and fires an onchange event. sortMethod How to sort the selected list. [label, value] submenuSize How to determine the size of the selection list. submission ID of the submission to be called when interactioMode=\"true\". submissionFunc Function to call if interactioMode=\"true\". tabIndex The order in which the focus is given to the component when the focus is changed using the Tab key. textAlign text alignment on selection list title Same as title attribute in HTML tooltipClass Style to apply to tooltip class tooltipDisplay Whether to display tooltip for the value selected by user tooltipTime Tooltip display time. (Unit: second) type Same as the type attribute of HTML useItemLocale Whether to use multiple languages ​​for the item list useKeywordHighlight Whether to display differently by applying a separate class to user input values ​​among search results. useLocale Use multiple languages. useMousewheel Whether to allow the use of the mouse wheel on the selection list. userData1 User-defined data property userData2 User-defined data property userData3 User-defined data property visibleColumn Ability to hide specific items in the selection list. visibleColumnFalseValue A value that corresponds to the condition for hiding a specific item in the list when visibleColumn is used. visibleRowNum The number of rows of items to be displayed. wmode Use wmode to display the selected item list above the object tag. [default: false, true] Event Summary onafteredit Occurs after a user changes a selection and the change is fully processed onchange Occurs when a user changes a selection oneditenter Occurs when the Enter key is pressed oneditkeyup A key is pressed on the keyboard Occurs when released.\n",
      "308 0.23415549133826463 80 websquare html websquare.uiplugin.autoComplete WebSquare.uiplugin.autoComplete.html. WebSquare.uiplugin.autoComplete PropertyEventMethod Lookup WebSquare.uiplugin.autoComplete - 5.0_5.4826M.20230213.171915 auto complete. Display search results in a selection list. As an extended version of SelectBox, it retrieves the initial consonant of the value entered by the user and displays the result. Also provides a function to list items after performing real-time server communication based on the value entered by the user. (Related attribute: interactionMode) The top level of AutoComplet uses <div> and the lower level is a composite tag. Type uiplugin Property Summary allOption To be removed allowEmptySubmission If interactionMode=\"true\", whether to allow empty string search animation Animation effect to apply to the selection list autoFocus If the value entered by the user exactly matches the value in the selection list, nextTabID Move the focus (after 100 ms) to the component designated by . caseSensitive Whether English is case sensitive when searching chooseOption Whether to display a selection guide message. [default: false, true] Defines the label of the text to be displayed as the chooseOptionLabel selection guide message chooseOptionLabelLocaleRef The key of the chooseOptionLabel displayed on the screen when the client multilingual is applied. chooseOptionValue Defines the value of the text to be displayed as a selection guide message. class Same as the class attribute of HTML. closeonmouseleave If opened as a subLayer, whether to close the list when the mouse cursor leaves the selection list delimiter The delimiter used when displaying the value and label together in the selection list direction direction Specifies the direction in which the selection list is opened disabled Disables the component disableEdit When the mouse is clicked, only the list is displayed and the editing mode is not entered. displayFormatter The name of the function that formats the value of the component. displayMode The method of presentation of the selection.\n",
      "Context:\n",
      "80 websquare guide Design Guide OPS chapter 17.html. AutoComplete17.AutoCompleteRevision Date Version (SP2)WebSquare5 Studio : 20180117_1349_x86_BWebSquare5 Engine : 5.0_2.2982B.20180223.154326_1.5 The AutoComplete component provides an auto-completion function according to the entered text. It is an extension component of SelectBox that auto-completes specific strings and A search function is provided, static data and dynamic data can be set, and the corresponding list can be retrieved from the server in real time using the Enter key or user key input. The main API is similar to SelectBox. 17.1PropertyPropertyDescriptionallowEmptySubmission[default:false , true] If the interactionMode property is true, whether to allow searching for empty strings or not animation Sets the animation of SP2itemtable. caseSensitive[default:true, false] Whether to distinguish English case when searching chooseOption[default:false,true] Whether to display optional items If the chooseOptionLabel property is not set, the label is set to \"-choice-\" and the value to \"\" (empty string).chooseOptionLabel Defines the text to be displayed in the label when the chooseOption property is set to true. It is referred to in the user-defined classdelimiter displayMode property and is a delimiter used when expressing value and label together. The value corresponding to \"delim\" of the displayMode property is the value defined in this property.direction[defulat:auto, down, up, fit] The opening direction of the item.disabledWhether to disable the component disableEdit SP2[default:false, true] Whether or not to enter edit mode when clicked and display only the list. Refers to the value defined in editType[default:select, focus] When the user clicks the component to focus on the input, selects the selected text (select) or moves the cursor to the end of the text (focus). emptyIndex The index of the item to be selected when autoComplete is drawn for the first time in SP2. If the emptyItem property is set to true and the emptyIndex property is set to -1, an empty value can be selected during initial loading. emptyItem SP2[default:false, true] Set with the same API as) Whether to set to empty label and empty value (empty string).\n",
      "\n",
      "###\n",
      "\n",
      "This means that if you open one panel after opening another, the first panel(s) you opened will remain open, not closed. EXAMPLE FILEDownload from the Internet or viewed in the GUIDE project of WEBSQUARE_DEV_PACK (/Accordion/independentPanel_Accordion.xml) Figure 13- 7.YouTube video (https://youtu.be/KHSd1h2JA6s) 13.3AutoComplete Table 13-3.Component description summary Component that extends the SelectBox function Provides an auto-completion function according to the input text Functions and features Case-sensitive (caseSensitive) Highlight input text (useKeywordHighlight)Support both keyword-included search and keyword match search (search)Main purposeKeyword input box for searchApplications26. Video related to components for selection AutoComplete Figure 13-8.AutoComplete Table 13-4.Main APIinteractionModeUsed when outputting a list of search words through an auto-completion function, such as the search function of major portals. Data is dynamically received from the server according to user input. Figure 13-9.caseSensitivie=\"true\" Figure 13-10.search = \"contain\" caseSensitive = \"true\" 13.3.1Selected item setting Double-click the AutoComplete component to directly input the selected item or bind to DataList or LinkedDataList. Figure 13-11.Selection settings 13.3.1.1 Direct input Figure 13-12.YouTube video (https://youtu.be/x40RQUFAS3c) 13.3.1.2 DataList and binding example files Downloaded from the Internet or from the GUIDE project of WEBSQUARE_DEV_PACK View (/AutoComplete/BindItemSet_allOption_chooseOption_chooseOptionLabel_AutoComplete.xml) Figure 13-13.YouTube video (https://youtu.be/n5T5uTVtJE4) 13.3.2 Choice guidance message You can use the chooseOption, chooseOptionLabel, and chooseOptionValue properties to set the choice guidance message. The following is the selection guide message displayed in the AutoComplete selection list when chooseOption=\"true\" and chooseOptionLabel=\"Select a fruit.\" can be changed to In addition, the showChooseOption() function can be used to dynamically show or hide the value of the chooseOptionLabel property.\n",
      "\n",
      "###\n",
      "\n",
      "If the byteCheckEncoding setting value of the config.xml file is euc-kr, Hangul is calculated as 2 bytes, and in case of UTF-8, it is calculated as 3 bytes. maxlength This is the maximum length that can be entered. If characters over maxLength are entered in the engine, it is automatically cut. When calling the minByteLength validate API, it is referred to when checking the minimum byte length in the engine. If the byteCheckEncoding setting value of the config.xml file is euc-kr, it is calculated as 2 bytes for Korean and 3 bytes for utf-8. When calling the minlength validate API, it is referred to when checking the minimum length in the engine. nextTabByEnter If nextTabID is specified, whether to move focus to nextTabID-component when Enter key is pressed. nextTabID When moving with the Tab key, the ID of the component to be selected when the Tab key is pressed. numberMask Masking value applied when dataType = \"number\" is set to change currency unit or when changeCurrency API is used. [default: \"\"] onFocusClass Class name to apply when onFocus. placeholder Provides the same function as HTML5 placeholder. Hint phrases to be notified to the user are specified. When the value of the InputBox is empty, the value set as the placeholder is displayed, and disappears as soon as a value is entered. Different browsers operate differently. (Example: In IE, the text disappears when focusing, but in Chrome, the text disappears when text is entered.) preventCopyPaste [default:false, true] Whether to prevent copy&paste for the component's value. readOnly [default:false, true] Provides the same function as the readonly attribute of HTML depending on readonly. readOnlyClass Class name to be applied in readOnly state. readOnlyFocusEvent [default:false, true] Whether to generate a focus event when the input object is readOnly. ref Key of DataMap or Column of DataList that is bound. It must be specified in the format of data:[DataCollection ID].[Key id or Column id] by adding \"data:\" prefix. When bound with DataList, the value of the row selected in the GridView is bound. (Example) When linking with data:dataMap1.dept data:dataList1.CityInstance Data, the XPath of the XML data to be linked must be specified.\n",
      "\n",
      "###\n",
      "\n",
      "Code 13-2.changeChooseOption() usage example autoComplete1.changeChooseOption(\"0\", \"Select one.\"); Example of using .showChooseOption() // Show the value defined by the chooseOptionLabel property in the choice list. autoComplete1.showChooseOption(true); // Do not display the value defined by the chooseOptionLabel property in the selection list. autoComplete1.showChooseOption(false);Example fileDownload from internet or view in GUIDE project of WEBSQUARE_DEV_PACK (/AutoComplete/showChooseOption_changeChooseOption_AutoComplete.xml) Figure 13-15.YouTube video (https://youtu.be/Hz_tUrOeOsY)13.3.3 Select some Hide Items When binding with a DataList to show selections, you can hide some selections based on the values ​​of specific columns in the bound DataList. FileDownload from internet or view in GUIDE project of WEBSQUARE_DEV_PACK (/AutoComplete/visibleColumn_visibleColumnFalseValue_setVisibleColumn_AutoComplete.xml) Figure 13-16.YouTube video (https://youtu.be/tw5OYIVIRHQ) 13.3.4Disabling some selected items Selected by binding with DataList When displaying items, you can hide some selected items based on the value of a specific column in the bound DataList. Figure 13-17. When a selected item is bound with a DataList You can disable specific items in the select list using the and enableColumnFalseValue properties.enableColumn: The column in the DataList to be consulted for whether to disable it.enableColumnFalseValue: Condition to disable. (The data value of the column referenced for deactivation.) The example below is a case where two items are deactivated and displayed. .xml) Figure 13-19.YouTube video (https://youtu.be/7jwLEOi3GY4) 13.3.4.2 Dynamic setting via function (setEnableColumn()) The setEnableColumn() function can be used to disable specific items in the selection list. Code 13-4. Example usage autoComplete1.setEnableColumn(\"Country\", \"Canada\"); // Disable the item whose \"Country\" column value is \"Canada\" in the selection list Figure 13-20.\n",
      "\n",
      "###\n",
      "\n",
      "[default: start, contain, none] searchTarget Specifies what to search for to suggest choices based on the user's input values ​​selectedData Whether to retain the selected value if the selected value is not in the list of the bound DataList setNodeSetNoOnchange list by the setNodeSet API Property that prevents the onchange event from occurring when the selected item is initialized due to this change (property added for backward compatibility) (Example) When the third item in the list of autoComplete is selected, the selected item is initialized first by setNodeSet API. If setNodeSetNoOnchange=\"false\" (default) : Recognizes that the selected item has changed from the 3rd to the 1st, and fires an onchange event. sortMethod How to sort the selected list. [label, value] submenuSize How to determine the size of the selection list. submission ID of the submission to be called when interactioMode=\"true\". submissionFunc Function to call if interactioMode=\"true\". tabIndex The order in which the focus is given to the component when the focus is changed using the Tab key. textAlign text alignment on selection list title Same as title attribute in HTML tooltipClass Style to apply to tooltip class tooltipDisplay Whether to display tooltip for the value selected by user tooltipTime Tooltip display time. (Unit: second) type Same as the type attribute of HTML useItemLocale Whether to use multiple languages ​​for the item list useKeywordHighlight Whether to display differently by applying a separate class to user input values ​​among search results. useLocale Use multiple languages. useMousewheel Whether to allow the use of the mouse wheel on the selection list. userData1 User-defined data property userData2 User-defined data property userData3 User-defined data property visibleColumn Ability to hide specific items in the selection list. visibleColumnFalseValue A value that corresponds to the condition for hiding a specific item in the list when visibleColumn is used. visibleRowNum The number of rows of items to be displayed. wmode Use wmode to display the selected item list above the object tag. [default: false, true] Event Summary onafteredit Occurs after a user changes a selection and the change is fully processed onchange Occurs when a user changes a selection oneditenter Occurs when the Enter key is pressed oneditkeyup A key is pressed on the keyboard Occurs when released.\n",
      "\n",
      "###\n",
      "\n",
      "80 websquare html websquare.uiplugin.autoComplete WebSquare.uiplugin.autoComplete.html. WebSquare.uiplugin.autoComplete PropertyEventMethod Lookup WebSquare.uiplugin.autoComplete - 5.0_5.4826M.20230213.171915 auto complete. Display search results in a selection list. As an extended version of SelectBox, it retrieves the initial consonant of the value entered by the user and displays the result. Also provides a function to list items after performing real-time server communication based on the value entered by the user. (Related attribute: interactionMode) The top level of AutoComplet uses <div> and the lower level is a composite tag. Type uiplugin Property Summary allOption To be removed allowEmptySubmission If interactionMode=\"true\", whether to allow empty string search animation Animation effect to apply to the selection list autoFocus If the value entered by the user exactly matches the value in the selection list, nextTabID Move the focus (after 100 ms) to the component designated by . caseSensitive Whether English is case sensitive when searching chooseOption Whether to display a selection guide message. [default: false, true] Defines the label of the text to be displayed as the chooseOptionLabel selection guide message chooseOptionLabelLocaleRef The key of the chooseOptionLabel displayed on the screen when the client multilingual is applied. chooseOptionValue Defines the value of the text to be displayed as a selection guide message. class Same as the class attribute of HTML. closeonmouseleave If opened as a subLayer, whether to close the list when the mouse cursor leaves the selection list delimiter The delimiter used when displaying the value and label together in the selection list direction direction Specifies the direction in which the selection list is opened disabled Disables the component disableEdit When the mouse is clicked, only the list is displayed and the editing mode is not entered. displayFormatter The name of the function that formats the value of the component. displayMode The method of presentation of the selection.\n",
      "\n",
      "\n",
      "\n"
     ]
    },
    {
     "data": {
      "text/plain": [
       "'interactionMode 속성을 이용해야 합니다.'"
      ]
     },
     "execution_count": 37,
     "metadata": {},
     "output_type": "execute_result"
    }
   ],
   "source": [
    "answer_question(df_en, question=\"autoComplete에서 항목을 서버에서 동적으로 조회하려면 어떤 속성이나 API를 이용해야 하나요?\", debug=True)"
   ]
  },
  {
   "cell_type": "code",
   "execution_count": 39,
   "metadata": {},
   "outputs": [
    {
     "data": {
      "text/plain": [
       "'interactionMode 속성을 true로 설정하고, 사용자가 입력한 값을 기반으로 실시간 서버 통신을 수행하는 API를 이용해야 합니다.'"
      ]
     },
     "execution_count": 39,
     "metadata": {},
     "output_type": "execute_result"
    }
   ],
   "source": [
    "answer_question(df_ko, question=\"autoComplete에서 항목을 서버에서 자동으로 조회하려면 어떤 속성이나 API를 이용해야 하나요?\", debug=False)"
   ]
  },
  {
   "cell_type": "code",
   "execution_count": 40,
   "metadata": {
    "scrolled": true
   },
   "outputs": [
    {
     "data": {
      "text/plain": [
       "'interactionMode 속성을 이용해야 합니다.'"
      ]
     },
     "execution_count": 40,
     "metadata": {},
     "output_type": "execute_result"
    }
   ],
   "source": [
    "answer_question(df_en, question=\"autoComplete에서 항목을 서버에서 자동으로 조회하려면 어떤 속성이나 API를 이용해야 하나요?\", debug=False)"
   ]
  },
  {
   "cell_type": "code",
   "execution_count": 44,
   "metadata": {},
   "outputs": [
    {
     "data": {
      "text/plain": [
       "'API는 setSelectedIndex() 나 setValue()를 사용하여 항목을 서버에서 조회할 수 있습니다.'"
      ]
     },
     "execution_count": 44,
     "metadata": {},
     "output_type": "execute_result"
    }
   ],
   "source": [
    "answer_question(df_ko, question=\"autoComplete에서 항목을 서버에서 조회하려면 API?\", debug=False)"
   ]
  },
  {
   "cell_type": "code",
   "execution_count": 45,
   "metadata": {
    "scrolled": false
   },
   "outputs": [
    {
     "data": {
      "text/plain": [
       "'The API for retrieving the corresponding list from the server in real time using the Enter key or user key input is provided, but the specific API is not mentioned in the given context.'"
      ]
     },
     "execution_count": 45,
     "metadata": {},
     "output_type": "execute_result"
    }
   ],
   "source": [
    "answer_question(df_en, question=\"autoComplete에서 항목을 서버에서 조회하려면 API?\", debug=False)"
   ]
  },
  {
   "cell_type": "code",
   "execution_count": 51,
   "metadata": {},
   "outputs": [
    {
     "data": {
      "text/plain": [
       "'interactionMode 속성과 search API를'"
      ]
     },
     "execution_count": 51,
     "metadata": {},
     "output_type": "execute_result"
    }
   ],
   "source": [
    "answer_question2(df_ko, question=\"autoComplete에서 항목을 서버에서 동적으로 조회하려면 어떤 속성이나 API를 이용해야 하나요?\", debug=False)"
   ]
  },
  {
   "cell_type": "code",
   "execution_count": 52,
   "metadata": {},
   "outputs": [
    {
     "data": {
      "text/plain": [
       "'interactionMode 속성을 이용'"
      ]
     },
     "execution_count": 52,
     "metadata": {},
     "output_type": "execute_result"
    }
   ],
   "source": [
    "answer_question2(df_en, question=\"autoComplete에서 항목을 서버에서 동적으로 조회하려면 어떤 속성이나 API를 이용해야 하나요?\", debug=False)"
   ]
  },
  {
   "cell_type": "code",
   "execution_count": 54,
   "metadata": {},
   "outputs": [
    {
     "data": {
      "text/plain": [
       "'The context does not provide information on whether the mentioned feature is possible or not.'"
      ]
     },
     "execution_count": 54,
     "metadata": {},
     "output_type": "execute_result"
    }
   ],
   "source": [
    "answer_question(df_ko, question=\"첨부드린 이미지 처럼 그리드에서 특정 행이나 버튼을 클릭시 그 행에 포함되어 숨어있던 하위 행들을 노출할수 있는기능이 가능할런지요? 기능 구현상 가능여부 확인이 필요하여 문의 드립니다.전체목록열기 버튼 클릭시 기본 노출되는 행 아래로 숨어있던 전체 행들이 나타나게 구현하고자 합니다.혹여 그리드가 안된다면 다른 방법이 있을지도 추가 문의 드립니다.확인 요청 드립니다. 감사합니다.\")"
   ]
  },
  {
   "cell_type": "code",
   "execution_count": 55,
   "metadata": {},
   "outputs": [
    {
     "data": {
      "text/plain": [
       "'It is not clear from the context whether the specific functionality of clicking a row or button to reveal hidden sub-rows is possible in the grid. Further clarification or testing may be necessary to determine if this feature can be implemented.'"
      ]
     },
     "execution_count": 55,
     "metadata": {},
     "output_type": "execute_result"
    }
   ],
   "source": [
    "answer_question(df_en, question=\"첨부드린 이미지 처럼 그리드에서 특정 행이나 버튼을 클릭시 그 행에 포함되어 숨어있던 하위 행들을 노출할수 있는기능이 가능할런지요? 기능 구현상 가능여부 확인이 필요하여 문의 드립니다.전체목록열기 버튼 클릭시 기본 노출되는 행 아래로 숨어있던 전체 행들이 나타나게 구현하고자 합니다.혹여 그리드가 안된다면 다른 방법이 있을지도 추가 문의 드립니다.확인 요청 드립니다. 감사합니다.\")"
   ]
  },
  {
   "cell_type": "code",
   "execution_count": 56,
   "metadata": {
    "scrolled": true
   },
   "outputs": [
    {
     "data": {
      "text/plain": [
       "\"I don't know.\""
      ]
     },
     "execution_count": 56,
     "metadata": {},
     "output_type": "execute_result"
    }
   ],
   "source": [
    "answer_question(df_ko, question=\"그리드에서 특정 행이나 버튼을 클릭시 그 행에 포함되어 숨어있던 하위 행들을 노출할수 있는기능이 가능할런지요? 기능 구현상 가능여부 확인이 필요하여 문의 드립니다.전체목록열기 버튼 클릭시 기본 노출되는 행 아래로 숨어있던 전체 행들이 나타나게 구현하고자 합니다.혹여 그리드가 안된다면 다른 방법이 있을지도 추가 문의 드립니다.\")"
   ]
  },
  {
   "cell_type": "code",
   "execution_count": 57,
   "metadata": {},
   "outputs": [
    {
     "data": {
      "text/plain": [
       "'Yes, it is possible to implement a feature where clicking on a specific row or button in the grid can reveal hidden sub-rows. The question mentions a desire to implement a functionality where clicking on a \"전체목록열기\" button reveals all hidden rows below it. It is not clear if the grid component is being used for this specific implementation, but if not, there may be other ways to achieve this functionality.'"
      ]
     },
     "execution_count": 57,
     "metadata": {},
     "output_type": "execute_result"
    }
   ],
   "source": [
    "answer_question(df_en, question=\"그리드에서 특정 행이나 버튼을 클릭시 그 행에 포함되어 숨어있던 하위 행들을 노출할수 있는기능이 가능할런지요? 기능 구현상 가능여부 확인이 필요하여 문의 드립니다.전체목록열기 버튼 클릭시 기본 노출되는 행 아래로 숨어있던 전체 행들이 나타나게 구현하고자 합니다.혹여 그리드가 안된다면 다른 방법이 있을지도 추가 문의 드립니다.\")"
   ]
  },
  {
   "cell_type": "code",
   "execution_count": 58,
   "metadata": {},
   "outputs": [
    {
     "data": {
      "text/plain": [
       "'그리드에서 특정 행이나 버튼을 클릭하여 하위 행들을 노출하는 기능은 가능합니다. 이를 구현하기 위해 drilldown 기능을 사용하실 수 있습니다. 이 기능을 사용하려면 hasChild( rowIndex ) 함수를 사용하여 해당 행이 child row를 가지고 있는지 확인하고, 필요한 경우 drillTo( rowIndex ) 함수를 사용하여 해당 행의 모든 조상 행들을 오픈할 수 있습니다. 이 외에도 다양한 병합 및 펼치기 기능을 사용하여 원하는 결과를 얻을 수 있습니다.'"
      ]
     },
     "execution_count": 58,
     "metadata": {},
     "output_type": "execute_result"
    }
   ],
   "source": [
    "answer_question(df_ko, model=\"gpt-4\", question=\"그리드에서 특정 행이나 버튼을 클릭시 그 행에 포함되어 숨어있던 하위 행들을 노출할수 있는기능이 가능할런지요? 기능 구현상 가능여부 확인이 필요하여 문의 드립니다.전체목록열기 버튼 클릭시 기본 노출되는 행 아래로 숨어있던 전체 행들이 나타나게 구현하고자 합니다.혹여 그리드가 안된다면 다른 방법이 있을지도 추가 문의 드립니다.\")"
   ]
  },
  {
   "cell_type": "code",
   "execution_count": 59,
   "metadata": {},
   "outputs": [
    {
     "data": {
      "text/plain": [
       "\"I don't know\""
      ]
     },
     "execution_count": 59,
     "metadata": {},
     "output_type": "execute_result"
    }
   ],
   "source": [
    "answer_question(df_en, model=\"gpt-4\", question=\"그리드에서 특정 행이나 버튼을 클릭시 그 행에 포함되어 숨어있던 하위 행들을 노출할수 있는기능이 가능할런지요? 기능 구현상 가능여부 확인이 필요하여 문의 드립니다.전체목록열기 버튼 클릭시 기본 노출되는 행 아래로 숨어있던 전체 행들이 나타나게 구현하고자 합니다.혹여 그리드가 안된다면 다른 방법이 있을지도 추가 문의 드립니다.\")"
   ]
  },
  {
   "cell_type": "code",
   "execution_count": 60,
   "metadata": {},
   "outputs": [
    {
     "data": {
      "text/plain": [
       "'Based on the context provided, it is not clear if the requested feature of expanding hidden rows in a grid is possible or not.'"
      ]
     },
     "execution_count": 60,
     "metadata": {},
     "output_type": "execute_result"
    }
   ],
   "source": [
    "answer_question(df_ko, question=\"첨부드린 이미지 처럼 그리드에서 특정 행이나 버튼을 클릭시 그 행에 포함되어 숨어있던 하위 행들을 노출할수 있는기능이 가능할런지요? 기능 구현상 가능여부 확인이 필요하여 문의 드립니다.전체목록열기 버튼 클릭시 기본 노출되는 행 아래로 숨어있던 전체 행들이 나타나게 구현하고자 합니다.혹여 그리드가 안된다면 다른 방법이 있을지도 추가 문의 드립니다.\")"
   ]
  },
  {
   "cell_type": "code",
   "execution_count": 61,
   "metadata": {},
   "outputs": [
    {
     "data": {
      "text/plain": [
       "'It is not clear from the context whether the grid component has the functionality to display hidden rows when a specific row or button is clicked. Further clarification or research is needed.'"
      ]
     },
     "execution_count": 61,
     "metadata": {},
     "output_type": "execute_result"
    }
   ],
   "source": [
    "answer_question(df_en, question=\"첨부드린 이미지 처럼 그리드에서 특정 행이나 버튼을 클릭시 그 행에 포함되어 숨어있던 하위 행들을 노출할수 있는기능이 가능할런지요? 기능 구현상 가능여부 확인이 필요하여 문의 드립니다.전체목록열기 버튼 클릭시 기본 노출되는 행 아래로 숨어있던 전체 행들이 나타나게 구현하고자 합니다.혹여 그리드가 안된다면 다른 방법이 있을지도 추가 문의 드립니다.\")"
   ]
  },
  {
   "cell_type": "code",
   "execution_count": 62,
   "metadata": {},
   "outputs": [
    {
     "data": {
      "text/plain": [
       "\"I don't know.\""
      ]
     },
     "execution_count": 62,
     "metadata": {},
     "output_type": "execute_result"
    }
   ],
   "source": [
    "answer_question(df_ko, question='''pivotExcelDownload 엑셀 다운로드시 표 상단을 병합 후 제목을 적으려고합니다. \n",
    "header에 열의 수만큼 병합하려합니다. 열의 수를 알 수 있는 방법이 있을까요?\n",
    "\n",
    "예시) \n",
    "\n",
    "                                        제목 : 00 빈도수 분포\n",
    " \n",
    " \t열1\t열2\n",
    " \t \t \n",
    " \t \t \n",
    "''')"
   ]
  },
  {
   "cell_type": "code",
   "execution_count": 63,
   "metadata": {},
   "outputs": [
    {
     "data": {
      "text/plain": [
       "'There is no information provided in the context on how to determine the number of columns in the pivot table, so it is not possible to answer the question.'"
      ]
     },
     "execution_count": 63,
     "metadata": {},
     "output_type": "execute_result"
    }
   ],
   "source": [
    "answer_question(df_en, question='''pivotExcelDownload 엑셀 다운로드시 표 상단을 병합 후 제목을 적으려고합니다. \n",
    "header에 열의 수만큼 병합하려합니다. 열의 수를 알 수 있는 방법이 있을까요?\n",
    "\n",
    "예시) \n",
    "\n",
    "                                        제목 : 00 빈도수 분포\n",
    " \n",
    " \t열1\t열2\n",
    " \t \t \n",
    " \t \t \n",
    "''')"
   ]
  },
  {
   "cell_type": "code",
   "execution_count": 65,
   "metadata": {},
   "outputs": [
    {
     "data": {
      "text/plain": [
       "\"I don't know\""
      ]
     },
     "execution_count": 65,
     "metadata": {},
     "output_type": "execute_result"
    }
   ],
   "source": [
    "answer_question(df_ko, model=\"gpt-4\", debug=False, question='''pivotExcelDownload 엑셀 다운로드시 표 상단을 병합 후 제목을 적으려고합니다. \n",
    "header에 열의 수만큼 병합하려합니다. 열의 수를 알 수 있는 방법이 있을까요?\n",
    "\n",
    "예시) \n",
    "\n",
    "                                        제목 : 00 빈도수 분포\n",
    " \n",
    " \t열1\t열2\n",
    " \t \t \n",
    " \t \t \n",
    "''')"
   ]
  },
  {
   "cell_type": "code",
   "execution_count": 66,
   "metadata": {},
   "outputs": [
    {
     "data": {
      "text/plain": [
       "\"I don't know\""
      ]
     },
     "execution_count": 66,
     "metadata": {},
     "output_type": "execute_result"
    }
   ],
   "source": [
    "answer_question(df_en, model=\"gpt-4\", debug=False, question='''pivotExcelDownload 엑셀 다운로드시 표 상단을 병합 후 제목을 적으려고합니다. \n",
    "header에 열의 수만큼 병합하려합니다. 열의 수를 알 수 있는 방법이 있을까요?\n",
    "\n",
    "예시) \n",
    "\n",
    "                                        제목 : 00 빈도수 분포\n",
    " \n",
    " \t열1\t열2\n",
    " \t \t \n",
    " \t \t \n",
    "''')"
   ]
  },
  {
   "cell_type": "code",
   "execution_count": 67,
   "metadata": {},
   "outputs": [
    {
     "data": {
      "text/plain": [
       "\"I don't know\""
      ]
     },
     "execution_count": 67,
     "metadata": {},
     "output_type": "execute_result"
    }
   ],
   "source": [
    "answer_question(df_ko, model=\"gpt-4\", debug=False, question='''pivotExcelDownload 엑셀 다운로드시 표 상단을 병합 후 제목을 적으려고합니다. \n",
    "header에 열의 수만큼 병합하려합니다. 열의 수를 알 수 있는 방법이 있을까요?''')"
   ]
  },
  {
   "cell_type": "code",
   "execution_count": 68,
   "metadata": {},
   "outputs": [
    {
     "data": {
      "text/plain": [
       "\"I don't know\""
      ]
     },
     "execution_count": 68,
     "metadata": {},
     "output_type": "execute_result"
    }
   ],
   "source": [
    "answer_question(df_en, model=\"gpt-4\", debug=False, question='''pivotExcelDownload 엑셀 다운로드시 표 상단을 병합 후 제목을 적으려고합니다. \n",
    "header에 열의 수만큼 병합하려합니다. 열의 수를 알 수 있는 방법이 있을까요?''')"
   ]
  },
  {
   "cell_type": "code",
   "execution_count": null,
   "metadata": {},
   "outputs": [],
   "source": []
  }
 ],
 "metadata": {
  "kernelspec": {
   "display_name": "Python 3 (ipykernel)",
   "language": "python",
   "name": "python3"
  },
  "language_info": {
   "codemirror_mode": {
    "name": "ipython",
    "version": 3
   },
   "file_extension": ".py",
   "mimetype": "text/x-python",
   "name": "python",
   "nbconvert_exporter": "python",
   "pygments_lexer": "ipython3",
   "version": "3.10.10"
  },
  "vscode": {
   "interpreter": {
    "hash": "05f34a34d73b71652304030c1097be3a5720ea2447153dd6542d145a26b73181"
   }
  }
 },
 "nbformat": 4,
 "nbformat_minor": 2
}
