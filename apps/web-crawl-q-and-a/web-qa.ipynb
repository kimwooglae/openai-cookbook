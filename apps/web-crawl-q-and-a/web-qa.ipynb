{
 "cells": [
  {
   "cell_type": "markdown",
   "metadata": {},
   "source": [
    "# 1. 웹사이트 크롤링"
   ]
  },
  {
   "cell_type": "code",
   "execution_count": 1,
   "metadata": {},
   "outputs": [],
   "source": [
    "# !pip install googletrans==3.1.0a0 "
   ]
  },
  {
   "cell_type": "code",
   "execution_count": 2,
   "metadata": {
    "scrolled": true
   },
   "outputs": [],
   "source": [
    "import requests\n",
    "import re\n",
    "import urllib.request\n",
    "from bs4 import BeautifulSoup\n",
    "from collections import deque\n",
    "from html.parser import HTMLParser\n",
    "from urllib.parse import urlparse\n",
    "import pandas as pd\n",
    "import openai\n",
    "import os\n",
    "\n",
    "# Regex pattern to match a URL\n",
    "HTTP_URL_PATTERN = r'^http[s]{0,1}://.+$'\n",
    "\n",
    "# Define root domain to crawl\n",
    "# domain = \"openai.com\"\n",
    "# full_url = \"https://openai.com/\"\n",
    "# domain = \"inswave.com\"\n",
    "# full_url = \"https://inswave.com/confluence/pages/viewpage.action?pageId=6030702\"\n",
    "# domain = \"docs1.inswave.com\"\n",
    "# full_url = \"https://docs1.inswave.com/sp5_user_guide\"\n",
    "\n",
    "# domain = \"docs2.inswave.com\"\n",
    "# full_url = \"http://docs2.inswave.com/ws5_sp5_example\"\n",
    "domain = \"localhost:8080\"\n",
    "full_url = \"http://localhost:8080/websquare/guide/websquaretoc.html\"\n",
    "# Create a class to parse the HTML and get the hyperlinks\n",
    "class HyperlinkParser(HTMLParser):\n",
    "    def __init__(self):\n",
    "        super().__init__()\n",
    "        # Create a list to store the hyperlinks\n",
    "        self.hyperlinks = []\n",
    "\n",
    "    # Override the HTMLParser's handle_starttag method to get the hyperlinks\n",
    "    def handle_starttag(self, tag, attrs):\n",
    "        attrs = dict(attrs)\n",
    "\n",
    "        # If the tag is an anchor tag and it has an href attribute, add the href attribute to the list of hyperlinks\n",
    "        if tag == \"a\" and \"href\" in attrs:\n",
    "            self.hyperlinks.append(attrs[\"href\"])\n",
    "\n",
    "# Function to get the hyperlinks from a URL\n",
    "def get_hyperlinks(url):\n",
    "    \n",
    "    # Try to open the URL and read the HTML\n",
    "    try:\n",
    "        # Open the URL and read the HTML\n",
    "        with urllib.request.urlopen(url) as response:\n",
    "\n",
    "            # If the response is not HTML, return an empty list\n",
    "            if not response.info().get('Content-Type').startswith(\"text/html\"):\n",
    "                return []\n",
    "            \n",
    "            # Decode the HTML\n",
    "            html = response.read().decode('utf-8')\n",
    "    except Exception as e:\n",
    "        print(e)\n",
    "        return []\n",
    "\n",
    "    # Create the HTML Parser and then Parse the HTML to get hyperlinks\n",
    "    parser = HyperlinkParser()\n",
    "    parser.feed(html)\n",
    "\n",
    "    return parser.hyperlinks\n",
    "\n",
    "# Function to get the hyperlinks from a URL that are within the same domain\n",
    "def get_domain_hyperlinks(local_domain, url):\n",
    "    clean_links = []\n",
    "    for link in set(get_hyperlinks(url)):\n",
    "        clean_link = None\n",
    "\n",
    "        # If the link is a URL, check if it is within the same domain\n",
    "        if re.search(HTTP_URL_PATTERN, link):\n",
    "            # Parse the URL and check if the domain is the same\n",
    "            url_obj = urlparse(link)\n",
    "            if url_obj.netloc == local_domain:\n",
    "                clean_link = link\n",
    "\n",
    "        # If the link is not a URL, check if it is a relative link\n",
    "        else:\n",
    "            if link.startswith(\"/\"):\n",
    "                link = link[1:]\n",
    "            elif link.startswith(\"#\") or link.startswith(\"mailto:\"):\n",
    "                continue\n",
    "            clean_link = \"http://\" + local_domain + \"/\" + link\n",
    "#             clean_link = \"https://\" + local_domain + \"/\" + link\n",
    "\n",
    "        if clean_link is not None:\n",
    "            if clean_link.endswith(\"/\"):\n",
    "                clean_link = clean_link[:-1]\n",
    "            clean_links.append(clean_link)\n",
    "\n",
    "    # Return the list of hyperlinks that are within the same domain\n",
    "    return list(set(clean_links))\n",
    "\n",
    "\n",
    "def crawl(url):\n",
    "    # Parse the URL and get the domain\n",
    "    local_domain = urlparse(url).netloc\n",
    "\n",
    "    # Create a queue to store the URLs to crawl\n",
    "    queue = deque([url])\n",
    "\n",
    "    # Create a set to store the URLs that have already been seen (no duplicates)\n",
    "    seen = set([url])\n",
    "\n",
    "    # Create a directory to store the text files\n",
    "    if not os.path.exists(\"text/\"):\n",
    "            os.mkdir(\"text/\")\n",
    "\n",
    "    if not os.path.exists(\"text/\"+local_domain+\"/\"):\n",
    "            os.mkdir(\"text/\" + local_domain + \"/\")\n",
    "\n",
    "    # Create a directory to store the csv files\n",
    "    if not os.path.exists(\"processed\"):\n",
    "            os.mkdir(\"processed\")\n",
    "\n",
    "    # While the queue is not empty, continue crawling\n",
    "    while queue:\n",
    "\n",
    "        # Get the next URL from the queue\n",
    "        url = queue.pop()\n",
    "        print(url) # for debugging and to see the progress\n",
    "\n",
    "        path = url[8:].replace(\"/\", \"_\")\n",
    "        m = re.search('(.+?)[#]', path)\n",
    "        if m:\n",
    "            path = m.group(1)\n",
    "\n",
    "        # Save text from the url to a <url>.txt file\n",
    "#         with open('text/'+local_domain+'/'+url[8:].replace(\"/\", \"_\") + \".txt\", \"w\") as f:\n",
    "        with open('text/'+local_domain+'/'+ path + \".txt\", \"w\") as f:\n",
    "\n",
    "            # Get the text from the URL using BeautifulSoup\n",
    "            soup = BeautifulSoup(requests.get(url).text, \"html.parser\")\n",
    "\n",
    "            # Get the text but remove the tags\n",
    "            text = soup.get_text()\n",
    "            \n",
    "            \n",
    "            # If the crawler gets to a page that requires JavaScript, it will stop the crawl\n",
    "            if (\"You need to enable JavaScript to run this app.\" in text):\n",
    "                print(\"Unable to parse page \" + url + \" due to JavaScript being required\")\n",
    "            \n",
    "            # Otherwise, write the text to the file in the text directory\n",
    "            f.write(text)\n",
    "\n",
    "        # Get the hyperlinks from the URL and add them to the queue\n",
    "        for link in get_domain_hyperlinks(local_domain, url):\n",
    "            if link not in seen:\n",
    "                queue.append(link)\n",
    "                seen.add(link)\n",
    "\n"
   ]
  },
  {
   "cell_type": "code",
   "execution_count": 3,
   "metadata": {},
   "outputs": [],
   "source": [
    "# crawl(full_url)"
   ]
  },
  {
   "cell_type": "markdown",
   "metadata": {},
   "source": [
    "# 2. 다운받은 컨텐츠를 정리한 다음 영어로 번역"
   ]
  },
  {
   "cell_type": "code",
   "execution_count": 4,
   "metadata": {},
   "outputs": [],
   "source": [
    "def remove_newlines(serie):\n",
    "    serie = serie.replace('\\t', ' ')\n",
    "    serie = serie.replace('\\n', ' ')\n",
    "    serie = serie.replace('\\r', ' ')\n",
    "    serie = serie.replace('\\\\r', ' ')\n",
    "    serie = serie.replace('\\\\n', ' ')\n",
    "    serie = serie.replace('             ', ' ')\n",
    "    serie = serie.replace('            ', ' ')\n",
    "    serie = serie.replace('           ', ' ')\n",
    "    serie = serie.replace('          ', ' ')\n",
    "    serie = serie.replace('         ', ' ')\n",
    "    serie = serie.replace('        ', ' ')\n",
    "    serie = serie.replace('       ', ' ')\n",
    "    serie = serie.replace('      ', ' ')\n",
    "    serie = serie.replace('     ', ' ')\n",
    "    serie = serie.replace('    ', ' ')\n",
    "    serie = serie.replace('   ', ' ')\n",
    "    serie = serie.replace('  ', ' ')\n",
    "    serie = serie.replace('  ', ' ')\n",
    "    serie = serie.replace(' ', ' ')\n",
    "    return serie"
   ]
  },
  {
   "cell_type": "code",
   "execution_count": 5,
   "metadata": {},
   "outputs": [],
   "source": [
    "# Function to split the text into chunks of a maximum number of tokens\n",
    "def split_str_into_many(text, max_tokens = 4000):\n",
    "\n",
    "    # Split the text into sentences\n",
    "    sentences = text.split('. ')\n",
    "\n",
    "    # Get the number of tokens for each sentence\n",
    "    n_tokens = [len(\" \" + sentence) for sentence in sentences]\n",
    "    \n",
    "    chunks = []\n",
    "    tokens_so_far = 0\n",
    "    chunk = []\n",
    "\n",
    "    # Loop through the sentences and tokens joined together in a tuple\n",
    "    for sentence, token in zip(sentences, n_tokens):\n",
    "\n",
    "        # If the number of tokens so far plus the number of tokens in the current sentence is greater \n",
    "        # than the max number of tokens, then add the chunk to the list of chunks and reset\n",
    "        # the chunk and tokens so far\n",
    "        if tokens_so_far + token > max_tokens:\n",
    "            chunks.append(\". \".join(chunk) + \".\")\n",
    "            chunk = []\n",
    "            tokens_so_far = 0\n",
    "\n",
    "        # If the number of tokens in the current sentence is greater than the max number of \n",
    "        # tokens, go to the next sentence\n",
    "        if token > max_tokens:\n",
    "            continue\n",
    "\n",
    "        # Otherwise, add the sentence to the chunk and add the number of tokens to the total\n",
    "        chunk.append(sentence)\n",
    "        tokens_so_far += token + 1\n",
    "\n",
    "        \n",
    "    chunks.append(\". \".join(chunk) + \".\")\n",
    "        \n",
    "    return chunks\n",
    "    "
   ]
  },
  {
   "cell_type": "code",
   "execution_count": 6,
   "metadata": {},
   "outputs": [],
   "source": [
    "# !pip3 install googletrans==3.1.0a0"
   ]
  },
  {
   "cell_type": "code",
   "execution_count": 7,
   "metadata": {},
   "outputs": [
    {
     "name": "stdout",
     "output_type": "stream",
     "text": [
      "안녕하세요.  ->  hello.\n"
     ]
    }
   ],
   "source": [
    "from googletrans import Translator\n",
    "translator = Translator()\n",
    "translation = translator.translate('안녕하세요.')\n",
    "print(translation.origin, ' -> ', translation.text)\n"
   ]
  },
  {
   "cell_type": "code",
   "execution_count": 8,
   "metadata": {
    "scrolled": true
   },
   "outputs": [],
   "source": [
    "# aaa = '''Group 컴포넌트와 동일하게 외부 스타일 시트 작성이 더 수월하면 Style 창에 스타일 입력을 건너띄어도 무방합니다.그림 77-8.작성한 외부 CSS그림 77-9.데이터 헤더에 해당되는 스타일의 클래스 삽입그림 77-10.데이터 셀에 해당되는 스타일의 클래스 삽입그림 77-11.데이터 행에 해당되는 스타일의 클래스 삽입그림 77-12.테이블에 해당되는 스타일의 클래스 삽입. 두가지 이상의 클래스를 합성 하고 싶을 경우에는 html 코딩과 동일하게 class 속성에 클래스 사이를 공백으로 띄어 적용할 수 있다.그림 77-13.파싱된 구조테이블 관련 요소가 될 컴포넌트에 스타일을 적용시키고 브라우저 개발자 도구로 확인을 해봅니다. 개발자 도구를 통해서 본 파싱된 결과물은 스타일 시트에 의해테이블의 형태를 취하고 있고, 각 요소들이 테이블과 유사한 부모-자식간의 관계가 되어있지만, 파싱된 마크업이 div로 (div는 division으로 영역을 나누는(레이아웃) 용도의 태그) 의미있는 마크업이 아니기에 문서상의 테이블을 의미하는 코딩을 했다고 할 수 없을 것입니다. 여기까지 만들어진 샘플을 토대로 tagname 변경으로 간단한 테이블 마크업을 해보겠습니다.77.3마크업 변경과 속성 추가하기WebSquare의 컴포넌트 중 가장 빈번히 사용되는 컴포넌트인 Group과 Textbox 컴포넌트는 tagname 속성을 제공하여 파싱될 마크업을 변경하여 사용자가 원하는 대로 마크업을 할 수 있습니다. 두 컴포넌트 모두 tagname 변경 방법은 동일합니다. Group 컴포넌트와 같은 방법으로 해당 Textbox 컴포넌트를 Design View에서 선택하고, Property창의 tagname을 변경하면 됩니다.전 챕터(2.1.1)에서 만들었던 디자인을 적용한 샘플을 복사하여 tagname 변경을 해보도록 하겠습니다. WebSqaure는 컴포넌트를 쉽고 빠르게 복사하여 생산성을 높일 수 있습니다. Component 창에서 복사할 컴포넌트를 오른쪽 클릭하여'복사'를 누른 후, 원하는 위치(부모가 될 컴포넌트)를 선택한 후 오른쪽 클릭하여 붙여넣기를 선택하면 됩니다. id는 WebSquare 에서 자동으로 1씩 증가한 만큼 넣어주어 id 중복 문제가 일어나지 않도록 해줍니다.그림 77-14.56비교적 명확한 요소 이름을 가진 데이터의 헤더 부터 tagname 부터 적용해 보겠습니다.<table> 예제는 tableLayout을 사용하는 것을 권장하며 개별적으로 작성하기 위한 방법으로 아래 방법을 참고하겠습니다. HTML 페이지를 작성하는 것과 같이 <table>에 대한 스타일 시트를 따로 작성하겠습니다.그림 77-15.새로 작성한 table 관련 스타일 시트<table>에 관한 스타일 시트가 완성되었으니, 복사한 컴포넌트에 CSS Class를 입력합니다. 입력한 후에 Design View에 적용이 안되는 이유는 스타일 시트 작성이 요소 선택자로 tr, th, td 에 대한 스타일이기 때문에 파싱될 마크업(tagname 속성)이 설정되어있지 않아 div로 표현되어서 그렇습니다. 그렇다면, 스타일 적용을 확인하기 위해 각각 그룹핑 되어있는 컴포넌트들을 table 코딩이었을 때에 매치되는 마크업으로 변경해 보도록 하겠습니다.브라우저에 파싱될 마크업을 수정하는 것은 Group 컴포넌트와 동일하게 Property 창에서 tagname 속성을 수정하면 됩니다. 제일 명확한 마크업인 데이터의 헤더인 th 부분을 먼저 수정해 보겠습니다. Design View에서 데이터 헤더에 해당되는 컴포넌트를 선택하고, Property창의 tagname을 선택하여 'th'를 직접입력 하거나찾아넣습니다.그림 77-16.데이터 헤더 셀이 될 컴포넌트에 th를 입그림 77-17.데이터 셀이 될 컴포넌트에 td를 입그림 77-18.테이블의 행이 될 컴포넌트에 tr을 입력그림 77-19.테이블이 될 컴포넌트에 table을 입력그림 77-20.브라우저에서의 화면 확인 및 파싱 결과 확인tagname을 수정하여 마크업이 결정되었습니다. 이제 가로형 테이블이니, 데이터 헤더에 대한 제목 범위를 지정하는 'scope' 속성을 추가하면 기본적인 table 마크업이 완성됩니다. 'scope' 속성이 없어도 정상적으로 브라우저 화면에서 나오나, 접근성 작업시 'scope' 속성은 반드시 넣어주셔야 합니다.Textbox 컴포넌트의 속성 추가는 Group 컴포넌트의 속성 추가와 같은 방법으로 'scope' 속성을 추가하기 위해서 th와 매칭되는 Textbox 컴포넌트를 Component 창에서 선택하고 오른쪽 클릭하여 '속성 태그 수정'을 선택하여 추가합니다.그림 77-21.tagname을 th로 준 컴포넌트의 scope 속성 추가그림 77-22.속성을 추가한 뒤에 브라우저에서 결과 확인접근성을 위해 <caption>코딩, summary Attibute 삽입하고 싶다면, 이전 코딩 방법과 동일하게 Table이 될 Group 컴포넌트에 Textbox 컴포넌트를 삽입하고 tagname을 caption으로 직접 입력하여 바꾸고, 속성 추가하기 컨텍스트 메뉴로 추가할 수 있습니다.더 세밀한 웹표준과 웹접근성을 준수하는 table 코딩 및 내용이 정적·동적인 table 을 하기 위해서는 여러가지 컴포넌트의 조합이 필요한 경우가 있기에, 다음 장인 다른 어떤 컴포넌트와 Group 컴포넌트, Textbox 컴포넌트의 조합 파트를 참고하시기 바랍니다.77.4CSS Overriding그림 77-23.02NoClassDescription1w2textboxw2textbox은 웹스퀘어 엔진에서 정의된 클래스입니다, 브라우저가 파싱할때 자동으로 부여됩니다.2inlinewebsquare의 style 편집기에서 해당 style을 직접 수정합니다.77.5주의사항 및 TipProperty > for 속성은 컴포넌트(Label)가 클릭 됐을때 Focus를 주고 자 하는 컴포넌트 ID를 정의한다.해당속성을 활성화 할 경우 textbox 컴포넌트는 tagname을 무시하고 html 랜더링 시 div 혹은 사용자정의 태그가 아닌 label 태그로 고정된다. .'''\n",
    "\n",
    "# translation = translator.translate(aaa, src=\"ko\", dest=\"ja\")\n",
    "# print(translation.origin, ' -> ', translation.text)\n"
   ]
  },
  {
   "cell_type": "markdown",
   "metadata": {},
   "source": [
    "## 한글을 영어로 번역\n",
    "기존 파일을 사용하는 경우 번역 불필요 (실행이 필요한 경우 주석을 제거한 다음 실행)"
   ]
  },
  {
   "cell_type": "code",
   "execution_count": 9,
   "metadata": {
    "scrolled": true
   },
   "outputs": [],
   "source": [
    "# import pandas as pd\n",
    "# import time\n",
    "# from googletrans import Translator\n",
    "# translator = Translator()\n",
    "\n",
    "# # Create a list to store the text files\n",
    "# texts_ko=[]\n",
    "# texts_en=[]\n",
    "\n",
    "\n",
    "# # Get all the text files in the text directory\n",
    "# for file in os.listdir(\"text/\" + domain + \"/\"):\n",
    "\n",
    "#     if file == '.DS_Store':\n",
    "#         continue\n",
    "\n",
    "#     # Open the file and read the text\n",
    "#     with open(\"text/\" + domain + \"/\" + file, \"r\") as f:\n",
    "#         text_ko = f.read()\n",
    "#         text_ko = remove_newlines(text_ko)\n",
    "#         if len(text_ko) == 0:\n",
    "#             continue\n",
    "\n",
    "#         text_ko_list = split_str_into_many(text_ko, 2000) # 3k 이상이면 번역이 안되는 경우가 발생함\n",
    "#         text_en_list = []\n",
    "#         text_en = ''\n",
    "#         for ko_str in text_ko_list:\n",
    "#             try:\n",
    "#                 tran_result = translator.translate(ko_str, src=\"ko\", dest=\"en\")\n",
    "#                 if tran_result.text == tran_result.origin and tran_result.text != '.':\n",
    "#                     print('google translate error(not translate)-1. wait 10sec and try again:', file, len(ko_str), ko_str)\n",
    "#                     time.sleep(10)\n",
    "#                     tran_result = translator.translate(ko_str, src=\"ko\", dest=\"en\")\n",
    "#                     if tran_result.text == tran_result.origin:\n",
    "#                         print('google translate error(not translate)-2:', file, len(ko_str), ko_str)\n",
    "#                 text_en_list.append(tran_result.text)\n",
    "#             except:\n",
    "#                 print('google translate error. try again:', file, len(ko_str))\n",
    "#                 try:\n",
    "#                     tran_result = translator.translate(ko_str, src=\"ko\", dest=\"en\")\n",
    "#                     if tran_result.text == tran_result.origin:\n",
    "#                         print('google translate error(not translate). try again:', file, len(ko_str))\n",
    "#                         tran_result = translator.translate(ko_str, src=\"ko\", dest=\"en\")\n",
    "#                     text_en_list.append(tran_result.text)\n",
    "#                 except:\n",
    "#                     print('google translate error ', file, len(ko_str))\n",
    "\n",
    "#         text_en = \" \".join(text_en_list)\n",
    "# #         print(file, len(text_ko), len(text_en), len(text_ko_list))\n",
    "        \n",
    "#         # Omit the first 11 lines and the last 4 lines, then replace -, _, and #update with spaces.\n",
    "#         texts_ko.append((file[11:-4].replace('-',' ').replace('_', ' ').replace('#update',''), text_ko))\n",
    "#         texts_en.append((file[11:-4].replace('-',' ').replace('_', ' ').replace('#update',''), text_en))\n",
    "\n",
    "# # Create a dataframe from the list of texts\n",
    "# df_ko = pd.DataFrame(texts_ko, columns = ['fname', 'text'])\n",
    "# df_en = pd.DataFrame(texts_en, columns = ['fname', 'text'])\n",
    "\n",
    "# # Set the text column to be the raw text with the newlines removed\n",
    "# # df_ko['text'] = df_ko.fname + \". \" + remove_newlines(df_ko.text)\n",
    "# df_ko['text'] = df_ko.fname + \". \" + df_ko.text\n",
    "# df_en['text'] = df_en.fname + \". \" + df_en.text\n",
    "\n",
    "# df_ko.to_csv('processed/scraped_ko.csv')\n",
    "# df_ko.head()\n",
    "\n",
    "# df_en.to_csv('processed/scraped_en.csv')\n",
    "# df_en.head()\n"
   ]
  },
  {
   "cell_type": "markdown",
   "metadata": {},
   "source": [
    "# 3. tiktoken으로 token 개수 확인"
   ]
  },
  {
   "cell_type": "markdown",
   "metadata": {},
   "source": [
    "## 한글 버전의 경우 "
   ]
  },
  {
   "cell_type": "code",
   "execution_count": 10,
   "metadata": {
    "scrolled": false
   },
   "outputs": [
    {
     "data": {
      "text/plain": [
       "<Axes: >"
      ]
     },
     "execution_count": 10,
     "metadata": {},
     "output_type": "execute_result"
    },
    {
     "data": {
      "image/png": "[encoded data removed]",
      "text/plain": [
       "<Figure size 640x480 with 1 Axes>"
      ]
     },
     "metadata": {},
     "output_type": "display_data"
    }
   ],
   "source": [
    "import tiktoken\n",
    "\n",
    "# Load the cl100k_base tokenizer which is designed to work with the ada-002 model\n",
    "tokenizer = tiktoken.get_encoding(\"cl100k_base\")\n",
    "\n",
    "df_ko = pd.read_csv('processed/scraped_ko.csv', index_col=0)\n",
    "df_ko.columns = ['title', 'text']\n",
    "\n",
    "# Tokenize the text and save the number of tokens to a new column\n",
    "df_ko['n_tokens'] = df_ko.text.apply(lambda x: len(tokenizer.encode(x)))\n",
    "\n",
    "# Visualize the distribution of the number of tokens per row using a histogram\n",
    "df_ko.n_tokens.hist(bins=30)\n",
    "\n"
   ]
  },
  {
   "cell_type": "markdown",
   "metadata": {},
   "source": [
    "## 영어 버전의 경우"
   ]
  },
  {
   "cell_type": "code",
   "execution_count": 11,
   "metadata": {},
   "outputs": [
    {
     "data": {
      "text/plain": [
       "<Axes: >"
      ]
     },
     "execution_count": 11,
     "metadata": {},
     "output_type": "execute_result"
    },
    {
     "data": {
      "image/png": "[encoded data removed]",
      "text/plain": [
       "<Figure size 640x480 with 1 Axes>"
      ]
     },
     "metadata": {},
     "output_type": "display_data"
    }
   ],
   "source": [
    "import tiktoken\n",
    "\n",
    "\n",
    "df_en = pd.read_csv('processed/scraped_en.csv', index_col=0)\n",
    "df_en.columns = ['title', 'text']\n",
    "\n",
    "# df_en.tail()\n",
    "# Tokenize the text and save the number of tokens to a new column\n",
    "df_en['n_tokens'] = df_en.text.apply(lambda x: len(tokenizer.encode(x)))\n",
    "\n",
    "# Visualize the distribution of the number of tokens per row using a histogram\n",
    "df_en.n_tokens.hist(bins=18)\n"
   ]
  },
  {
   "cell_type": "markdown",
   "metadata": {},
   "source": [
    "## 개발자가이드 문서의 경우 (링크 포함 버전)"
   ]
  },
  {
   "cell_type": "code",
   "execution_count": 12,
   "metadata": {},
   "outputs": [
    {
     "data": {
      "text/plain": [
       "<Axes: >"
      ]
     },
     "execution_count": 12,
     "metadata": {},
     "output_type": "execute_result"
    },
    {
     "data": {
      "image/png": "[encoded data removed]",
      "text/plain": [
       "<Figure size 640x480 with 1 Axes>"
      ]
     },
     "metadata": {},
     "output_type": "display_data"
    }
   ],
   "source": [
    "import tiktoken\n",
    "\n",
    "# Load the cl100k_base tokenizer which is designed to work with the ada-002 model\n",
    "tokenizer = tiktoken.get_encoding(\"cl100k_base\")\n",
    "\n",
    "df_guide_ko = pd.read_csv('processed/sp5_guide.csv', index_col=0)\n",
    "df_guide_ko.columns = ['link', 'type', 'text']\n",
    "\n",
    "# Tokenize the text and save the number of tokens to a new column\n",
    "df_guide_ko['n_tokens'] = df_guide_ko.text.apply(lambda x: len(tokenizer.encode(str(x))))\n",
    "# df_en['n_tokens'] = df_en.text.apply(lambda x: len(tokenizer.encode(x)))\n",
    "\n",
    "# # Visualize the distribution of the number of tokens per row using a histogram\n",
    "df_guide_ko.n_tokens.hist(bins=30)"
   ]
  },
  {
   "cell_type": "code",
   "execution_count": 13,
   "metadata": {},
   "outputs": [
    {
     "data": {
      "text/html": [
       "<div>\n",
       "<style scoped>\n",
       "    .dataframe tbody tr th:only-of-type {\n",
       "        vertical-align: middle;\n",
       "    }\n",
       "\n",
       "    .dataframe tbody tr th {\n",
       "        vertical-align: top;\n",
       "    }\n",
       "\n",
       "    .dataframe thead th {\n",
       "        text-align: right;\n",
       "    }\n",
       "</style>\n",
       "<table border=\"1\" class=\"dataframe\">\n",
       "  <thead>\n",
       "    <tr style=\"text-align: right;\">\n",
       "      <th></th>\n",
       "      <th>link</th>\n",
       "      <th>type</th>\n",
       "      <th>text</th>\n",
       "      <th>n_tokens</th>\n",
       "    </tr>\n",
       "  </thead>\n",
       "  <tbody>\n",
       "    <tr>\n",
       "      <th>0</th>\n",
       "      <td>e9fc0aa13b009f35</td>\n",
       "      <td>normal</td>\n",
       "      <td>WebSquare5는 엔진과 스튜디오(개발도구)로 구성됩니다. 스튜디오는 웹스퀘어 ...</td>\n",
       "      <td>90</td>\n",
       "    </tr>\n",
       "    <tr>\n",
       "      <th>1</th>\n",
       "      <td>0f8de5b0bd7e0ac5</td>\n",
       "      <td>normal</td>\n",
       "      <td>웹스퀘어 스튜디오는 WYSIWYG 방식의 통합 개발 도구로, 개발자는 컴포넌트 그리...</td>\n",
       "      <td>81</td>\n",
       "    </tr>\n",
       "    <tr>\n",
       "      <th>2</th>\n",
       "      <td>8e4473e53b3e07a6</td>\n",
       "      <td>normal</td>\n",
       "      <td>Window OS 만 지원합니다.</td>\n",
       "      <td>7</td>\n",
       "    </tr>\n",
       "    <tr>\n",
       "      <th>3</th>\n",
       "      <td>0b0d04fcf2954c06</td>\n",
       "      <td>unordered_list</td>\n",
       "      <td>* 최소 JRE(JDK) 1.8.0_2xx 이상 필요. (하위 버전을 사용할 경우 ...</td>\n",
       "      <td>179</td>\n",
       "    </tr>\n",
       "    <tr>\n",
       "      <th>4</th>\n",
       "      <td>efdb8460f029fc5e</td>\n",
       "      <td>note</td>\n",
       "      <td>기존 웹스퀘어 스튜디오 버전에서 제공되던 jre 포함 버전은 미지원.</td>\n",
       "      <td>37</td>\n",
       "    </tr>\n",
       "    <tr>\n",
       "      <th>...</th>\n",
       "      <td>...</td>\n",
       "      <td>...</td>\n",
       "      <td>...</td>\n",
       "      <td>...</td>\n",
       "    </tr>\n",
       "    <tr>\n",
       "      <th>1732</th>\n",
       "      <td>dda995f282196430</td>\n",
       "      <td>normal</td>\n",
       "      <td>TabControl 컴포넌트는 &lt;strong&gt;&lt;kbd&gt;frameMode&lt;/kbd&gt;&lt;...</td>\n",
       "      <td>240</td>\n",
       "    </tr>\n",
       "    <tr>\n",
       "      <th>1733</th>\n",
       "      <td>8d3fb6186de456e9</td>\n",
       "      <td>normal</td>\n",
       "      <td>다음은 잘못 사용한 코드 예입니다.</td>\n",
       "      <td>13</td>\n",
       "    </tr>\n",
       "    <tr>\n",
       "      <th>1734</th>\n",
       "      <td>d64190bd976ce377</td>\n",
       "      <td>normal</td>\n",
       "      <td>IFrame 수가 지나치게 많은 경우 메모리 점유율이 올라갑니다. IFrame 대신...</td>\n",
       "      <td>45</td>\n",
       "    </tr>\n",
       "    <tr>\n",
       "      <th>1735</th>\n",
       "      <td>f8de5ce39813e667</td>\n",
       "      <td>normal</td>\n",
       "      <td>WFrame을 사용하여 화면을 구성할 경우, 각 화면 내 컴포넌트의 ID는 항상 변...</td>\n",
       "      <td>117</td>\n",
       "    </tr>\n",
       "    <tr>\n",
       "      <th>1736</th>\n",
       "      <td>7d911930718573ff</td>\n",
       "      <td>caution</td>\n",
       "      <td>&lt;strong&gt;class명 중복 주의&lt;/strong&gt;\\r\\n\\r\\nclass sel...</td>\n",
       "      <td>128</td>\n",
       "    </tr>\n",
       "  </tbody>\n",
       "</table>\n",
       "<p>1737 rows × 4 columns</p>\n",
       "</div>"
      ],
      "text/plain": [
       "                  link            type  \\\n",
       "0     e9fc0aa13b009f35          normal   \n",
       "1     0f8de5b0bd7e0ac5          normal   \n",
       "2     8e4473e53b3e07a6          normal   \n",
       "3     0b0d04fcf2954c06  unordered_list   \n",
       "4     efdb8460f029fc5e            note   \n",
       "...                ...             ...   \n",
       "1732  dda995f282196430          normal   \n",
       "1733  8d3fb6186de456e9          normal   \n",
       "1734  d64190bd976ce377          normal   \n",
       "1735  f8de5ce39813e667          normal   \n",
       "1736  7d911930718573ff         caution   \n",
       "\n",
       "                                                   text  n_tokens  \n",
       "0     WebSquare5는 엔진과 스튜디오(개발도구)로 구성됩니다. 스튜디오는 웹스퀘어 ...        90  \n",
       "1     웹스퀘어 스튜디오는 WYSIWYG 방식의 통합 개발 도구로, 개발자는 컴포넌트 그리...        81  \n",
       "2                                    Window OS 만 지원합니다.         7  \n",
       "3     * 최소 JRE(JDK) 1.8.0_2xx 이상 필요. (하위 버전을 사용할 경우 ...       179  \n",
       "4                기존 웹스퀘어 스튜디오 버전에서 제공되던 jre 포함 버전은 미지원.        37  \n",
       "...                                                 ...       ...  \n",
       "1732  TabControl 컴포넌트는 <strong><kbd>frameMode</kbd><...       240  \n",
       "1733                                다음은 잘못 사용한 코드 예입니다.        13  \n",
       "1734  IFrame 수가 지나치게 많은 경우 메모리 점유율이 올라갑니다. IFrame 대신...        45  \n",
       "1735  WFrame을 사용하여 화면을 구성할 경우, 각 화면 내 컴포넌트의 ID는 항상 변...       117  \n",
       "1736  <strong>class명 중복 주의</strong>\\r\\n\\r\\nclass sel...       128  \n",
       "\n",
       "[1737 rows x 4 columns]"
      ]
     },
     "execution_count": 13,
     "metadata": {},
     "output_type": "execute_result"
    }
   ],
   "source": [
    "df_guide_ko"
   ]
  },
  {
   "cell_type": "markdown",
   "metadata": {},
   "source": [
    "## API 문서(한글)의 경우"
   ]
  },
  {
   "cell_type": "code",
   "execution_count": 14,
   "metadata": {},
   "outputs": [
    {
     "data": {
      "text/plain": [
       "<Axes: >"
      ]
     },
     "execution_count": 14,
     "metadata": {},
     "output_type": "execute_result"
    },
    {
     "data": {
      "image/png": "[encoded data removed]",
      "text/plain": [
       "<Figure size 640x480 with 1 Axes>"
      ]
     },
     "metadata": {},
     "output_type": "display_data"
    }
   ],
   "source": [
    "import tiktoken\n",
    "\n",
    "# Load the cl100k_base tokenizer which is designed to work with the ada-002 model\n",
    "tokenizer = tiktoken.get_encoding(\"cl100k_base\")\n",
    "\n",
    "df_api_ko = pd.read_csv('processed/api_ko.csv', index_col=0)\n",
    "df_api_ko.columns = ['유형', 'component', 'name', 'description', 'parameter', 'return', 'exception', 'sample', 'built since', 'built last']\n",
    "df_api_ko[\"text\"] = df_api_ko['component'].astype(str) +\"    \"+ df_api_ko[\"name\"].astype(str) +\"    \"+ df_api_ko[\"description\"].astype(str)\n",
    "\n",
    "# Tokenize the text and save the number of tokens to a new column\n",
    "df_api_ko['n_tokens'] = df_api_ko.text.apply(lambda x: len(tokenizer.encode(str(x))))\n",
    "# df_en['n_tokens'] = df_en.text.apply(lambda x: len(tokenizer.encode(x)))\n",
    "\n",
    "# # Visualize the distribution of the number of tokens per row using a histogram\n",
    "df_api_ko.n_tokens.hist(bins=30)"
   ]
  },
  {
   "cell_type": "code",
   "execution_count": 15,
   "metadata": {},
   "outputs": [
    {
     "data": {
      "text/html": [
       "<div>\n",
       "<style scoped>\n",
       "    .dataframe tbody tr th:only-of-type {\n",
       "        vertical-align: middle;\n",
       "    }\n",
       "\n",
       "    .dataframe tbody tr th {\n",
       "        vertical-align: top;\n",
       "    }\n",
       "\n",
       "    .dataframe thead th {\n",
       "        text-align: right;\n",
       "    }\n",
       "</style>\n",
       "<table border=\"1\" class=\"dataframe\">\n",
       "  <thead>\n",
       "    <tr style=\"text-align: right;\">\n",
       "      <th></th>\n",
       "      <th>유형</th>\n",
       "      <th>component</th>\n",
       "      <th>name</th>\n",
       "      <th>description</th>\n",
       "      <th>parameter</th>\n",
       "      <th>return</th>\n",
       "      <th>exception</th>\n",
       "      <th>sample</th>\n",
       "      <th>built since</th>\n",
       "      <th>built last</th>\n",
       "      <th>text</th>\n",
       "      <th>n_tokens</th>\n",
       "    </tr>\n",
       "  </thead>\n",
       "  <tbody>\n",
       "    <tr>\n",
       "      <th>0</th>\n",
       "      <td>method</td>\n",
       "      <td>$p</td>\n",
       "      <td>$</td>\n",
       "      <td>jQuery selector를 인자로 받아 jQuery 객체를 반환한다. &lt;br /...</td>\n",
       "      <td>NaN</td>\n",
       "      <td>Object\\tjQuery 객체</td>\n",
       "      <td>NaN</td>\n",
       "      <td>$p.$(\"#group1\").wq(\"invoke\", \"setDisabled\", \"t...</td>\n",
       "      <td>5.0_3.3377A.20181128.161740</td>\n",
       "      <td>5.0_5.4811B.20230203.095105</td>\n",
       "      <td>$p    $    jQuery selector를 인자로 받아 jQuery 객체를 ...</td>\n",
       "      <td>74</td>\n",
       "    </tr>\n",
       "    <tr>\n",
       "      <th>1</th>\n",
       "      <td>method</td>\n",
       "      <td>$p</td>\n",
       "      <td>URLEncoder</td>\n",
       "      <td>주어진 문자열을 `application/x-www-form-urlencoded` M...</td>\n",
       "      <td>str\\tString\\tY\\t문자열</td>\n",
       "      <td>String\\t변환된 application/x-www-form-urlencoded ...</td>\n",
       "      <td>NaN</td>\n",
       "      <td>&lt;xmp  class='js sample'&gt;var encodeStr = $p.URL...</td>\n",
       "      <td>5.0_3.3377A.20181128.161740</td>\n",
       "      <td>5.0_5.4811B.20230203.095105</td>\n",
       "      <td>$p    URLEncoder    주어진 문자열을 `application/x-ww...</td>\n",
       "      <td>30</td>\n",
       "    </tr>\n",
       "    <tr>\n",
       "      <th>2</th>\n",
       "      <td>method</td>\n",
       "      <td>$p</td>\n",
       "      <td>ajax</td>\n",
       "      <td>submission과 비슷한 기능을 제공하는 통신 모듈로 submission에 비해...</td>\n",
       "      <td>options\\tJSON\\tY\\tJSON형태 객체&lt;br /&gt;\\n&lt;xmp class=...</td>\n",
       "      <td>\\t</td>\n",
       "      <td>NaN</td>\n",
       "      <td>&lt;xmp  class='js sample'&gt;var options = {};\\nopt...</td>\n",
       "      <td>5.0_3.3377A.20181128.161740</td>\n",
       "      <td>5.0_5.4811B.20230203.095105</td>\n",
       "      <td>$p    ajax    submission과 비슷한 기능을 제공하는 통신 모듈로 ...</td>\n",
       "      <td>78</td>\n",
       "    </tr>\n",
       "    <tr>\n",
       "      <th>3</th>\n",
       "      <td>method</td>\n",
       "      <td>$p</td>\n",
       "      <td>clearInterval</td>\n",
       "      <td>$p.setInterval으로 등록된 Interval 객체를 해제합니다.</td>\n",
       "      <td>keyName\\tString\\tY\\tkey로 지정한 값. ( $p.setInterv...</td>\n",
       "      <td>\\t</td>\n",
       "      <td>NaN</td>\n",
       "      <td>&lt;xmp  class='js sample'&gt;//$p.setInterval API를 ...</td>\n",
       "      <td>5.0_3.3377A.20181128.161740</td>\n",
       "      <td>5.0_5.4811B.20230203.095105</td>\n",
       "      <td>$p    clearInterval    $p.setInterval으로 등록된 In...</td>\n",
       "      <td>19</td>\n",
       "    </tr>\n",
       "    <tr>\n",
       "      <th>4</th>\n",
       "      <td>method</td>\n",
       "      <td>$p</td>\n",
       "      <td>clearPage</td>\n",
       "      <td>브라우저를 초기 상태로 되돌리는 함수이며, 이 함수를 사용하여 웹스퀘어 엔진 및 리...</td>\n",
       "      <td>NaN</td>\n",
       "      <td>\\t</td>\n",
       "      <td>NaN</td>\n",
       "      <td>&lt;xmp  class='js sample'&gt;&lt;body&gt;\\n    &lt;script ty...</td>\n",
       "      <td>5.0_3.3377A.20181128.161740</td>\n",
       "      <td>5.0_5.4811B.20230203.095105</td>\n",
       "      <td>$p    clearPage    브라우저를 초기 상태로 되돌리는 함수이며, 이 함...</td>\n",
       "      <td>213</td>\n",
       "    </tr>\n",
       "    <tr>\n",
       "      <th>...</th>\n",
       "      <td>...</td>\n",
       "      <td>...</td>\n",
       "      <td>...</td>\n",
       "      <td>...</td>\n",
       "      <td>...</td>\n",
       "      <td>...</td>\n",
       "      <td>...</td>\n",
       "      <td>...</td>\n",
       "      <td>...</td>\n",
       "      <td>...</td>\n",
       "      <td>...</td>\n",
       "      <td>...</td>\n",
       "    </tr>\n",
       "    <tr>\n",
       "      <th>6372</th>\n",
       "      <td>method</td>\n",
       "      <td>WebSquare.xml</td>\n",
       "      <td>parse</td>\n",
       "      <td>XML String을 XML Document로 변환합니다.</td>\n",
       "      <td>obj\\tString\\tY\\tXML Document로 변환할 문자열\\nnamespa...</td>\n",
       "      <td>Document\\tXML Document</td>\n",
       "      <td>NaN</td>\n",
       "      <td>&lt;xmp  class='js sample'&gt;\\nvar xmlDoc = WebSqua...</td>\n",
       "      <td>2.0_1.1984A.20120424.105444</td>\n",
       "      <td>5.0_5.4811B.20230203.095105</td>\n",
       "      <td>WebSquare.xml    parse    XML String을 XML Docu...</td>\n",
       "      <td>16</td>\n",
       "    </tr>\n",
       "    <tr>\n",
       "      <th>6373</th>\n",
       "      <td>method</td>\n",
       "      <td>WebSquare.xml</td>\n",
       "      <td>serialize</td>\n",
       "      <td>XML Document를 XML String으로 변환합니다.</td>\n",
       "      <td>dom\\tDocument\\tY\\tXML String으로 변환할 XML Document</td>\n",
       "      <td>String\\tXML String</td>\n",
       "      <td>NaN</td>\n",
       "      <td>&lt;xmp  class='js sample'&gt;\\nvar xmlStr = WebSqua...</td>\n",
       "      <td>2.0_1.1984A.20120424.105444</td>\n",
       "      <td>5.0_5.4811B.20230203.095105</td>\n",
       "      <td>WebSquare.xml    serialize    XML Document를 XM...</td>\n",
       "      <td>16</td>\n",
       "    </tr>\n",
       "    <tr>\n",
       "      <th>6374</th>\n",
       "      <td>method</td>\n",
       "      <td>WebSquare.xml</td>\n",
       "      <td>setAttribute</td>\n",
       "      <td>첫번째 인자로 주어진 Document 또는 Element를 기준으로 attribut...</td>\n",
       "      <td>doc\\tDocument\\tY\\tDocument 또는 Document Element...</td>\n",
       "      <td>\\t</td>\n",
       "      <td>NaN</td>\n",
       "      <td>&lt;xmp  class='js sample'&gt;Model에 바인드된 데이터가 다음과 같...</td>\n",
       "      <td>2.0_1.1984A.20120424.105444</td>\n",
       "      <td>5.0_5.4811B.20230203.095105</td>\n",
       "      <td>WebSquare.xml    setAttribute    첫번째 인자로 주어진 D...</td>\n",
       "      <td>125</td>\n",
       "    </tr>\n",
       "    <tr>\n",
       "      <th>6375</th>\n",
       "      <td>method</td>\n",
       "      <td>WebSquare.xml</td>\n",
       "      <td>setString</td>\n",
       "      <td>XPath로 검색한 node element에서 value Attribute 값을 설...</td>\n",
       "      <td>doc\\tDocument\\tY\\tDocument 또는 Document Element...</td>\n",
       "      <td>\\t</td>\n",
       "      <td>NaN</td>\n",
       "      <td>&lt;xmp  class='js sample'&gt;Model에 바인드된 데이터가 다음과 같...</td>\n",
       "      <td>2.0_1.1984A.20120424.105444</td>\n",
       "      <td>5.0_5.4811B.20230203.095105</td>\n",
       "      <td>WebSquare.xml    setString    XPath로 검색한 node ...</td>\n",
       "      <td>21</td>\n",
       "    </tr>\n",
       "    <tr>\n",
       "      <th>6376</th>\n",
       "      <td>method</td>\n",
       "      <td>WebSquare.xml</td>\n",
       "      <td>setValue</td>\n",
       "      <td>첫번째 인자로 주어진 Document 또는 Element를 기준으로 XPath로 조...</td>\n",
       "      <td>doc\\tDocument\\tY\\tDocument 또는 Document Element...</td>\n",
       "      <td>\\t</td>\n",
       "      <td>NaN</td>\n",
       "      <td>&lt;xmp  class='js sample'&gt;Model에 바인드된 데이터가 다음과 같...</td>\n",
       "      <td>2.0_1.1984A.20120424.105444</td>\n",
       "      <td>5.0_5.4811B.20230203.095105</td>\n",
       "      <td>WebSquare.xml    setValue    첫번째 인자로 주어진 Docum...</td>\n",
       "      <td>184</td>\n",
       "    </tr>\n",
       "  </tbody>\n",
       "</table>\n",
       "<p>6375 rows × 12 columns</p>\n",
       "</div>"
      ],
      "text/plain": [
       "          유형      component           name  \\\n",
       "0     method             $p              $   \n",
       "1     method             $p     URLEncoder   \n",
       "2     method             $p           ajax   \n",
       "3     method             $p  clearInterval   \n",
       "4     method             $p      clearPage   \n",
       "...      ...            ...            ...   \n",
       "6372  method  WebSquare.xml          parse   \n",
       "6373  method  WebSquare.xml      serialize   \n",
       "6374  method  WebSquare.xml   setAttribute   \n",
       "6375  method  WebSquare.xml      setString   \n",
       "6376  method  WebSquare.xml       setValue   \n",
       "\n",
       "                                            description  \\\n",
       "0     jQuery selector를 인자로 받아 jQuery 객체를 반환한다. <br /...   \n",
       "1     주어진 문자열을 `application/x-www-form-urlencoded` M...   \n",
       "2     submission과 비슷한 기능을 제공하는 통신 모듈로 submission에 비해...   \n",
       "3              $p.setInterval으로 등록된 Interval 객체를 해제합니다.   \n",
       "4     브라우저를 초기 상태로 되돌리는 함수이며, 이 함수를 사용하여 웹스퀘어 엔진 및 리...   \n",
       "...                                                 ...   \n",
       "6372                   XML String을 XML Document로 변환합니다.   \n",
       "6373                  XML Document를 XML String으로 변환합니다.   \n",
       "6374  첫번째 인자로 주어진 Document 또는 Element를 기준으로 attribut...   \n",
       "6375  XPath로 검색한 node element에서 value Attribute 값을 설...   \n",
       "6376  첫번째 인자로 주어진 Document 또는 Element를 기준으로 XPath로 조...   \n",
       "\n",
       "                                              parameter  \\\n",
       "0                                                   NaN   \n",
       "1                                   str\\tString\\tY\\t문자열   \n",
       "2     options\\tJSON\\tY\\tJSON형태 객체<br />\\n<xmp class=...   \n",
       "3     keyName\\tString\\tY\\tkey로 지정한 값. ( $p.setInterv...   \n",
       "4                                                   NaN   \n",
       "...                                                 ...   \n",
       "6372  obj\\tString\\tY\\tXML Document로 변환할 문자열\\nnamespa...   \n",
       "6373    dom\\tDocument\\tY\\tXML String으로 변환할 XML Document   \n",
       "6374  doc\\tDocument\\tY\\tDocument 또는 Document Element...   \n",
       "6375  doc\\tDocument\\tY\\tDocument 또는 Document Element...   \n",
       "6376  doc\\tDocument\\tY\\tDocument 또는 Document Element...   \n",
       "\n",
       "                                                 return exception  \\\n",
       "0                                     Object\\tjQuery 객체       NaN   \n",
       "1     String\\t변환된 application/x-www-form-urlencoded ...       NaN   \n",
       "2                                                    \\t       NaN   \n",
       "3                                                    \\t       NaN   \n",
       "4                                                    \\t       NaN   \n",
       "...                                                 ...       ...   \n",
       "6372                             Document\\tXML Document       NaN   \n",
       "6373                                 String\\tXML String       NaN   \n",
       "6374                                                 \\t       NaN   \n",
       "6375                                                 \\t       NaN   \n",
       "6376                                                 \\t       NaN   \n",
       "\n",
       "                                                 sample  \\\n",
       "0     $p.$(\"#group1\").wq(\"invoke\", \"setDisabled\", \"t...   \n",
       "1     <xmp  class='js sample'>var encodeStr = $p.URL...   \n",
       "2     <xmp  class='js sample'>var options = {};\\nopt...   \n",
       "3     <xmp  class='js sample'>//$p.setInterval API를 ...   \n",
       "4     <xmp  class='js sample'><body>\\n    <script ty...   \n",
       "...                                                 ...   \n",
       "6372  <xmp  class='js sample'>\\nvar xmlDoc = WebSqua...   \n",
       "6373  <xmp  class='js sample'>\\nvar xmlStr = WebSqua...   \n",
       "6374  <xmp  class='js sample'>Model에 바인드된 데이터가 다음과 같...   \n",
       "6375  <xmp  class='js sample'>Model에 바인드된 데이터가 다음과 같...   \n",
       "6376  <xmp  class='js sample'>Model에 바인드된 데이터가 다음과 같...   \n",
       "\n",
       "                      built since                   built last  \\\n",
       "0     5.0_3.3377A.20181128.161740  5.0_5.4811B.20230203.095105   \n",
       "1     5.0_3.3377A.20181128.161740  5.0_5.4811B.20230203.095105   \n",
       "2     5.0_3.3377A.20181128.161740  5.0_5.4811B.20230203.095105   \n",
       "3     5.0_3.3377A.20181128.161740  5.0_5.4811B.20230203.095105   \n",
       "4     5.0_3.3377A.20181128.161740  5.0_5.4811B.20230203.095105   \n",
       "...                           ...                          ...   \n",
       "6372  2.0_1.1984A.20120424.105444  5.0_5.4811B.20230203.095105   \n",
       "6373  2.0_1.1984A.20120424.105444  5.0_5.4811B.20230203.095105   \n",
       "6374  2.0_1.1984A.20120424.105444  5.0_5.4811B.20230203.095105   \n",
       "6375  2.0_1.1984A.20120424.105444  5.0_5.4811B.20230203.095105   \n",
       "6376  2.0_1.1984A.20120424.105444  5.0_5.4811B.20230203.095105   \n",
       "\n",
       "                                                   text  n_tokens  \n",
       "0     $p    $    jQuery selector를 인자로 받아 jQuery 객체를 ...        74  \n",
       "1     $p    URLEncoder    주어진 문자열을 `application/x-ww...        30  \n",
       "2     $p    ajax    submission과 비슷한 기능을 제공하는 통신 모듈로 ...        78  \n",
       "3     $p    clearInterval    $p.setInterval으로 등록된 In...        19  \n",
       "4     $p    clearPage    브라우저를 초기 상태로 되돌리는 함수이며, 이 함...       213  \n",
       "...                                                 ...       ...  \n",
       "6372  WebSquare.xml    parse    XML String을 XML Docu...        16  \n",
       "6373  WebSquare.xml    serialize    XML Document를 XM...        16  \n",
       "6374  WebSquare.xml    setAttribute    첫번째 인자로 주어진 D...       125  \n",
       "6375  WebSquare.xml    setString    XPath로 검색한 node ...        21  \n",
       "6376  WebSquare.xml    setValue    첫번째 인자로 주어진 Docum...       184  \n",
       "\n",
       "[6375 rows x 12 columns]"
      ]
     },
     "execution_count": 15,
     "metadata": {},
     "output_type": "execute_result"
    }
   ],
   "source": [
    "df_api_ko"
   ]
  },
  {
   "cell_type": "code",
   "execution_count": 22,
   "metadata": {},
   "outputs": [],
   "source": [
    "df_api_ko.drop(df_api_ko[df_api_ko['component'] == \"WebSquare.uiplugin.grid\"].index, inplace=True)"
   ]
  },
  {
   "cell_type": "code",
   "execution_count": 23,
   "metadata": {},
   "outputs": [
    {
     "data": {
      "text/html": [
       "<div>\n",
       "<style scoped>\n",
       "    .dataframe tbody tr th:only-of-type {\n",
       "        vertical-align: middle;\n",
       "    }\n",
       "\n",
       "    .dataframe tbody tr th {\n",
       "        vertical-align: top;\n",
       "    }\n",
       "\n",
       "    .dataframe thead th {\n",
       "        text-align: right;\n",
       "    }\n",
       "</style>\n",
       "<table border=\"1\" class=\"dataframe\">\n",
       "  <thead>\n",
       "    <tr style=\"text-align: right;\">\n",
       "      <th></th>\n",
       "      <th>유형</th>\n",
       "      <th>component</th>\n",
       "      <th>name</th>\n",
       "      <th>description</th>\n",
       "      <th>parameter</th>\n",
       "      <th>return</th>\n",
       "      <th>exception</th>\n",
       "      <th>sample</th>\n",
       "      <th>built since</th>\n",
       "      <th>built last</th>\n",
       "      <th>text</th>\n",
       "      <th>n_tokens</th>\n",
       "    </tr>\n",
       "  </thead>\n",
       "  <tbody>\n",
       "    <tr>\n",
       "      <th>0</th>\n",
       "      <td>method</td>\n",
       "      <td>$p</td>\n",
       "      <td>$</td>\n",
       "      <td>jQuery selector를 인자로 받아 jQuery 객체를 반환한다. &lt;br /...</td>\n",
       "      <td>NaN</td>\n",
       "      <td>Object\\tjQuery 객체</td>\n",
       "      <td>NaN</td>\n",
       "      <td>$p.$(\"#group1\").wq(\"invoke\", \"setDisabled\", \"t...</td>\n",
       "      <td>5.0_3.3377A.20181128.161740</td>\n",
       "      <td>5.0_5.4811B.20230203.095105</td>\n",
       "      <td>$p    $    jQuery selector를 인자로 받아 jQuery 객체를 ...</td>\n",
       "      <td>74</td>\n",
       "    </tr>\n",
       "    <tr>\n",
       "      <th>1</th>\n",
       "      <td>method</td>\n",
       "      <td>$p</td>\n",
       "      <td>URLEncoder</td>\n",
       "      <td>주어진 문자열을 `application/x-www-form-urlencoded` M...</td>\n",
       "      <td>str\\tString\\tY\\t문자열</td>\n",
       "      <td>String\\t변환된 application/x-www-form-urlencoded ...</td>\n",
       "      <td>NaN</td>\n",
       "      <td>&lt;xmp  class='js sample'&gt;var encodeStr = $p.URL...</td>\n",
       "      <td>5.0_3.3377A.20181128.161740</td>\n",
       "      <td>5.0_5.4811B.20230203.095105</td>\n",
       "      <td>$p    URLEncoder    주어진 문자열을 `application/x-ww...</td>\n",
       "      <td>30</td>\n",
       "    </tr>\n",
       "    <tr>\n",
       "      <th>2</th>\n",
       "      <td>method</td>\n",
       "      <td>$p</td>\n",
       "      <td>ajax</td>\n",
       "      <td>submission과 비슷한 기능을 제공하는 통신 모듈로 submission에 비해...</td>\n",
       "      <td>options\\tJSON\\tY\\tJSON형태 객체&lt;br /&gt;\\n&lt;xmp class=...</td>\n",
       "      <td>\\t</td>\n",
       "      <td>NaN</td>\n",
       "      <td>&lt;xmp  class='js sample'&gt;var options = {};\\nopt...</td>\n",
       "      <td>5.0_3.3377A.20181128.161740</td>\n",
       "      <td>5.0_5.4811B.20230203.095105</td>\n",
       "      <td>$p    ajax    submission과 비슷한 기능을 제공하는 통신 모듈로 ...</td>\n",
       "      <td>78</td>\n",
       "    </tr>\n",
       "    <tr>\n",
       "      <th>3</th>\n",
       "      <td>method</td>\n",
       "      <td>$p</td>\n",
       "      <td>clearInterval</td>\n",
       "      <td>$p.setInterval으로 등록된 Interval 객체를 해제합니다.</td>\n",
       "      <td>keyName\\tString\\tY\\tkey로 지정한 값. ( $p.setInterv...</td>\n",
       "      <td>\\t</td>\n",
       "      <td>NaN</td>\n",
       "      <td>&lt;xmp  class='js sample'&gt;//$p.setInterval API를 ...</td>\n",
       "      <td>5.0_3.3377A.20181128.161740</td>\n",
       "      <td>5.0_5.4811B.20230203.095105</td>\n",
       "      <td>$p    clearInterval    $p.setInterval으로 등록된 In...</td>\n",
       "      <td>19</td>\n",
       "    </tr>\n",
       "    <tr>\n",
       "      <th>4</th>\n",
       "      <td>method</td>\n",
       "      <td>$p</td>\n",
       "      <td>clearPage</td>\n",
       "      <td>브라우저를 초기 상태로 되돌리는 함수이며, 이 함수를 사용하여 웹스퀘어 엔진 및 리...</td>\n",
       "      <td>NaN</td>\n",
       "      <td>\\t</td>\n",
       "      <td>NaN</td>\n",
       "      <td>&lt;xmp  class='js sample'&gt;&lt;body&gt;\\n    &lt;script ty...</td>\n",
       "      <td>5.0_3.3377A.20181128.161740</td>\n",
       "      <td>5.0_5.4811B.20230203.095105</td>\n",
       "      <td>$p    clearPage    브라우저를 초기 상태로 되돌리는 함수이며, 이 함...</td>\n",
       "      <td>213</td>\n",
       "    </tr>\n",
       "    <tr>\n",
       "      <th>...</th>\n",
       "      <td>...</td>\n",
       "      <td>...</td>\n",
       "      <td>...</td>\n",
       "      <td>...</td>\n",
       "      <td>...</td>\n",
       "      <td>...</td>\n",
       "      <td>...</td>\n",
       "      <td>...</td>\n",
       "      <td>...</td>\n",
       "      <td>...</td>\n",
       "      <td>...</td>\n",
       "      <td>...</td>\n",
       "    </tr>\n",
       "    <tr>\n",
       "      <th>6372</th>\n",
       "      <td>method</td>\n",
       "      <td>WebSquare.xml</td>\n",
       "      <td>parse</td>\n",
       "      <td>XML String을 XML Document로 변환합니다.</td>\n",
       "      <td>obj\\tString\\tY\\tXML Document로 변환할 문자열\\nnamespa...</td>\n",
       "      <td>Document\\tXML Document</td>\n",
       "      <td>NaN</td>\n",
       "      <td>&lt;xmp  class='js sample'&gt;\\nvar xmlDoc = WebSqua...</td>\n",
       "      <td>2.0_1.1984A.20120424.105444</td>\n",
       "      <td>5.0_5.4811B.20230203.095105</td>\n",
       "      <td>WebSquare.xml    parse    XML String을 XML Docu...</td>\n",
       "      <td>16</td>\n",
       "    </tr>\n",
       "    <tr>\n",
       "      <th>6373</th>\n",
       "      <td>method</td>\n",
       "      <td>WebSquare.xml</td>\n",
       "      <td>serialize</td>\n",
       "      <td>XML Document를 XML String으로 변환합니다.</td>\n",
       "      <td>dom\\tDocument\\tY\\tXML String으로 변환할 XML Document</td>\n",
       "      <td>String\\tXML String</td>\n",
       "      <td>NaN</td>\n",
       "      <td>&lt;xmp  class='js sample'&gt;\\nvar xmlStr = WebSqua...</td>\n",
       "      <td>2.0_1.1984A.20120424.105444</td>\n",
       "      <td>5.0_5.4811B.20230203.095105</td>\n",
       "      <td>WebSquare.xml    serialize    XML Document를 XM...</td>\n",
       "      <td>16</td>\n",
       "    </tr>\n",
       "    <tr>\n",
       "      <th>6374</th>\n",
       "      <td>method</td>\n",
       "      <td>WebSquare.xml</td>\n",
       "      <td>setAttribute</td>\n",
       "      <td>첫번째 인자로 주어진 Document 또는 Element를 기준으로 attribut...</td>\n",
       "      <td>doc\\tDocument\\tY\\tDocument 또는 Document Element...</td>\n",
       "      <td>\\t</td>\n",
       "      <td>NaN</td>\n",
       "      <td>&lt;xmp  class='js sample'&gt;Model에 바인드된 데이터가 다음과 같...</td>\n",
       "      <td>2.0_1.1984A.20120424.105444</td>\n",
       "      <td>5.0_5.4811B.20230203.095105</td>\n",
       "      <td>WebSquare.xml    setAttribute    첫번째 인자로 주어진 D...</td>\n",
       "      <td>125</td>\n",
       "    </tr>\n",
       "    <tr>\n",
       "      <th>6375</th>\n",
       "      <td>method</td>\n",
       "      <td>WebSquare.xml</td>\n",
       "      <td>setString</td>\n",
       "      <td>XPath로 검색한 node element에서 value Attribute 값을 설...</td>\n",
       "      <td>doc\\tDocument\\tY\\tDocument 또는 Document Element...</td>\n",
       "      <td>\\t</td>\n",
       "      <td>NaN</td>\n",
       "      <td>&lt;xmp  class='js sample'&gt;Model에 바인드된 데이터가 다음과 같...</td>\n",
       "      <td>2.0_1.1984A.20120424.105444</td>\n",
       "      <td>5.0_5.4811B.20230203.095105</td>\n",
       "      <td>WebSquare.xml    setString    XPath로 검색한 node ...</td>\n",
       "      <td>21</td>\n",
       "    </tr>\n",
       "    <tr>\n",
       "      <th>6376</th>\n",
       "      <td>method</td>\n",
       "      <td>WebSquare.xml</td>\n",
       "      <td>setValue</td>\n",
       "      <td>첫번째 인자로 주어진 Document 또는 Element를 기준으로 XPath로 조...</td>\n",
       "      <td>doc\\tDocument\\tY\\tDocument 또는 Document Element...</td>\n",
       "      <td>\\t</td>\n",
       "      <td>NaN</td>\n",
       "      <td>&lt;xmp  class='js sample'&gt;Model에 바인드된 데이터가 다음과 같...</td>\n",
       "      <td>2.0_1.1984A.20120424.105444</td>\n",
       "      <td>5.0_5.4811B.20230203.095105</td>\n",
       "      <td>WebSquare.xml    setValue    첫번째 인자로 주어진 Docum...</td>\n",
       "      <td>184</td>\n",
       "    </tr>\n",
       "  </tbody>\n",
       "</table>\n",
       "<p>5976 rows × 12 columns</p>\n",
       "</div>"
      ],
      "text/plain": [
       "          유형      component           name  \\\n",
       "0     method             $p              $   \n",
       "1     method             $p     URLEncoder   \n",
       "2     method             $p           ajax   \n",
       "3     method             $p  clearInterval   \n",
       "4     method             $p      clearPage   \n",
       "...      ...            ...            ...   \n",
       "6372  method  WebSquare.xml          parse   \n",
       "6373  method  WebSquare.xml      serialize   \n",
       "6374  method  WebSquare.xml   setAttribute   \n",
       "6375  method  WebSquare.xml      setString   \n",
       "6376  method  WebSquare.xml       setValue   \n",
       "\n",
       "                                            description  \\\n",
       "0     jQuery selector를 인자로 받아 jQuery 객체를 반환한다. <br /...   \n",
       "1     주어진 문자열을 `application/x-www-form-urlencoded` M...   \n",
       "2     submission과 비슷한 기능을 제공하는 통신 모듈로 submission에 비해...   \n",
       "3              $p.setInterval으로 등록된 Interval 객체를 해제합니다.   \n",
       "4     브라우저를 초기 상태로 되돌리는 함수이며, 이 함수를 사용하여 웹스퀘어 엔진 및 리...   \n",
       "...                                                 ...   \n",
       "6372                   XML String을 XML Document로 변환합니다.   \n",
       "6373                  XML Document를 XML String으로 변환합니다.   \n",
       "6374  첫번째 인자로 주어진 Document 또는 Element를 기준으로 attribut...   \n",
       "6375  XPath로 검색한 node element에서 value Attribute 값을 설...   \n",
       "6376  첫번째 인자로 주어진 Document 또는 Element를 기준으로 XPath로 조...   \n",
       "\n",
       "                                              parameter  \\\n",
       "0                                                   NaN   \n",
       "1                                   str\\tString\\tY\\t문자열   \n",
       "2     options\\tJSON\\tY\\tJSON형태 객체<br />\\n<xmp class=...   \n",
       "3     keyName\\tString\\tY\\tkey로 지정한 값. ( $p.setInterv...   \n",
       "4                                                   NaN   \n",
       "...                                                 ...   \n",
       "6372  obj\\tString\\tY\\tXML Document로 변환할 문자열\\nnamespa...   \n",
       "6373    dom\\tDocument\\tY\\tXML String으로 변환할 XML Document   \n",
       "6374  doc\\tDocument\\tY\\tDocument 또는 Document Element...   \n",
       "6375  doc\\tDocument\\tY\\tDocument 또는 Document Element...   \n",
       "6376  doc\\tDocument\\tY\\tDocument 또는 Document Element...   \n",
       "\n",
       "                                                 return exception  \\\n",
       "0                                     Object\\tjQuery 객체       NaN   \n",
       "1     String\\t변환된 application/x-www-form-urlencoded ...       NaN   \n",
       "2                                                    \\t       NaN   \n",
       "3                                                    \\t       NaN   \n",
       "4                                                    \\t       NaN   \n",
       "...                                                 ...       ...   \n",
       "6372                             Document\\tXML Document       NaN   \n",
       "6373                                 String\\tXML String       NaN   \n",
       "6374                                                 \\t       NaN   \n",
       "6375                                                 \\t       NaN   \n",
       "6376                                                 \\t       NaN   \n",
       "\n",
       "                                                 sample  \\\n",
       "0     $p.$(\"#group1\").wq(\"invoke\", \"setDisabled\", \"t...   \n",
       "1     <xmp  class='js sample'>var encodeStr = $p.URL...   \n",
       "2     <xmp  class='js sample'>var options = {};\\nopt...   \n",
       "3     <xmp  class='js sample'>//$p.setInterval API를 ...   \n",
       "4     <xmp  class='js sample'><body>\\n    <script ty...   \n",
       "...                                                 ...   \n",
       "6372  <xmp  class='js sample'>\\nvar xmlDoc = WebSqua...   \n",
       "6373  <xmp  class='js sample'>\\nvar xmlStr = WebSqua...   \n",
       "6374  <xmp  class='js sample'>Model에 바인드된 데이터가 다음과 같...   \n",
       "6375  <xmp  class='js sample'>Model에 바인드된 데이터가 다음과 같...   \n",
       "6376  <xmp  class='js sample'>Model에 바인드된 데이터가 다음과 같...   \n",
       "\n",
       "                      built since                   built last  \\\n",
       "0     5.0_3.3377A.20181128.161740  5.0_5.4811B.20230203.095105   \n",
       "1     5.0_3.3377A.20181128.161740  5.0_5.4811B.20230203.095105   \n",
       "2     5.0_3.3377A.20181128.161740  5.0_5.4811B.20230203.095105   \n",
       "3     5.0_3.3377A.20181128.161740  5.0_5.4811B.20230203.095105   \n",
       "4     5.0_3.3377A.20181128.161740  5.0_5.4811B.20230203.095105   \n",
       "...                           ...                          ...   \n",
       "6372  2.0_1.1984A.20120424.105444  5.0_5.4811B.20230203.095105   \n",
       "6373  2.0_1.1984A.20120424.105444  5.0_5.4811B.20230203.095105   \n",
       "6374  2.0_1.1984A.20120424.105444  5.0_5.4811B.20230203.095105   \n",
       "6375  2.0_1.1984A.20120424.105444  5.0_5.4811B.20230203.095105   \n",
       "6376  2.0_1.1984A.20120424.105444  5.0_5.4811B.20230203.095105   \n",
       "\n",
       "                                                   text  n_tokens  \n",
       "0     $p    $    jQuery selector를 인자로 받아 jQuery 객체를 ...        74  \n",
       "1     $p    URLEncoder    주어진 문자열을 `application/x-ww...        30  \n",
       "2     $p    ajax    submission과 비슷한 기능을 제공하는 통신 모듈로 ...        78  \n",
       "3     $p    clearInterval    $p.setInterval으로 등록된 In...        19  \n",
       "4     $p    clearPage    브라우저를 초기 상태로 되돌리는 함수이며, 이 함...       213  \n",
       "...                                                 ...       ...  \n",
       "6372  WebSquare.xml    parse    XML String을 XML Docu...        16  \n",
       "6373  WebSquare.xml    serialize    XML Document를 XM...        16  \n",
       "6374  WebSquare.xml    setAttribute    첫번째 인자로 주어진 D...       125  \n",
       "6375  WebSquare.xml    setString    XPath로 검색한 node ...        21  \n",
       "6376  WebSquare.xml    setValue    첫번째 인자로 주어진 Docum...       184  \n",
       "\n",
       "[5976 rows x 12 columns]"
      ]
     },
     "execution_count": 23,
     "metadata": {},
     "output_type": "execute_result"
    }
   ],
   "source": [
    "df_api_ko"
   ]
  },
  {
   "cell_type": "code",
   "execution_count": null,
   "metadata": {},
   "outputs": [],
   "source": [
    "# df_api_ko[\"text\"] = df_api_ko['component'].astype(str) +\"    \"+ df_api_ko[\"name\"].astype(str) +\"    \"+ df_api_ko[\"description\"].astype(str)"
   ]
  },
  {
   "cell_type": "code",
   "execution_count": null,
   "metadata": {},
   "outputs": [],
   "source": [
    "# df_api_ko['component'] = df_api_ko['component'].astype(\"string\")\n",
    "# df_api_ko['name'] = df_api_ko['name'].astype(\"string\")\n",
    "# df_api_ko['description'] = df_api_ko['description'].astype(\"string\")"
   ]
  },
  {
   "cell_type": "code",
   "execution_count": null,
   "metadata": {},
   "outputs": [],
   "source": [
    "# df_api_ko['text']"
   ]
  },
  {
   "cell_type": "code",
   "execution_count": null,
   "metadata": {},
   "outputs": [],
   "source": [
    "# df_api_ko['description']"
   ]
  },
  {
   "cell_type": "code",
   "execution_count": null,
   "metadata": {
    "scrolled": true
   },
   "outputs": [],
   "source": [
    "# df_api_ko.head()"
   ]
  },
  {
   "cell_type": "markdown",
   "metadata": {},
   "source": [
    "# 4. 문서를 token (500)이하로 분리하여 저장"
   ]
  },
  {
   "cell_type": "code",
   "execution_count": null,
   "metadata": {},
   "outputs": [],
   "source": [
    "max_tokens = 500\n",
    "\n",
    "# Function to split the text into chunks of a maximum number of tokens\n",
    "def split_into_many(text, max_tokens = max_tokens):\n",
    "\n",
    "    # Split the text into sentences\n",
    "    sentences = text.split('. ')\n",
    "\n",
    "    # Get the number of tokens for each sentence\n",
    "    n_tokens = [len(tokenizer.encode(\" \" + sentence)) for sentence in sentences]\n",
    "    \n",
    "    chunks = []\n",
    "    tokens_so_far = 0\n",
    "    chunk = []\n",
    "\n",
    "    # Loop through the sentences and tokens joined together in a tuple\n",
    "    for sentence, token in zip(sentences, n_tokens):\n",
    "\n",
    "        # If the number of tokens so far plus the number of tokens in the current sentence is greater \n",
    "        # than the max number of tokens, then add the chunk to the list of chunks and reset\n",
    "        # the chunk and tokens so far\n",
    "        if tokens_so_far + token > max_tokens:\n",
    "            chunks.append(\". \".join(chunk) + \".\")\n",
    "            chunk = []\n",
    "            tokens_so_far = 0\n",
    "\n",
    "        # If the number of tokens in the current sentence is greater than the max number of \n",
    "        # tokens, go to the next sentence\n",
    "        if token > max_tokens:\n",
    "            continue\n",
    "\n",
    "        # Otherwise, add the sentence to the chunk and add the number of tokens to the total\n",
    "        chunk.append(sentence)\n",
    "        tokens_so_far += token + 1\n",
    "\n",
    "    chunks.append(\". \".join(chunk) + \".\")\n",
    "    return chunks\n",
    "    \n"
   ]
  },
  {
   "cell_type": "code",
   "execution_count": null,
   "metadata": {},
   "outputs": [],
   "source": [
    "shortened_ko = []\n",
    "\n",
    "# Loop through the dataframe\n",
    "for row in df_ko.iterrows():\n",
    "\n",
    "    # If the text is None, go to the next row\n",
    "    if row[1]['text'] is None:\n",
    "        continue\n",
    "\n",
    "    # If the number of tokens is greater than the max number of tokens, split the text into chunks\n",
    "    if row[1]['n_tokens'] > max_tokens:\n",
    "        shortened_ko += split_into_many(row[1]['text'])\n",
    "    \n",
    "    # Otherwise, add the text to the list of shortened texts\n",
    "    else:\n",
    "        shortened_ko.append( row[1]['text'] )\n",
    "        \n",
    "\n",
    "shortened_en = []\n",
    "\n",
    "# Loop through the dataframe\n",
    "for row in df_en.iterrows():\n",
    "\n",
    "    # If the text is None, go to the next row\n",
    "    if row[1]['text'] is None:\n",
    "        continue\n",
    "\n",
    "    # If the number of tokens is greater than the max number of tokens, split the text into chunks\n",
    "    if row[1]['n_tokens'] > max_tokens:\n",
    "        shortened_en += split_into_many(row[1]['text'])\n",
    "    \n",
    "    # Otherwise, add the text to the list of shortened texts\n",
    "    else:\n",
    "        shortened_en.append( row[1]['text'] )\n",
    "\n",
    "        \n",
    "shortened_guide_ko = []\n",
    "\n",
    "# Loop through the dataframe\n",
    "for row in df_guide_ko.iterrows():\n",
    "\n",
    "    # If the text is None, go to the next row\n",
    "    if row[1]['text'] is None:\n",
    "        continue\n",
    "\n",
    "    # If the number of tokens is greater than the max number of tokens, split the text into chunks\n",
    "    if row[1]['n_tokens'] > max_tokens:\n",
    "        split_text = split_into_many(row[1]['text'])\n",
    "        for idx, text in enumerate(split_text):\n",
    "            shortened_guide_ko.append( [row[1]['link'], row[1]['type'], text] )\n",
    "    \n",
    "    # Otherwise, add the text to the list of shortened texts\n",
    "    else:\n",
    "        shortened_guide_ko.append( [row[1]['link'], row[1]['type'], row[1]['text']] )\n"
   ]
  },
  {
   "cell_type": "markdown",
   "metadata": {},
   "source": [
    "# 5. token 크기 분포 확인"
   ]
  },
  {
   "cell_type": "markdown",
   "metadata": {},
   "source": [
    "## 한글의 경우"
   ]
  },
  {
   "cell_type": "code",
   "execution_count": null,
   "metadata": {},
   "outputs": [],
   "source": [
    "df_ko = pd.DataFrame(shortened_ko, columns = ['text'])\n",
    "df_ko['n_tokens'] = df_ko.text.apply(lambda x: len(tokenizer.encode(x)))\n",
    "df_ko.n_tokens.hist()"
   ]
  },
  {
   "cell_type": "markdown",
   "metadata": {},
   "source": [
    "## 영어의 경우"
   ]
  },
  {
   "cell_type": "code",
   "execution_count": null,
   "metadata": {
    "scrolled": false
   },
   "outputs": [],
   "source": [
    "df_en = pd.DataFrame(shortened_en, columns = ['text'])\n",
    "df_en['n_tokens'] = df_en.text.apply(lambda x: len(tokenizer.encode(x)))\n",
    "df_en.n_tokens.hist()"
   ]
  },
  {
   "cell_type": "markdown",
   "metadata": {},
   "source": [
    "## 개발자가이드 문서의 경우 (링크 포함 버전)"
   ]
  },
  {
   "cell_type": "code",
   "execution_count": null,
   "metadata": {},
   "outputs": [],
   "source": [
    "df_guide_ko = pd.DataFrame(shortened_guide_ko, columns = ['link', 'type', 'text'])\n",
    "df_guide_ko['n_tokens'] = df_guide_ko.text.apply(lambda x: len(tokenizer.encode(x)))\n",
    "df_guide_ko.n_tokens.hist()"
   ]
  },
  {
   "cell_type": "code",
   "execution_count": null,
   "metadata": {},
   "outputs": [],
   "source": [
    "df_guide_ko.head()"
   ]
  },
  {
   "cell_type": "markdown",
   "metadata": {},
   "source": [
    "# 6. gpt를 이용하여 문서를 정리 및 축약한 다음 작업"
   ]
  },
  {
   "cell_type": "markdown",
   "metadata": {},
   "source": [
    "## GPT를 이용하여 cleaning하기 위해 문서를 token (2500)이하로 분리하여 저장"
   ]
  },
  {
   "cell_type": "code",
   "execution_count": null,
   "metadata": {},
   "outputs": [],
   "source": [
    "max_tokens_cleaning = 2500\n",
    "\n",
    "cleaning_ko = []\n",
    "\n",
    "# Loop through the dataframe\n",
    "for row in df_ko.iterrows():\n",
    "\n",
    "    # If the text is None, go to the next row\n",
    "    if row[1]['text'] is None:\n",
    "        continue\n",
    "\n",
    "    # If the number of tokens is greater than the max number of tokens, split the text into chunks\n",
    "    if row[1]['n_tokens'] > max_tokens_cleaning:\n",
    "        cleaning_ko += split_into_many(row[1]['text'], max_tokens=max_tokens_cleaning)\n",
    "    \n",
    "    # Otherwise, add the text to the list of shortened texts\n",
    "    else:\n",
    "        cleaning_ko.append( row[1]['text'] )\n",
    "        \n",
    "\n",
    "cleaning_en = []\n",
    "\n",
    "# Loop through the dataframe\n",
    "for row in df_en.iterrows():\n",
    "\n",
    "    # If the text is None, go to the next row\n",
    "    if row[1]['text'] is None:\n",
    "        continue\n",
    "\n",
    "    # If the number of tokens is greater than the max number of tokens, split the text into chunks\n",
    "    if row[1]['n_tokens'] > max_tokens_cleaning:\n",
    "        cleaning_en += split_into_many(row[1]['text'], max_tokens=max_tokens_cleaning)\n",
    "    \n",
    "    # Otherwise, add the text to the list of shortened texts\n",
    "    else:\n",
    "        cleaning_en.append( row[1]['text'] )\n",
    "        "
   ]
  },
  {
   "cell_type": "markdown",
   "metadata": {},
   "source": [
    "## 한글의 경우 (cleaning 대상)"
   ]
  },
  {
   "cell_type": "code",
   "execution_count": null,
   "metadata": {},
   "outputs": [],
   "source": [
    "df_cleaning_ko = pd.DataFrame(cleaning_ko, columns = ['text'])\n",
    "df_cleaning_ko['n_tokens'] = df_cleaning_ko.text.apply(lambda x: len(tokenizer.encode(x)))\n",
    "df_cleaning_ko.n_tokens.hist()"
   ]
  },
  {
   "cell_type": "markdown",
   "metadata": {},
   "source": [
    "## 영어의 경우 (cleaning 대상)"
   ]
  },
  {
   "cell_type": "code",
   "execution_count": null,
   "metadata": {},
   "outputs": [],
   "source": [
    "df_cleaning_en = pd.DataFrame(cleaning_en, columns = ['text'])\n",
    "df_cleaning_en['n_tokens'] = df_cleaning_en.text.apply(lambda x: len(tokenizer.encode(x)))\n",
    "df_cleaning_en.n_tokens.hist()"
   ]
  },
  {
   "cell_type": "code",
   "execution_count": null,
   "metadata": {},
   "outputs": [],
   "source": [
    "df_cleaning_ko.head()"
   ]
  },
  {
   "cell_type": "code",
   "execution_count": null,
   "metadata": {},
   "outputs": [],
   "source": [
    "df_cleaning_ko.to_csv('processed/before_cleaning_ko.csv')"
   ]
  },
  {
   "cell_type": "code",
   "execution_count": null,
   "metadata": {},
   "outputs": [],
   "source": [
    "df_cleaning_en.head()"
   ]
  },
  {
   "cell_type": "code",
   "execution_count": null,
   "metadata": {},
   "outputs": [],
   "source": [
    "df_cleaning_en.to_csv('processed/before_cleaning_en.csv')"
   ]
  },
  {
   "cell_type": "markdown",
   "metadata": {},
   "source": [
    "## gpt-3로 축약 작업 진행 (외부 프로그램으로 진행)\n",
    "\n",
    "I want you to act as a technical writer and proofreader. You'll be reviewing, rewriting and summarizing for ease of understanding.  Below is detailed instruction.\n",
    "\n",
    "- Do not give any explanation for your answer. \n",
    "- Do not add content that is not in the original text. \n",
    "- You can use only the sample or example code in the original text.\n",
    "- Up to 1400 tokens and no more than 50% the length of the original text. \n",
    "- Answer in Korean. \n"
   ]
  },
  {
   "cell_type": "markdown",
   "metadata": {},
   "source": [
    "## 축약 작업 결과를 로드"
   ]
  },
  {
   "cell_type": "code",
   "execution_count": null,
   "metadata": {
    "scrolled": false
   },
   "outputs": [],
   "source": [
    "df_after_cleaning_ko=pd.read_csv('processed/after_cleaning_ko.csv', index_col=0)\n",
    "df_after_cleaning_ko"
   ]
  },
  {
   "cell_type": "code",
   "execution_count": null,
   "metadata": {
    "scrolled": false
   },
   "outputs": [],
   "source": [
    "df_after_cleaning_ko = pd.DataFrame(df_after_cleaning_ko, columns = ['text'])\n",
    "df_after_cleaning_ko['n_tokens'] = df_after_cleaning_ko.text.apply(lambda x: len(tokenizer.encode(x)))\n",
    "df_after_cleaning_ko.n_tokens.hist()"
   ]
  },
  {
   "cell_type": "markdown",
   "metadata": {},
   "source": [
    "## 문서를 token (500)이하로 분리하여 저장"
   ]
  },
  {
   "cell_type": "code",
   "execution_count": null,
   "metadata": {},
   "outputs": [],
   "source": [
    "shortened_cleaning_ko = []\n",
    "\n",
    "# Loop through the dataframe\n",
    "for row in df_after_cleaning_ko.iterrows():\n",
    "\n",
    "    # If the text is None, go to the next row\n",
    "    if row[1]['text'] is None:\n",
    "        continue\n",
    "\n",
    "    # If the number of tokens is greater than the max number of tokens, split the text into chunks\n",
    "    if row[1]['n_tokens'] > max_tokens:\n",
    "        shortened_cleaning_ko += split_into_many(row[1]['text'])\n",
    "    \n",
    "    # Otherwise, add the text to the list of shortened texts\n",
    "    else:\n",
    "        shortened_cleaning_ko.append( row[1]['text'] )\n",
    "        "
   ]
  },
  {
   "cell_type": "code",
   "execution_count": null,
   "metadata": {
    "scrolled": false
   },
   "outputs": [],
   "source": [
    "df_after_cleaning_ko = pd.DataFrame(shortened_cleaning_ko, columns = ['text'])\n",
    "df_after_cleaning_ko['n_tokens'] = df_after_cleaning_ko.text.apply(lambda x: len(tokenizer.encode(x)))\n",
    "df_after_cleaning_ko.n_tokens.hist()"
   ]
  },
  {
   "cell_type": "markdown",
   "metadata": {},
   "source": [
    "# 7. OpenAI API를 이용하여 embedding 계산 하여 저장\n",
    "이미 계산된 파일을 이용하는 경우 실행 불필요 (실행이 필요한 경우 주석을 제거한 다음 실행)"
   ]
  },
  {
   "cell_type": "markdown",
   "metadata": {},
   "source": [
    "## 원본을 embedding"
   ]
  },
  {
   "cell_type": "code",
   "execution_count": null,
   "metadata": {},
   "outputs": [],
   "source": [
    "# import openai\n",
    "\n",
    "# df_ko['embeddings'] = df_ko.text.apply(lambda x: openai.Embedding.create(input=x, engine='text-embedding-ada-002')['data'][0]['embedding'])\n",
    "# df_ko.to_csv('processed/embeddings_ko.csv')\n",
    "# df_ko.head()"
   ]
  },
  {
   "cell_type": "code",
   "execution_count": null,
   "metadata": {},
   "outputs": [],
   "source": [
    "# import openai\n",
    "\n",
    "# df_en['embeddings'] = df_en.text.apply(lambda x: openai.Embedding.create(input=x, engine='text-embedding-ada-002')['data'][0]['embedding'])\n",
    "# df_en.to_csv('processed/embeddings_en.csv')\n",
    "# df_en.head()"
   ]
  },
  {
   "cell_type": "markdown",
   "metadata": {},
   "source": [
    "## 개발자가이드 문서를 embedding (링크 포함 버전)"
   ]
  },
  {
   "cell_type": "code",
   "execution_count": null,
   "metadata": {},
   "outputs": [],
   "source": [
    "df_guide_ko"
   ]
  },
  {
   "cell_type": "code",
   "execution_count": null,
   "metadata": {},
   "outputs": [],
   "source": [
    "# import openai\n",
    "\n",
    "# df_guide_ko['embeddings'] = df_guide_ko.text.apply(lambda x: openai.Embedding.create(input=x, engine='text-embedding-ada-002')['data'][0]['embedding'])\n",
    "# df_guide_ko.to_csv('processed/embeddings_guide_ko.csv')\n",
    "# df_guide_ko.head()"
   ]
  },
  {
   "cell_type": "markdown",
   "metadata": {},
   "source": [
    "## cleaning한 결과를 embedding"
   ]
  },
  {
   "cell_type": "code",
   "execution_count": null,
   "metadata": {},
   "outputs": [],
   "source": [
    "# import openai\n",
    "\n",
    "# df_after_cleaning_ko['embeddings'] = df_after_cleaning_ko.text.apply(lambda x: openai.Embedding.create(input=x, engine='text-embedding-ada-002')['data'][0]['embedding'])\n",
    "# df_after_cleaning_ko.to_csv('processed/embeddings_cleaning_ko.csv')\n",
    "# df_after_cleaning_ko.head()"
   ]
  },
  {
   "cell_type": "code",
   "execution_count": null,
   "metadata": {},
   "outputs": [],
   "source": [
    "# import openai\n",
    "\n",
    "# df_cleaning_en['embeddings'] = df_cleaning_en.text.apply(lambda x: openai.Embedding.create(input=x, engine='text-embedding-ada-002')['data'][0]['embedding'])\n",
    "# df_cleaning_en.to_csv('processed/embeddings_cleaning_en.csv')\n",
    "# df_cleaning_en.head()"
   ]
  },
  {
   "cell_type": "markdown",
   "metadata": {},
   "source": [
    "## API를 embedding "
   ]
  },
  {
   "cell_type": "code",
   "execution_count": null,
   "metadata": {},
   "outputs": [],
   "source": [
    "# import openai\n",
    "\n",
    "# df_api_ko['embeddings'] = df_api_ko.text.apply(lambda x: openai.Embedding.create(input=x, engine='text-embedding-ada-002')['data'][0]['embedding'])\n",
    "# df_api_ko.to_csv('processed/embeddings_api_ko.csv')\n",
    "# df_api_ko.head()"
   ]
  },
  {
   "cell_type": "markdown",
   "metadata": {},
   "source": [
    "# 8. embedding이 포함된 파일을 pandas에 로딩"
   ]
  },
  {
   "cell_type": "markdown",
   "metadata": {},
   "source": [
    "## 한글의 경우"
   ]
  },
  {
   "cell_type": "code",
   "execution_count": null,
   "metadata": {
    "scrolled": true
   },
   "outputs": [],
   "source": [
    "import pandas as pd\n",
    "import numpy as np\n",
    "from openai.embeddings_utils import distances_from_embeddings, cosine_similarity\n",
    "\n",
    "df_ko=pd.read_csv('processed/embeddings_ko.csv', index_col=0)\n",
    "df_ko['embeddings'] = df_ko['embeddings'].apply(eval).apply(np.array)\n",
    "\n",
    "df_ko.head()\n"
   ]
  },
  {
   "cell_type": "markdown",
   "metadata": {},
   "source": [
    "## 영어의 경우"
   ]
  },
  {
   "cell_type": "code",
   "execution_count": null,
   "metadata": {
    "scrolled": false
   },
   "outputs": [],
   "source": [
    "import pandas as pd\n",
    "import numpy as np\n",
    "from openai.embeddings_utils import distances_from_embeddings, cosine_similarity\n",
    "\n",
    "df_en=pd.read_csv('processed/embeddings_en.csv', index_col=0)\n",
    "df_en['embeddings'] = df_en['embeddings'].apply(eval).apply(np.array)\n",
    "\n",
    "df_en.head()\n"
   ]
  },
  {
   "cell_type": "markdown",
   "metadata": {},
   "source": [
    "## 개발자가이드 문서의 경우 (링크 포함 버전)"
   ]
  },
  {
   "cell_type": "code",
   "execution_count": null,
   "metadata": {},
   "outputs": [],
   "source": [
    "import pandas as pd\n",
    "import numpy as np\n",
    "from openai.embeddings_utils import distances_from_embeddings, cosine_similarity\n",
    "\n",
    "df_guide_ko=pd.read_csv('processed/embeddings_guide_ko.csv', index_col=0)\n",
    "df_guide_ko['embeddings'] = df_guide_ko['embeddings'].apply(eval).apply(np.array)\n",
    "\n",
    "df_guide_ko.head()"
   ]
  },
  {
   "cell_type": "markdown",
   "metadata": {},
   "source": [
    "## 축약 버전의 경우"
   ]
  },
  {
   "cell_type": "code",
   "execution_count": null,
   "metadata": {},
   "outputs": [],
   "source": [
    "import pandas as pd\n",
    "import numpy as np\n",
    "from openai.embeddings_utils import distances_from_embeddings, cosine_similarity\n",
    "\n",
    "df_after_cleaning_ko=pd.read_csv('processed/embeddings_cleaning_ko.csv', index_col=0)\n",
    "df_after_cleaning_ko['embeddings'] = df_after_cleaning_ko['embeddings'].apply(eval).apply(np.array)\n",
    "\n",
    "df_after_cleaning_ko.head()\n"
   ]
  },
  {
   "cell_type": "markdown",
   "metadata": {},
   "source": [
    "## API의 경우"
   ]
  },
  {
   "cell_type": "code",
   "execution_count": null,
   "metadata": {
    "scrolled": true
   },
   "outputs": [],
   "source": [
    "import pandas as pd\n",
    "import numpy as np\n",
    "from openai.embeddings_utils import distances_from_embeddings, cosine_similarity\n",
    "\n",
    "df_api_ko=pd.read_csv('processed/embeddings_api_ko.csv', index_col=0)\n",
    "df_api_ko['embeddings'] = df_api_ko['embeddings'].apply(eval).apply(np.array)\n",
    "\n",
    "df_api_ko.head()\n"
   ]
  },
  {
   "cell_type": "markdown",
   "metadata": {},
   "source": [
    "# 9. gpt에 전달할 context 생성\n",
    "\n",
    "1. 질문의 embedding 생성\n",
    "2. 질문과 기존 embedding의 유사도를 계산하여 가장 높은 항목 추출\n",
    "3. max_token (1500)을 초과하지 않는 범위에서 유사도가 높은 항목을 context로 생성\n",
    "4. OpenAI에서 제공하는 api 호출\n",
    "\n",
    "\n",
    "* answer_question_chat는 chat api 사용\n",
    "* answer_question_completion는 completion api 사용 "
   ]
  },
  {
   "cell_type": "code",
   "execution_count": null,
   "metadata": {},
   "outputs": [],
   "source": [
    "def create_context(\n",
    "    question, df, max_len=1500, debug=False\n",
    "):\n",
    "    \"\"\"\n",
    "    Create a context for a question by finding the most similar context from the dataframe\n",
    "    \"\"\"\n",
    "\n",
    "    # Get the embeddings for the question\n",
    "    q_embeddings = openai.Embedding.create(input=question, engine='text-embedding-ada-002')['data'][0]['embedding']\n",
    "\n",
    "    # Get the distances from the embeddings\n",
    "    df['distances'] = distances_from_embeddings(q_embeddings, df['embeddings'].values, distance_metric='cosine')\n",
    "\n",
    "\n",
    "    returns = []\n",
    "    cur_len = 0\n",
    "    prev_distance = 0\n",
    "    prev_msg = \"\"\n",
    "\n",
    "    # Sort by distance and add the text to the context until the context is too long\n",
    "    for i, row in df.sort_values('distances', ascending=True).iterrows():\n",
    "        \n",
    "        if prev_distance == row['distances']:\n",
    "#             print(\"이전 목록과 동일 (distance)\")\n",
    "            continue\n",
    "        elif prev_msg == row['text']:\n",
    "#             print(\"이전 목록과 동일 (문자열)\")\n",
    "            continue\n",
    "        else:\n",
    "            prev_distance = row['distances']\n",
    "            prev_msg = row['text']            \n",
    "\n",
    "            # Add the length of the text to the current length\n",
    "            cur_len += row['n_tokens'] + 4\n",
    "\n",
    "            # If the context is too long, break\n",
    "            if cur_len > max_len:\n",
    "                break\n",
    "\n",
    "            if debug:\n",
    "                print(i, row['distances'], row['text'])\n",
    "            # Else add it to the text that is being returned\n",
    "            returns.append(row[\"text\"])\n",
    "\n",
    "    # Return the context\n",
    "    return \"\\n\\n###\\n\\n\".join(returns)\n",
    "\n",
    "\n",
    "def answer_question_chat(\n",
    "    df,\n",
    "    model=\"gpt-3.5-turbo\",\n",
    "    question=\"Am I allowed to publish model outputs to Twitter, without a human review?\",\n",
    "    max_len=2800,\n",
    "    debug=False,\n",
    "#     max_tokens=150,\n",
    "    stop_sequence=None\n",
    "):\n",
    "    \"\"\"\n",
    "    Answer a question based on the most similar context from the dataframe texts\n",
    "    \"\"\"\n",
    "    context = create_context(\n",
    "        question,\n",
    "        df,\n",
    "        max_len=max_len,\n",
    "        debug=debug\n",
    "    )\n",
    "    # If debug, print the raw model response\n",
    "    if debug:\n",
    "        print(\"\\n\\nContext:\\n\" + context)\n",
    "        print(\"\\n\\n\")\n",
    "\n",
    "    try:\n",
    "        # Create a completions using the question and context\n",
    "        response = openai.ChatCompletion.create(\n",
    "            model=model,\n",
    "            messages=[\n",
    "                {\"role\": \"user\", \"content\": f\"Answer the question based on the context below, and if the question can't be answered based on the context, say \\\"I don't know\\\"\\n\\nContext: {context}\\n\\n---\\n\\nQuestion: {question}\\nAnswer:\"}\n",
    "            ],\n",
    "            temperature=0,\n",
    "#             max_tokens=max_tokens,\n",
    "            top_p=1,\n",
    "            frequency_penalty=0,\n",
    "            presence_penalty=0,\n",
    "            stop=stop_sequence,\n",
    "        )\n",
    "\n",
    "        return response[\"choices\"][0][\"message\"][\"content\"].strip()\n",
    "    except Exception as e:\n",
    "        print(e)\n",
    "        return \"\"\n",
    "\n",
    "def answer_question_completion(\n",
    "    df,\n",
    "    model=\"text-davinci-003\",\n",
    "    question=\"Am I allowed to publish model outputs to Twitter, without a human review?\",\n",
    "    max_len=1500,\n",
    "    debug=False,\n",
    "#     max_tokens=150,\n",
    "    stop_sequence=None\n",
    "):\n",
    "    \"\"\"\n",
    "    Answer a question based on the most similar context from the dataframe texts\n",
    "    \"\"\"\n",
    "    context = create_context(\n",
    "        question,\n",
    "        df,\n",
    "        max_len=max_len,\n",
    "        debug=debug\n",
    "    )\n",
    "    # If debug, print the raw model response\n",
    "    if debug:\n",
    "        print(\"\\n\\nContext:\\n\" + context)\n",
    "        print(\"\\n\\n\")\n",
    "\n",
    "    try:\n",
    "        # Create a completions using the question and context\n",
    "        response = openai.Completion.create(\n",
    "            prompt=f\"Answer the question based on the context below, and if the question can't be answered based on the context, say \\\"I don't know\\\"\\n\\nContext: {context}\\n\\n---\\n\\nQuestion: {question}:\\nAnswer:\",\n",
    "            temperature=0,\n",
    "#             max_tokens=max_tokens,\n",
    "            top_p=1,\n",
    "            frequency_penalty=0,\n",
    "            presence_penalty=0,\n",
    "            stop=stop_sequence,\n",
    "            model=model,\n",
    "        )\n",
    "        return response[\"choices\"][0][\"text\"].strip()\n",
    "    except Exception as e:\n",
    "        print(e)\n",
    "        return \"\"\n",
    "\n",
    "def search_context(\n",
    "    df, question, max_cnt=5, debug=False\n",
    "):\n",
    "    \"\"\"\n",
    "    Create a context for a question by finding the most similar context from the dataframe\n",
    "    \"\"\"\n",
    "\n",
    "    # Get the embeddings for the question\n",
    "    q_embeddings = openai.Embedding.create(input=question, engine='text-embedding-ada-002')['data'][0]['embedding']\n",
    "\n",
    "    # Get the distances from the embeddings\n",
    "    df['distances'] = distances_from_embeddings(q_embeddings, df['embeddings'].values, distance_metric='cosine')\n",
    "\n",
    "\n",
    "    returns = []\n",
    "    cur_cnt = 0\n",
    "    prev_distance = 0\n",
    "    prev_msg = \"\"\n",
    "\n",
    "    # Sort by distance and add the text to the context until the context is too long\n",
    "    for i, row in df.sort_values('distances', ascending=True).iterrows():\n",
    "        \n",
    "        if prev_distance == row['distances']:\n",
    "            print(\"이전 목록과 동일 (distance)\")\n",
    "            continue\n",
    "        elif prev_msg == row['text']:\n",
    "            print(\"이전 목록과 동일 (문자열)\")\n",
    "            continue\n",
    "        else:\n",
    "            prev_distance = row['distances']\n",
    "            prev_msg = row['text']\n",
    "\n",
    "            # Add the length of the text to the current length\n",
    "            cur_cnt += 1\n",
    "\n",
    "            # If the context is too long, break\n",
    "            if cur_cnt > max_cnt:\n",
    "                break\n",
    "\n",
    "#             if debug:\n",
    "            print(i, row['distances'], row['text'])\n",
    "            # Else add it to the text that is being returned\n",
    "            returns.append(row[\"text\"])\n",
    "\n",
    "    # Return the context\n",
    "    return \"\\n\\n---\\n\\n\".join(returns)\n"
   ]
  },
  {
   "cell_type": "markdown",
   "metadata": {},
   "source": [
    "# 10. gpt를 이용하여 질문/답변 확인\n",
    "\n",
    "gpt4를 사용하려고 하는 경우 answer_question_chat 함수에 model=\"gpt-4\" 인자를 추가하면 됨"
   ]
  },
  {
   "cell_type": "code",
   "execution_count": null,
   "metadata": {
    "scrolled": true
   },
   "outputs": [],
   "source": [
    "answer_question_chat(df_ko, question=\"What day is it?\", debug=False)"
   ]
  },
  {
   "cell_type": "code",
   "execution_count": null,
   "metadata": {
    "scrolled": false
   },
   "outputs": [],
   "source": [
    "answer_question_chat(df_en, question=\"What day is it?\", debug=False)"
   ]
  },
  {
   "cell_type": "code",
   "execution_count": null,
   "metadata": {},
   "outputs": [],
   "source": [
    "answer_question_chat(df_guide_ko, question=\"What day is it?\", debug=False)"
   ]
  },
  {
   "cell_type": "code",
   "execution_count": null,
   "metadata": {},
   "outputs": [],
   "source": [
    "answer_question_chat(df_after_cleaning_ko, question=\"What day is it?\", debug=False)"
   ]
  },
  {
   "cell_type": "code",
   "execution_count": null,
   "metadata": {},
   "outputs": [],
   "source": [
    "answer_question_chat(df_ko, question=\"What is our newest embeddings model?\", debug=False)"
   ]
  },
  {
   "cell_type": "code",
   "execution_count": null,
   "metadata": {
    "scrolled": true
   },
   "outputs": [],
   "source": [
    "answer_question_chat(df_en, question=\"What is our newest embeddings model?\", debug=False)"
   ]
  },
  {
   "cell_type": "code",
   "execution_count": null,
   "metadata": {},
   "outputs": [],
   "source": [
    "answer_question_chat(df_guide_ko, question=\"What is our newest embeddings model?\", debug=False)"
   ]
  },
  {
   "cell_type": "code",
   "execution_count": null,
   "metadata": {},
   "outputs": [],
   "source": [
    "answer_question_chat(df_after_cleaning_ko, question=\"What is our newest embeddings model?\", debug=False)"
   ]
  },
  {
   "cell_type": "code",
   "execution_count": null,
   "metadata": {},
   "outputs": [],
   "source": [
    "answer_question_chat(df_ko, question=\"gridView에서 엑셀을 다운로드하려면?\", debug=False)"
   ]
  },
  {
   "cell_type": "code",
   "execution_count": null,
   "metadata": {
    "scrolled": true
   },
   "outputs": [],
   "source": [
    "answer_question_chat(df_en, question=\"gridView에서 엑셀을 다운로드하려면?\", debug=False)"
   ]
  },
  {
   "cell_type": "code",
   "execution_count": null,
   "metadata": {},
   "outputs": [],
   "source": [
    "answer_question_chat(df_guide_ko, question=\"gridView에서 엑셀을 다운로드하려면?\", debug=False)"
   ]
  },
  {
   "cell_type": "code",
   "execution_count": null,
   "metadata": {},
   "outputs": [],
   "source": [
    "answer_question_chat(df_after_cleaning_ko, question=\"gridView에서 엑셀을 다운로드하려면?\", debug=False)"
   ]
  },
  {
   "cell_type": "code",
   "execution_count": null,
   "metadata": {
    "scrolled": true
   },
   "outputs": [],
   "source": [
    "answer_question_chat(df_ko, question=\"autoComplete에서 항목을 서버에서 동적으로 조회하려면 어떤 속성이나 API를 이용해야 하나요?\", debug=False)"
   ]
  },
  {
   "cell_type": "code",
   "execution_count": null,
   "metadata": {},
   "outputs": [],
   "source": [
    "answer_question_chat(df_en, question=\"autoComplete에서 항목을 서버에서 동적으로 조회하려면 어떤 속성이나 API를 이용해야 하나요?\", debug=False)"
   ]
  },
  {
   "cell_type": "code",
   "execution_count": null,
   "metadata": {},
   "outputs": [],
   "source": [
    "answer_question_chat(df_guide_ko, question=\"autoComplete에서 항목을 서버에서 동적으로 조회하려면 어떤 속성이나 API를 이용해야 하나요?\", debug=False)"
   ]
  },
  {
   "cell_type": "code",
   "execution_count": null,
   "metadata": {},
   "outputs": [],
   "source": [
    "answer_question_chat(df_after_cleaning_ko, question=\"autoComplete에서 항목을 서버에서 동적으로 조회하려면 어떤 속성이나 API를 이용해야 하나요?\", debug=False)"
   ]
  },
  {
   "cell_type": "code",
   "execution_count": null,
   "metadata": {},
   "outputs": [],
   "source": [
    "answer_question_chat(df_ko, question=\"autoComplete에서 항목을 서버에서 조회하려면 API?\", debug=False)"
   ]
  },
  {
   "cell_type": "code",
   "execution_count": null,
   "metadata": {
    "scrolled": false
   },
   "outputs": [],
   "source": [
    "answer_question_chat(df_en, question=\"autoComplete에서 항목을 서버에서 조회하려면 API?\", debug=False)"
   ]
  },
  {
   "cell_type": "code",
   "execution_count": null,
   "metadata": {},
   "outputs": [],
   "source": [
    "answer_question_chat(df_guide_ko, question=\"autoComplete에서 항목을 서버에서 조회하려면 API?\", debug=False)"
   ]
  },
  {
   "cell_type": "code",
   "execution_count": null,
   "metadata": {},
   "outputs": [],
   "source": [
    "answer_question_chat(df_after_cleaning_ko, question=\"autoComplete에서 항목을 서버에서 조회하려면 API?\", debug=False)"
   ]
  },
  {
   "cell_type": "code",
   "execution_count": null,
   "metadata": {},
   "outputs": [],
   "source": [
    "answer_question_completion(df_ko, question=\"autoComplete에서 항목을 서버에서 동적으로 조회하려면 어떤 속성이나 API를 이용해야 하나요?\", debug=False)"
   ]
  },
  {
   "cell_type": "code",
   "execution_count": null,
   "metadata": {},
   "outputs": [],
   "source": [
    "answer_question_completion(df_en, question=\"autoComplete에서 항목을 서버에서 동적으로 조회하려면 어떤 속성이나 API를 이용해야 하나요?\", debug=False)"
   ]
  },
  {
   "cell_type": "code",
   "execution_count": null,
   "metadata": {},
   "outputs": [],
   "source": [
    "answer_question_completion(df_guide_ko, question=\"autoComplete에서 항목을 서버에서 동적으로 조회하려면 어떤 속성이나 API를 이용해야 하나요?\", debug=False)"
   ]
  },
  {
   "cell_type": "code",
   "execution_count": null,
   "metadata": {},
   "outputs": [],
   "source": [
    "answer_question_completion(df_after_cleaning_ko, question=\"autoComplete에서 항목을 서버에서 동적으로 조회하려면 어떤 속성이나 API를 이용해야 하나요?\", debug=False)"
   ]
  },
  {
   "cell_type": "code",
   "execution_count": null,
   "metadata": {},
   "outputs": [],
   "source": [
    "answer_question_chat(df_ko, question=\"첨부드린 이미지 처럼 그리드에서 특정 행이나 버튼을 클릭시 그 행에 포함되어 숨어있던 하위 행들을 노출할수 있는기능이 가능할런지요? 기능 구현상 가능여부 확인이 필요하여 문의 드립니다.전체목록열기 버튼 클릭시 기본 노출되는 행 아래로 숨어있던 전체 행들이 나타나게 구현하고자 합니다.혹여 그리드가 안된다면 다른 방법이 있을지도 추가 문의 드립니다.확인 요청 드립니다. 감사합니다.\")"
   ]
  },
  {
   "cell_type": "code",
   "execution_count": null,
   "metadata": {},
   "outputs": [],
   "source": [
    "answer_question_chat(df_en, question=\"첨부드린 이미지 처럼 그리드에서 특정 행이나 버튼을 클릭시 그 행에 포함되어 숨어있던 하위 행들을 노출할수 있는기능이 가능할런지요? 기능 구현상 가능여부 확인이 필요하여 문의 드립니다.전체목록열기 버튼 클릭시 기본 노출되는 행 아래로 숨어있던 전체 행들이 나타나게 구현하고자 합니다.혹여 그리드가 안된다면 다른 방법이 있을지도 추가 문의 드립니다.확인 요청 드립니다. 감사합니다.\")"
   ]
  },
  {
   "cell_type": "code",
   "execution_count": null,
   "metadata": {},
   "outputs": [],
   "source": [
    "answer_question_chat(df_guide_ko, question=\"첨부드린 이미지 처럼 그리드에서 특정 행이나 버튼을 클릭시 그 행에 포함되어 숨어있던 하위 행들을 노출할수 있는기능이 가능할런지요? 기능 구현상 가능여부 확인이 필요하여 문의 드립니다.전체목록열기 버튼 클릭시 기본 노출되는 행 아래로 숨어있던 전체 행들이 나타나게 구현하고자 합니다.혹여 그리드가 안된다면 다른 방법이 있을지도 추가 문의 드립니다.확인 요청 드립니다. 감사합니다.\")"
   ]
  },
  {
   "cell_type": "code",
   "execution_count": null,
   "metadata": {},
   "outputs": [],
   "source": [
    "answer_question_chat(df_after_cleaning_ko, question=\"첨부드린 이미지 처럼 그리드에서 특정 행이나 버튼을 클릭시 그 행에 포함되어 숨어있던 하위 행들을 노출할수 있는기능이 가능할런지요? 기능 구현상 가능여부 확인이 필요하여 문의 드립니다.전체목록열기 버튼 클릭시 기본 노출되는 행 아래로 숨어있던 전체 행들이 나타나게 구현하고자 합니다.혹여 그리드가 안된다면 다른 방법이 있을지도 추가 문의 드립니다.확인 요청 드립니다. 감사합니다.\")"
   ]
  },
  {
   "cell_type": "code",
   "execution_count": null,
   "metadata": {},
   "outputs": [],
   "source": [
    "answer_question_chat(df_ko, question=\"그리드 특정 행 버튼 클릭 하위 행 노출 기능 가능여부 확인 전체목록열기 버튼 기본 노출 행 아래 전체 행 나타나게 구현 다른 방법 추가 문의 확인 요청\")"
   ]
  },
  {
   "cell_type": "code",
   "execution_count": null,
   "metadata": {},
   "outputs": [],
   "source": [
    "answer_question_chat(df_en, question=\"그리드 특정 행 버튼 클릭 하위 행 노출 기능 가능여부 확인 전체목록열기 버튼 기본 노출 행 아래 전체 행 나타나게 구현 다른 방법 추가 문의 확인 요청\")"
   ]
  },
  {
   "cell_type": "code",
   "execution_count": null,
   "metadata": {},
   "outputs": [],
   "source": [
    "answer_question_chat(df_guide_ko, question=\"그리드 특정 행 버튼 클릭 하위 행 노출 기능 가능여부 확인 전체목록열기 버튼 기본 노출 행 아래 전체 행 나타나게 구현 다른 방법 추가 문의 확인 요청\")"
   ]
  },
  {
   "cell_type": "code",
   "execution_count": null,
   "metadata": {},
   "outputs": [],
   "source": [
    "answer_question_chat(df_guide_ko, question=\"그리드 특정 행 버튼 클릭 하위 행 노출 기능 가능여부 확인 전체목록열기 버튼 기본 노출 행 아래 전체 행 나타나게 구현 다른 방법 추가 문의 확인 요청\")"
   ]
  },
  {
   "cell_type": "code",
   "execution_count": null,
   "metadata": {},
   "outputs": [],
   "source": [
    "answer_question_chat(df_after_cleaning_ko, question=\"그리드 특정 행 버튼 클릭 하위 행 노출 기능 가능여부 확인 전체목록열기 버튼 기본 노출 행 아래 전체 행 나타나게 구현 다른 방법 추가 문의 확인 요청\")"
   ]
  },
  {
   "cell_type": "code",
   "execution_count": null,
   "metadata": {
    "scrolled": true
   },
   "outputs": [],
   "source": [
    "answer_question_chat(df_ko, question=\"그리드에서 특정 행이나 버튼을 클릭시 그 행에 포함되어 숨어있던 하위 행들을 노출할수 있는기능이 가능할런지요? 기능 구현상 가능여부 확인이 필요하여 문의 드립니다.전체목록열기 버튼 클릭시 기본 노출되는 행 아래로 숨어있던 전체 행들이 나타나게 구현하고자 합니다.혹여 그리드가 안된다면 다른 방법이 있을지도 추가 문의 드립니다.\")"
   ]
  },
  {
   "cell_type": "code",
   "execution_count": null,
   "metadata": {},
   "outputs": [],
   "source": [
    "answer_question_chat(df_en, question=\"그리드에서 특정 행이나 버튼을 클릭시 그 행에 포함되어 숨어있던 하위 행들을 노출할수 있는기능이 가능할런지요? 기능 구현상 가능여부 확인이 필요하여 문의 드립니다.전체목록열기 버튼 클릭시 기본 노출되는 행 아래로 숨어있던 전체 행들이 나타나게 구현하고자 합니다.혹여 그리드가 안된다면 다른 방법이 있을지도 추가 문의 드립니다.\")"
   ]
  },
  {
   "cell_type": "code",
   "execution_count": null,
   "metadata": {},
   "outputs": [],
   "source": [
    "answer_question_chat(df_guide_ko, question=\"그리드에서 특정 행이나 버튼을 클릭시 그 행에 포함되어 숨어있던 하위 행들을 노출할수 있는기능이 가능할런지요? 기능 구현상 가능여부 확인이 필요하여 문의 드립니다.전체목록열기 버튼 클릭시 기본 노출되는 행 아래로 숨어있던 전체 행들이 나타나게 구현하고자 합니다.혹여 그리드가 안된다면 다른 방법이 있을지도 추가 문의 드립니다.\")"
   ]
  },
  {
   "cell_type": "code",
   "execution_count": null,
   "metadata": {},
   "outputs": [],
   "source": [
    "answer_question_chat(df_after_cleaning_ko, question=\"그리드에서 특정 행이나 버튼을 클릭시 그 행에 포함되어 숨어있던 하위 행들을 노출할수 있는기능이 가능할런지요? 기능 구현상 가능여부 확인이 필요하여 문의 드립니다.전체목록열기 버튼 클릭시 기본 노출되는 행 아래로 숨어있던 전체 행들이 나타나게 구현하고자 합니다.혹여 그리드가 안된다면 다른 방법이 있을지도 추가 문의 드립니다.\")"
   ]
  },
  {
   "cell_type": "code",
   "execution_count": null,
   "metadata": {},
   "outputs": [],
   "source": [
    "answer_question_chat(df_ko, model=\"gpt-4\", question=\"그리드에서 특정 행이나 버튼을 클릭시 그 행에 포함되어 숨어있던 하위 행들을 노출할수 있는기능이 가능할런지요? 기능 구현상 가능여부 확인이 필요하여 문의 드립니다.전체목록열기 버튼 클릭시 기본 노출되는 행 아래로 숨어있던 전체 행들이 나타나게 구현하고자 합니다.혹여 그리드가 안된다면 다른 방법이 있을지도 추가 문의 드립니다.\")"
   ]
  },
  {
   "cell_type": "code",
   "execution_count": null,
   "metadata": {},
   "outputs": [],
   "source": [
    "answer_question_chat(df_en, model=\"gpt-4\", question=\"그리드에서 특정 행이나 버튼을 클릭시 그 행에 포함되어 숨어있던 하위 행들을 노출할수 있는기능이 가능할런지요? 기능 구현상 가능여부 확인이 필요하여 문의 드립니다.전체목록열기 버튼 클릭시 기본 노출되는 행 아래로 숨어있던 전체 행들이 나타나게 구현하고자 합니다.혹여 그리드가 안된다면 다른 방법이 있을지도 추가 문의 드립니다.\")"
   ]
  },
  {
   "cell_type": "code",
   "execution_count": null,
   "metadata": {},
   "outputs": [],
   "source": [
    "answer_question_chat(df_guide_ko, model=\"gpt-4\", question=\"그리드에서 특정 행이나 버튼을 클릭시 그 행에 포함되어 숨어있던 하위 행들을 노출할수 있는기능이 가능할런지요? 기능 구현상 가능여부 확인이 필요하여 문의 드립니다.전체목록열기 버튼 클릭시 기본 노출되는 행 아래로 숨어있던 전체 행들이 나타나게 구현하고자 합니다.혹여 그리드가 안된다면 다른 방법이 있을지도 추가 문의 드립니다.\")"
   ]
  },
  {
   "cell_type": "code",
   "execution_count": null,
   "metadata": {},
   "outputs": [],
   "source": [
    "answer_question_chat(df_after_cleaning_ko, model=\"gpt-4\", question=\"그리드에서 특정 행이나 버튼을 클릭시 그 행에 포함되어 숨어있던 하위 행들을 노출할수 있는기능이 가능할런지요? 기능 구현상 가능여부 확인이 필요하여 문의 드립니다.전체목록열기 버튼 클릭시 기본 노출되는 행 아래로 숨어있던 전체 행들이 나타나게 구현하고자 합니다.혹여 그리드가 안된다면 다른 방법이 있을지도 추가 문의 드립니다.\")"
   ]
  },
  {
   "cell_type": "code",
   "execution_count": null,
   "metadata": {},
   "outputs": [],
   "source": [
    "answer_question_chat(df_ko, question=\"첨부드린 이미지 처럼 그리드에서 특정 행이나 버튼을 클릭시 그 행에 포함되어 숨어있던 하위 행들을 노출할수 있는기능이 가능할런지요? 기능 구현상 가능여부 확인이 필요하여 문의 드립니다.전체목록열기 버튼 클릭시 기본 노출되는 행 아래로 숨어있던 전체 행들이 나타나게 구현하고자 합니다.혹여 그리드가 안된다면 다른 방법이 있을지도 추가 문의 드립니다.\")"
   ]
  },
  {
   "cell_type": "code",
   "execution_count": null,
   "metadata": {},
   "outputs": [],
   "source": [
    "answer_question_chat(df_en, question=\"첨부드린 이미지 처럼 그리드에서 특정 행이나 버튼을 클릭시 그 행에 포함되어 숨어있던 하위 행들을 노출할수 있는기능이 가능할런지요? 기능 구현상 가능여부 확인이 필요하여 문의 드립니다.전체목록열기 버튼 클릭시 기본 노출되는 행 아래로 숨어있던 전체 행들이 나타나게 구현하고자 합니다.혹여 그리드가 안된다면 다른 방법이 있을지도 추가 문의 드립니다.\")"
   ]
  },
  {
   "cell_type": "code",
   "execution_count": null,
   "metadata": {},
   "outputs": [],
   "source": [
    "answer_question_chat(df_guide_ko, question=\"첨부드린 이미지 처럼 그리드에서 특정 행이나 버튼을 클릭시 그 행에 포함되어 숨어있던 하위 행들을 노출할수 있는기능이 가능할런지요? 기능 구현상 가능여부 확인이 필요하여 문의 드립니다.전체목록열기 버튼 클릭시 기본 노출되는 행 아래로 숨어있던 전체 행들이 나타나게 구현하고자 합니다.혹여 그리드가 안된다면 다른 방법이 있을지도 추가 문의 드립니다.\")"
   ]
  },
  {
   "cell_type": "code",
   "execution_count": null,
   "metadata": {},
   "outputs": [],
   "source": [
    "answer_question_chat(df_after_cleaning_ko, question=\"첨부드린 이미지 처럼 그리드에서 특정 행이나 버튼을 클릭시 그 행에 포함되어 숨어있던 하위 행들을 노출할수 있는기능이 가능할런지요? 기능 구현상 가능여부 확인이 필요하여 문의 드립니다.전체목록열기 버튼 클릭시 기본 노출되는 행 아래로 숨어있던 전체 행들이 나타나게 구현하고자 합니다.혹여 그리드가 안된다면 다른 방법이 있을지도 추가 문의 드립니다.\")"
   ]
  },
  {
   "cell_type": "code",
   "execution_count": null,
   "metadata": {},
   "outputs": [],
   "source": [
    "answer_question_chat(df_ko, question='''pivotExcelDownload 엑셀 다운로드시 표 상단을 병합 후 제목을 적으려고합니다. \n",
    "header에 열의 수만큼 병합하려합니다. 열의 수를 알 수 있는 방법이 있을까요?\n",
    "\n",
    "예시) \n",
    "\n",
    "                                        제목 : 00 빈도수 분포\n",
    " \n",
    " \t열1\t열2\n",
    " \t \t \n",
    " \t \t \n",
    "''')"
   ]
  },
  {
   "cell_type": "code",
   "execution_count": null,
   "metadata": {},
   "outputs": [],
   "source": [
    "answer_question_chat(df_en, question='''pivotExcelDownload 엑셀 다운로드시 표 상단을 병합 후 제목을 적으려고합니다. \n",
    "header에 열의 수만큼 병합하려합니다. 열의 수를 알 수 있는 방법이 있을까요?\n",
    "\n",
    "예시) \n",
    "\n",
    "                                        제목 : 00 빈도수 분포\n",
    " \n",
    " \t열1\t열2\n",
    " \t \t \n",
    " \t \t \n",
    "''')"
   ]
  },
  {
   "cell_type": "code",
   "execution_count": null,
   "metadata": {},
   "outputs": [],
   "source": [
    "answer_question_chat(df_guide_ko, question='''pivotExcelDownload 엑셀 다운로드시 표 상단을 병합 후 제목을 적으려고합니다. \n",
    "header에 열의 수만큼 병합하려합니다. 열의 수를 알 수 있는 방법이 있을까요?\n",
    "\n",
    "예시) \n",
    "\n",
    "                                        제목 : 00 빈도수 분포\n",
    " \n",
    " \t열1\t열2\n",
    " \t \t \n",
    " \t \t \n",
    "''')"
   ]
  },
  {
   "cell_type": "code",
   "execution_count": null,
   "metadata": {},
   "outputs": [],
   "source": [
    "answer_question_chat(df_after_cleaning_ko, question='''pivotExcelDownload 엑셀 다운로드시 표 상단을 병합 후 제목을 적으려고합니다. \n",
    "header에 열의 수만큼 병합하려합니다. 열의 수를 알 수 있는 방법이 있을까요?\n",
    "\n",
    "예시) \n",
    "\n",
    "                                        제목 : 00 빈도수 분포\n",
    " \n",
    " \t열1\t열2\n",
    " \t \t \n",
    " \t \t \n",
    "''')"
   ]
  },
  {
   "cell_type": "code",
   "execution_count": null,
   "metadata": {},
   "outputs": [],
   "source": [
    "answer_question_chat(df_ko, model=\"gpt-4\", debug=False, question='''pivotExcelDownload 엑셀 다운로드시 표 상단을 병합 후 제목을 적으려고합니다. \n",
    "header에 열의 수만큼 병합하려합니다. 열의 수를 알 수 있는 방법이 있을까요?\n",
    "\n",
    "예시) \n",
    "\n",
    "                                        제목 : 00 빈도수 분포\n",
    " \n",
    " \t열1\t열2\n",
    " \t \t \n",
    " \t \t \n",
    "''')"
   ]
  },
  {
   "cell_type": "code",
   "execution_count": null,
   "metadata": {},
   "outputs": [],
   "source": [
    "answer_question_chat(df_en, model=\"gpt-4\", debug=False, question='''pivotExcelDownload 엑셀 다운로드시 표 상단을 병합 후 제목을 적으려고합니다. \n",
    "header에 열의 수만큼 병합하려합니다. 열의 수를 알 수 있는 방법이 있을까요?\n",
    "\n",
    "예시) \n",
    "\n",
    "                                        제목 : 00 빈도수 분포\n",
    " \n",
    " \t열1\t열2\n",
    " \t \t \n",
    " \t \t \n",
    "''')"
   ]
  },
  {
   "cell_type": "code",
   "execution_count": null,
   "metadata": {},
   "outputs": [],
   "source": [
    "answer_question_chat(df_guide_ko, model=\"gpt-4\", debug=False, question='''pivotExcelDownload 엑셀 다운로드시 표 상단을 병합 후 제목을 적으려고합니다. \n",
    "header에 열의 수만큼 병합하려합니다. 열의 수를 알 수 있는 방법이 있을까요?\n",
    "\n",
    "예시) \n",
    "\n",
    "                                        제목 : 00 빈도수 분포\n",
    " \n",
    " \t열1\t열2\n",
    " \t \t \n",
    " \t \t \n",
    "''')"
   ]
  },
  {
   "cell_type": "code",
   "execution_count": null,
   "metadata": {},
   "outputs": [],
   "source": [
    "answer_question_chat(df_after_cleaning_ko, model=\"gpt-4\", debug=False, question='''pivotExcelDownload 엑셀 다운로드시 표 상단을 병합 후 제목을 적으려고합니다. \n",
    "header에 열의 수만큼 병합하려합니다. 열의 수를 알 수 있는 방법이 있을까요?\n",
    "\n",
    "예시) \n",
    "\n",
    "                                        제목 : 00 빈도수 분포\n",
    " \n",
    " \t열1\t열2\n",
    " \t \t \n",
    " \t \t \n",
    "''')"
   ]
  },
  {
   "cell_type": "code",
   "execution_count": null,
   "metadata": {},
   "outputs": [],
   "source": [
    "answer_question_chat(df_ko, debug=False, question='pivotExcelDownload 엑셀 다운로드 표 상단 병합 제목 작성 header 열 수 병합 방법 알 수 있음')"
   ]
  },
  {
   "cell_type": "code",
   "execution_count": null,
   "metadata": {},
   "outputs": [],
   "source": [
    "answer_question_chat(df_en, debug=False, question='pivotExcelDownload 엑셀 다운로드 표 상단 병합 제목 작성 header 열 수 병합 방법 알 수 있음')"
   ]
  },
  {
   "cell_type": "code",
   "execution_count": null,
   "metadata": {},
   "outputs": [],
   "source": [
    "answer_question_chat(df_guide_ko, debug=False, question='pivotExcelDownload 엑셀 다운로드 표 상단 병합 제목 작성 header 열 수 병합 방법 알 수 있음')"
   ]
  },
  {
   "cell_type": "code",
   "execution_count": null,
   "metadata": {},
   "outputs": [],
   "source": [
    "answer_question_chat(df_after_cleaning_ko, debug=False, question='pivotExcelDownload 엑셀 다운로드 표 상단 병합 제목 작성 header 열 수 병합 방법 알 수 있음')"
   ]
  },
  {
   "cell_type": "code",
   "execution_count": null,
   "metadata": {},
   "outputs": [],
   "source": [
    "answer_question_chat(df_ko, model=\"gpt-4\", debug=False, question='''pivotExcelDownload 엑셀 다운로드시 표 상단을 병합 후 제목을 적으려고합니다. \n",
    "header에 열의 수만큼 병합하려합니다. 열의 수를 알 수 있는 방법이 있을까요?''')"
   ]
  },
  {
   "cell_type": "code",
   "execution_count": null,
   "metadata": {},
   "outputs": [],
   "source": [
    "answer_question_chat(df_en, model=\"gpt-4\", debug=False, question='''pivotExcelDownload 엑셀 다운로드시 표 상단을 병합 후 제목을 적으려고합니다. \n",
    "header에 열의 수만큼 병합하려합니다. 열의 수를 알 수 있는 방법이 있을까요?''')"
   ]
  },
  {
   "cell_type": "code",
   "execution_count": null,
   "metadata": {},
   "outputs": [],
   "source": [
    "answer_question_chat(df_guide_ko, model=\"gpt-4\", debug=False, question='''pivotExcelDownload 엑셀 다운로드시 표 상단을 병합 후 제목을 적으려고합니다. \n",
    "header에 열의 수만큼 병합하려합니다. 열의 수를 알 수 있는 방법이 있을까요?''')"
   ]
  },
  {
   "cell_type": "code",
   "execution_count": null,
   "metadata": {},
   "outputs": [],
   "source": [
    "answer_question_chat(df_after_cleaning_ko, model=\"gpt-4\", debug=False, question='''pivotExcelDownload 엑셀 다운로드시 표 상단을 병합 후 제목을 적으려고합니다. \n",
    "header에 열의 수만큼 병합하려합니다. 열의 수를 알 수 있는 방법이 있을까요?''')"
   ]
  },
  {
   "cell_type": "markdown",
   "metadata": {},
   "source": [
    "# 11. embedding을 통한 API 검색"
   ]
  },
  {
   "cell_type": "code",
   "execution_count": null,
   "metadata": {},
   "outputs": [],
   "source": [
    "search_context(df_api_ko, question=\"엑셀 업로드\")"
   ]
  },
  {
   "cell_type": "code",
   "execution_count": null,
   "metadata": {},
   "outputs": [],
   "source": []
  }
 ],
 "metadata": {
  "kernelspec": {
   "display_name": "Python 3 (ipykernel)",
   "language": "python",
   "name": "python3"
  },
  "language_info": {
   "codemirror_mode": {
    "name": "ipython",
    "version": 3
   },
   "file_extension": ".py",
   "mimetype": "text/x-python",
   "name": "python",
   "nbconvert_exporter": "python",
   "pygments_lexer": "ipython3",
   "version": "3.10.9"
  },
  "vscode": {
   "interpreter": {
    "hash": "05f34a34d73b71652304030c1097be3a5720ea2447153dd6542d145a26b73181"
   }
  }
 },
 "nbformat": 4,
 "nbformat_minor": 2
}
