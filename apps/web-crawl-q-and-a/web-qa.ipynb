{
 "cells": [
  {
   "cell_type": "markdown",
   "metadata": {},
   "source": [
    "# 1. 웹사이트 크롤링"
   ]
  },
  {
   "cell_type": "code",
   "execution_count": 1,
   "metadata": {},
   "outputs": [],
   "source": [
    "# !pip install googletrans==3.1.0a0 "
   ]
  },
  {
   "cell_type": "code",
   "execution_count": 2,
   "metadata": {
    "scrolled": true
   },
   "outputs": [],
   "source": [
    "import requests\n",
    "import re\n",
    "import urllib.request\n",
    "from bs4 import BeautifulSoup\n",
    "from collections import deque\n",
    "from html.parser import HTMLParser\n",
    "from urllib.parse import urlparse\n",
    "import pandas as pd\n",
    "import openai\n",
    "import os\n",
    "\n",
    "# Regex pattern to match a URL\n",
    "HTTP_URL_PATTERN = r'^http[s]{0,1}://.+$'\n",
    "\n",
    "# Define root domain to crawl\n",
    "# domain = \"openai.com\"\n",
    "# full_url = \"https://openai.com/\"\n",
    "# domain = \"inswave.com\"\n",
    "# full_url = \"https://inswave.com/confluence/pages/viewpage.action?pageId=6030702\"\n",
    "# domain = \"docs1.inswave.com\"\n",
    "# full_url = \"https://docs1.inswave.com/sp5_user_guide\"\n",
    "\n",
    "# domain = \"docs2.inswave.com\"\n",
    "# full_url = \"http://docs2.inswave.com/ws5_sp5_example\"\n",
    "domain = \"localhost:8080\"\n",
    "full_url = \"http://localhost:8080/websquare/guide/websquaretoc.html\"\n",
    "# Create a class to parse the HTML and get the hyperlinks\n",
    "class HyperlinkParser(HTMLParser):\n",
    "    def __init__(self):\n",
    "        super().__init__()\n",
    "        # Create a list to store the hyperlinks\n",
    "        self.hyperlinks = []\n",
    "\n",
    "    # Override the HTMLParser's handle_starttag method to get the hyperlinks\n",
    "    def handle_starttag(self, tag, attrs):\n",
    "        attrs = dict(attrs)\n",
    "\n",
    "        # If the tag is an anchor tag and it has an href attribute, add the href attribute to the list of hyperlinks\n",
    "        if tag == \"a\" and \"href\" in attrs:\n",
    "            self.hyperlinks.append(attrs[\"href\"])\n",
    "\n",
    "# Function to get the hyperlinks from a URL\n",
    "def get_hyperlinks(url):\n",
    "    \n",
    "    # Try to open the URL and read the HTML\n",
    "    try:\n",
    "        # Open the URL and read the HTML\n",
    "        with urllib.request.urlopen(url) as response:\n",
    "\n",
    "            # If the response is not HTML, return an empty list\n",
    "            if not response.info().get('Content-Type').startswith(\"text/html\"):\n",
    "                return []\n",
    "            \n",
    "            # Decode the HTML\n",
    "            html = response.read().decode('utf-8')\n",
    "    except Exception as e:\n",
    "        print(e)\n",
    "        return []\n",
    "\n",
    "    # Create the HTML Parser and then Parse the HTML to get hyperlinks\n",
    "    parser = HyperlinkParser()\n",
    "    parser.feed(html)\n",
    "\n",
    "    return parser.hyperlinks\n",
    "\n",
    "# Function to get the hyperlinks from a URL that are within the same domain\n",
    "def get_domain_hyperlinks(local_domain, url):\n",
    "    clean_links = []\n",
    "    for link in set(get_hyperlinks(url)):\n",
    "        clean_link = None\n",
    "\n",
    "        # If the link is a URL, check if it is within the same domain\n",
    "        if re.search(HTTP_URL_PATTERN, link):\n",
    "            # Parse the URL and check if the domain is the same\n",
    "            url_obj = urlparse(link)\n",
    "            if url_obj.netloc == local_domain:\n",
    "                clean_link = link\n",
    "\n",
    "        # If the link is not a URL, check if it is a relative link\n",
    "        else:\n",
    "            if link.startswith(\"/\"):\n",
    "                link = link[1:]\n",
    "            elif link.startswith(\"#\") or link.startswith(\"mailto:\"):\n",
    "                continue\n",
    "            clean_link = \"http://\" + local_domain + \"/\" + link\n",
    "#             clean_link = \"https://\" + local_domain + \"/\" + link\n",
    "\n",
    "        if clean_link is not None:\n",
    "            if clean_link.endswith(\"/\"):\n",
    "                clean_link = clean_link[:-1]\n",
    "            clean_links.append(clean_link)\n",
    "\n",
    "    # Return the list of hyperlinks that are within the same domain\n",
    "    return list(set(clean_links))\n",
    "\n",
    "\n",
    "def crawl(url):\n",
    "    # Parse the URL and get the domain\n",
    "    local_domain = urlparse(url).netloc\n",
    "\n",
    "    # Create a queue to store the URLs to crawl\n",
    "    queue = deque([url])\n",
    "\n",
    "    # Create a set to store the URLs that have already been seen (no duplicates)\n",
    "    seen = set([url])\n",
    "\n",
    "    # Create a directory to store the text files\n",
    "    if not os.path.exists(\"text/\"):\n",
    "            os.mkdir(\"text/\")\n",
    "\n",
    "    if not os.path.exists(\"text/\"+local_domain+\"/\"):\n",
    "            os.mkdir(\"text/\" + local_domain + \"/\")\n",
    "\n",
    "    # Create a directory to store the csv files\n",
    "    if not os.path.exists(\"processed\"):\n",
    "            os.mkdir(\"processed\")\n",
    "\n",
    "    # While the queue is not empty, continue crawling\n",
    "    while queue:\n",
    "\n",
    "        # Get the next URL from the queue\n",
    "        url = queue.pop()\n",
    "        print(url) # for debugging and to see the progress\n",
    "\n",
    "        path = url[8:].replace(\"/\", \"_\")\n",
    "        m = re.search('(.+?)[#]', path)\n",
    "        if m:\n",
    "            path = m.group(1)\n",
    "\n",
    "        # Save text from the url to a <url>.txt file\n",
    "#         with open('text/'+local_domain+'/'+url[8:].replace(\"/\", \"_\") + \".txt\", \"w\") as f:\n",
    "        with open('text/'+local_domain+'/'+ path + \".txt\", \"w\") as f:\n",
    "\n",
    "            # Get the text from the URL using BeautifulSoup\n",
    "            soup = BeautifulSoup(requests.get(url).text, \"html.parser\")\n",
    "\n",
    "            # Get the text but remove the tags\n",
    "            text = soup.get_text()\n",
    "            \n",
    "            \n",
    "            # If the crawler gets to a page that requires JavaScript, it will stop the crawl\n",
    "            if (\"You need to enable JavaScript to run this app.\" in text):\n",
    "                print(\"Unable to parse page \" + url + \" due to JavaScript being required\")\n",
    "            \n",
    "            # Otherwise, write the text to the file in the text directory\n",
    "            f.write(text)\n",
    "\n",
    "        # Get the hyperlinks from the URL and add them to the queue\n",
    "        for link in get_domain_hyperlinks(local_domain, url):\n",
    "            if link not in seen:\n",
    "                queue.append(link)\n",
    "                seen.add(link)\n",
    "\n"
   ]
  },
  {
   "cell_type": "code",
   "execution_count": 3,
   "metadata": {},
   "outputs": [],
   "source": [
    "# crawl(full_url)"
   ]
  },
  {
   "cell_type": "markdown",
   "metadata": {},
   "source": [
    "# 2. 다운받은 컨텐츠를 정리한 다음 영어로 번역"
   ]
  },
  {
   "cell_type": "code",
   "execution_count": 4,
   "metadata": {},
   "outputs": [],
   "source": [
    "def remove_newlines(serie):\n",
    "    serie = serie.replace('\\t', ' ')\n",
    "    serie = serie.replace('\\n', ' ')\n",
    "    serie = serie.replace('\\r', ' ')\n",
    "    serie = serie.replace('\\\\r', ' ')\n",
    "    serie = serie.replace('\\\\n', ' ')\n",
    "    serie = serie.replace('             ', ' ')\n",
    "    serie = serie.replace('            ', ' ')\n",
    "    serie = serie.replace('           ', ' ')\n",
    "    serie = serie.replace('          ', ' ')\n",
    "    serie = serie.replace('         ', ' ')\n",
    "    serie = serie.replace('        ', ' ')\n",
    "    serie = serie.replace('       ', ' ')\n",
    "    serie = serie.replace('      ', ' ')\n",
    "    serie = serie.replace('     ', ' ')\n",
    "    serie = serie.replace('    ', ' ')\n",
    "    serie = serie.replace('   ', ' ')\n",
    "    serie = serie.replace('  ', ' ')\n",
    "    serie = serie.replace('  ', ' ')\n",
    "    serie = serie.replace(' ', ' ')\n",
    "    return serie"
   ]
  },
  {
   "cell_type": "code",
   "execution_count": 5,
   "metadata": {},
   "outputs": [],
   "source": [
    "# Function to split the text into chunks of a maximum number of tokens\n",
    "def split_str_into_many(text, max_tokens = 4000):\n",
    "\n",
    "    # Split the text into sentences\n",
    "    sentences = text.split('. ')\n",
    "\n",
    "    # Get the number of tokens for each sentence\n",
    "    n_tokens = [len(\" \" + sentence) for sentence in sentences]\n",
    "    \n",
    "    chunks = []\n",
    "    tokens_so_far = 0\n",
    "    chunk = []\n",
    "\n",
    "    # Loop through the sentences and tokens joined together in a tuple\n",
    "    for sentence, token in zip(sentences, n_tokens):\n",
    "\n",
    "        # If the number of tokens so far plus the number of tokens in the current sentence is greater \n",
    "        # than the max number of tokens, then add the chunk to the list of chunks and reset\n",
    "        # the chunk and tokens so far\n",
    "        if tokens_so_far + token > max_tokens:\n",
    "            chunks.append(\". \".join(chunk) + \".\")\n",
    "            chunk = []\n",
    "            tokens_so_far = 0\n",
    "\n",
    "        # If the number of tokens in the current sentence is greater than the max number of \n",
    "        # tokens, go to the next sentence\n",
    "        if token > max_tokens:\n",
    "            continue\n",
    "\n",
    "        # Otherwise, add the sentence to the chunk and add the number of tokens to the total\n",
    "        chunk.append(sentence)\n",
    "        tokens_so_far += token + 1\n",
    "\n",
    "        \n",
    "    chunks.append(\". \".join(chunk) + \".\")\n",
    "        \n",
    "    return chunks\n",
    "    "
   ]
  },
  {
   "cell_type": "code",
   "execution_count": 6,
   "metadata": {},
   "outputs": [
    {
     "name": "stdout",
     "output_type": "stream",
     "text": [
      "Requirement already satisfied: googletrans==3.1.0a0 in /Users/wlkim/anaconda3/lib/python3.10/site-packages (3.1.0a0)\r\n",
      "Requirement already satisfied: httpx==0.13.3 in /Users/wlkim/anaconda3/lib/python3.10/site-packages (from googletrans==3.1.0a0) (0.13.3)\r\n",
      "Requirement already satisfied: chardet==3.* in /Users/wlkim/anaconda3/lib/python3.10/site-packages (from httpx==0.13.3->googletrans==3.1.0a0) (3.0.4)\r\n",
      "Requirement already satisfied: httpcore==0.9.* in /Users/wlkim/anaconda3/lib/python3.10/site-packages (from httpx==0.13.3->googletrans==3.1.0a0) (0.9.1)\r\n",
      "Requirement already satisfied: certifi in /Users/wlkim/anaconda3/lib/python3.10/site-packages (from httpx==0.13.3->googletrans==3.1.0a0) (2022.12.7)\r\n",
      "Requirement already satisfied: idna==2.* in /Users/wlkim/anaconda3/lib/python3.10/site-packages (from httpx==0.13.3->googletrans==3.1.0a0) (2.10)\r\n",
      "Requirement already satisfied: hstspreload in /Users/wlkim/anaconda3/lib/python3.10/site-packages (from httpx==0.13.3->googletrans==3.1.0a0) (2023.1.1)\r\n",
      "Requirement already satisfied: rfc3986<2,>=1.3 in /Users/wlkim/anaconda3/lib/python3.10/site-packages (from httpx==0.13.3->googletrans==3.1.0a0) (1.5.0)\r\n",
      "Requirement already satisfied: sniffio in /Users/wlkim/anaconda3/lib/python3.10/site-packages (from httpx==0.13.3->googletrans==3.1.0a0) (1.2.0)\r\n",
      "Requirement already satisfied: h11<0.10,>=0.8 in /Users/wlkim/anaconda3/lib/python3.10/site-packages (from httpcore==0.9.*->httpx==0.13.3->googletrans==3.1.0a0) (0.9.0)\r\n",
      "Requirement already satisfied: h2==3.* in /Users/wlkim/anaconda3/lib/python3.10/site-packages (from httpcore==0.9.*->httpx==0.13.3->googletrans==3.1.0a0) (3.2.0)\r\n",
      "Requirement already satisfied: hyperframe<6,>=5.2.0 in /Users/wlkim/anaconda3/lib/python3.10/site-packages (from h2==3.*->httpcore==0.9.*->httpx==0.13.3->googletrans==3.1.0a0) (5.2.0)\r\n",
      "Requirement already satisfied: hpack<4,>=3.0 in /Users/wlkim/anaconda3/lib/python3.10/site-packages (from h2==3.*->httpcore==0.9.*->httpx==0.13.3->googletrans==3.1.0a0) (3.0.0)\r\n"
     ]
    }
   ],
   "source": [
    "!pip3 install googletrans==3.1.0a0"
   ]
  },
  {
   "cell_type": "code",
   "execution_count": 7,
   "metadata": {},
   "outputs": [
    {
     "name": "stdout",
     "output_type": "stream",
     "text": [
      "안녕하세요.  ->  hello.\n"
     ]
    }
   ],
   "source": [
    "from googletrans import Translator\n",
    "translator = Translator()\n",
    "translation = translator.translate('안녕하세요.')\n",
    "print(translation.origin, ' -> ', translation.text)\n"
   ]
  },
  {
   "cell_type": "code",
   "execution_count": 8,
   "metadata": {
    "scrolled": true
   },
   "outputs": [],
   "source": [
    "# aaa = '''Group 컴포넌트와 동일하게 외부 스타일 시트 작성이 더 수월하면 Style 창에 스타일 입력을 건너띄어도 무방합니다.그림 77-8.작성한 외부 CSS그림 77-9.데이터 헤더에 해당되는 스타일의 클래스 삽입그림 77-10.데이터 셀에 해당되는 스타일의 클래스 삽입그림 77-11.데이터 행에 해당되는 스타일의 클래스 삽입그림 77-12.테이블에 해당되는 스타일의 클래스 삽입. 두가지 이상의 클래스를 합성 하고 싶을 경우에는 html 코딩과 동일하게 class 속성에 클래스 사이를 공백으로 띄어 적용할 수 있다.그림 77-13.파싱된 구조테이블 관련 요소가 될 컴포넌트에 스타일을 적용시키고 브라우저 개발자 도구로 확인을 해봅니다. 개발자 도구를 통해서 본 파싱된 결과물은 스타일 시트에 의해테이블의 형태를 취하고 있고, 각 요소들이 테이블과 유사한 부모-자식간의 관계가 되어있지만, 파싱된 마크업이 div로 (div는 division으로 영역을 나누는(레이아웃) 용도의 태그) 의미있는 마크업이 아니기에 문서상의 테이블을 의미하는 코딩을 했다고 할 수 없을 것입니다. 여기까지 만들어진 샘플을 토대로 tagname 변경으로 간단한 테이블 마크업을 해보겠습니다.77.3마크업 변경과 속성 추가하기WebSquare의 컴포넌트 중 가장 빈번히 사용되는 컴포넌트인 Group과 Textbox 컴포넌트는 tagname 속성을 제공하여 파싱될 마크업을 변경하여 사용자가 원하는 대로 마크업을 할 수 있습니다. 두 컴포넌트 모두 tagname 변경 방법은 동일합니다. Group 컴포넌트와 같은 방법으로 해당 Textbox 컴포넌트를 Design View에서 선택하고, Property창의 tagname을 변경하면 됩니다.전 챕터(2.1.1)에서 만들었던 디자인을 적용한 샘플을 복사하여 tagname 변경을 해보도록 하겠습니다. WebSqaure는 컴포넌트를 쉽고 빠르게 복사하여 생산성을 높일 수 있습니다. Component 창에서 복사할 컴포넌트를 오른쪽 클릭하여'복사'를 누른 후, 원하는 위치(부모가 될 컴포넌트)를 선택한 후 오른쪽 클릭하여 붙여넣기를 선택하면 됩니다. id는 WebSquare 에서 자동으로 1씩 증가한 만큼 넣어주어 id 중복 문제가 일어나지 않도록 해줍니다.그림 77-14.56비교적 명확한 요소 이름을 가진 데이터의 헤더 부터 tagname 부터 적용해 보겠습니다.<table> 예제는 tableLayout을 사용하는 것을 권장하며 개별적으로 작성하기 위한 방법으로 아래 방법을 참고하겠습니다. HTML 페이지를 작성하는 것과 같이 <table>에 대한 스타일 시트를 따로 작성하겠습니다.그림 77-15.새로 작성한 table 관련 스타일 시트<table>에 관한 스타일 시트가 완성되었으니, 복사한 컴포넌트에 CSS Class를 입력합니다. 입력한 후에 Design View에 적용이 안되는 이유는 스타일 시트 작성이 요소 선택자로 tr, th, td 에 대한 스타일이기 때문에 파싱될 마크업(tagname 속성)이 설정되어있지 않아 div로 표현되어서 그렇습니다. 그렇다면, 스타일 적용을 확인하기 위해 각각 그룹핑 되어있는 컴포넌트들을 table 코딩이었을 때에 매치되는 마크업으로 변경해 보도록 하겠습니다.브라우저에 파싱될 마크업을 수정하는 것은 Group 컴포넌트와 동일하게 Property 창에서 tagname 속성을 수정하면 됩니다. 제일 명확한 마크업인 데이터의 헤더인 th 부분을 먼저 수정해 보겠습니다. Design View에서 데이터 헤더에 해당되는 컴포넌트를 선택하고, Property창의 tagname을 선택하여 'th'를 직접입력 하거나찾아넣습니다.그림 77-16.데이터 헤더 셀이 될 컴포넌트에 th를 입그림 77-17.데이터 셀이 될 컴포넌트에 td를 입그림 77-18.테이블의 행이 될 컴포넌트에 tr을 입력그림 77-19.테이블이 될 컴포넌트에 table을 입력그림 77-20.브라우저에서의 화면 확인 및 파싱 결과 확인tagname을 수정하여 마크업이 결정되었습니다. 이제 가로형 테이블이니, 데이터 헤더에 대한 제목 범위를 지정하는 'scope' 속성을 추가하면 기본적인 table 마크업이 완성됩니다. 'scope' 속성이 없어도 정상적으로 브라우저 화면에서 나오나, 접근성 작업시 'scope' 속성은 반드시 넣어주셔야 합니다.Textbox 컴포넌트의 속성 추가는 Group 컴포넌트의 속성 추가와 같은 방법으로 'scope' 속성을 추가하기 위해서 th와 매칭되는 Textbox 컴포넌트를 Component 창에서 선택하고 오른쪽 클릭하여 '속성 태그 수정'을 선택하여 추가합니다.그림 77-21.tagname을 th로 준 컴포넌트의 scope 속성 추가그림 77-22.속성을 추가한 뒤에 브라우저에서 결과 확인접근성을 위해 <caption>코딩, summary Attibute 삽입하고 싶다면, 이전 코딩 방법과 동일하게 Table이 될 Group 컴포넌트에 Textbox 컴포넌트를 삽입하고 tagname을 caption으로 직접 입력하여 바꾸고, 속성 추가하기 컨텍스트 메뉴로 추가할 수 있습니다.더 세밀한 웹표준과 웹접근성을 준수하는 table 코딩 및 내용이 정적·동적인 table 을 하기 위해서는 여러가지 컴포넌트의 조합이 필요한 경우가 있기에, 다음 장인 다른 어떤 컴포넌트와 Group 컴포넌트, Textbox 컴포넌트의 조합 파트를 참고하시기 바랍니다.77.4CSS Overriding그림 77-23.02NoClassDescription1w2textboxw2textbox은 웹스퀘어 엔진에서 정의된 클래스입니다, 브라우저가 파싱할때 자동으로 부여됩니다.2inlinewebsquare의 style 편집기에서 해당 style을 직접 수정합니다.77.5주의사항 및 TipProperty > for 속성은 컴포넌트(Label)가 클릭 됐을때 Focus를 주고 자 하는 컴포넌트 ID를 정의한다.해당속성을 활성화 할 경우 textbox 컴포넌트는 tagname을 무시하고 html 랜더링 시 div 혹은 사용자정의 태그가 아닌 label 태그로 고정된다. .'''\n",
    "\n",
    "# translation = translator.translate(aaa, src=\"ko\", dest=\"ja\")\n",
    "# print(translation.origin, ' -> ', translation.text)\n"
   ]
  },
  {
   "cell_type": "markdown",
   "metadata": {},
   "source": [
    "## 한글을 영어로 번역\n",
    "기존 파일을 사용하는 경우 번역 불필요 (실행이 필요한 경우 주석을 제거한 다음 실행)"
   ]
  },
  {
   "cell_type": "code",
   "execution_count": 9,
   "metadata": {
    "scrolled": true
   },
   "outputs": [],
   "source": [
    "# import pandas as pd\n",
    "# import time\n",
    "# from googletrans import Translator\n",
    "# translator = Translator()\n",
    "\n",
    "# # Create a list to store the text files\n",
    "# texts_ko=[]\n",
    "# texts_en=[]\n",
    "\n",
    "\n",
    "# # Get all the text files in the text directory\n",
    "# for file in os.listdir(\"text/\" + domain + \"/\"):\n",
    "\n",
    "#     if file == '.DS_Store':\n",
    "#         continue\n",
    "\n",
    "#     # Open the file and read the text\n",
    "#     with open(\"text/\" + domain + \"/\" + file, \"r\") as f:\n",
    "#         text_ko = f.read()\n",
    "#         text_ko = remove_newlines(text_ko)\n",
    "#         if len(text_ko) == 0:\n",
    "#             continue\n",
    "\n",
    "#         text_ko_list = split_str_into_many(text_ko, 2000) # 3k 이상이면 번역이 안되는 경우가 발생함\n",
    "#         text_en_list = []\n",
    "#         text_en = ''\n",
    "#         for ko_str in text_ko_list:\n",
    "#             try:\n",
    "#                 tran_result = translator.translate(ko_str, src=\"ko\", dest=\"en\")\n",
    "#                 if tran_result.text == tran_result.origin and tran_result.text != '.':\n",
    "#                     print('google translate error(not translate)-1. wait 10sec and try again:', file, len(ko_str), ko_str)\n",
    "#                     time.sleep(10)\n",
    "#                     tran_result = translator.translate(ko_str, src=\"ko\", dest=\"en\")\n",
    "#                     if tran_result.text == tran_result.origin:\n",
    "#                         print('google translate error(not translate)-2:', file, len(ko_str), ko_str)\n",
    "#                 text_en_list.append(tran_result.text)\n",
    "#             except:\n",
    "#                 print('google translate error. try again:', file, len(ko_str))\n",
    "#                 try:\n",
    "#                     tran_result = translator.translate(ko_str, src=\"ko\", dest=\"en\")\n",
    "#                     if tran_result.text == tran_result.origin:\n",
    "#                         print('google translate error(not translate). try again:', file, len(ko_str))\n",
    "#                         tran_result = translator.translate(ko_str, src=\"ko\", dest=\"en\")\n",
    "#                     text_en_list.append(tran_result.text)\n",
    "#                 except:\n",
    "#                     print('google translate error ', file, len(ko_str))\n",
    "\n",
    "#         text_en = \" \".join(text_en_list)\n",
    "# #         print(file, len(text_ko), len(text_en), len(text_ko_list))\n",
    "        \n",
    "#         # Omit the first 11 lines and the last 4 lines, then replace -, _, and #update with spaces.\n",
    "#         texts_ko.append((file[11:-4].replace('-',' ').replace('_', ' ').replace('#update',''), text_ko))\n",
    "#         texts_en.append((file[11:-4].replace('-',' ').replace('_', ' ').replace('#update',''), text_en))\n",
    "\n",
    "# # Create a dataframe from the list of texts\n",
    "# df_ko = pd.DataFrame(texts_ko, columns = ['fname', 'text'])\n",
    "# df_en = pd.DataFrame(texts_en, columns = ['fname', 'text'])\n",
    "\n",
    "# # Set the text column to be the raw text with the newlines removed\n",
    "# # df_ko['text'] = df_ko.fname + \". \" + remove_newlines(df_ko.text)\n",
    "# df_ko['text'] = df_ko.fname + \". \" + df_ko.text\n",
    "# df_en['text'] = df_en.fname + \". \" + df_en.text\n",
    "\n",
    "# df_ko.to_csv('processed/scraped_ko.csv')\n",
    "# df_ko.head()\n",
    "\n",
    "# df_en.to_csv('processed/scraped_en.csv')\n",
    "# df_en.head()\n"
   ]
  },
  {
   "cell_type": "markdown",
   "metadata": {},
   "source": [
    "# 3. tiktoken으로 token 개수 확인"
   ]
  },
  {
   "cell_type": "markdown",
   "metadata": {},
   "source": [
    "## 한글 버전의 경우 "
   ]
  },
  {
   "cell_type": "code",
   "execution_count": 10,
   "metadata": {},
   "outputs": [
    {
     "data": {
      "text/plain": [
       "<Axes: >"
      ]
     },
     "execution_count": 10,
     "metadata": {},
     "output_type": "execute_result"
    },
    {
     "data": {
      "image/png": "[encoded data removed]",
      "text/plain": [
       "<Figure size 640x480 with 1 Axes>"
      ]
     },
     "metadata": {},
     "output_type": "display_data"
    }
   ],
   "source": [
    "import tiktoken\n",
    "\n",
    "# Load the cl100k_base tokenizer which is designed to work with the ada-002 model\n",
    "tokenizer = tiktoken.get_encoding(\"cl100k_base\")\n",
    "\n",
    "df_ko = pd.read_csv('processed/scraped_ko.csv', index_col=0)\n",
    "df_ko.columns = ['title', 'text']\n",
    "\n",
    "# Tokenize the text and save the number of tokens to a new column\n",
    "df_ko['n_tokens'] = df_ko.text.apply(lambda x: len(tokenizer.encode(x)))\n",
    "\n",
    "# Visualize the distribution of the number of tokens per row using a histogram\n",
    "df_ko.n_tokens.hist(bins=30)\n",
    "\n"
   ]
  },
  {
   "cell_type": "markdown",
   "metadata": {},
   "source": [
    "## 영어 버전의 경우"
   ]
  },
  {
   "cell_type": "code",
   "execution_count": 11,
   "metadata": {},
   "outputs": [
    {
     "data": {
      "text/plain": [
       "<Axes: >"
      ]
     },
     "execution_count": 11,
     "metadata": {},
     "output_type": "execute_result"
    },
    {
     "data": {
      "image/png": "[encoded data removed]",
      "text/plain": [
       "<Figure size 640x480 with 1 Axes>"
      ]
     },
     "metadata": {},
     "output_type": "display_data"
    }
   ],
   "source": [
    "import tiktoken\n",
    "\n",
    "\n",
    "df_en = pd.read_csv('processed/scraped_en.csv', index_col=0)\n",
    "df_en.columns = ['title', 'text']\n",
    "\n",
    "# df_en.tail()\n",
    "# Tokenize the text and save the number of tokens to a new column\n",
    "df_en['n_tokens'] = df_en.text.apply(lambda x: len(tokenizer.encode(x)))\n",
    "\n",
    "# Visualize the distribution of the number of tokens per row using a histogram\n",
    "df_en.n_tokens.hist(bins=18)\n"
   ]
  },
  {
   "cell_type": "markdown",
   "metadata": {},
   "source": [
    "## API 문서(한글)의 경우"
   ]
  },
  {
   "cell_type": "code",
   "execution_count": 12,
   "metadata": {},
   "outputs": [
    {
     "data": {
      "text/plain": [
       "<Axes: >"
      ]
     },
     "execution_count": 12,
     "metadata": {},
     "output_type": "execute_result"
    },
    {
     "data": {
      "image/png": "[encoded data removed]",
      "text/plain": [
       "<Figure size 640x480 with 1 Axes>"
      ]
     },
     "metadata": {},
     "output_type": "display_data"
    }
   ],
   "source": [
    "import tiktoken\n",
    "\n",
    "# Load the cl100k_base tokenizer which is designed to work with the ada-002 model\n",
    "tokenizer = tiktoken.get_encoding(\"cl100k_base\")\n",
    "\n",
    "df_api_ko = pd.read_csv('processed/api_ko.csv', index_col=0)\n",
    "df_api_ko.columns = ['유형', 'component', 'name', 'description', 'parameter', 'return', 'exception', 'sample', 'built since', 'built last']\n",
    "df_api_ko[\"text\"] = df_api_ko['component'].astype(str) +\"    \"+ df_api_ko[\"name\"].astype(str) +\"    \"+ df_api_ko[\"description\"].astype(str)\n",
    "\n",
    "# Tokenize the text and save the number of tokens to a new column\n",
    "df_api_ko['n_tokens'] = df_api_ko.text.apply(lambda x: len(tokenizer.encode(str(x))))\n",
    "# df_en['n_tokens'] = df_en.text.apply(lambda x: len(tokenizer.encode(x)))\n",
    "\n",
    "# # Visualize the distribution of the number of tokens per row using a histogram\n",
    "df_api_ko.n_tokens.hist(bins=30)"
   ]
  },
  {
   "cell_type": "code",
   "execution_count": 13,
   "metadata": {},
   "outputs": [],
   "source": [
    "# df_api_ko[\"text\"] = df_api_ko['component'].astype(str) +\"    \"+ df_api_ko[\"name\"].astype(str) +\"    \"+ df_api_ko[\"description\"].astype(str)"
   ]
  },
  {
   "cell_type": "code",
   "execution_count": 14,
   "metadata": {},
   "outputs": [],
   "source": [
    "# df_api_ko['component'] = df_api_ko['component'].astype(\"string\")\n",
    "# df_api_ko['name'] = df_api_ko['name'].astype(\"string\")\n",
    "# df_api_ko['description'] = df_api_ko['description'].astype(\"string\")"
   ]
  },
  {
   "cell_type": "code",
   "execution_count": 15,
   "metadata": {},
   "outputs": [],
   "source": [
    "# df_api_ko['text']"
   ]
  },
  {
   "cell_type": "code",
   "execution_count": 16,
   "metadata": {},
   "outputs": [],
   "source": [
    "# df_api_ko['description']"
   ]
  },
  {
   "cell_type": "code",
   "execution_count": 17,
   "metadata": {
    "scrolled": true
   },
   "outputs": [],
   "source": [
    "# df_api_ko.head()"
   ]
  },
  {
   "cell_type": "markdown",
   "metadata": {},
   "source": [
    "# 4. 문서를 token (500)이하로 분리하여 저장"
   ]
  },
  {
   "cell_type": "code",
   "execution_count": 18,
   "metadata": {},
   "outputs": [],
   "source": [
    "max_tokens = 500\n",
    "\n",
    "# Function to split the text into chunks of a maximum number of tokens\n",
    "def split_into_many(text, max_tokens = max_tokens):\n",
    "\n",
    "    # Split the text into sentences\n",
    "    sentences = text.split('. ')\n",
    "\n",
    "    # Get the number of tokens for each sentence\n",
    "    n_tokens = [len(tokenizer.encode(\" \" + sentence)) for sentence in sentences]\n",
    "    \n",
    "    chunks = []\n",
    "    tokens_so_far = 0\n",
    "    chunk = []\n",
    "\n",
    "    # Loop through the sentences and tokens joined together in a tuple\n",
    "    for sentence, token in zip(sentences, n_tokens):\n",
    "\n",
    "        # If the number of tokens so far plus the number of tokens in the current sentence is greater \n",
    "        # than the max number of tokens, then add the chunk to the list of chunks and reset\n",
    "        # the chunk and tokens so far\n",
    "        if tokens_so_far + token > max_tokens:\n",
    "            chunks.append(\". \".join(chunk) + \".\")\n",
    "            chunk = []\n",
    "            tokens_so_far = 0\n",
    "\n",
    "        # If the number of tokens in the current sentence is greater than the max number of \n",
    "        # tokens, go to the next sentence\n",
    "        if token > max_tokens:\n",
    "            continue\n",
    "\n",
    "        # Otherwise, add the sentence to the chunk and add the number of tokens to the total\n",
    "        chunk.append(sentence)\n",
    "        tokens_so_far += token + 1\n",
    "\n",
    "    chunks.append(\". \".join(chunk) + \".\")\n",
    "    return chunks\n",
    "    \n"
   ]
  },
  {
   "cell_type": "code",
   "execution_count": 19,
   "metadata": {},
   "outputs": [],
   "source": [
    "shortened_ko = []\n",
    "\n",
    "# Loop through the dataframe\n",
    "for row in df_ko.iterrows():\n",
    "\n",
    "    # If the text is None, go to the next row\n",
    "    if row[1]['text'] is None:\n",
    "        continue\n",
    "\n",
    "    # If the number of tokens is greater than the max number of tokens, split the text into chunks\n",
    "    if row[1]['n_tokens'] > max_tokens:\n",
    "        shortened_ko += split_into_many(row[1]['text'])\n",
    "    \n",
    "    # Otherwise, add the text to the list of shortened texts\n",
    "    else:\n",
    "        shortened_ko.append( row[1]['text'] )\n",
    "        \n",
    "\n",
    "shortened_en = []\n",
    "\n",
    "# Loop through the dataframe\n",
    "for row in df_en.iterrows():\n",
    "\n",
    "    # If the text is None, go to the next row\n",
    "    if row[1]['text'] is None:\n",
    "        continue\n",
    "\n",
    "    # If the number of tokens is greater than the max number of tokens, split the text into chunks\n",
    "    if row[1]['n_tokens'] > max_tokens:\n",
    "        shortened_en += split_into_many(row[1]['text'])\n",
    "    \n",
    "    # Otherwise, add the text to the list of shortened texts\n",
    "    else:\n",
    "        shortened_en.append( row[1]['text'] )\n"
   ]
  },
  {
   "cell_type": "markdown",
   "metadata": {},
   "source": [
    "# 5. token 크기 분포 확인"
   ]
  },
  {
   "cell_type": "markdown",
   "metadata": {},
   "source": [
    "## 한글의 경우"
   ]
  },
  {
   "cell_type": "code",
   "execution_count": 21,
   "metadata": {},
   "outputs": [
    {
     "data": {
      "text/plain": [
       "<Axes: >"
      ]
     },
     "execution_count": 21,
     "metadata": {},
     "output_type": "execute_result"
    },
    {
     "data": {
      "image/png": "[encoded data removed]",
      "text/plain": [
       "<Figure size 640x480 with 1 Axes>"
      ]
     },
     "metadata": {},
     "output_type": "display_data"
    }
   ],
   "source": [
    "df_ko = pd.DataFrame(shortened_ko, columns = ['text'])\n",
    "df_ko['n_tokens'] = df_ko.text.apply(lambda x: len(tokenizer.encode(x)))\n",
    "df_ko.n_tokens.hist()"
   ]
  },
  {
   "cell_type": "markdown",
   "metadata": {},
   "source": [
    "## 영어의 경우"
   ]
  },
  {
   "cell_type": "code",
   "execution_count": 22,
   "metadata": {
    "scrolled": false
   },
   "outputs": [
    {
     "data": {
      "text/plain": [
       "<Axes: >"
      ]
     },
     "execution_count": 22,
     "metadata": {},
     "output_type": "execute_result"
    },
    {
     "data": {
      "image/png": "[encoded data removed]",
      "text/plain": [
       "<Figure size 640x480 with 1 Axes>"
      ]
     },
     "metadata": {},
     "output_type": "display_data"
    }
   ],
   "source": [
    "df_en = pd.DataFrame(shortened_en, columns = ['text'])\n",
    "df_en['n_tokens'] = df_en.text.apply(lambda x: len(tokenizer.encode(x)))\n",
    "df_en.n_tokens.hist()"
   ]
  },
  {
   "cell_type": "markdown",
   "metadata": {},
   "source": [
    "# 6. gpt를 이용하여 문서를 정리 및 축약한 다음 작업"
   ]
  },
  {
   "cell_type": "markdown",
   "metadata": {},
   "source": [
    "## GPT를 이용하여 cleaning하기 위해 문서를 token (2500)이하로 분리하여 저장"
   ]
  },
  {
   "cell_type": "code",
   "execution_count": 49,
   "metadata": {},
   "outputs": [],
   "source": [
    "max_tokens_cleaning = 2500\n",
    "\n",
    "cleaning_ko = []\n",
    "\n",
    "# Loop through the dataframe\n",
    "for row in df_ko.iterrows():\n",
    "\n",
    "    # If the text is None, go to the next row\n",
    "    if row[1]['text'] is None:\n",
    "        continue\n",
    "\n",
    "    # If the number of tokens is greater than the max number of tokens, split the text into chunks\n",
    "    if row[1]['n_tokens'] > max_tokens_cleaning:\n",
    "        cleaning_ko += split_into_many(row[1]['text'], max_tokens=max_tokens_cleaning)\n",
    "    \n",
    "    # Otherwise, add the text to the list of shortened texts\n",
    "    else:\n",
    "        cleaning_ko.append( row[1]['text'] )\n",
    "        \n",
    "\n",
    "cleaning_en = []\n",
    "\n",
    "# Loop through the dataframe\n",
    "for row in df_en.iterrows():\n",
    "\n",
    "    # If the text is None, go to the next row\n",
    "    if row[1]['text'] is None:\n",
    "        continue\n",
    "\n",
    "    # If the number of tokens is greater than the max number of tokens, split the text into chunks\n",
    "    if row[1]['n_tokens'] > max_tokens_cleaning:\n",
    "        cleaning_en += split_into_many(row[1]['text'], max_tokens=max_tokens_cleaning)\n",
    "    \n",
    "    # Otherwise, add the text to the list of shortened texts\n",
    "    else:\n",
    "        cleaning_en.append( row[1]['text'] )\n",
    "        "
   ]
  },
  {
   "cell_type": "markdown",
   "metadata": {},
   "source": [
    "## 한글의 경우 (cleaning 대상)"
   ]
  },
  {
   "cell_type": "code",
   "execution_count": 23,
   "metadata": {},
   "outputs": [
    {
     "data": {
      "text/plain": [
       "<Axes: >"
      ]
     },
     "execution_count": 23,
     "metadata": {},
     "output_type": "execute_result"
    },
    {
     "data": {
      "image/png": "[encoded data removed]",
      "text/plain": [
       "<Figure size 640x480 with 1 Axes>"
      ]
     },
     "metadata": {},
     "output_type": "display_data"
    }
   ],
   "source": [
    "df_cleaning_ko = pd.DataFrame(cleaning_ko, columns = ['text'])\n",
    "df_cleaning_ko['n_tokens'] = df_cleaning_ko.text.apply(lambda x: len(tokenizer.encode(x)))\n",
    "df_cleaning_ko.n_tokens.hist()"
   ]
  },
  {
   "cell_type": "markdown",
   "metadata": {},
   "source": [
    "## 영어의 경우 (cleaning 대상)"
   ]
  },
  {
   "cell_type": "code",
   "execution_count": 24,
   "metadata": {},
   "outputs": [
    {
     "data": {
      "text/plain": [
       "<Axes: >"
      ]
     },
     "execution_count": 24,
     "metadata": {},
     "output_type": "execute_result"
    },
    {
     "data": {
      "image/png": "[encoded data removed]",
      "text/plain": [
       "<Figure size 640x480 with 1 Axes>"
      ]
     },
     "metadata": {},
     "output_type": "display_data"
    }
   ],
   "source": [
    "df_cleaning_en = pd.DataFrame(cleaning_en, columns = ['text'])\n",
    "df_cleaning_en['n_tokens'] = df_cleaning_en.text.apply(lambda x: len(tokenizer.encode(x)))\n",
    "df_cleaning_en.n_tokens.hist()"
   ]
  },
  {
   "cell_type": "code",
   "execution_count": 99,
   "metadata": {},
   "outputs": [
    {
     "data": {
      "text/html": [
       "<div>\n",
       "<style scoped>\n",
       "    .dataframe tbody tr th:only-of-type {\n",
       "        vertical-align: middle;\n",
       "    }\n",
       "\n",
       "    .dataframe tbody tr th {\n",
       "        vertical-align: top;\n",
       "    }\n",
       "\n",
       "    .dataframe thead th {\n",
       "        text-align: right;\n",
       "    }\n",
       "</style>\n",
       "<table border=\"1\" class=\"dataframe\">\n",
       "  <thead>\n",
       "    <tr style=\"text-align: right;\">\n",
       "      <th></th>\n",
       "      <th>text</th>\n",
       "      <th>n_tokens</th>\n",
       "    </tr>\n",
       "  </thead>\n",
       "  <tbody>\n",
       "    <tr>\n",
       "      <th>0</th>\n",
       "      <td>80 websquare html websquare.uiplugin.tabContro...</td>\n",
       "      <td>2452</td>\n",
       "    </tr>\n",
       "    <tr>\n",
       "      <th>1</th>\n",
       "      <td>(웹스퀘어 컴포넌트 공통.) getScopeWindow( ) scope=\"true\"...</td>\n",
       "      <td>2384</td>\n",
       "    </tr>\n",
       "    <tr>\n",
       "      <th>2</th>\n",
       "      <td>closable tab의 닫기 버튼을 활성화 할지의 여부로, 개별 closable ...</td>\n",
       "      <td>2468</td>\n",
       "    </tr>\n",
       "    <tr>\n",
       "      <th>3</th>\n",
       "      <td>info.startTabIndex : tab이동을 시작한 tab의 index (화면...</td>\n",
       "      <td>2453</td>\n",
       "    </tr>\n",
       "    <tr>\n",
       "      <th>4</th>\n",
       "      <td>} // 새로 생성한 탭에서 전달 받은 데이터를 확인하는 예제 // var para...</td>\n",
       "      <td>2447</td>\n",
       "    </tr>\n",
       "  </tbody>\n",
       "</table>\n",
       "</div>"
      ],
      "text/plain": [
       "                                                text  n_tokens\n",
       "0  80 websquare html websquare.uiplugin.tabContro...      2452\n",
       "1  (웹스퀘어 컴포넌트 공통.) getScopeWindow( ) scope=\"true\"...      2384\n",
       "2  closable tab의 닫기 버튼을 활성화 할지의 여부로, 개별 closable ...      2468\n",
       "3  info.startTabIndex : tab이동을 시작한 tab의 index (화면...      2453\n",
       "4  } // 새로 생성한 탭에서 전달 받은 데이터를 확인하는 예제 // var para...      2447"
      ]
     },
     "execution_count": 99,
     "metadata": {},
     "output_type": "execute_result"
    }
   ],
   "source": [
    "df_cleaning_ko.head()"
   ]
  },
  {
   "cell_type": "code",
   "execution_count": 26,
   "metadata": {},
   "outputs": [],
   "source": [
    "df_cleaning_ko.to_csv('processed/before_cleaning_ko.csv')"
   ]
  },
  {
   "cell_type": "code",
   "execution_count": 27,
   "metadata": {},
   "outputs": [
    {
     "data": {
      "text/html": [
       "<div>\n",
       "<style scoped>\n",
       "    .dataframe tbody tr th:only-of-type {\n",
       "        vertical-align: middle;\n",
       "    }\n",
       "\n",
       "    .dataframe tbody tr th {\n",
       "        vertical-align: top;\n",
       "    }\n",
       "\n",
       "    .dataframe thead th {\n",
       "        text-align: right;\n",
       "    }\n",
       "</style>\n",
       "<table border=\"1\" class=\"dataframe\">\n",
       "  <thead>\n",
       "    <tr style=\"text-align: right;\">\n",
       "      <th></th>\n",
       "      <th>text</th>\n",
       "      <th>n_tokens</th>\n",
       "    </tr>\n",
       "  </thead>\n",
       "  <tbody>\n",
       "    <tr>\n",
       "      <th>0</th>\n",
       "      <td>80 websquare html websquare.uiplugin.tabContro...</td>\n",
       "      <td>2492</td>\n",
       "    </tr>\n",
       "    <tr>\n",
       "      <th>1</th>\n",
       "      <td>The following property values ​​are forcibly a...</td>\n",
       "      <td>2405</td>\n",
       "    </tr>\n",
       "    <tr>\n",
       "      <th>2</th>\n",
       "      <td>info.startTabIndex : The index of the tab wher...</td>\n",
       "      <td>2462</td>\n",
       "    </tr>\n",
       "    <tr>\n",
       "      <th>3</th>\n",
       "      <td>Parameter nametyperequireddescription idxNumbe...</td>\n",
       "      <td>2488</td>\n",
       "    </tr>\n",
       "    <tr>\n",
       "      <th>4</th>\n",
       "      <td>(Common to Web Square components.) Parameter n...</td>\n",
       "      <td>2492</td>\n",
       "    </tr>\n",
       "  </tbody>\n",
       "</table>\n",
       "</div>"
      ],
      "text/plain": [
       "                                                text  n_tokens\n",
       "0  80 websquare html websquare.uiplugin.tabContro...      2492\n",
       "1  The following property values ​​are forcibly a...      2405\n",
       "2  info.startTabIndex : The index of the tab wher...      2462\n",
       "3  Parameter nametyperequireddescription idxNumbe...      2488\n",
       "4  (Common to Web Square components.) Parameter n...      2492"
      ]
     },
     "execution_count": 27,
     "metadata": {},
     "output_type": "execute_result"
    }
   ],
   "source": [
    "df_cleaning_en.head()"
   ]
  },
  {
   "cell_type": "code",
   "execution_count": 28,
   "metadata": {},
   "outputs": [],
   "source": [
    "df_cleaning_en.to_csv('processed/before_cleaning_en.csv')"
   ]
  },
  {
   "cell_type": "markdown",
   "metadata": {},
   "source": [
    "## gpt-3로 축약 작업 진행 (외부 프로그램으로 진행)\n",
    "\n",
    "I want you to act as a technical writer and proofreader. You'll be reviewing, rewriting and summarizing for ease of understanding.  Below is detailed instruction.\n",
    "\n",
    "- Do not give any explanation for your answer. \n",
    "- Do not add content that is not in the original text. \n",
    "- You can use only the sample or example code in the original text.\n",
    "- Up to 1400 tokens and no more than 50% the length of the original text. \n",
    "- Answer in Korean. \n"
   ]
  },
  {
   "cell_type": "markdown",
   "metadata": {},
   "source": [
    "## 축약 작업 결과를 로드"
   ]
  },
  {
   "cell_type": "code",
   "execution_count": 105,
   "metadata": {
    "scrolled": true
   },
   "outputs": [
    {
     "data": {
      "text/html": [
       "<div>\n",
       "<style scoped>\n",
       "    .dataframe tbody tr th:only-of-type {\n",
       "        vertical-align: middle;\n",
       "    }\n",
       "\n",
       "    .dataframe tbody tr th {\n",
       "        vertical-align: top;\n",
       "    }\n",
       "\n",
       "    .dataframe thead th {\n",
       "        text-align: right;\n",
       "    }\n",
       "</style>\n",
       "<table border=\"1\" class=\"dataframe\">\n",
       "  <thead>\n",
       "    <tr style=\"text-align: right;\">\n",
       "      <th></th>\n",
       "      <th>text</th>\n",
       "      <th>n_tokens</th>\n",
       "    </tr>\n",
       "  </thead>\n",
       "  <tbody>\n",
       "    <tr>\n",
       "      <th>0</th>\n",
       "      <td>WebSquare.uiplugin.tabControl은 탭 컨트롤을 구현하는 HTM...</td>\n",
       "      <td>462</td>\n",
       "    </tr>\n",
       "    <tr>\n",
       "      <th>1</th>\n",
       "      <td>이 함수들은 웹스퀘어 컴포넌트에서 사용할 수 있는 다양한 기능을 제공한다. getS...</td>\n",
       "      <td>1362</td>\n",
       "    </tr>\n",
       "    <tr>\n",
       "      <th>2</th>\n",
       "      <td>tabControl 컴포넌트는 여러 개의 탭을 관리하고, 각 탭에 대한 설정을 제공...</td>\n",
       "      <td>342</td>\n",
       "    </tr>\n",
       "    <tr>\n",
       "      <th>3</th>\n",
       "      <td>이벤트\\n- onbeforeselect: tab이 선택되기 전에 발생되며, retu...</td>\n",
       "      <td>521</td>\n",
       "    </tr>\n",
       "    <tr>\n",
       "      <th>4</th>\n",
       "      <td>이 함수들은 웹스퀘어 컴포넌트에서 사용되는 함수들이며, 각 함수의 기능과 사용 방법...</td>\n",
       "      <td>179</td>\n",
       "    </tr>\n",
       "  </tbody>\n",
       "</table>\n",
       "</div>"
      ],
      "text/plain": [
       "                                                text  n_tokens\n",
       "0  WebSquare.uiplugin.tabControl은 탭 컨트롤을 구현하는 HTM...       462\n",
       "1  이 함수들은 웹스퀘어 컴포넌트에서 사용할 수 있는 다양한 기능을 제공한다. getS...      1362\n",
       "2  tabControl 컴포넌트는 여러 개의 탭을 관리하고, 각 탭에 대한 설정을 제공...       342\n",
       "3  이벤트\\n- onbeforeselect: tab이 선택되기 전에 발생되며, retu...       521\n",
       "4  이 함수들은 웹스퀘어 컴포넌트에서 사용되는 함수들이며, 각 함수의 기능과 사용 방법...       179"
      ]
     },
     "execution_count": 105,
     "metadata": {},
     "output_type": "execute_result"
    }
   ],
   "source": [
    "df_after_cleaning_ko=pd.read_csv('processed/after_cleaning_ko.csv', index_col=0)\n",
    "df_after_cleaning_ko.head()"
   ]
  },
  {
   "cell_type": "code",
   "execution_count": 106,
   "metadata": {
    "scrolled": false
   },
   "outputs": [
    {
     "data": {
      "text/plain": [
       "<Axes: >"
      ]
     },
     "execution_count": 106,
     "metadata": {},
     "output_type": "execute_result"
    },
    {
     "data": {
      "image/png": "[encoded data removed]",
      "text/plain": [
       "<Figure size 640x480 with 1 Axes>"
      ]
     },
     "metadata": {},
     "output_type": "display_data"
    }
   ],
   "source": [
    "df_after_cleaning_ko = pd.DataFrame(df_after_cleaning_ko, columns = ['text'])\n",
    "df_after_cleaning_ko['n_tokens'] = df_after_cleaning_ko.text.apply(lambda x: len(tokenizer.encode(x)))\n",
    "df_after_cleaning_ko.n_tokens.hist()"
   ]
  },
  {
   "cell_type": "markdown",
   "metadata": {},
   "source": [
    "## 문서를 token (500)이하로 분리하여 저장"
   ]
  },
  {
   "cell_type": "code",
   "execution_count": 107,
   "metadata": {},
   "outputs": [],
   "source": [
    "shortened_cleaning_ko = []\n",
    "\n",
    "# Loop through the dataframe\n",
    "for row in df_after_cleaning_ko.iterrows():\n",
    "\n",
    "    # If the text is None, go to the next row\n",
    "    if row[1]['text'] is None:\n",
    "        continue\n",
    "\n",
    "    # If the number of tokens is greater than the max number of tokens, split the text into chunks\n",
    "    if row[1]['n_tokens'] > max_tokens:\n",
    "        shortened_cleaning_ko += split_into_many(row[1]['text'])\n",
    "    \n",
    "    # Otherwise, add the text to the list of shortened texts\n",
    "    else:\n",
    "        shortened_cleaning_ko.append( row[1]['text'] )\n",
    "        "
   ]
  },
  {
   "cell_type": "code",
   "execution_count": 108,
   "metadata": {
    "scrolled": false
   },
   "outputs": [
    {
     "data": {
      "text/plain": [
       "<Axes: >"
      ]
     },
     "execution_count": 108,
     "metadata": {},
     "output_type": "execute_result"
    },
    {
     "data": {
      "image/png": "[encoded data removed]",
      "text/plain": [
       "<Figure size 640x480 with 1 Axes>"
      ]
     },
     "metadata": {},
     "output_type": "display_data"
    }
   ],
   "source": [
    "df_after_cleaning_ko = pd.DataFrame(shortened_cleaning_ko, columns = ['text'])\n",
    "df_after_cleaning_ko['n_tokens'] = df_after_cleaning_ko.text.apply(lambda x: len(tokenizer.encode(x)))\n",
    "df_after_cleaning_ko.n_tokens.hist()"
   ]
  },
  {
   "cell_type": "markdown",
   "metadata": {},
   "source": [
    "# 7. OpenAI API를 이용하여 embedding 계산 하여 저장\n",
    "이미 계산된 파일을 이용하는 경우 실행 불필요 (실행이 필요한 경우 주석을 제거한 다음 실행)"
   ]
  },
  {
   "cell_type": "markdown",
   "metadata": {},
   "source": [
    "## 원본을 embedding"
   ]
  },
  {
   "cell_type": "code",
   "execution_count": 32,
   "metadata": {},
   "outputs": [],
   "source": [
    "# import openai\n",
    "\n",
    "# df_ko['embeddings'] = df_ko.text.apply(lambda x: openai.Embedding.create(input=x, engine='text-embedding-ada-002')['data'][0]['embedding'])\n",
    "# df_ko.to_csv('processed/embeddings_ko.csv')\n",
    "# df_ko.head()"
   ]
  },
  {
   "cell_type": "code",
   "execution_count": 33,
   "metadata": {},
   "outputs": [],
   "source": [
    "# import openai\n",
    "\n",
    "# df_en['embeddings'] = df_en.text.apply(lambda x: openai.Embedding.create(input=x, engine='text-embedding-ada-002')['data'][0]['embedding'])\n",
    "# df_en.to_csv('processed/embeddings_en.csv')\n",
    "# df_en.head()"
   ]
  },
  {
   "cell_type": "markdown",
   "metadata": {},
   "source": [
    "## cleaning한 결과를 embedding"
   ]
  },
  {
   "cell_type": "code",
   "execution_count": 109,
   "metadata": {},
   "outputs": [
    {
     "data": {
      "text/html": [
       "<div>\n",
       "<style scoped>\n",
       "    .dataframe tbody tr th:only-of-type {\n",
       "        vertical-align: middle;\n",
       "    }\n",
       "\n",
       "    .dataframe tbody tr th {\n",
       "        vertical-align: top;\n",
       "    }\n",
       "\n",
       "    .dataframe thead th {\n",
       "        text-align: right;\n",
       "    }\n",
       "</style>\n",
       "<table border=\"1\" class=\"dataframe\">\n",
       "  <thead>\n",
       "    <tr style=\"text-align: right;\">\n",
       "      <th></th>\n",
       "      <th>text</th>\n",
       "      <th>n_tokens</th>\n",
       "      <th>embeddings</th>\n",
       "    </tr>\n",
       "  </thead>\n",
       "  <tbody>\n",
       "    <tr>\n",
       "      <th>0</th>\n",
       "      <td>WebSquare.uiplugin.tabControl은 탭 컨트롤을 구현하는 HTM...</td>\n",
       "      <td>462</td>\n",
       "      <td>[-0.0004809198435395956, -0.005975246895104647...</td>\n",
       "    </tr>\n",
       "    <tr>\n",
       "      <th>1</th>\n",
       "      <td>이 함수들은 웹스퀘어 컴포넌트에서 사용할 수 있는 다양한 기능을 제공한다. getS...</td>\n",
       "      <td>485</td>\n",
       "      <td>[0.013541501946747303, 0.006753849796950817, 0...</td>\n",
       "    </tr>\n",
       "    <tr>\n",
       "      <th>2</th>\n",
       "      <td>hideTab(tabIndex) 함수는 tab을 숨김(hidden)처리 한다. is...</td>\n",
       "      <td>483</td>\n",
       "      <td>[0.00030302564846351743, -0.004649957176297903...</td>\n",
       "    </tr>\n",
       "    <tr>\n",
       "      <th>3</th>\n",
       "      <td>setWidth(width) 함수는 tabControl의 width를 설정하며 px...</td>\n",
       "      <td>393</td>\n",
       "      <td>[0.004575745202600956, 0.00784219615161419, 0....</td>\n",
       "    </tr>\n",
       "    <tr>\n",
       "      <th>4</th>\n",
       "      <td>tabControl 컴포넌트는 여러 개의 탭을 관리하고, 각 탭에 대한 설정을 제공...</td>\n",
       "      <td>342</td>\n",
       "      <td>[-0.009348013438284397, -0.010107745416462421,...</td>\n",
       "    </tr>\n",
       "  </tbody>\n",
       "</table>\n",
       "</div>"
      ],
      "text/plain": [
       "                                                text  n_tokens  \\\n",
       "0  WebSquare.uiplugin.tabControl은 탭 컨트롤을 구현하는 HTM...       462   \n",
       "1  이 함수들은 웹스퀘어 컴포넌트에서 사용할 수 있는 다양한 기능을 제공한다. getS...       485   \n",
       "2  hideTab(tabIndex) 함수는 tab을 숨김(hidden)처리 한다. is...       483   \n",
       "3  setWidth(width) 함수는 tabControl의 width를 설정하며 px...       393   \n",
       "4  tabControl 컴포넌트는 여러 개의 탭을 관리하고, 각 탭에 대한 설정을 제공...       342   \n",
       "\n",
       "                                          embeddings  \n",
       "0  [-0.0004809198435395956, -0.005975246895104647...  \n",
       "1  [0.013541501946747303, 0.006753849796950817, 0...  \n",
       "2  [0.00030302564846351743, -0.004649957176297903...  \n",
       "3  [0.004575745202600956, 0.00784219615161419, 0....  \n",
       "4  [-0.009348013438284397, -0.010107745416462421,...  "
      ]
     },
     "execution_count": 109,
     "metadata": {},
     "output_type": "execute_result"
    }
   ],
   "source": [
    "import openai\n",
    "\n",
    "df_after_cleaning_ko['embeddings'] = df_after_cleaning_ko.text.apply(lambda x: openai.Embedding.create(input=x, engine='text-embedding-ada-002')['data'][0]['embedding'])\n",
    "df_after_cleaning_ko.to_csv('processed/embeddings_cleaning_ko.csv')\n",
    "df_after_cleaning_ko.head()"
   ]
  },
  {
   "cell_type": "code",
   "execution_count": 35,
   "metadata": {},
   "outputs": [],
   "source": [
    "# import openai\n",
    "\n",
    "# df_cleaning_en['embeddings'] = df_cleaning_en.text.apply(lambda x: openai.Embedding.create(input=x, engine='text-embedding-ada-002')['data'][0]['embedding'])\n",
    "# df_cleaning_en.to_csv('processed/embeddings_cleaning_en.csv')\n",
    "# df_cleaning_en.head()"
   ]
  },
  {
   "cell_type": "markdown",
   "metadata": {},
   "source": [
    "## API를 embedding "
   ]
  },
  {
   "cell_type": "code",
   "execution_count": 36,
   "metadata": {},
   "outputs": [],
   "source": [
    "# import openai\n",
    "\n",
    "# df_api_ko['embeddings'] = df_api_ko.text.apply(lambda x: openai.Embedding.create(input=x, engine='text-embedding-ada-002')['data'][0]['embedding'])\n",
    "# df_api_ko.to_csv('processed/embeddings_api_ko.csv')\n",
    "# df_api_ko.head()"
   ]
  },
  {
   "cell_type": "markdown",
   "metadata": {},
   "source": [
    "# 8. embedding이 포함된 파일을 pandas에 로딩"
   ]
  },
  {
   "cell_type": "markdown",
   "metadata": {},
   "source": [
    "## 한글의 경우"
   ]
  },
  {
   "cell_type": "code",
   "execution_count": 110,
   "metadata": {},
   "outputs": [
    {
     "data": {
      "text/html": [
       "<div>\n",
       "<style scoped>\n",
       "    .dataframe tbody tr th:only-of-type {\n",
       "        vertical-align: middle;\n",
       "    }\n",
       "\n",
       "    .dataframe tbody tr th {\n",
       "        vertical-align: top;\n",
       "    }\n",
       "\n",
       "    .dataframe thead th {\n",
       "        text-align: right;\n",
       "    }\n",
       "</style>\n",
       "<table border=\"1\" class=\"dataframe\">\n",
       "  <thead>\n",
       "    <tr style=\"text-align: right;\">\n",
       "      <th></th>\n",
       "      <th>text</th>\n",
       "      <th>n_tokens</th>\n",
       "      <th>embeddings</th>\n",
       "    </tr>\n",
       "  </thead>\n",
       "  <tbody>\n",
       "    <tr>\n",
       "      <th>0</th>\n",
       "      <td>80 websquare html websquare.uiplugin.tabContro...</td>\n",
       "      <td>461</td>\n",
       "      <td>[-0.009222293272614479, -0.0069480170495808125...</td>\n",
       "    </tr>\n",
       "    <tr>\n",
       "      <th>1</th>\n",
       "      <td>closable tab의 닫기 버튼을 활성화 할지의 여부로, 개별 closable ...</td>\n",
       "      <td>496</td>\n",
       "      <td>[-0.011141913011670113, -0.01115531288087368, ...</td>\n",
       "    </tr>\n",
       "    <tr>\n",
       "      <th>2</th>\n",
       "      <td>tabRole [default:true, false]tab 컴포넌트의 role=\"t...</td>\n",
       "      <td>420</td>\n",
       "      <td>[-0.008997799828648567, -0.011731056496500969,...</td>\n",
       "    </tr>\n",
       "    <tr>\n",
       "      <th>3</th>\n",
       "      <td>userData1 사용자 정의 데이터 속성 userData2 사용자 정의 데이터 속...</td>\n",
       "      <td>487</td>\n",
       "      <td>[-0.004409090615808964, -0.024778474122285843,...</td>\n",
       "    </tr>\n",
       "    <tr>\n",
       "      <th>4</th>\n",
       "      <td>bind( eventType , function ) 컴포넌트에 이벤트와 핸들러 함수...</td>\n",
       "      <td>427</td>\n",
       "      <td>[-0.013010666705667973, -0.0002241010370198637...</td>\n",
       "    </tr>\n",
       "  </tbody>\n",
       "</table>\n",
       "</div>"
      ],
      "text/plain": [
       "                                                text  n_tokens  \\\n",
       "0  80 websquare html websquare.uiplugin.tabContro...       461   \n",
       "1  closable tab의 닫기 버튼을 활성화 할지의 여부로, 개별 closable ...       496   \n",
       "2  tabRole [default:true, false]tab 컴포넌트의 role=\"t...       420   \n",
       "3  userData1 사용자 정의 데이터 속성 userData2 사용자 정의 데이터 속...       487   \n",
       "4  bind( eventType , function ) 컴포넌트에 이벤트와 핸들러 함수...       427   \n",
       "\n",
       "                                          embeddings  \n",
       "0  [-0.009222293272614479, -0.0069480170495808125...  \n",
       "1  [-0.011141913011670113, -0.01115531288087368, ...  \n",
       "2  [-0.008997799828648567, -0.011731056496500969,...  \n",
       "3  [-0.004409090615808964, -0.024778474122285843,...  \n",
       "4  [-0.013010666705667973, -0.0002241010370198637...  "
      ]
     },
     "execution_count": 110,
     "metadata": {},
     "output_type": "execute_result"
    }
   ],
   "source": [
    "import pandas as pd\n",
    "import numpy as np\n",
    "from openai.embeddings_utils import distances_from_embeddings, cosine_similarity\n",
    "\n",
    "df_ko=pd.read_csv('processed/embeddings_ko.csv', index_col=0)\n",
    "df_ko['embeddings'] = df_ko['embeddings'].apply(eval).apply(np.array)\n",
    "\n",
    "df_ko.head()\n"
   ]
  },
  {
   "cell_type": "markdown",
   "metadata": {},
   "source": [
    "## 영어의 경우"
   ]
  },
  {
   "cell_type": "code",
   "execution_count": 111,
   "metadata": {
    "scrolled": false
   },
   "outputs": [
    {
     "data": {
      "text/html": [
       "<div>\n",
       "<style scoped>\n",
       "    .dataframe tbody tr th:only-of-type {\n",
       "        vertical-align: middle;\n",
       "    }\n",
       "\n",
       "    .dataframe tbody tr th {\n",
       "        vertical-align: top;\n",
       "    }\n",
       "\n",
       "    .dataframe thead th {\n",
       "        text-align: right;\n",
       "    }\n",
       "</style>\n",
       "<table border=\"1\" class=\"dataframe\">\n",
       "  <thead>\n",
       "    <tr style=\"text-align: right;\">\n",
       "      <th></th>\n",
       "      <th>text</th>\n",
       "      <th>n_tokens</th>\n",
       "      <th>embeddings</th>\n",
       "    </tr>\n",
       "  </thead>\n",
       "  <tbody>\n",
       "    <tr>\n",
       "      <th>0</th>\n",
       "      <td>80 websquare html websquare.uiplugin.tabContro...</td>\n",
       "      <td>471</td>\n",
       "      <td>[-0.005918701644986868, 0.005215943790972233, ...</td>\n",
       "    </tr>\n",
       "    <tr>\n",
       "      <th>1</th>\n",
       "      <td>When the noUseTitle tabScroll option is used, ...</td>\n",
       "      <td>494</td>\n",
       "      <td>[-0.01587953045964241, -0.0022740792483091354,...</td>\n",
       "    </tr>\n",
       "    <tr>\n",
       "      <th>2</th>\n",
       "      <td>windowMaxNum [default:-1] If -1 is set as the ...</td>\n",
       "      <td>436</td>\n",
       "      <td>[-0.002756500383839011, -0.017225049436092377,...</td>\n",
       "    </tr>\n",
       "    <tr>\n",
       "      <th>3</th>\n",
       "      <td>getGenerator( ) Returns the parent generator o...</td>\n",
       "      <td>492</td>\n",
       "      <td>[0.015154805965721607, 0.0009454326354898512, ...</td>\n",
       "    </tr>\n",
       "    <tr>\n",
       "      <th>4</th>\n",
       "      <td>getWindow(idx) The window corresponding to the...</td>\n",
       "      <td>498</td>\n",
       "      <td>[0.004514731932431459, 0.007678211200982332, 0...</td>\n",
       "    </tr>\n",
       "  </tbody>\n",
       "</table>\n",
       "</div>"
      ],
      "text/plain": [
       "                                                text  n_tokens  \\\n",
       "0  80 websquare html websquare.uiplugin.tabContro...       471   \n",
       "1  When the noUseTitle tabScroll option is used, ...       494   \n",
       "2  windowMaxNum [default:-1] If -1 is set as the ...       436   \n",
       "3  getGenerator( ) Returns the parent generator o...       492   \n",
       "4  getWindow(idx) The window corresponding to the...       498   \n",
       "\n",
       "                                          embeddings  \n",
       "0  [-0.005918701644986868, 0.005215943790972233, ...  \n",
       "1  [-0.01587953045964241, -0.0022740792483091354,...  \n",
       "2  [-0.002756500383839011, -0.017225049436092377,...  \n",
       "3  [0.015154805965721607, 0.0009454326354898512, ...  \n",
       "4  [0.004514731932431459, 0.007678211200982332, 0...  "
      ]
     },
     "execution_count": 111,
     "metadata": {},
     "output_type": "execute_result"
    }
   ],
   "source": [
    "import pandas as pd\n",
    "import numpy as np\n",
    "from openai.embeddings_utils import distances_from_embeddings, cosine_similarity\n",
    "\n",
    "df_en=pd.read_csv('processed/embeddings_en.csv', index_col=0)\n",
    "df_en['embeddings'] = df_en['embeddings'].apply(eval).apply(np.array)\n",
    "\n",
    "df_en.head()\n"
   ]
  },
  {
   "cell_type": "markdown",
   "metadata": {},
   "source": [
    "## 축약 버전의 경우"
   ]
  },
  {
   "cell_type": "code",
   "execution_count": 112,
   "metadata": {},
   "outputs": [
    {
     "data": {
      "text/html": [
       "<div>\n",
       "<style scoped>\n",
       "    .dataframe tbody tr th:only-of-type {\n",
       "        vertical-align: middle;\n",
       "    }\n",
       "\n",
       "    .dataframe tbody tr th {\n",
       "        vertical-align: top;\n",
       "    }\n",
       "\n",
       "    .dataframe thead th {\n",
       "        text-align: right;\n",
       "    }\n",
       "</style>\n",
       "<table border=\"1\" class=\"dataframe\">\n",
       "  <thead>\n",
       "    <tr style=\"text-align: right;\">\n",
       "      <th></th>\n",
       "      <th>text</th>\n",
       "      <th>n_tokens</th>\n",
       "      <th>embeddings</th>\n",
       "    </tr>\n",
       "  </thead>\n",
       "  <tbody>\n",
       "    <tr>\n",
       "      <th>0</th>\n",
       "      <td>WebSquare.uiplugin.tabControl은 탭 컨트롤을 구현하는 HTM...</td>\n",
       "      <td>462</td>\n",
       "      <td>[-0.0004809198435395956, -0.005975246895104647...</td>\n",
       "    </tr>\n",
       "    <tr>\n",
       "      <th>1</th>\n",
       "      <td>이 함수들은 웹스퀘어 컴포넌트에서 사용할 수 있는 다양한 기능을 제공한다. getS...</td>\n",
       "      <td>485</td>\n",
       "      <td>[0.013541501946747303, 0.006753849796950817, 0...</td>\n",
       "    </tr>\n",
       "    <tr>\n",
       "      <th>2</th>\n",
       "      <td>hideTab(tabIndex) 함수는 tab을 숨김(hidden)처리 한다. is...</td>\n",
       "      <td>483</td>\n",
       "      <td>[0.00030302564846351743, -0.004649957176297903...</td>\n",
       "    </tr>\n",
       "    <tr>\n",
       "      <th>3</th>\n",
       "      <td>setWidth(width) 함수는 tabControl의 width를 설정하며 px...</td>\n",
       "      <td>393</td>\n",
       "      <td>[0.004575745202600956, 0.00784219615161419, 0....</td>\n",
       "    </tr>\n",
       "    <tr>\n",
       "      <th>4</th>\n",
       "      <td>tabControl 컴포넌트는 여러 개의 탭을 관리하고, 각 탭에 대한 설정을 제공...</td>\n",
       "      <td>342</td>\n",
       "      <td>[-0.009348013438284397, -0.010107745416462421,...</td>\n",
       "    </tr>\n",
       "  </tbody>\n",
       "</table>\n",
       "</div>"
      ],
      "text/plain": [
       "                                                text  n_tokens  \\\n",
       "0  WebSquare.uiplugin.tabControl은 탭 컨트롤을 구현하는 HTM...       462   \n",
       "1  이 함수들은 웹스퀘어 컴포넌트에서 사용할 수 있는 다양한 기능을 제공한다. getS...       485   \n",
       "2  hideTab(tabIndex) 함수는 tab을 숨김(hidden)처리 한다. is...       483   \n",
       "3  setWidth(width) 함수는 tabControl의 width를 설정하며 px...       393   \n",
       "4  tabControl 컴포넌트는 여러 개의 탭을 관리하고, 각 탭에 대한 설정을 제공...       342   \n",
       "\n",
       "                                          embeddings  \n",
       "0  [-0.0004809198435395956, -0.005975246895104647...  \n",
       "1  [0.013541501946747303, 0.006753849796950817, 0...  \n",
       "2  [0.00030302564846351743, -0.004649957176297903...  \n",
       "3  [0.004575745202600956, 0.00784219615161419, 0....  \n",
       "4  [-0.009348013438284397, -0.010107745416462421,...  "
      ]
     },
     "execution_count": 112,
     "metadata": {},
     "output_type": "execute_result"
    }
   ],
   "source": [
    "import pandas as pd\n",
    "import numpy as np\n",
    "from openai.embeddings_utils import distances_from_embeddings, cosine_similarity\n",
    "\n",
    "df_after_cleaning_ko=pd.read_csv('processed/embeddings_cleaning_ko.csv', index_col=0)\n",
    "df_after_cleaning_ko['embeddings'] = df_after_cleaning_ko['embeddings'].apply(eval).apply(np.array)\n",
    "\n",
    "df_after_cleaning_ko.head()\n"
   ]
  },
  {
   "cell_type": "markdown",
   "metadata": {},
   "source": [
    "## API의 경우"
   ]
  },
  {
   "cell_type": "code",
   "execution_count": 113,
   "metadata": {
    "scrolled": true
   },
   "outputs": [
    {
     "data": {
      "text/html": [
       "<div>\n",
       "<style scoped>\n",
       "    .dataframe tbody tr th:only-of-type {\n",
       "        vertical-align: middle;\n",
       "    }\n",
       "\n",
       "    .dataframe tbody tr th {\n",
       "        vertical-align: top;\n",
       "    }\n",
       "\n",
       "    .dataframe thead th {\n",
       "        text-align: right;\n",
       "    }\n",
       "</style>\n",
       "<table border=\"1\" class=\"dataframe\">\n",
       "  <thead>\n",
       "    <tr style=\"text-align: right;\">\n",
       "      <th></th>\n",
       "      <th>유형</th>\n",
       "      <th>component</th>\n",
       "      <th>name</th>\n",
       "      <th>description</th>\n",
       "      <th>parameter</th>\n",
       "      <th>return</th>\n",
       "      <th>exception</th>\n",
       "      <th>sample</th>\n",
       "      <th>built since</th>\n",
       "      <th>built last</th>\n",
       "      <th>text</th>\n",
       "      <th>n_tokens</th>\n",
       "      <th>embeddings</th>\n",
       "    </tr>\n",
       "  </thead>\n",
       "  <tbody>\n",
       "    <tr>\n",
       "      <th>0</th>\n",
       "      <td>method</td>\n",
       "      <td>$p</td>\n",
       "      <td>$</td>\n",
       "      <td>jQuery selector를 인자로 받아 jQuery 객체를 반환한다. &lt;br /...</td>\n",
       "      <td>NaN</td>\n",
       "      <td>Object\\tjQuery 객체</td>\n",
       "      <td>NaN</td>\n",
       "      <td>$p.$(\"#group1\").wq(\"invoke\", \"setDisabled\", \"t...</td>\n",
       "      <td>5.0_3.3377A.20181128.161740</td>\n",
       "      <td>5.0_5.4811B.20230203.095105</td>\n",
       "      <td>$p    $    jQuery selector를 인자로 받아 jQuery 객체를 ...</td>\n",
       "      <td>74</td>\n",
       "      <td>[0.01099808607250452, -0.005163693800568581, 0...</td>\n",
       "    </tr>\n",
       "    <tr>\n",
       "      <th>1</th>\n",
       "      <td>method</td>\n",
       "      <td>$p</td>\n",
       "      <td>URLEncoder</td>\n",
       "      <td>주어진 문자열을 `application/x-www-form-urlencoded` M...</td>\n",
       "      <td>str\\tString\\tY\\t문자열</td>\n",
       "      <td>String\\t변환된 application/x-www-form-urlencoded ...</td>\n",
       "      <td>NaN</td>\n",
       "      <td>&lt;xmp  class='js sample'&gt;var encodeStr = $p.URL...</td>\n",
       "      <td>5.0_3.3377A.20181128.161740</td>\n",
       "      <td>5.0_5.4811B.20230203.095105</td>\n",
       "      <td>$p    URLEncoder    주어진 문자열을 `application/x-ww...</td>\n",
       "      <td>30</td>\n",
       "      <td>[0.031562093645334244, 0.02055238001048565, 0....</td>\n",
       "    </tr>\n",
       "    <tr>\n",
       "      <th>2</th>\n",
       "      <td>method</td>\n",
       "      <td>$p</td>\n",
       "      <td>ajax</td>\n",
       "      <td>submission과 비슷한 기능을 제공하는 통신 모듈로 submission에 비해...</td>\n",
       "      <td>options\\tJSON\\tY\\tJSON형태 객체&lt;br /&gt;\\n&lt;xmp class=...</td>\n",
       "      <td>\\t</td>\n",
       "      <td>NaN</td>\n",
       "      <td>&lt;xmp  class='js sample'&gt;var options = {};\\nopt...</td>\n",
       "      <td>5.0_3.3377A.20181128.161740</td>\n",
       "      <td>5.0_5.4811B.20230203.095105</td>\n",
       "      <td>$p    ajax    submission과 비슷한 기능을 제공하는 통신 모듈로 ...</td>\n",
       "      <td>78</td>\n",
       "      <td>[0.006162634585052729, -0.006649068556725979, ...</td>\n",
       "    </tr>\n",
       "    <tr>\n",
       "      <th>3</th>\n",
       "      <td>method</td>\n",
       "      <td>$p</td>\n",
       "      <td>clearInterval</td>\n",
       "      <td>$p.setInterval으로 등록된 Interval 객체를 해제합니다.</td>\n",
       "      <td>keyName\\tString\\tY\\tkey로 지정한 값. ( $p.setInterv...</td>\n",
       "      <td>\\t</td>\n",
       "      <td>NaN</td>\n",
       "      <td>&lt;xmp  class='js sample'&gt;//$p.setInterval API를 ...</td>\n",
       "      <td>5.0_3.3377A.20181128.161740</td>\n",
       "      <td>5.0_5.4811B.20230203.095105</td>\n",
       "      <td>$p    clearInterval    $p.setInterval으로 등록된 In...</td>\n",
       "      <td>19</td>\n",
       "      <td>[0.005675738677382469, 0.0083992350846529, 0.0...</td>\n",
       "    </tr>\n",
       "    <tr>\n",
       "      <th>4</th>\n",
       "      <td>method</td>\n",
       "      <td>$p</td>\n",
       "      <td>clearPage</td>\n",
       "      <td>브라우저를 초기 상태로 되돌리는 함수이며, 이 함수를 사용하여 웹스퀘어 엔진 및 리...</td>\n",
       "      <td>NaN</td>\n",
       "      <td>\\t</td>\n",
       "      <td>NaN</td>\n",
       "      <td>&lt;xmp  class='js sample'&gt;&lt;body&gt;\\n    &lt;script ty...</td>\n",
       "      <td>5.0_3.3377A.20181128.161740</td>\n",
       "      <td>5.0_5.4811B.20230203.095105</td>\n",
       "      <td>$p    clearPage    브라우저를 초기 상태로 되돌리는 함수이며, 이 함...</td>\n",
       "      <td>213</td>\n",
       "      <td>[0.005665027070790529, 0.01029566116631031, 0....</td>\n",
       "    </tr>\n",
       "  </tbody>\n",
       "</table>\n",
       "</div>"
      ],
      "text/plain": [
       "       유형 component           name  \\\n",
       "0  method        $p              $   \n",
       "1  method        $p     URLEncoder   \n",
       "2  method        $p           ajax   \n",
       "3  method        $p  clearInterval   \n",
       "4  method        $p      clearPage   \n",
       "\n",
       "                                         description  \\\n",
       "0  jQuery selector를 인자로 받아 jQuery 객체를 반환한다. <br /...   \n",
       "1  주어진 문자열을 `application/x-www-form-urlencoded` M...   \n",
       "2  submission과 비슷한 기능을 제공하는 통신 모듈로 submission에 비해...   \n",
       "3           $p.setInterval으로 등록된 Interval 객체를 해제합니다.   \n",
       "4  브라우저를 초기 상태로 되돌리는 함수이며, 이 함수를 사용하여 웹스퀘어 엔진 및 리...   \n",
       "\n",
       "                                           parameter  \\\n",
       "0                                                NaN   \n",
       "1                                str\\tString\\tY\\t문자열   \n",
       "2  options\\tJSON\\tY\\tJSON형태 객체<br />\\n<xmp class=...   \n",
       "3  keyName\\tString\\tY\\tkey로 지정한 값. ( $p.setInterv...   \n",
       "4                                                NaN   \n",
       "\n",
       "                                              return exception  \\\n",
       "0                                  Object\\tjQuery 객체       NaN   \n",
       "1  String\\t변환된 application/x-www-form-urlencoded ...       NaN   \n",
       "2                                                 \\t       NaN   \n",
       "3                                                 \\t       NaN   \n",
       "4                                                 \\t       NaN   \n",
       "\n",
       "                                              sample  \\\n",
       "0  $p.$(\"#group1\").wq(\"invoke\", \"setDisabled\", \"t...   \n",
       "1  <xmp  class='js sample'>var encodeStr = $p.URL...   \n",
       "2  <xmp  class='js sample'>var options = {};\\nopt...   \n",
       "3  <xmp  class='js sample'>//$p.setInterval API를 ...   \n",
       "4  <xmp  class='js sample'><body>\\n    <script ty...   \n",
       "\n",
       "                   built since                   built last  \\\n",
       "0  5.0_3.3377A.20181128.161740  5.0_5.4811B.20230203.095105   \n",
       "1  5.0_3.3377A.20181128.161740  5.0_5.4811B.20230203.095105   \n",
       "2  5.0_3.3377A.20181128.161740  5.0_5.4811B.20230203.095105   \n",
       "3  5.0_3.3377A.20181128.161740  5.0_5.4811B.20230203.095105   \n",
       "4  5.0_3.3377A.20181128.161740  5.0_5.4811B.20230203.095105   \n",
       "\n",
       "                                                text  n_tokens  \\\n",
       "0  $p    $    jQuery selector를 인자로 받아 jQuery 객체를 ...        74   \n",
       "1  $p    URLEncoder    주어진 문자열을 `application/x-ww...        30   \n",
       "2  $p    ajax    submission과 비슷한 기능을 제공하는 통신 모듈로 ...        78   \n",
       "3  $p    clearInterval    $p.setInterval으로 등록된 In...        19   \n",
       "4  $p    clearPage    브라우저를 초기 상태로 되돌리는 함수이며, 이 함...       213   \n",
       "\n",
       "                                          embeddings  \n",
       "0  [0.01099808607250452, -0.005163693800568581, 0...  \n",
       "1  [0.031562093645334244, 0.02055238001048565, 0....  \n",
       "2  [0.006162634585052729, -0.006649068556725979, ...  \n",
       "3  [0.005675738677382469, 0.0083992350846529, 0.0...  \n",
       "4  [0.005665027070790529, 0.01029566116631031, 0....  "
      ]
     },
     "execution_count": 113,
     "metadata": {},
     "output_type": "execute_result"
    }
   ],
   "source": [
    "import pandas as pd\n",
    "import numpy as np\n",
    "from openai.embeddings_utils import distances_from_embeddings, cosine_similarity\n",
    "\n",
    "df_api_ko=pd.read_csv('processed/embeddings_api_ko.csv', index_col=0)\n",
    "df_api_ko['embeddings'] = df_api_ko['embeddings'].apply(eval).apply(np.array)\n",
    "\n",
    "df_api_ko.head()\n"
   ]
  },
  {
   "cell_type": "markdown",
   "metadata": {},
   "source": [
    "# 9. gpt에 전달할 context 생성\n",
    "\n",
    "1. 질문의 embedding 생성\n",
    "2. 질문과 기존 embedding의 유사도를 계산하여 가장 높은 항목 추출\n",
    "3. max_token (1500)을 초과하지 않는 범위에서 유사도가 높은 항목을 context로 생성\n",
    "4. OpenAI에서 제공하는 api 호출\n",
    "\n",
    "\n",
    "* answer_question_chat는 chat api 사용\n",
    "* answer_question_completion는 completion api 사용 "
   ]
  },
  {
   "cell_type": "code",
   "execution_count": 114,
   "metadata": {},
   "outputs": [],
   "source": [
    "def create_context(\n",
    "    question, df, max_len=1500, debug=False\n",
    "):\n",
    "    \"\"\"\n",
    "    Create a context for a question by finding the most similar context from the dataframe\n",
    "    \"\"\"\n",
    "\n",
    "    # Get the embeddings for the question\n",
    "    q_embeddings = openai.Embedding.create(input=question, engine='text-embedding-ada-002')['data'][0]['embedding']\n",
    "\n",
    "    # Get the distances from the embeddings\n",
    "    df['distances'] = distances_from_embeddings(q_embeddings, df['embeddings'].values, distance_metric='cosine')\n",
    "\n",
    "\n",
    "    returns = []\n",
    "    cur_len = 0\n",
    "    prev_distance = 0\n",
    "    prev_msg = \"\"\n",
    "\n",
    "    # Sort by distance and add the text to the context until the context is too long\n",
    "    for i, row in df.sort_values('distances', ascending=True).iterrows():\n",
    "        \n",
    "        if prev_distance == row['distances']:\n",
    "#             print(\"이전 목록과 동일 (distance)\")\n",
    "            continue\n",
    "        elif prev_msg == row['text']:\n",
    "#             print(\"이전 목록과 동일 (문자열)\")\n",
    "            continue\n",
    "        else:\n",
    "            prev_distance = row['distances']\n",
    "            prev_msg = row['text']            \n",
    "\n",
    "            # Add the length of the text to the current length\n",
    "            cur_len += row['n_tokens'] + 4\n",
    "\n",
    "            # If the context is too long, break\n",
    "            if cur_len > max_len:\n",
    "                break\n",
    "\n",
    "            if debug:\n",
    "                print(i, row['distances'], row['text'])\n",
    "            # Else add it to the text that is being returned\n",
    "            returns.append(row[\"text\"])\n",
    "\n",
    "    # Return the context\n",
    "    return \"\\n\\n###\\n\\n\".join(returns)\n",
    "\n",
    "\n",
    "def answer_question_chat(\n",
    "    df,\n",
    "    model=\"gpt-3.5-turbo\",\n",
    "    question=\"Am I allowed to publish model outputs to Twitter, without a human review?\",\n",
    "    max_len=3000,\n",
    "    debug=False,\n",
    "#     max_tokens=150,\n",
    "    stop_sequence=None\n",
    "):\n",
    "    \"\"\"\n",
    "    Answer a question based on the most similar context from the dataframe texts\n",
    "    \"\"\"\n",
    "    context = create_context(\n",
    "        question,\n",
    "        df,\n",
    "        max_len=max_len,\n",
    "        debug=debug\n",
    "    )\n",
    "    # If debug, print the raw model response\n",
    "    if debug:\n",
    "        print(\"\\n\\nContext:\\n\" + context)\n",
    "        print(\"\\n\\n\")\n",
    "\n",
    "    try:\n",
    "        # Create a completions using the question and context\n",
    "        response = openai.ChatCompletion.create(\n",
    "            model=model,\n",
    "            messages=[\n",
    "                {\"role\": \"user\", \"content\": f\"Answer the question based on the context below, and if the question can't be answered based on the context, say \\\"I don't know\\\"\\n\\nContext: {context}\\n\\n---\\n\\nQuestion: {question}\\nAnswer:\"}\n",
    "            ],\n",
    "            temperature=0,\n",
    "#             max_tokens=max_tokens,\n",
    "            top_p=1,\n",
    "            frequency_penalty=0,\n",
    "            presence_penalty=0,\n",
    "            stop=stop_sequence,\n",
    "        )\n",
    "\n",
    "        return response[\"choices\"][0][\"message\"][\"content\"].strip()\n",
    "    except Exception as e:\n",
    "        print(e)\n",
    "        return \"\"\n",
    "\n",
    "def answer_question_completion(\n",
    "    df,\n",
    "    model=\"text-davinci-003\",\n",
    "    question=\"Am I allowed to publish model outputs to Twitter, without a human review?\",\n",
    "    max_len=2000,\n",
    "    debug=False,\n",
    "#     max_tokens=150,\n",
    "    stop_sequence=None\n",
    "):\n",
    "    \"\"\"\n",
    "    Answer a question based on the most similar context from the dataframe texts\n",
    "    \"\"\"\n",
    "    context = create_context(\n",
    "        question,\n",
    "        df,\n",
    "        max_len=max_len,\n",
    "        debug=debug\n",
    "    )\n",
    "    # If debug, print the raw model response\n",
    "    if debug:\n",
    "        print(\"\\n\\nContext:\\n\" + context)\n",
    "        print(\"\\n\\n\")\n",
    "\n",
    "    try:\n",
    "        # Create a completions using the question and context\n",
    "        response = openai.Completion.create(\n",
    "            prompt=f\"Answer the question based on the context below, and if the question can't be answered based on the context, say \\\"I don't know\\\"\\n\\nContext: {context}\\n\\n---\\n\\nQuestion: {question}:\\nAnswer:\",\n",
    "            temperature=0,\n",
    "#             max_tokens=max_tokens,\n",
    "            top_p=1,\n",
    "            frequency_penalty=0,\n",
    "            presence_penalty=0,\n",
    "            stop=stop_sequence,\n",
    "            model=model,\n",
    "        )\n",
    "        return response[\"choices\"][0][\"text\"].strip()\n",
    "    except Exception as e:\n",
    "        print(e)\n",
    "        return \"\"\n",
    "\n",
    "def search_context(\n",
    "    df, question, max_cnt=5, debug=False\n",
    "):\n",
    "    \"\"\"\n",
    "    Create a context for a question by finding the most similar context from the dataframe\n",
    "    \"\"\"\n",
    "\n",
    "    # Get the embeddings for the question\n",
    "    q_embeddings = openai.Embedding.create(input=question, engine='text-embedding-ada-002')['data'][0]['embedding']\n",
    "\n",
    "    # Get the distances from the embeddings\n",
    "    df['distances'] = distances_from_embeddings(q_embeddings, df['embeddings'].values, distance_metric='cosine')\n",
    "\n",
    "\n",
    "    returns = []\n",
    "    cur_cnt = 0\n",
    "    prev_distance = 0\n",
    "    prev_msg = \"\"\n",
    "\n",
    "    # Sort by distance and add the text to the context until the context is too long\n",
    "    for i, row in df.sort_values('distances', ascending=True).iterrows():\n",
    "        \n",
    "        if prev_distance == row['distances']:\n",
    "            print(\"이전 목록과 동일 (distance)\")\n",
    "            continue\n",
    "        elif prev_msg == row['text']:\n",
    "            print(\"이전 목록과 동일 (문자열)\")\n",
    "            continue\n",
    "        else:\n",
    "            prev_distance = row['distances']\n",
    "            prev_msg = row['text']\n",
    "\n",
    "            # Add the length of the text to the current length\n",
    "            cur_cnt += 1\n",
    "\n",
    "            # If the context is too long, break\n",
    "            if cur_cnt > max_cnt:\n",
    "                break\n",
    "\n",
    "#             if debug:\n",
    "            print(i, row['distances'], row['text'])\n",
    "            # Else add it to the text that is being returned\n",
    "            returns.append(row[\"text\"])\n",
    "\n",
    "    # Return the context\n",
    "    return \"\\n\\n---\\n\\n\".join(returns)\n"
   ]
  },
  {
   "cell_type": "markdown",
   "metadata": {},
   "source": [
    "# 10. gpt를 이용하여 질문/답변 확인\n",
    "\n",
    "gpt4를 사용하려고 하는 경우 answer_question_chat 함수에 model=\"gpt-4\" 인자를 추가하면 됨"
   ]
  },
  {
   "cell_type": "code",
   "execution_count": 115,
   "metadata": {
    "scrolled": true
   },
   "outputs": [
    {
     "data": {
      "text/plain": [
       "\"I don't know.\""
      ]
     },
     "execution_count": 115,
     "metadata": {},
     "output_type": "execute_result"
    }
   ],
   "source": [
    "answer_question_chat(df_ko, question=\"What day is it?\", debug=False)"
   ]
  },
  {
   "cell_type": "code",
   "execution_count": 116,
   "metadata": {
    "scrolled": false
   },
   "outputs": [
    {
     "data": {
      "text/plain": [
       "\"I don't know.\""
      ]
     },
     "execution_count": 116,
     "metadata": {},
     "output_type": "execute_result"
    }
   ],
   "source": [
    "answer_question_chat(df_en, question=\"What day is it?\", debug=False)"
   ]
  },
  {
   "cell_type": "code",
   "execution_count": 117,
   "metadata": {},
   "outputs": [
    {
     "data": {
      "text/plain": [
       "\"I don't know.\""
      ]
     },
     "execution_count": 117,
     "metadata": {},
     "output_type": "execute_result"
    }
   ],
   "source": [
    "answer_question_chat(df_after_cleaning_ko, question=\"What day is it?\", debug=False)"
   ]
  },
  {
   "cell_type": "code",
   "execution_count": 118,
   "metadata": {},
   "outputs": [
    {
     "data": {
      "text/plain": [
       "\"I don't know.\""
      ]
     },
     "execution_count": 118,
     "metadata": {},
     "output_type": "execute_result"
    }
   ],
   "source": [
    "answer_question_chat(df_ko, question=\"What is our newest embeddings model?\", debug=False)"
   ]
  },
  {
   "cell_type": "code",
   "execution_count": 119,
   "metadata": {
    "scrolled": true
   },
   "outputs": [
    {
     "data": {
      "text/plain": [
       "\"I don't know.\""
      ]
     },
     "execution_count": 119,
     "metadata": {},
     "output_type": "execute_result"
    }
   ],
   "source": [
    "answer_question_chat(df_en, question=\"What is our newest embeddings model?\", debug=False)"
   ]
  },
  {
   "cell_type": "code",
   "execution_count": 120,
   "metadata": {},
   "outputs": [
    {
     "data": {
      "text/plain": [
       "\"I don't know.\""
      ]
     },
     "execution_count": 120,
     "metadata": {},
     "output_type": "execute_result"
    }
   ],
   "source": [
    "answer_question_chat(df_after_cleaning_ko, question=\"What is our newest embeddings model?\", debug=False)"
   ]
  },
  {
   "cell_type": "code",
   "execution_count": 121,
   "metadata": {},
   "outputs": [
    {
     "data": {
      "text/plain": [
       "'GridView에서 엑셀을 다운로드하려면 advancedExcelDownload 함수를 사용해야 합니다. 함수를 호출할 때 다양한 옵션을 설정할 수 있으며, 예제 파일이나 WEBSQUARE_DEV_PACK의 GUIDE 프로젝트에서 확인할 수 있습니다.'"
      ]
     },
     "execution_count": 121,
     "metadata": {},
     "output_type": "execute_result"
    }
   ],
   "source": [
    "answer_question_chat(df_ko, question=\"gridView에서 엑셀을 다운로드하려면?\", debug=False)"
   ]
  },
  {
   "cell_type": "code",
   "execution_count": 122,
   "metadata": {
    "scrolled": true
   },
   "outputs": [
    {
     "data": {
      "text/plain": [
       "'advancedExcelDownload() 함수를 사용해야 한다.'"
      ]
     },
     "execution_count": 122,
     "metadata": {},
     "output_type": "execute_result"
    }
   ],
   "source": [
    "answer_question_chat(df_en, question=\"gridView에서 엑셀을 다운로드하려면?\", debug=False)"
   ]
  },
  {
   "cell_type": "code",
   "execution_count": 123,
   "metadata": {},
   "outputs": [
    {
     "data": {
      "text/plain": [
       "'GridView에서는 advancedExcelDownload() 함수를 사용하여 엑셀 파일을 다운로드할 수 있습니다. 이 함수에는 다양한 옵션들이 있으며, 파일 이름, 출력할 데이터의 표시 형식, 포맷을 적용하기 위한 사용자 함수 등을 지정할 수 있습니다. 또한, options 객체를 사용하여 다운로드 옵션 파일 정보를 입력할 수 있습니다.'"
      ]
     },
     "execution_count": 123,
     "metadata": {},
     "output_type": "execute_result"
    }
   ],
   "source": [
    "answer_question_chat(df_after_cleaning_ko, question=\"gridView에서 엑셀을 다운로드하려면?\", debug=False)"
   ]
  },
  {
   "cell_type": "code",
   "execution_count": 124,
   "metadata": {
    "scrolled": true
   },
   "outputs": [
    {
     "data": {
      "text/plain": [
       "'interactionMode 속성을 true로 설정하여 사용자 입력에 따라 서버로부터 데이터를 동적으로 받아올 수 있습니다.'"
      ]
     },
     "execution_count": 124,
     "metadata": {},
     "output_type": "execute_result"
    }
   ],
   "source": [
    "answer_question_chat(df_ko, question=\"autoComplete에서 항목을 서버에서 동적으로 조회하려면 어떤 속성이나 API를 이용해야 하나요?\", debug=False)"
   ]
  },
  {
   "cell_type": "code",
   "execution_count": 125,
   "metadata": {},
   "outputs": [
    {
     "data": {
      "text/plain": [
       "'interactionMode 속성을 이용해야 합니다.'"
      ]
     },
     "execution_count": 125,
     "metadata": {},
     "output_type": "execute_result"
    }
   ],
   "source": [
    "answer_question_chat(df_en, question=\"autoComplete에서 항목을 서버에서 동적으로 조회하려면 어떤 속성이나 API를 이용해야 하나요?\", debug=False)"
   ]
  },
  {
   "cell_type": "code",
   "execution_count": 126,
   "metadata": {},
   "outputs": [
    {
     "data": {
      "text/plain": [
       "'interactionMode 속성을 이용하여 사용자 입력에 따라 서버로부터 데이터를 동적으로 받아 항목을 생성할 수 있습니다.'"
      ]
     },
     "execution_count": 126,
     "metadata": {},
     "output_type": "execute_result"
    }
   ],
   "source": [
    "answer_question_chat(df_after_cleaning_ko, question=\"autoComplete에서 항목을 서버에서 동적으로 조회하려면 어떤 속성이나 API를 이용해야 하나요?\", debug=False)"
   ]
  },
  {
   "cell_type": "code",
   "execution_count": 127,
   "metadata": {},
   "outputs": [
    {
     "data": {
      "text/plain": [
       "'API는 setSelectedIndex() 나 setValue()를 사용하여 항목을 서버에서 조회할 수 있습니다.'"
      ]
     },
     "execution_count": 127,
     "metadata": {},
     "output_type": "execute_result"
    }
   ],
   "source": [
    "answer_question_chat(df_ko, question=\"autoComplete에서 항목을 서버에서 조회하려면 API?\", debug=False)"
   ]
  },
  {
   "cell_type": "code",
   "execution_count": 128,
   "metadata": {
    "scrolled": false
   },
   "outputs": [
    {
     "data": {
      "text/plain": [
       "'The API for retrieving the corresponding list from the server in real time using the Enter key or user key input is provided, but the specific API is not mentioned in the given context.'"
      ]
     },
     "execution_count": 128,
     "metadata": {},
     "output_type": "execute_result"
    }
   ],
   "source": [
    "answer_question_chat(df_en, question=\"autoComplete에서 항목을 서버에서 조회하려면 API?\", debug=False)"
   ]
  },
  {
   "cell_type": "code",
   "execution_count": 129,
   "metadata": {},
   "outputs": [
    {
     "data": {
      "text/plain": [
       "\"I don't know.\""
      ]
     },
     "execution_count": 129,
     "metadata": {},
     "output_type": "execute_result"
    }
   ],
   "source": [
    "answer_question_chat(df_after_cleaning_ko, question=\"autoComplete에서 항목을 서버에서 조회하려면 API?\", debug=False)"
   ]
  },
  {
   "cell_type": "code",
   "execution_count": 130,
   "metadata": {},
   "outputs": [
    {
     "data": {
      "text/plain": [
       "'interactionMode 속성과 search API를'"
      ]
     },
     "execution_count": 130,
     "metadata": {},
     "output_type": "execute_result"
    }
   ],
   "source": [
    "answer_question_completion(df_ko, question=\"autoComplete에서 항목을 서버에서 동적으로 조회하려면 어떤 속성이나 API를 이용해야 하나요?\", debug=False)"
   ]
  },
  {
   "cell_type": "code",
   "execution_count": 131,
   "metadata": {},
   "outputs": [
    {
     "data": {
      "text/plain": [
       "'interactionMode 속성을 이용'"
      ]
     },
     "execution_count": 131,
     "metadata": {},
     "output_type": "execute_result"
    }
   ],
   "source": [
    "answer_question_completion(df_en, question=\"autoComplete에서 항목을 서버에서 동적으로 조회하려면 어떤 속성이나 API를 이용해야 하나요?\", debug=False)"
   ]
  },
  {
   "cell_type": "code",
   "execution_count": 132,
   "metadata": {},
   "outputs": [
    {
     "name": "stdout",
     "output_type": "stream",
     "text": [
      "This model's maximum context length is 4097 tokens, however you requested 4602 tokens (4586 in your prompt; 16 for the completion). Please reduce your prompt; or completion length.\n"
     ]
    },
    {
     "data": {
      "text/plain": [
       "''"
      ]
     },
     "execution_count": 132,
     "metadata": {},
     "output_type": "execute_result"
    }
   ],
   "source": [
    "answer_question_completion(df_after_cleaning_ko, question=\"autoComplete에서 항목을 서버에서 동적으로 조회하려면 어떤 속성이나 API를 이용해야 하나요?\", debug=False)"
   ]
  },
  {
   "cell_type": "code",
   "execution_count": 133,
   "metadata": {},
   "outputs": [
    {
     "data": {
      "text/plain": [
       "'The context does not provide information on whether the mentioned feature is possible or not.'"
      ]
     },
     "execution_count": 133,
     "metadata": {},
     "output_type": "execute_result"
    }
   ],
   "source": [
    "answer_question_chat(df_ko, question=\"첨부드린 이미지 처럼 그리드에서 특정 행이나 버튼을 클릭시 그 행에 포함되어 숨어있던 하위 행들을 노출할수 있는기능이 가능할런지요? 기능 구현상 가능여부 확인이 필요하여 문의 드립니다.전체목록열기 버튼 클릭시 기본 노출되는 행 아래로 숨어있던 전체 행들이 나타나게 구현하고자 합니다.혹여 그리드가 안된다면 다른 방법이 있을지도 추가 문의 드립니다.확인 요청 드립니다. 감사합니다.\")"
   ]
  },
  {
   "cell_type": "code",
   "execution_count": 134,
   "metadata": {},
   "outputs": [
    {
     "data": {
      "text/plain": [
       "'It is not clear from the context whether the specific functionality of clicking a row or button to reveal hidden sub-rows is possible in the grid. Further clarification or testing may be necessary to determine if this feature can be implemented.'"
      ]
     },
     "execution_count": 134,
     "metadata": {},
     "output_type": "execute_result"
    }
   ],
   "source": [
    "answer_question_chat(df_en, question=\"첨부드린 이미지 처럼 그리드에서 특정 행이나 버튼을 클릭시 그 행에 포함되어 숨어있던 하위 행들을 노출할수 있는기능이 가능할런지요? 기능 구현상 가능여부 확인이 필요하여 문의 드립니다.전체목록열기 버튼 클릭시 기본 노출되는 행 아래로 숨어있던 전체 행들이 나타나게 구현하고자 합니다.혹여 그리드가 안된다면 다른 방법이 있을지도 추가 문의 드립니다.확인 요청 드립니다. 감사합니다.\")"
   ]
  },
  {
   "cell_type": "code",
   "execution_count": 135,
   "metadata": {},
   "outputs": [
    {
     "data": {
      "text/plain": [
       "\"I don't know. The context does not provide information on whether the specific feature mentioned in the question is available in the GridView component.\""
      ]
     },
     "execution_count": 135,
     "metadata": {},
     "output_type": "execute_result"
    }
   ],
   "source": [
    "answer_question_chat(df_after_cleaning_ko, question=\"첨부드린 이미지 처럼 그리드에서 특정 행이나 버튼을 클릭시 그 행에 포함되어 숨어있던 하위 행들을 노출할수 있는기능이 가능할런지요? 기능 구현상 가능여부 확인이 필요하여 문의 드립니다.전체목록열기 버튼 클릭시 기본 노출되는 행 아래로 숨어있던 전체 행들이 나타나게 구현하고자 합니다.혹여 그리드가 안된다면 다른 방법이 있을지도 추가 문의 드립니다.확인 요청 드립니다. 감사합니다.\")"
   ]
  },
  {
   "cell_type": "code",
   "execution_count": 161,
   "metadata": {},
   "outputs": [
    {
     "data": {
      "text/plain": [
       "\"I don't know.\""
      ]
     },
     "execution_count": 161,
     "metadata": {},
     "output_type": "execute_result"
    }
   ],
   "source": [
    "answer_question_chat(df_ko, question=\"그리드 특정 행 버튼 클릭 하위 행 노출 기능 가능여부 확인 전체목록열기 버튼 기본 노출 행 아래 전체 행 나타나게 구현 다른 방법 추가 문의 확인 요청\")"
   ]
  },
  {
   "cell_type": "code",
   "execution_count": 160,
   "metadata": {},
   "outputs": [
    {
     "data": {
      "text/plain": [
       "\"I don't know.\""
      ]
     },
     "execution_count": 160,
     "metadata": {},
     "output_type": "execute_result"
    }
   ],
   "source": [
    "answer_question_chat(df_en, question=\"그리드 특정 행 버튼 클릭 하위 행 노출 기능 가능여부 확인 전체목록열기 버튼 기본 노출 행 아래 전체 행 나타나게 구현 다른 방법 추가 문의 확인 요청\")"
   ]
  },
  {
   "cell_type": "code",
   "execution_count": 158,
   "metadata": {},
   "outputs": [
    {
     "data": {
      "text/plain": [
       "\"I don't know. The context does not provide enough information to answer the question.\""
      ]
     },
     "execution_count": 158,
     "metadata": {},
     "output_type": "execute_result"
    }
   ],
   "source": [
    "answer_question_chat(df_after_cleaning_ko, question=\"그리드 특정 행 버튼 클릭 하위 행 노출 기능 가능여부 확인 전체목록열기 버튼 기본 노출 행 아래 전체 행 나타나게 구현 다른 방법 추가 문의 확인 요청\")"
   ]
  },
  {
   "cell_type": "code",
   "execution_count": 136,
   "metadata": {
    "scrolled": true
   },
   "outputs": [
    {
     "data": {
      "text/plain": [
       "\"I don't know.\""
      ]
     },
     "execution_count": 136,
     "metadata": {},
     "output_type": "execute_result"
    }
   ],
   "source": [
    "answer_question_chat(df_ko, question=\"그리드에서 특정 행이나 버튼을 클릭시 그 행에 포함되어 숨어있던 하위 행들을 노출할수 있는기능이 가능할런지요? 기능 구현상 가능여부 확인이 필요하여 문의 드립니다.전체목록열기 버튼 클릭시 기본 노출되는 행 아래로 숨어있던 전체 행들이 나타나게 구현하고자 합니다.혹여 그리드가 안된다면 다른 방법이 있을지도 추가 문의 드립니다.\")"
   ]
  },
  {
   "cell_type": "code",
   "execution_count": 137,
   "metadata": {},
   "outputs": [
    {
     "data": {
      "text/plain": [
       "'The question is not directly addressed in the given context.'"
      ]
     },
     "execution_count": 137,
     "metadata": {},
     "output_type": "execute_result"
    }
   ],
   "source": [
    "answer_question_chat(df_en, question=\"그리드에서 특정 행이나 버튼을 클릭시 그 행에 포함되어 숨어있던 하위 행들을 노출할수 있는기능이 가능할런지요? 기능 구현상 가능여부 확인이 필요하여 문의 드립니다.전체목록열기 버튼 클릭시 기본 노출되는 행 아래로 숨어있던 전체 행들이 나타나게 구현하고자 합니다.혹여 그리드가 안된다면 다른 방법이 있을지도 추가 문의 드립니다.\")"
   ]
  },
  {
   "cell_type": "code",
   "execution_count": 138,
   "metadata": {},
   "outputs": [
    {
     "data": {
      "text/plain": [
       "'가능합니다. 이러한 기능은 drilldownToggle 속성을 사용하여 구현할 수 있습니다. 이 속성을 사용하면, inputType=\"drilldown\" 컬럼에서 드릴다운을 펼치는 방식을 선택할 수 있습니다. 따라서, 특정 행이나 버튼을 클릭하여 하위 행들을 노출시키는 기능을 구현할 수 있습니다.'"
      ]
     },
     "execution_count": 138,
     "metadata": {},
     "output_type": "execute_result"
    }
   ],
   "source": [
    "answer_question_chat(df_after_cleaning_ko, question=\"그리드에서 특정 행이나 버튼을 클릭시 그 행에 포함되어 숨어있던 하위 행들을 노출할수 있는기능이 가능할런지요? 기능 구현상 가능여부 확인이 필요하여 문의 드립니다.전체목록열기 버튼 클릭시 기본 노출되는 행 아래로 숨어있던 전체 행들이 나타나게 구현하고자 합니다.혹여 그리드가 안된다면 다른 방법이 있을지도 추가 문의 드립니다.\")"
   ]
  },
  {
   "cell_type": "code",
   "execution_count": 139,
   "metadata": {},
   "outputs": [
    {
     "data": {
      "text/plain": [
       "'그리드에서 drilldown 기능을 사용하면 특정 행이나 버튼을 클릭 시 그 행에 포함되어 숨어있던 하위 행들을 노출할 수 있습니다. 이 기능을 구현하려면 hasChild() 함수를 사용하여 해당 행이 하위 행을 가지고 있는지 확인하고, drillTo() 함수를 사용하여 해당 행의 하위 행들을 오픈할 수 있습니다. 이 외에도 다양한 그리드 관련 함수들을 사용하여 원하는 기능을 구현할 수 있습니다.'"
      ]
     },
     "execution_count": 139,
     "metadata": {},
     "output_type": "execute_result"
    }
   ],
   "source": [
    "answer_question_chat(df_ko, model=\"gpt-4\", question=\"그리드에서 특정 행이나 버튼을 클릭시 그 행에 포함되어 숨어있던 하위 행들을 노출할수 있는기능이 가능할런지요? 기능 구현상 가능여부 확인이 필요하여 문의 드립니다.전체목록열기 버튼 클릭시 기본 노출되는 행 아래로 숨어있던 전체 행들이 나타나게 구현하고자 합니다.혹여 그리드가 안된다면 다른 방법이 있을지도 추가 문의 드립니다.\")"
   ]
  },
  {
   "cell_type": "code",
   "execution_count": 140,
   "metadata": {},
   "outputs": [
    {
     "data": {
      "text/plain": [
       "\"I don't know\""
      ]
     },
     "execution_count": 140,
     "metadata": {},
     "output_type": "execute_result"
    }
   ],
   "source": [
    "answer_question_chat(df_en, model=\"gpt-4\", question=\"그리드에서 특정 행이나 버튼을 클릭시 그 행에 포함되어 숨어있던 하위 행들을 노출할수 있는기능이 가능할런지요? 기능 구현상 가능여부 확인이 필요하여 문의 드립니다.전체목록열기 버튼 클릭시 기본 노출되는 행 아래로 숨어있던 전체 행들이 나타나게 구현하고자 합니다.혹여 그리드가 안된다면 다른 방법이 있을지도 추가 문의 드립니다.\")"
   ]
  },
  {
   "cell_type": "code",
   "execution_count": 141,
   "metadata": {},
   "outputs": [
    {
     "data": {
      "text/plain": [
       "'그리드에서 특정 행이나 버튼을 클릭하여 하위 행들을 노출하는 기능은 가능합니다. 이를 구현하기 위해 setRowVisible 및 clearRowVisible 함수를 사용하여 행을 숨기거나 표시할 수 있습니다. 전체 목록 열기 버튼 클릭 시 기본 노출되는 행 아래로 숨어있던 전체 행들이 나타나게 구현할 수 있습니다.'"
      ]
     },
     "execution_count": 141,
     "metadata": {},
     "output_type": "execute_result"
    }
   ],
   "source": [
    "answer_question_chat(df_after_cleaning_ko, model=\"gpt-4\", question=\"그리드에서 특정 행이나 버튼을 클릭시 그 행에 포함되어 숨어있던 하위 행들을 노출할수 있는기능이 가능할런지요? 기능 구현상 가능여부 확인이 필요하여 문의 드립니다.전체목록열기 버튼 클릭시 기본 노출되는 행 아래로 숨어있던 전체 행들이 나타나게 구현하고자 합니다.혹여 그리드가 안된다면 다른 방법이 있을지도 추가 문의 드립니다.\")"
   ]
  },
  {
   "cell_type": "code",
   "execution_count": 142,
   "metadata": {},
   "outputs": [
    {
     "data": {
      "text/plain": [
       "'The context does not provide information on whether the specific feature of clicking a row or button to reveal hidden sub-rows is possible in the Grid component.'"
      ]
     },
     "execution_count": 142,
     "metadata": {},
     "output_type": "execute_result"
    }
   ],
   "source": [
    "answer_question_chat(df_ko, question=\"첨부드린 이미지 처럼 그리드에서 특정 행이나 버튼을 클릭시 그 행에 포함되어 숨어있던 하위 행들을 노출할수 있는기능이 가능할런지요? 기능 구현상 가능여부 확인이 필요하여 문의 드립니다.전체목록열기 버튼 클릭시 기본 노출되는 행 아래로 숨어있던 전체 행들이 나타나게 구현하고자 합니다.혹여 그리드가 안된다면 다른 방법이 있을지도 추가 문의 드립니다.\")"
   ]
  },
  {
   "cell_type": "code",
   "execution_count": 143,
   "metadata": {},
   "outputs": [
    {
     "data": {
      "text/plain": [
       "'It is not clear from the context whether the grid component has the functionality to display hidden rows when a specific row or button is clicked. Further clarification or research is needed.'"
      ]
     },
     "execution_count": 143,
     "metadata": {},
     "output_type": "execute_result"
    }
   ],
   "source": [
    "answer_question_chat(df_en, question=\"첨부드린 이미지 처럼 그리드에서 특정 행이나 버튼을 클릭시 그 행에 포함되어 숨어있던 하위 행들을 노출할수 있는기능이 가능할런지요? 기능 구현상 가능여부 확인이 필요하여 문의 드립니다.전체목록열기 버튼 클릭시 기본 노출되는 행 아래로 숨어있던 전체 행들이 나타나게 구현하고자 합니다.혹여 그리드가 안된다면 다른 방법이 있을지도 추가 문의 드립니다.\")"
   ]
  },
  {
   "cell_type": "code",
   "execution_count": 144,
   "metadata": {},
   "outputs": [
    {
     "data": {
      "text/plain": [
       "\"I don't know. The context does not provide information on whether the described feature is possible or not.\""
      ]
     },
     "execution_count": 144,
     "metadata": {},
     "output_type": "execute_result"
    }
   ],
   "source": [
    "answer_question_chat(df_after_cleaning_ko, question=\"첨부드린 이미지 처럼 그리드에서 특정 행이나 버튼을 클릭시 그 행에 포함되어 숨어있던 하위 행들을 노출할수 있는기능이 가능할런지요? 기능 구현상 가능여부 확인이 필요하여 문의 드립니다.전체목록열기 버튼 클릭시 기본 노출되는 행 아래로 숨어있던 전체 행들이 나타나게 구현하고자 합니다.혹여 그리드가 안된다면 다른 방법이 있을지도 추가 문의 드립니다.\")"
   ]
  },
  {
   "cell_type": "code",
   "execution_count": 145,
   "metadata": {},
   "outputs": [
    {
     "data": {
      "text/plain": [
       "\"I don't know.\""
      ]
     },
     "execution_count": 145,
     "metadata": {},
     "output_type": "execute_result"
    }
   ],
   "source": [
    "answer_question_chat(df_ko, question='''pivotExcelDownload 엑셀 다운로드시 표 상단을 병합 후 제목을 적으려고합니다. \n",
    "header에 열의 수만큼 병합하려합니다. 열의 수를 알 수 있는 방법이 있을까요?\n",
    "\n",
    "예시) \n",
    "\n",
    "                                        제목 : 00 빈도수 분포\n",
    " \n",
    " \t열1\t열2\n",
    " \t \t \n",
    " \t \t \n",
    "''')"
   ]
  },
  {
   "cell_type": "code",
   "execution_count": 146,
   "metadata": {},
   "outputs": [
    {
     "data": {
      "text/plain": [
       "'There is no information provided in the context on how to determine the number of columns in the pivot table, so it is not possible to answer the question.'"
      ]
     },
     "execution_count": 146,
     "metadata": {},
     "output_type": "execute_result"
    }
   ],
   "source": [
    "answer_question_chat(df_en, question='''pivotExcelDownload 엑셀 다운로드시 표 상단을 병합 후 제목을 적으려고합니다. \n",
    "header에 열의 수만큼 병합하려합니다. 열의 수를 알 수 있는 방법이 있을까요?\n",
    "\n",
    "예시) \n",
    "\n",
    "                                        제목 : 00 빈도수 분포\n",
    " \n",
    " \t열1\t열2\n",
    " \t \t \n",
    " \t \t \n",
    "''')"
   ]
  },
  {
   "cell_type": "code",
   "execution_count": 147,
   "metadata": {},
   "outputs": [
    {
     "data": {
      "text/plain": [
       "\"I don't know.\""
      ]
     },
     "execution_count": 147,
     "metadata": {},
     "output_type": "execute_result"
    }
   ],
   "source": [
    "answer_question_chat(df_after_cleaning_ko, question='''pivotExcelDownload 엑셀 다운로드시 표 상단을 병합 후 제목을 적으려고합니다. \n",
    "header에 열의 수만큼 병합하려합니다. 열의 수를 알 수 있는 방법이 있을까요?\n",
    "\n",
    "예시) \n",
    "\n",
    "                                        제목 : 00 빈도수 분포\n",
    " \n",
    " \t열1\t열2\n",
    " \t \t \n",
    " \t \t \n",
    "''')"
   ]
  },
  {
   "cell_type": "code",
   "execution_count": 148,
   "metadata": {},
   "outputs": [
    {
     "data": {
      "text/plain": [
       "\"I don't know\""
      ]
     },
     "execution_count": 148,
     "metadata": {},
     "output_type": "execute_result"
    }
   ],
   "source": [
    "answer_question_chat(df_ko, model=\"gpt-4\", debug=False, question='''pivotExcelDownload 엑셀 다운로드시 표 상단을 병합 후 제목을 적으려고합니다. \n",
    "header에 열의 수만큼 병합하려합니다. 열의 수를 알 수 있는 방법이 있을까요?\n",
    "\n",
    "예시) \n",
    "\n",
    "                                        제목 : 00 빈도수 분포\n",
    " \n",
    " \t열1\t열2\n",
    " \t \t \n",
    " \t \t \n",
    "''')"
   ]
  },
  {
   "cell_type": "code",
   "execution_count": 149,
   "metadata": {},
   "outputs": [
    {
     "data": {
      "text/plain": [
       "\"I don't know\""
      ]
     },
     "execution_count": 149,
     "metadata": {},
     "output_type": "execute_result"
    }
   ],
   "source": [
    "answer_question_chat(df_en, model=\"gpt-4\", debug=False, question='''pivotExcelDownload 엑셀 다운로드시 표 상단을 병합 후 제목을 적으려고합니다. \n",
    "header에 열의 수만큼 병합하려합니다. 열의 수를 알 수 있는 방법이 있을까요?\n",
    "\n",
    "예시) \n",
    "\n",
    "                                        제목 : 00 빈도수 분포\n",
    " \n",
    " \t열1\t열2\n",
    " \t \t \n",
    " \t \t \n",
    "''')"
   ]
  },
  {
   "cell_type": "code",
   "execution_count": 150,
   "metadata": {},
   "outputs": [
    {
     "data": {
      "text/plain": [
       "\"I don't know\""
      ]
     },
     "execution_count": 150,
     "metadata": {},
     "output_type": "execute_result"
    }
   ],
   "source": [
    "answer_question_chat(df_after_cleaning_ko, model=\"gpt-4\", debug=False, question='''pivotExcelDownload 엑셀 다운로드시 표 상단을 병합 후 제목을 적으려고합니다. \n",
    "header에 열의 수만큼 병합하려합니다. 열의 수를 알 수 있는 방법이 있을까요?\n",
    "\n",
    "예시) \n",
    "\n",
    "                                        제목 : 00 빈도수 분포\n",
    " \n",
    " \t열1\t열2\n",
    " \t \t \n",
    " \t \t \n",
    "''')"
   ]
  },
  {
   "cell_type": "code",
   "execution_count": 155,
   "metadata": {},
   "outputs": [
    {
     "data": {
      "text/plain": [
       "\"I don't know.\""
      ]
     },
     "execution_count": 155,
     "metadata": {},
     "output_type": "execute_result"
    }
   ],
   "source": [
    "answer_question_chat(df_ko, debug=False, question='pivotExcelDownload 엑셀 다운로드 표 상단 병합 제목 작성 header 열 수 병합 방법 알 수 있음')"
   ]
  },
  {
   "cell_type": "code",
   "execution_count": 156,
   "metadata": {},
   "outputs": [
    {
     "data": {
      "text/plain": [
       "\"I don't know.\""
      ]
     },
     "execution_count": 156,
     "metadata": {},
     "output_type": "execute_result"
    }
   ],
   "source": [
    "answer_question_chat(df_en, debug=False, question='pivotExcelDownload 엑셀 다운로드 표 상단 병합 제목 작성 header 열 수 병합 방법 알 수 있음')"
   ]
  },
  {
   "cell_type": "code",
   "execution_count": 157,
   "metadata": {},
   "outputs": [
    {
     "data": {
      "text/plain": [
       "\"I don't know.\""
      ]
     },
     "execution_count": 157,
     "metadata": {},
     "output_type": "execute_result"
    }
   ],
   "source": [
    "answer_question_chat(df_after_cleaning_ko, debug=False, question='pivotExcelDownload 엑셀 다운로드 표 상단 병합 제목 작성 header 열 수 병합 방법 알 수 있음')"
   ]
  },
  {
   "cell_type": "code",
   "execution_count": 151,
   "metadata": {},
   "outputs": [
    {
     "data": {
      "text/plain": [
       "\"I don't know\""
      ]
     },
     "execution_count": 151,
     "metadata": {},
     "output_type": "execute_result"
    }
   ],
   "source": [
    "answer_question_chat(df_ko, model=\"gpt-4\", debug=False, question='''pivotExcelDownload 엑셀 다운로드시 표 상단을 병합 후 제목을 적으려고합니다. \n",
    "header에 열의 수만큼 병합하려합니다. 열의 수를 알 수 있는 방법이 있을까요?''')"
   ]
  },
  {
   "cell_type": "code",
   "execution_count": 152,
   "metadata": {},
   "outputs": [
    {
     "data": {
      "text/plain": [
       "\"I don't know\""
      ]
     },
     "execution_count": 152,
     "metadata": {},
     "output_type": "execute_result"
    }
   ],
   "source": [
    "answer_question_chat(df_en, model=\"gpt-4\", debug=False, question='''pivotExcelDownload 엑셀 다운로드시 표 상단을 병합 후 제목을 적으려고합니다. \n",
    "header에 열의 수만큼 병합하려합니다. 열의 수를 알 수 있는 방법이 있을까요?''')"
   ]
  },
  {
   "cell_type": "code",
   "execution_count": 153,
   "metadata": {},
   "outputs": [
    {
     "data": {
      "text/plain": [
       "\"I don't know\""
      ]
     },
     "execution_count": 153,
     "metadata": {},
     "output_type": "execute_result"
    }
   ],
   "source": [
    "answer_question_chat(df_after_cleaning_ko, model=\"gpt-4\", debug=False, question='''pivotExcelDownload 엑셀 다운로드시 표 상단을 병합 후 제목을 적으려고합니다. \n",
    "header에 열의 수만큼 병합하려합니다. 열의 수를 알 수 있는 방법이 있을까요?''')"
   ]
  },
  {
   "cell_type": "markdown",
   "metadata": {},
   "source": [
    "# 11. embedding을 통한 API 검색"
   ]
  },
  {
   "cell_type": "code",
   "execution_count": 154,
   "metadata": {},
   "outputs": [
    {
     "name": "stdout",
     "output_type": "stream",
     "text": [
      "1983 0.15756630139428018 WebSquare.uiplugin.grid    advancedExcelUpload    JDK 1.5 이상에서 사용 가능한 기능으로, 엑셀 파일을 읽어 그리드의 데이터를 설정합니다.\n",
      "2529 0.16081659552261152 WebSquare.uiplugin.gridView    advancedExcelUpload    엑셀 파일을 읽어 그리드의 데이터를 설정. (JDK 1.5 이상에서 사용 가능)<br />업로드하는 엑셀 파일이 Excel 97 이상인 경우 지원. (Excel 5.0/7.0 미지원.)\n",
      "1982 0.16084245701004884 WebSquare.uiplugin.grid    advancedExcelDownload    JDK 1.5 이상에서 사용 가능한 기능으로, 그리드의 데이터를 엑셀 파일로 저장합니다.\n",
      "2262 0.1648847538627104 WebSquare.uiplugin.grid    onfilereadend    엑셀 업로드가 완료된 경우 발생합니다.\n",
      "2783 0.1670759963839029 WebSquare.uiplugin.gridView    onfilereadend    gridView에 엑셀 업로드가 끝난 뒤 발생.\n"
     ]
    },
    {
     "data": {
      "text/plain": [
       "'WebSquare.uiplugin.grid    advancedExcelUpload    JDK 1.5 이상에서 사용 가능한 기능으로, 엑셀 파일을 읽어 그리드의 데이터를 설정합니다.\\n\\n---\\n\\nWebSquare.uiplugin.gridView    advancedExcelUpload    엑셀 파일을 읽어 그리드의 데이터를 설정. (JDK 1.5 이상에서 사용 가능)<br />업로드하는 엑셀 파일이 Excel 97 이상인 경우 지원. (Excel 5.0/7.0 미지원.)\\n\\n---\\n\\nWebSquare.uiplugin.grid    advancedExcelDownload    JDK 1.5 이상에서 사용 가능한 기능으로, 그리드의 데이터를 엑셀 파일로 저장합니다.\\n\\n---\\n\\nWebSquare.uiplugin.grid    onfilereadend    엑셀 업로드가 완료된 경우 발생합니다.\\n\\n---\\n\\nWebSquare.uiplugin.gridView    onfilereadend    gridView에 엑셀 업로드가 끝난 뒤 발생.'"
      ]
     },
     "execution_count": 154,
     "metadata": {},
     "output_type": "execute_result"
    }
   ],
   "source": [
    "search_context(df_api_ko, question=\"엑셀 업로드\")"
   ]
  },
  {
   "cell_type": "code",
   "execution_count": null,
   "metadata": {},
   "outputs": [],
   "source": []
  }
 ],
 "metadata": {
  "kernelspec": {
   "display_name": "Python 3 (ipykernel)",
   "language": "python",
   "name": "python3"
  },
  "language_info": {
   "codemirror_mode": {
    "name": "ipython",
    "version": 3
   },
   "file_extension": ".py",
   "mimetype": "text/x-python",
   "name": "python",
   "nbconvert_exporter": "python",
   "pygments_lexer": "ipython3",
   "version": "3.10.9"
  },
  "vscode": {
   "interpreter": {
    "hash": "05f34a34d73b71652304030c1097be3a5720ea2447153dd6542d145a26b73181"
   }
  }
 },
 "nbformat": 4,
 "nbformat_minor": 2
}
