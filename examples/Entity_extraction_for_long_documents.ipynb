{
 "cells": [
  {
   "cell_type": "markdown",
   "metadata": {},
   "source": [
    "# 긴 문서 콘텐츠 추출\n",
    "\n",
    "GPT-3는 너무 커서 컨텍스트 창에 맞지 않는 문서에서 주요 수치, 날짜 또는 기타 중요한 콘텐츠를 추출하는 데 도움이 될 수 있습니다. 이 문제를 해결하기 위한 한 가지 접근 방식은 문서를 청크로 분할하고 각 청크를 개별적으로 처리한 다음 하나의 답변 목록으로 결합하는 것입니다. \n",
    "\n",
    "이 노트북에서는 이 방법을 실행해 보겠습니다:\n",
    "- 긴 PDF를 불러와서 텍스트 추출하기\n",
    "- 핵심 정보를 추출하는 데 사용할 프롬프트 만들기\n",
    "- 문서를 청크 단위로 나누고 각 청크를 처리해 답을 추출합니다.\n",
    "- 마지막에 이들을 결합합니다.\n",
    "- 이 간단한 접근 방식을 세 가지 더 어려운 질문으로 확장합니다.\n",
    "\n",
    "GPT-3 can help us extract key figures, dates or other bits of important content from documents that are too big to fit into the context window. One approach for solving this is to chunk the document up and process each chunk separately, before combining into one list of answers. \n",
    "\n",
    "In this notebook we'll run through this approach:\n",
    "- Load in a long PDF and pull the text out\n",
    "- Create a prompt to be used to extract key bits of information\n",
    "- Chunk up our document and process each chunk to pull any answers out\n",
    "- Combine them at the end\n",
    "- This simple approach will then be extended to three more difficult questions\n",
    "\n",
    "## 접근 방식\n",
    "\n",
    "- **설정**: 전력 단위에 관한 금융 규정 문서인 PDF를 가져와서 엔티티 추출을 위해 텍스트를 추출합니다. 이를 사용하여 콘텐츠에 묻혀 있는 답을 추출해 보겠습니다.\n",
    "- **간단한 엔티티 추출**: 문서 덩어리에서 핵심 정보 비트를 추출합니다:\n",
    "    - 질문과 예상되는 형식의 예가 포함된 템플릿 프롬프트 만들기\n",
    "    - 텍스트 청크를 입력으로 받아 프롬프트와 결합하여 응답을 가져오는 함수를 만듭니다.\n",
    "    - 스크립트를 실행하여 텍스트를 청크하고 답변을 추출하여 구문 분석을 위해 출력하기\n",
    "- **복잡한 엔티티 추출**: 더 어려운 추론이 필요한 몇 가지 더 어려운 질문을 해보세요.\n",
    "\n",
    "- **Setup**: Take a PDF, a Formula 1 Financial Regulation document on Power Units, and extract the text from it for entity extraction. We'll use this to try to extract answers that are buried in the content.\n",
    "- **Simple Entity Extraction**: Extract key bits of information from chunks of a document by:\n",
    "    - Creating a template prompt with our questions and an example of the format it expects\n",
    "    - Create a function to take a chunk of text as input, combine with the prompt and get a response\n",
    "    - Run a script to chunk the text, extract answers and output them for parsing\n",
    "- **Complex Entity Extraction**: Ask some more difficult questions which require tougher reasoning to work out"
   ]
  },
  {
   "cell_type": "markdown",
   "metadata": {},
   "source": [
    "## Setup"
   ]
  },
  {
   "cell_type": "code",
   "execution_count": 22,
   "metadata": {
    "tags": []
   },
   "outputs": [
    {
     "name": "stdout",
     "output_type": "stream",
     "text": [
      "Requirement already satisfied: textract in /usr/local/lib/python3.10/site-packages (1.6.5)\n",
      "Requirement already satisfied: SpeechRecognition~=3.8.1 in /usr/local/lib/python3.10/site-packages (from textract) (3.8.1)\n",
      "Requirement already satisfied: extract-msg<=0.29.* in /usr/local/lib/python3.10/site-packages (from textract) (0.28.7)\n",
      "Requirement already satisfied: python-pptx~=0.6.18 in /usr/local/lib/python3.10/site-packages (from textract) (0.6.21)\n",
      "Requirement already satisfied: beautifulsoup4~=4.8.0 in /usr/local/lib/python3.10/site-packages (from textract) (4.8.2)\n",
      "Requirement already satisfied: xlrd~=1.2.0 in /usr/local/lib/python3.10/site-packages (from textract) (1.2.0)\n",
      "Requirement already satisfied: six~=1.12.0 in /usr/local/lib/python3.10/site-packages (from textract) (1.12.0)\n",
      "Requirement already satisfied: chardet==3.* in /usr/local/lib/python3.10/site-packages (from textract) (3.0.4)\n",
      "Requirement already satisfied: docx2txt~=0.8 in /usr/local/lib/python3.10/site-packages (from textract) (0.8)\n",
      "Requirement already satisfied: argcomplete~=1.10.0 in /usr/local/lib/python3.10/site-packages (from textract) (1.10.3)\n",
      "Requirement already satisfied: pdfminer.six==20191110 in /usr/local/lib/python3.10/site-packages (from textract) (20191110)\n",
      "Requirement already satisfied: sortedcontainers in /usr/local/lib/python3.10/site-packages (from pdfminer.six==20191110->textract) (2.4.0)\n",
      "Requirement already satisfied: pycryptodome in /usr/local/lib/python3.10/site-packages (from pdfminer.six==20191110->textract) (3.17)\n",
      "Requirement already satisfied: soupsieve>=1.2 in /usr/local/lib/python3.10/site-packages (from beautifulsoup4~=4.8.0->textract) (2.4)\n",
      "Requirement already satisfied: imapclient==2.1.0 in /usr/local/lib/python3.10/site-packages (from extract-msg<=0.29.*->textract) (2.1.0)\n",
      "Requirement already satisfied: compressed-rtf>=1.0.6 in /usr/local/lib/python3.10/site-packages (from extract-msg<=0.29.*->textract) (1.0.6)\n",
      "Requirement already satisfied: olefile>=0.46 in /usr/local/lib/python3.10/site-packages (from extract-msg<=0.29.*->textract) (0.46)\n",
      "Requirement already satisfied: ebcdic>=1.1.1 in /usr/local/lib/python3.10/site-packages (from extract-msg<=0.29.*->textract) (1.1.1)\n",
      "Requirement already satisfied: tzlocal>=2.1 in /usr/local/lib/python3.10/site-packages (from extract-msg<=0.29.*->textract) (4.2)\n",
      "Requirement already satisfied: XlsxWriter>=0.5.7 in /usr/local/lib/python3.10/site-packages (from python-pptx~=0.6.18->textract) (3.0.8)\n",
      "Requirement already satisfied: lxml>=3.1.0 in /usr/local/lib/python3.10/site-packages (from python-pptx~=0.6.18->textract) (4.9.2)\n",
      "Requirement already satisfied: Pillow>=3.3.2 in /usr/local/lib/python3.10/site-packages (from python-pptx~=0.6.18->textract) (9.4.0)\n",
      "Requirement already satisfied: pytz-deprecation-shim in /usr/local/lib/python3.10/site-packages (from tzlocal>=2.1->extract-msg<=0.29.*->textract) (0.1.0.post0)\n",
      "Requirement already satisfied: tzdata in /usr/local/lib/python3.10/site-packages (from pytz-deprecation-shim->tzlocal>=2.1->extract-msg<=0.29.*->textract) (2022.7)\n",
      "Requirement already satisfied: tiktoken in /usr/local/lib/python3.10/site-packages (0.2.0)\n",
      "Requirement already satisfied: blobfile>=2 in /usr/local/lib/python3.10/site-packages (from tiktoken) (2.0.1)\n",
      "Requirement already satisfied: regex>=2022.1.18 in /usr/local/lib/python3.10/site-packages (from tiktoken) (2022.10.31)\n",
      "Requirement already satisfied: requests>=2.26.0 in /usr/local/lib/python3.10/site-packages (from tiktoken) (2.28.2)\n",
      "Requirement already satisfied: pycryptodomex~=3.8 in /usr/local/lib/python3.10/site-packages (from blobfile>=2->tiktoken) (3.17)\n",
      "Requirement already satisfied: urllib3<3,>=1.25.3 in /usr/local/lib/python3.10/site-packages (from blobfile>=2->tiktoken) (1.26.14)\n",
      "Requirement already satisfied: filelock~=3.0 in /usr/local/lib/python3.10/site-packages (from blobfile>=2->tiktoken) (3.9.0)\n",
      "Requirement already satisfied: lxml~=4.9 in /usr/local/lib/python3.10/site-packages (from blobfile>=2->tiktoken) (4.9.2)\n",
      "Requirement already satisfied: charset-normalizer<4,>=2 in /usr/local/lib/python3.10/site-packages (from requests>=2.26.0->tiktoken) (3.0.1)\n",
      "Requirement already satisfied: certifi>=2017.4.17 in /usr/local/lib/python3.10/site-packages (from requests>=2.26.0->tiktoken) (2022.12.7)\n",
      "Requirement already satisfied: idna<4,>=2.5 in /usr/local/lib/python3.10/site-packages (from requests>=2.26.0->tiktoken) (3.4)\n"
     ]
    }
   ],
   "source": [
    "!pip install textract\n",
    "!pip install tiktoken"
   ]
  },
  {
   "cell_type": "code",
   "execution_count": 15,
   "metadata": {
    "tags": []
   },
   "outputs": [],
   "source": [
    "import textract\n",
    "import os\n",
    "import openai\n",
    "import tiktoken\n",
    "\n",
    "# Extract the raw text from each PDF using textract\n",
    "# text = textract.process('data/websquare_snippet_guide.pdf', method='pdfminer').decode('utf-8')\n",
    "text = textract.process('data/fia_f1_power_unit_financial_regulations_issue_1_-_2022-08-16.pdf', method='pdfminer').decode('utf-8')\n",
    "clean_text = text.replace(\"  \", \" \").replace(\"\\n\", \"; \").replace(';',' ')\n",
    "# print(text)"
   ]
  },
  {
   "cell_type": "markdown",
   "metadata": {},
   "source": [
    "## 간단한 엔티티 추출"
   ]
  },
  {
   "cell_type": "code",
   "execution_count": 16,
   "metadata": {
    "tags": []
   },
   "outputs": [
    {
     "name": "stdout",
     "output_type": "stream",
     "text": [
      "Extract key pieces of information from this regulation document.\n",
      "If a particular piece of information is not present, output \"Not specified\".\n",
      "When you extract a key piece of information, include the closest page number.\n",
      "Use the following format:\n",
      "0. Who is the author\n",
      "1. What is the amount of the \"Power Unit Cost Cap\" in USD, GBP and EUR\n",
      "2. What is the value of External Manufacturing Costs in USD\n",
      "3. What is the Capital Expenditure Limit in USD\n",
      "\n",
      "Document: \"\"\"<document>\"\"\"\n",
      "\n",
      "0. Who is the author: Tom Anderson (Page 1)\n",
      "1.\n"
     ]
    }
   ],
   "source": [
    "# Example prompt - \n",
    "document = '<document>'\n",
    "template_prompt=f'''Extract key pieces of information from this regulation document.\n",
    "If a particular piece of information is not present, output \\\"Not specified\\\".\n",
    "When you extract a key piece of information, include the closest page number.\n",
    "Use the following format:\\n0. Who is the author\\n1. What is the amount of the \"Power Unit Cost Cap\" in USD, GBP and EUR\\n2. What is the value of External Manufacturing Costs in USD\\n3. What is the Capital Expenditure Limit in USD\\n\\nDocument: \\\"\\\"\\\"{document}\\\"\\\"\\\"\\n\\n0. Who is the author: Tom Anderson (Page 1)\\n1.'''\n",
    "print(template_prompt)"
   ]
  },
  {
   "cell_type": "code",
   "execution_count": 17,
   "metadata": {
    "tags": []
   },
   "outputs": [],
   "source": [
    "# Split a text into smaller chunks of size n, preferably ending at the end of a sentence\n",
    "def create_chunks(text, n, tokenizer):\n",
    "    tokens = tokenizer.encode(text)\n",
    "    \"\"\"Yield successive n-sized chunks from text.\"\"\"\n",
    "    i = 0\n",
    "    while i < len(tokens):\n",
    "        # Find the nearest end of sentence within a range of 0.5 * n and 1.5 * n tokens\n",
    "        j = min(i + int(1.5 * n), len(tokens))\n",
    "        while j > i + int(0.5 * n):\n",
    "            # Decode the tokens and check for full stop or newline\n",
    "            chunk = tokenizer.decode(tokens[i:j])\n",
    "            if chunk.endswith(\".\") or chunk.endswith(\"\\n\"):\n",
    "                break\n",
    "            j -= 1\n",
    "        # If no end of sentence found, use n tokens as the chunk size\n",
    "        if j == i + int(0.5 * n):\n",
    "            j = min(i + n, len(tokens))\n",
    "        yield tokens[i:j]\n",
    "        i = j\n",
    "\n",
    "def extract_chunk(document,template_prompt):\n",
    "    \n",
    "    prompt=template_prompt.replace('<document>',document)\n",
    "\n",
    "    response = openai.Completion.create(\n",
    "    model='text-davinci-003', \n",
    "    prompt=prompt,\n",
    "    temperature=0,\n",
    "    max_tokens=1500,\n",
    "    top_p=1,\n",
    "    frequency_penalty=0,\n",
    "    presence_penalty=0\n",
    "    )\n",
    "    return \"1.\" + response['choices'][0]['text']"
   ]
  },
  {
   "cell_type": "code",
   "execution_count": 18,
   "metadata": {
    "tags": []
   },
   "outputs": [
    {
     "name": "stdout",
     "output_type": "stream",
     "text": [
      "1. What is the amount of the \"Power Unit Cost Cap\" in USD, GBP and EUR: Not specified\n",
      "2. What is the value of External Manufacturing Costs in USD: Not specified\n",
      "3. What is the Capital Expenditure Limit in USD: Not specified\n",
      "1. What is the amount of the \"Power Unit Cost Cap\" in USD, GBP and EUR: USD 95,000,000 (Page 2); GBP 76,459,000 (Page 2); EUR 90,210,000 (Page 2)\n",
      "2. What is the value of External Manufacturing Costs in USD: Not specified\n",
      "3. What is the Capital Expenditure Limit in USD: Not specified\n",
      "1. What is the amount of the \"Power Unit Cost Cap\" in USD, GBP and EUR: Not specified\n",
      "2. What is the value of External Manufacturing Costs in USD: Not specified\n",
      "3. What is the Capital Expenditure Limit in USD: Not specified\n",
      "1. What is the amount of the \"Power Unit Cost Cap\" in USD, GBP and EUR: Not specified\n",
      "2. What is the value of External Manufacturing Costs in USD: US Dollars 20,000,000 in respect of each of the Full Year Reporting Periods ending on 31 December 2023, 31 December 2024 and 31 December 2025, adjusted for Indexation (Page 10)\n",
      "3. What is the Capital Expenditure Limit in USD: Not specified\n",
      "1. What is the amount of the \"Power Unit Cost Cap\" in USD, GBP and EUR: Not specified\n",
      "2. What is the value of External Manufacturing Costs in USD: Not specified\n",
      "3. What is the Capital Expenditure Limit in USD: Not specified (Page 11)\n",
      "1. What is the amount of the \"Power Unit Cost Cap\" in USD, GBP and EUR: Not specified\n",
      "2. What is the value of External Manufacturing Costs in USD: Not specified\n",
      "3. What is the Capital Expenditure Limit in USD: Not specified\n",
      "1. What is the amount of the \"Power Unit Cost Cap\" in USD, GBP and EUR: Not specified\n",
      "2. What is the value of External Manufacturing Costs in USD: Not specified\n",
      "3. What is the Capital Expenditure Limit in USD: Not specified\n",
      "1. What is the amount of the \"Power Unit Cost Cap\" in USD, GBP and EUR: Not specified\n",
      "2. What is the value of External Manufacturing Costs in USD: Not specified\n",
      "3. What is the Capital Expenditure Limit in USD: Not specified\n",
      "1. What is the amount of the \"Power Unit Cost Cap\" in USD, GBP and EUR: Not specified\n",
      "2. What is the value of External Manufacturing Costs in USD: Not specified\n",
      "3. What is the Capital Expenditure Limit in USD: Not specified\n",
      "1. What is the amount of the \"Power Unit Cost Cap\" in USD, GBP and EUR: Not specified\n",
      "2. What is the value of External Manufacturing Costs in USD: Not specified\n",
      "3. What is the Capital Expenditure Limit in USD: Not specified\n",
      "1. What is the amount of the \"Power Unit Cost Cap\" in USD, GBP and EUR: Not specified\n",
      "2. What is the value of External Manufacturing Costs in USD: Not specified\n",
      "3. What is the Capital Expenditure Limit in USD: Not specified (Page 26)\n",
      "1. What is the amount of the \"Power Unit Cost Cap\" in USD, GBP and EUR: Not specified\n",
      "2. What is the value of External Manufacturing Costs in USD: Not specified\n",
      "3. What is the Capital Expenditure Limit in USD: Not specified\n",
      "1. What is the amount of the \"Power Unit Cost Cap\" in USD, GBP and EUR: Not specified\n",
      "2. What is the value of External Manufacturing Costs in USD: Not specified\n",
      "3. What is the Capital Expenditure Limit in USD: Not specified (Page 31)\n",
      "1. What is the amount of the \"Power Unit Cost Cap\" in USD, GBP and EUR: Not specified\n",
      "2. What is the value of External Manufacturing Costs in USD: Not specified\n",
      "3. What is the Capital Expenditure Limit in USD: US Dollars 30,000,000 (Page 32)\n",
      "1. What is the amount of the \"Power Unit Cost Cap\" in USD, GBP and EUR: Not specified\n",
      "2. What is the value of External Manufacturing Costs in USD: Not specified\n",
      "3. What is the Capital Expenditure Limit in USD: Not specified\n",
      "1. What is the amount of the \"Power Unit Cost Cap\" in USD, GBP and EUR: Not specified\n",
      "2. What is the value of External Manufacturing Costs in USD: Not specified\n",
      "3. What is the Capital Expenditure Limit in USD: Not specified\n",
      "1. What is the amount of the \"Power Unit Cost Cap\" in USD, GBP and EUR: Not specified\n",
      "2. What is the value of External Manufacturing Costs in USD: Not specified\n",
      "3. What is the Capital Expenditure Limit in USD: Not specified\n",
      "1. What is the amount of the \"Power Unit Cost Cap\" in USD, GBP and EUR: Not specified\n",
      "2. What is the value of External Manufacturing Costs in USD: Not specified\n",
      "3. What is the Capital Expenditure Limit in USD: Not specified\n",
      "1. What is the amount of the \"Power Unit Cost Cap\" in USD, GBP and EUR: Not specified (Page 44)\n",
      "2. What is the value of External Manufacturing Costs in USD: Not specified (Page 44)\n",
      "3. What is the Capital Expenditure Limit in USD: Not specified (Page 44)\n",
      "1. What is the amount of the \"Power Unit Cost Cap\" in USD, GBP and EUR: Not specified\n",
      "2. What is the value of External Manufacturing Costs in USD: Not specified\n",
      "3. What is the Capital Expenditure Limit in USD: Not specified\n",
      "1. What is the amount of the \"Power Unit Cost Cap\" in USD, GBP and EUR: Not specified\n",
      "2. What is the value of External Manufacturing Costs in USD: Not specified\n",
      "3. What is the Capital Expenditure Limit in USD: Not specified (Page 50)\n",
      "1. What is the amount of the \"Power Unit Cost Cap\" in USD, GBP and EUR: Not specified\n",
      "2. What is the value of External Manufacturing Costs in USD: Not specified\n",
      "3. What is the Capital Expenditure Limit in USD: Not specified (Page 54)\n",
      "1. What is the amount of the \"Power Unit Cost Cap\" in USD, GBP and EUR: Not specified (Page 56)\n",
      "2. What is the value of External Manufacturing Costs in USD: Not specified (Page 56)\n",
      "3. What is the Capital Expenditure Limit in USD: Not specified (Page 56)\n",
      "1. What is the amount of the \"Power Unit Cost Cap\" in USD, GBP and EUR: Not specified\n",
      "2. What is the value of External Manufacturing Costs in USD: Not specified\n",
      "3. What is the Capital Expenditure Limit in USD: Not specified\n",
      "1. What is the amount of the \"Power Unit Cost Cap\" in USD, GBP and EUR: Not specified\n",
      "2. What is the value of External Manufacturing Costs in USD: Not specified\n",
      "3. What is the Capital Expenditure Limit in USD: Not specified\n",
      "1. What is the amount of the \"Power Unit Cost Cap\" in USD, GBP and EUR: Not specified\n",
      "2. What is the value of External Manufacturing Costs in USD: Not specified\n",
      "3. What is the Capital Expenditure Limit in USD: Not specified\n"
     ]
    }
   ],
   "source": [
    "# Initialise tokenizer\n",
    "tokenizer = tiktoken.get_encoding(\"cl100k_base\")\n",
    "\n",
    "results = []\n",
    "    \n",
    "chunks = create_chunks(clean_text,1000,tokenizer)\n",
    "text_chunks = [tokenizer.decode(chunk) for chunk in chunks]\n",
    "\n",
    "for chunk in text_chunks:\n",
    "    results.append(extract_chunk(chunk,template_prompt))\n",
    "    #print(chunk)\n",
    "    print(results[-1])\n"
   ]
  },
  {
   "cell_type": "code",
   "execution_count": 19,
   "metadata": {
    "scrolled": true,
    "tags": []
   },
   "outputs": [
    {
     "data": {
      "text/plain": [
       "['1. What is the amount of the \"Power Unit Cost Cap\" in USD, GBP and EUR: USD 95,000,000 (Page 2); GBP 76,459,000 (Page 2); EUR 90,210,000 (Page 2)',\n",
       " '2. What is the value of External Manufacturing Costs in USD: US Dollars 20,000,000 in respect of each of the Full Year Reporting Periods ending on 31 December 2023, 31 December 2024 and 31 December 2025, adjusted for Indexation (Page 10)',\n",
       " '3. What is the Capital Expenditure Limit in USD: US Dollars 30,000,000 (Page 32)']"
      ]
     },
     "execution_count": 19,
     "metadata": {},
     "output_type": "execute_result"
    }
   ],
   "source": [
    "groups = [r.split('\\n') for r in results]\n",
    "\n",
    "# zip the groups together\n",
    "zipped = list(zip(*groups))\n",
    "zipped = [x for y in zipped for x in y if \"Not specified\" not in x and \"__\" not in x]\n",
    "zipped"
   ]
  },
  {
   "cell_type": "markdown",
   "metadata": {},
   "source": [
    "## 복합 엔티티 추출"
   ]
  },
  {
   "cell_type": "code",
   "execution_count": 20,
   "metadata": {
    "tags": []
   },
   "outputs": [
    {
     "name": "stdout",
     "output_type": "stream",
     "text": [
      "Extract key pieces of information from this regulation document.\n",
      "If a particular piece of information is not present, output \"Not specified\".\n",
      "When you extract a key piece of information, include the closest page number.\n",
      "Use the following format:\n",
      "0. Who is the author\n",
      "1. How is a Minor Overspend Breach calculated\n",
      "2. How is a Major Overspend Breach calculated\n",
      "3. Which years do these financial regulations apply to\n",
      "\n",
      "Document: \"\"\"<document>\"\"\"\n",
      "\n",
      "0. Who is the author: Tom Anderson (Page 1)\n",
      "1.\n"
     ]
    }
   ],
   "source": [
    "# Example prompt - \n",
    "template_prompt=f'''Extract key pieces of information from this regulation document.\n",
    "If a particular piece of information is not present, output \\\"Not specified\\\".\n",
    "When you extract a key piece of information, include the closest page number.\n",
    "Use the following format:\\n0. Who is the author\\n1. How is a Minor Overspend Breach calculated\\n2. How is a Major Overspend Breach calculated\\n3. Which years do these financial regulations apply to\\n\\nDocument: \\\"\\\"\\\"{document}\\\"\\\"\\\"\\n\\n0. Who is the author: Tom Anderson (Page 1)\\n1.'''\n",
    "print(template_prompt)"
   ]
  },
  {
   "cell_type": "code",
   "execution_count": 21,
   "metadata": {
    "tags": []
   },
   "outputs": [
    {
     "data": {
      "text/plain": [
       "['1. How is a Minor Overspend Breach calculated: A Minor Overspend Breach arises when a Power Unit Manufacturer submits its Full Year Reporting Documentation and Relevant Costs reported therein exceed the Power Unit Cost Cap by less than 5% (Page 24)',\n",
       " '2. How is a Major Overspend Breach calculated: A Material Overspend Breach arises when a Power Unit Manufacturer submits its Full Year Reporting Documentation and Relevant Costs reported therein exceed the Power Unit Cost Cap by 5% or more (Page 25)',\n",
       " '3. Which years do these financial regulations apply to: 2026 onwards (Page 1)',\n",
       " '3. Which years do these financial regulations apply to: 2023, 2024, 2025, 2026 and subsequent Full Year Reporting Periods (Page 2)',\n",
       " '3. Which years do these financial regulations apply to: 2022-2025 (Page 6)',\n",
       " '3. Which years do these financial regulations apply to: 2023, 2024, 2025, 2026 and subsequent Full Year Reporting Periods (Page 10)',\n",
       " '3. Which years do these financial regulations apply to: 2022 (Page 1)',\n",
       " '3. Which years do these financial regulations apply to: 2022 (Page 14)',\n",
       " '3. Which years do these financial regulations apply to: 2022 (Page 16)',\n",
       " '3. Which years do these financial regulations apply to: 2022 (Page 19)',\n",
       " '3. Which years do these financial regulations apply to: 2022 (Page 21)',\n",
       " '3. Which years do these financial regulations apply to: 2026 onwards (Page 26)',\n",
       " '3. Which years do these financial regulations apply to: 2026 (Page 1)',\n",
       " '3. Which years do these financial regulations apply to: 2022 (Page 30)',\n",
       " '3. Which years do these financial regulations apply to: 2022 (Page 32)',\n",
       " '3. Which years do these financial regulations apply to: 2023, 2024 and 2025 (Page 1)',\n",
       " '3. Which years do these financial regulations apply to: 2022 (Page 37)',\n",
       " '3. Which years do these financial regulations apply to: 2026 onwards (Page 40)',\n",
       " '3. Which years do these financial regulations apply to: 2022 (Page 1)',\n",
       " '3. Which years do these financial regulations apply to: 2026 to 2030 seasons (Page 46)',\n",
       " '3. Which years do these financial regulations apply to: 2022 (Page 47)',\n",
       " '3. Which years do these financial regulations apply to: 2022 (Page 1)',\n",
       " '3. Which years do these financial regulations apply to: 2022 (Page 1)',\n",
       " '3. Which years do these financial regulations apply to: 2022 (Page 56)',\n",
       " '3. Which years do these financial regulations apply to: 2022 (Page 1)',\n",
       " '3. Which years do these financial regulations apply to: 2022 (Page 16)',\n",
       " '3. Which years do these financial regulations apply to: 2022 (Page 2)']"
      ]
     },
     "execution_count": 21,
     "metadata": {},
     "output_type": "execute_result"
    }
   ],
   "source": [
    "results = []\n",
    "\n",
    "for chunk in text_chunks:\n",
    "    results.append(extract_chunk(chunk,template_prompt))\n",
    "    \n",
    "groups = [r.split('\\n') for r in results]\n",
    "\n",
    "# zip the groups together\n",
    "zipped = list(zip(*groups))\n",
    "zipped = [x for y in zipped for x in y if \"Not specified\" not in x and \"__\" not in x]\n",
    "zipped"
   ]
  },
  {
   "cell_type": "markdown",
   "metadata": {},
   "source": [
    "## 통합\n",
    "\n",
    "처음 두 개의 답은 무사히 추출할 수 있었지만 세 번째 답은 모든 페이지에 표시된 날짜 때문에 혼란스러웠지만 정답도 그 안에 있습니다.\n",
    "\n",
    "이 문제를 더 개선하려면 다음과 같은 실험을 고려해 볼 수 있습니다:\n",
    "- 보다 설명적이거나 구체적인 프롬프트\n",
    "- 충분한 학습 데이터가 있는 경우 모델을 미세 조정하여 일련의 출력을 잘 찾도록 합니다.\n",
    "- 데이터를 청크하는 방식 - 중복되지 않는 1000개의 토큰을 사용했지만, 정보를 섹션으로 나누거나 토큰별로 잘라내는 등 보다 지능적으로 청크하면 더 나은 결과를 얻을 수 있습니다.\n",
    "\n",
    "그러나 최소한의 조정으로 이제 긴 문서의 내용을 사용하여 다양한 난이도의 6가지 질문에 대한 답을 얻었으며, 엔티티 추출이 필요한 모든 긴 문서에 적용할 수 있는 재사용 가능한 접근 방식을 갖게 되었습니다. 여러분이 이 방법으로 무엇을 할 수 있을지 기대해 주세요!\n",
    "\n",
    "We've been able to extract the first two answers safely, while the third was confounded by the date that appeared on every page, though the correct answer is in there as well.\n",
    "\n",
    "To tune this further you can consider experimenting with:\n",
    "- A more descriptive or specific prompt\n",
    "- If you have sufficient training data, fine-tuning a model to find a set of outputs very well\n",
    "- The way you chunk your data - we have gone for 1000 tokens with no overlap, but more intelligent chunking that breaks info into sections, cuts by tokens or similar may get better results\n",
    "\n",
    "However, with minimal tuning we have now answered 6 questions of varying difficulty using the contents of a long document, and have a reusable approach that we can apply to any long document requiring entity extraction. Look forward to seeing what you can do with this!"
   ]
  }
 ],
 "metadata": {
  "kernelspec": {
   "display_name": "Python 3 (ipykernel)",
   "language": "python",
   "name": "python3"
  },
  "language_info": {
   "codemirror_mode": {
    "name": "ipython",
    "version": 3
   },
   "file_extension": ".py",
   "mimetype": "text/x-python",
   "name": "python",
   "nbconvert_exporter": "python",
   "pygments_lexer": "ipython3",
   "version": "3.10.10"
  },
  "vscode": {
   "interpreter": {
    "hash": "5997d090960a54cd76552f75eca12ec3b416cf9d01a1a5af08ae48cf90878791"
   }
  }
 },
 "nbformat": 4,
 "nbformat_minor": 4
}
