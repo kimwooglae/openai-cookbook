{
 "cells": [
  {
   "cell_type": "markdown",
   "id": "c4ca8276-e829-4cff-8905-47534e4b4d4e",
   "metadata": {},
   "source": [
    "# 임베딩을 사용한 질문 답변\n",
    "\n",
    "많은 사용 사례에서 인사이트가 담긴 답변으로 사용자 질문에 응답하기 위해 GPT-3가 필요합니다. 예를 들어 고객 지원 챗봇은 일반적인 질문에 대한 답변을 제공해야 할 수 있습니다. GPT 모델은 훈련을 통해 많은 일반 지식을 습득했지만, 보다 구체적인 정보가 담긴 대규모 라이브러리를 수집하고 사용해야 하는 경우가 많습니다.\n",
    "\n",
    "이 노트북에서는 문서 임베딩 및 검색을 사용하여 텍스트 라이브러리를 참조로 사용하여 GPT-3가 질문에 답할 수 있도록 하는 방법을 보여드리겠습니다. 여기서는 2020 하계 올림픽에 관한 위키피디아 기사 데이터 세트를 사용합니다. 데이터 수집 프로세스는 [이 노트북](fine-tuned_qa/olympics-1-collect-data.ipynb)을 참조하세요.\n",
    "\n",
    "-------\n",
    "\n",
    "Many use cases require GPT-3 to respond to user questions with insightful answers. For example, a customer support chatbot may need to provide answers to common questions. The GPT models have picked up a lot of general knowledge in training, but we often need to ingest and use a large library of more specific information.\n",
    "\n",
    "In this notebook we will demonstrate a method for enabling GPT-3 to answer questions using a library of text as a reference, by using document embeddings and retrieval. We'll be using a dataset of Wikipedia articles about the 2020 Summer Olympic Games. Please see [this notebook](fine-tuned_qa/olympics-1-collect-data.ipynb) to follow the data gathering process."
   ]
  },
  {
   "cell_type": "code",
   "execution_count": 26,
   "id": "9e3839a6-9146-4f60-b74b-19abbc24278d",
   "metadata": {},
   "outputs": [],
   "source": [
    "import numpy as np\n",
    "import openai\n",
    "import pandas as pd\n",
    "import pickle\n",
    "import tiktoken\n",
    "\n",
    "COMPLETIONS_MODEL = \"text-davinci-003\"\n",
    "EMBEDDING_MODEL = \"text-embedding-ada-002\""
   ]
  },
  {
   "cell_type": "markdown",
   "id": "9312f62f-e208-4030-a648-71ad97aee74f",
   "metadata": {},
   "source": [
    "기본적으로 GPT-3는 2020년 올림픽에 대한 전문가는 아닙니다:\n",
    "\n",
    "---\n",
    "\n",
    "By default, GPT-3 isn't an expert on the 2020 Olympics:"
   ]
  },
  {
   "cell_type": "code",
   "execution_count": 17,
   "id": "a167516c-7c19-4bda-afa5-031aa0ae13bb",
   "metadata": {},
   "outputs": [
    {
     "data": {
      "text/plain": [
       "'2020 하계올림픽 남자 높이뛰기에서 우승한 선수는 독일의 마르크스 바이에르스트라이트입니다.'"
      ]
     },
     "execution_count": 17,
     "metadata": {},
     "output_type": "execute_result"
    }
   ],
   "source": [
    "prompt = \"2020 하계올림픽 남자 높이뛰기에서 우승한 선수는 누구인가요?\"\n",
    "# prompt = \"Who won the 2020 Summer Olympics men's high jump?\"\n",
    "\n",
    "openai.Completion.create(\n",
    "    prompt=prompt,\n",
    "    temperature=0,\n",
    "    max_tokens=300,\n",
    "    model=COMPLETIONS_MODEL\n",
    ")[\"choices\"][0][\"text\"].strip(\" \\n\")"
   ]
  },
  {
   "cell_type": "markdown",
   "id": "47204cce-a7d5-4c81-ab6e-53323026e08c",
   "metadata": {},
   "source": [
    "마르셀로는 금메달리스트 수영 선수이지만 높이뛰기를 잘하지는 못합니다! GPT-3에 도움이 필요한 것 같습니다. \n",
    "\n",
    "가장 먼저 해결해야 할 문제는 모델이 \"모르겠습니다\"라고 말하지 않고 환각을 통해 대답한다는 것입니다. 이는 모델이 제공하는 답을 신뢰하기 어렵게 만들기 때문에 좋지 않습니다! \n",
    "\n",
    "-------\n",
    "\n",
    "Marcelo is a gold medalist swimmer, and, we assume, not much of a high jumper! Evidently GPT-3 needs some assistance here. \n",
    "\n",
    "The first issue to tackle is that the model is hallucinating an answer rather than telling us \"I don't know\". This is bad because it makes it hard to trust the answer that the model gives us! \n",
    "\n",
    "# 0) 신속한 엔지니어링을 통한 환각 방지\n",
    "\n",
    "프롬프트를 보다 명확하게 함으로써 이러한 환각 문제를 해결할 수 있습니다:\n",
    "\n",
    "------\n",
    "\n",
    "We can address this hallucination issue by being more explicit with our prompt:\n"
   ]
  },
  {
   "cell_type": "code",
   "execution_count": 18,
   "id": "a5451371-17fe-4ef3-aa02-affcf4edb0e0",
   "metadata": {},
   "outputs": [
    {
     "data": {
      "text/plain": [
       "'죄송합니다, 모릅니다.'"
      ]
     },
     "execution_count": 18,
     "metadata": {},
     "output_type": "execute_result"
    }
   ],
   "source": [
    "prompt = \"\"\"질문에 최대한 사실대로 답하고, 정답이 확실하지 않은 경우 \"죄송합니다, 모릅니다\"라고 답하세요.\n",
    "\n",
    "질문: 2020 하계올림픽 남자 높이뛰기에서 우승한 선수는 누구인가요?\n",
    "A:\"\"\"\n",
    "\n",
    "# prompt = \"\"\"Answer the question as truthfully as possible, and if you're unsure of the answer, say \"Sorry, I don't know\".\n",
    "\n",
    "# Q: Who won the 2020 Summer Olympics men's high jump?\n",
    "# A:\"\"\"\n",
    "\n",
    "openai.Completion.create(\n",
    "    prompt=prompt,\n",
    "    temperature=0,\n",
    "    max_tokens=300,\n",
    "    model=COMPLETIONS_MODEL\n",
    ")[\"choices\"][0][\"text\"].strip(\" \\n\")"
   ]
  },
  {
   "cell_type": "markdown",
   "id": "1af18d66-d47a-496d-ae5f-4c5d53caa434",
   "metadata": {},
   "source": [
    "모델이 질문에 답할 수 있도록 프롬프트에 추가 컨텍스트 정보를 제공합니다. 필요한 전체 컨텍스트가 짧은 경우 프롬프트에 직접 포함할 수 있습니다. 예를 들어 Wikipedia에서 가져온 이 정보를 사용할 수 있습니다. 초기 프롬프트를 업데이트하여 모델이 제공된 텍스트를 명시적으로 사용하도록 지시합니다.\n",
    "\n",
    "----\n",
    "\n",
    "To help the model answer the question, we provide extra contextual information in the prompt. When the total required context is short, we can include it in the prompt directly. For example we can use this information taken from Wikipedia. We update the initial prompt to tell the model to explicitly make use of the provided text."
   ]
  },
  {
   "cell_type": "code",
   "execution_count": 19,
   "id": "fceaf665-2602-4788-bc44-9eb256a6f955",
   "metadata": {},
   "outputs": [
    {
     "data": {
      "text/plain": [
       "'이탈리아의 지안마르코 탐베리 선수와 카타르의 무타즈 에사 바르심 선수가 공동 우승자로 선정되었습니다.'"
      ]
     },
     "execution_count": 19,
     "metadata": {},
     "output_type": "execute_result"
    }
   ],
   "source": [
    "prompt = \"\"\"제공된 텍스트를 사용하여 질문에 최대한 사실대로 답하고, 아래 텍스트에 답이 포함되어 있지 않은 경우 \"모름\"이라고 답하세요.\n",
    "\n",
    "맥락:\n",
    "2020 하계 올림픽 남자 높이뛰기 종목은 2021년 7월 30일부터 8월 1일 사이에 올림픽 스타디움에서 열렸습니다.\n",
    "24개국에서 33명의 선수가 출전했으며, 총 출전 가능 인원은 유니버설 경기장 외에 추가로 선수를 출전시키기 위해 \n",
    "를 사용하여 점수 또는 순위를 통해 예선에 진출한 32명 외에 추가로 출전할 수 있는 국가 수에 따라 총 출전 가능 인원이 결정되었습니다(2021년에는 유니버설 플레이스가 사용되지 않음).\n",
    "이탈리아의 지안마르코 탐베리 선수와 카타르의 무타즈 에사 바르심 선수가 공동 우승자로 선정되었습니다.\n",
    "두 선수는 2.37m를 통과해 동점을 기록했습니다. 탐베리와 바르심은 서로 다른 나라의 선수가 금메달을 나눠 갖는\n",
    "올림픽 역사상 서로 다른 국가의 선수가 같은 메달을 공유하기로 합의한 드문 사례입니다. \n",
    "특히 바르심은 대회 관계자에게 \"금메달 두 개를 주면 안 되나요?\"라고 물은 것으로 알려졌습니다. \n",
    "'점프'. 동메달은 벨라루스의 막심 네다세카우가 차지했습니다. 이탈리아는 남자 높이뛰기에서 사상 첫 메달을 목에 걸었고 \n",
    "벨라루스, 이탈리아와 카타르의 남자 높이뛰기 첫 금메달, 카타르의 남자 높이뛰기 3연속 메달\n",
    "(모두 바르심의 기록입니다). 바르심은 높이뛰기에서 세 개의 메달을 획득한 두 번째 선수가 되었습니다.\n",
    "(1984~1992)에 이어 두 번째로 세 개의 메달을 획득한 선수가 되었습니다.\n",
    "\n",
    "질문: 2020 하계 올림픽 남자 높이뛰기에서 누가 우승했나요?\n",
    "A:\"\"\"\n",
    "\n",
    "# prompt = \"\"\"Answer the question as truthfully as possible using the provided text, and if the answer is not contained within the text below, say \"I don't know\"\n",
    "\n",
    "# Context:\n",
    "# The men's high jump event at the 2020 Summer Olympics took place between 30 July and 1 August 2021 at the Olympic Stadium.\n",
    "# 33 athletes from 24 nations competed; the total possible number depended on how many nations would use universality places \n",
    "# to enter athletes in addition to the 32 qualifying through mark or ranking (no universality places were used in 2021).\n",
    "# Italian athlete Gianmarco Tamberi along with Qatari athlete Mutaz Essa Barshim emerged as joint winners of the event following\n",
    "# a tie between both of them as they cleared 2.37m. Both Tamberi and Barshim agreed to share the gold medal in a rare instance\n",
    "# where the athletes of different nations had agreed to share the same medal in the history of Olympics. \n",
    "# Barshim in particular was heard to ask a competition official \"Can we have two golds?\" in response to being offered a \n",
    "# 'jump off'. Maksim Nedasekau of Belarus took bronze. The medals were the first ever in the men's high jump for Italy and \n",
    "# Belarus, the first gold in the men's high jump for Italy and Qatar, and the third consecutive medal in the men's high jump\n",
    "# for Qatar (all by Barshim). Barshim became only the second man to earn three medals in high jump, joining Patrik Sjöberg\n",
    "# of Sweden (1984 to 1992).\n",
    "\n",
    "# Q: Who won the 2020 Summer Olympics men's high jump?\n",
    "# A:\"\"\"\n",
    "\n",
    "openai.Completion.create(\n",
    "    prompt=prompt,\n",
    "    temperature=0,\n",
    "    max_tokens=300,\n",
    "    top_p=1,\n",
    "    frequency_penalty=0,\n",
    "    presence_penalty=0,\n",
    "    model=COMPLETIONS_MODEL\n",
    ")[\"choices\"][0][\"text\"].strip(\" \\n\")"
   ]
  },
  {
   "cell_type": "markdown",
   "id": "ee85ee77-d8d2-4788-b57e-0785f2d7e2e3",
   "metadata": {},
   "source": [
    "프롬프트에 추가 정보를 추가하는 것은 모델이 알아야 할 추가 콘텐츠의 데이터 세트가 단일 프롬프트에 들어갈 수 있을 정도로 작은 경우에만 작동합니다. 모델이 대규모 정보 중에서 관련성 있는 문맥 정보를 선택해야 할 때는 어떻게 해야 할까요?\n",
    "\n",
    "**이 노트북의 나머지 부분에서는 문서 임베딩 및 검색을 사용하여 대량의 추가 문맥 정보로 GPT-3를 보강하는 방법을 보여드리겠습니다.** 이 방법은 먼저 쿼리와 관련된 정보를 검색한 다음 검색된 정보를 기반으로 질문에 맞는 답변을 작성하는 두 단계로 쿼리에 답합니다. 첫 번째 단계는 [임베딩 API](https://beta.openai.com/docs/guides/embeddings)를 사용하고, 두 번째 단계는 [완성 API](https://beta.openai.com/docs/guides/completion/introduction)를 사용합니다.\n",
    " \n",
    "단계는 다음과 같습니다:\n",
    "* 문맥 정보를 청크로 분할하여 전처리하고 각 청크에 대한 임베딩 벡터를 생성합니다.\n",
    "* 쿼리를 받으면 문맥 청크와 동일한 벡터 공간에 쿼리를 임베딩하고 쿼리와 가장 유사한 문맥 임베딩을 찾습니다.\n",
    "* 쿼리 프롬프트에 가장 관련성이 높은 컨텍스트 임베딩을 준비합니다.\n",
    "* 가장 관련성이 높은 문맥과 함께 질문을 GPT에 제출하고 제공된 문맥 정보를 활용한 답변을 받습니다.\n",
    "\n",
    "-----\n",
    "\n",
    "Adding extra information into the prompt only works when the dataset of extra content that the model may need to know is small enough to fit in a single prompt. What do we do when we need the model to choose relevant contextual information from within a large body of information?\n",
    "\n",
    "**In the remainder of this notebook, we will demonstrate a method for augmenting GPT-3 with a large body of additional contextual information by using document embeddings and retrieval.** This method answers queries in two steps: first it retrieves the information relevant to the query, then it writes an answer tailored to the question based on the retrieved information. The first step uses the [Embeddings API](https://beta.openai.com/docs/guides/embeddings), the second step uses the [Completions API](https://beta.openai.com/docs/guides/completion/introduction).\n",
    " \n",
    "The steps are:\n",
    "* Preprocess the contextual information by splitting it into chunks and create an embedding vector for each chunk.\n",
    "* On receiving a query, embed the query in the same vector space as the context chunks and find the context embeddings which are most similar to the query.\n",
    "* Prepend the most relevant context embeddings to the query prompt.\n",
    "* Submit the question along with the most relevant context to GPT, and receive an answer which makes use of the provided contextual information."
   ]
  },
  {
   "cell_type": "markdown",
   "id": "0c9bfea5-a028-4191-b9f1-f210d76ec4e3",
   "metadata": {},
   "source": [
    "# 1) 문서 라이브러리 전처리\n",
    "\n",
    "문서 임베딩을 사용하여 문서 라이브러리에서 가장 관련성이 높은 부분을 가져와서 GPT-3에 제공하는 프롬프트에 삽입할 계획입니다. 따라서 문서 라이브러리를 개별적으로 검색 및 검색할 수 있는 컨텍스트의 \"섹션\"으로 분할해야 합니다. \n",
    "\n",
    "섹션은 질문에 답하기에 충분한 정보를 포함할 수 있을 만큼 충분히 커야 하지만, GPT-3 프롬프트에 하나 또는 여러 개를 넣을 수 있을 정도로 작아야 합니다. 일반적으로 대략 한 문단 정도의 텍스트가 적당하지만, 특정 사용 사례에 맞게 실험해 보아야 합니다. 이 예제에서는 Wikipedia 문서가 이미 의미적으로 관련된 헤더로 그룹화되어 있으므로 이를 사용하여 섹션을 정의하겠습니다. 이 전처리는 [이 노트북](fine-tuned_qa/olympics-1-collect-data.ipynb)에서 이미 완료되었으므로 그 결과를 로드하여 사용하겠습니다.\n",
    "\n",
    "----------\n",
    "\n",
    "We plan to use document embeddings to fetch the most relevant part of parts of our document library and insert them into the prompt that we provide to GPT-3. We therefore need to break up the document library into \"sections\" of context, which can be searched and retrieved separately. \n",
    "\n",
    "Sections should be large enough to contain enough information to answer a question; but small enough to fit one or several into the GPT-3 prompt. We find that approximately a paragraph of text is usually a good length, but you should experiment for your particular use case. In this example, Wikipedia articles are already grouped into semantically related headers, so we will use these to define our sections. This preprocessing has already been done in [this notebook](fine-tuned_qa/olympics-1-collect-data.ipynb), so we will load the results and use them."
   ]
  },
  {
   "cell_type": "code",
   "execution_count": 49,
   "id": "21264eff",
   "metadata": {},
   "outputs": [
    {
     "name": "stdout",
     "output_type": "stream",
     "text": [
      "3964 rows in the data.\n"
     ]
    },
    {
     "data": {
      "text/html": [
       "<div>\n",
       "<style scoped>\n",
       "    .dataframe tbody tr th:only-of-type {\n",
       "        vertical-align: middle;\n",
       "    }\n",
       "\n",
       "    .dataframe tbody tr th {\n",
       "        vertical-align: top;\n",
       "    }\n",
       "\n",
       "    .dataframe thead th {\n",
       "        text-align: right;\n",
       "    }\n",
       "</style>\n",
       "<table border=\"1\" class=\"dataframe\">\n",
       "  <thead>\n",
       "    <tr style=\"text-align: right;\">\n",
       "      <th></th>\n",
       "      <th></th>\n",
       "      <th>content</th>\n",
       "      <th>tokens</th>\n",
       "    </tr>\n",
       "    <tr>\n",
       "      <th>title</th>\n",
       "      <th>heading</th>\n",
       "      <th></th>\n",
       "      <th></th>\n",
       "    </tr>\n",
       "  </thead>\n",
       "  <tbody>\n",
       "    <tr>\n",
       "      <th>Japan at the 2020 Summer Olympics</th>\n",
       "      <th>Summary</th>\n",
       "      <td>Japan was the host nation of the 2020 Summer O...</td>\n",
       "      <td>245</td>\n",
       "    </tr>\n",
       "    <tr>\n",
       "      <th>Badminton at the 2020 Summer Olympics – Mixed doubles</th>\n",
       "      <th>Seeds</th>\n",
       "      <td>Zheng Siwei / Huang Yaqiong (CHN) (Silver meda...</td>\n",
       "      <td>96</td>\n",
       "    </tr>\n",
       "    <tr>\n",
       "      <th>Boxing at the 2020 Summer Olympics – Qualification</th>\n",
       "      <th>Women's events</th>\n",
       "      <td>Olympic qualification system per continent and...</td>\n",
       "      <td>62</td>\n",
       "    </tr>\n",
       "    <tr>\n",
       "      <th>Guatemala at the 2020 Summer Olympics</th>\n",
       "      <th>Judo</th>\n",
       "      <td>Guatemala qualified one judoka for the men's e...</td>\n",
       "      <td>68</td>\n",
       "    </tr>\n",
       "    <tr>\n",
       "      <th>2020 Summer Olympics closing ceremony</th>\n",
       "      <th>Passing the Baton</th>\n",
       "      <td>Seiko Hashimoto, President of the Tokyo Organi...</td>\n",
       "      <td>219</td>\n",
       "    </tr>\n",
       "  </tbody>\n",
       "</table>\n",
       "</div>"
      ],
      "text/plain": [
       "                                                                                                                content  \\\n",
       "title                                              heading                                                                \n",
       "Japan at the 2020 Summer Olympics                  Summary            Japan was the host nation of the 2020 Summer O...   \n",
       "Badminton at the 2020 Summer Olympics – Mixed d... Seeds              Zheng Siwei / Huang Yaqiong (CHN) (Silver meda...   \n",
       "Boxing at the 2020 Summer Olympics – Qualification Women's events     Olympic qualification system per continent and...   \n",
       "Guatemala at the 2020 Summer Olympics              Judo               Guatemala qualified one judoka for the men's e...   \n",
       "2020 Summer Olympics closing ceremony              Passing the Baton  Seiko Hashimoto, President of the Tokyo Organi...   \n",
       "\n",
       "                                                                      tokens  \n",
       "title                                              heading                    \n",
       "Japan at the 2020 Summer Olympics                  Summary               245  \n",
       "Badminton at the 2020 Summer Olympics – Mixed d... Seeds                  96  \n",
       "Boxing at the 2020 Summer Olympics – Qualification Women's events         62  \n",
       "Guatemala at the 2020 Summer Olympics              Judo                   68  \n",
       "2020 Summer Olympics closing ceremony              Passing the Baton     219  "
      ]
     },
     "execution_count": 49,
     "metadata": {},
     "output_type": "execute_result"
    }
   ],
   "source": [
    "# We have hosted the processed dataset, so you can download it directly without having to recreate it.\n",
    "# This dataset has already been split into sections, one row for each section of the Wikipedia page.\n",
    "\n",
    "df = pd.read_csv('./data/olympics_sections_text.csv')\n",
    "# df = pd.read_csv('https://cdn.openai.com/API/examples/data/olympics_sections_text.csv')\n",
    "df = df.set_index([\"title\", \"heading\"])\n",
    "print(f\"{len(df)} rows in the data.\")\n",
    "df.sample(5)"
   ]
  },
  {
   "cell_type": "code",
   "execution_count": 50,
   "id": "cc9c8d69-e234-48b4-87e3-935970e1523a",
   "metadata": {},
   "outputs": [
    {
     "name": "stdout",
     "output_type": "stream",
     "text": [
      "3964 rows in the data.\n"
     ]
    },
    {
     "data": {
      "text/html": [
       "<div>\n",
       "<style scoped>\n",
       "    .dataframe tbody tr th:only-of-type {\n",
       "        vertical-align: middle;\n",
       "    }\n",
       "\n",
       "    .dataframe tbody tr th {\n",
       "        vertical-align: top;\n",
       "    }\n",
       "\n",
       "    .dataframe thead th {\n",
       "        text-align: right;\n",
       "    }\n",
       "</style>\n",
       "<table border=\"1\" class=\"dataframe\">\n",
       "  <thead>\n",
       "    <tr style=\"text-align: right;\">\n",
       "      <th></th>\n",
       "      <th></th>\n",
       "      <th>content</th>\n",
       "      <th>tokens</th>\n",
       "    </tr>\n",
       "    <tr>\n",
       "      <th>title</th>\n",
       "      <th>heading</th>\n",
       "      <th></th>\n",
       "      <th></th>\n",
       "    </tr>\n",
       "  </thead>\n",
       "  <tbody>\n",
       "    <tr>\n",
       "      <th>2020년 하계 올림픽 농구 남자 예선</th>\n",
       "      <th>와일드카드 토너먼트를 통한 예선</th>\n",
       "      <td>추가 4개 팀은 FIBA 세계올림픽예선 4개 대회를 통해 각각 6개 팀, 즉 총 2...</td>\n",
       "      <td>141</td>\n",
       "    </tr>\n",
       "    <tr>\n",
       "      <th>2020년 하계 올림픽 키리바시 선수단</th>\n",
       "      <th>유도</th>\n",
       "      <td>키리바시는 국제유도연맹 올림픽 개인랭킹을 기준으로 올림픽 토너먼트에 여자 유도 선수...</td>\n",
       "      <td>69</td>\n",
       "    </tr>\n",
       "    <tr>\n",
       "      <th>2020년 하계 올림픽 여자 복식 배드민턴</th>\n",
       "      <th>경쟁 형식</th>\n",
       "      <td>토너먼트는 그룹 단계 라운드 로빈으로 시작되었습니다. 각각 4개 팀으로 구성된 4개...</td>\n",
       "      <td>94</td>\n",
       "    </tr>\n",
       "    <tr>\n",
       "      <th>2020년 하계 올림픽 육상 남자 400m 허들</th>\n",
       "      <th>요약</th>\n",
       "      <td>2020년 하계 올림픽 남자 400m 허들 경기는 2021년 7월 30일부터 8월 ...</td>\n",
       "      <td>168</td>\n",
       "    </tr>\n",
       "    <tr>\n",
       "      <th>2020년 하계 올림픽 노르웨이 선수단</th>\n",
       "      <th>요약</th>\n",
       "      <td>노르웨이는 2020 도쿄 하계 올림픽에 참가했습니다. 당초 2020년 7월 24일부...</td>\n",
       "      <td>106</td>\n",
       "    </tr>\n",
       "  </tbody>\n",
       "</table>\n",
       "</div>"
      ],
      "text/plain": [
       "                                                                                        content  \\\n",
       "title                      heading                                                                \n",
       "2020년 하계 올림픽 농구 남자 예선      와일드카드 토너먼트를 통한 예선  추가 4개 팀은 FIBA 세계올림픽예선 4개 대회를 통해 각각 6개 팀, 즉 총 2...   \n",
       "2020년 하계 올림픽 키리바시 선수단      유도                 키리바시는 국제유도연맹 올림픽 개인랭킹을 기준으로 올림픽 토너먼트에 여자 유도 선수...   \n",
       "2020년 하계 올림픽 여자 복식 배드민턴    경쟁 형식              토너먼트는 그룹 단계 라운드 로빈으로 시작되었습니다. 각각 4개 팀으로 구성된 4개...   \n",
       "2020년 하계 올림픽 육상 남자 400m 허들 요약                 2020년 하계 올림픽 남자 400m 허들 경기는 2021년 7월 30일부터 8월 ...   \n",
       "2020년 하계 올림픽 노르웨이 선수단      요약                 노르웨이는 2020 도쿄 하계 올림픽에 참가했습니다. 당초 2020년 7월 24일부...   \n",
       "\n",
       "                                              tokens  \n",
       "title                      heading                    \n",
       "2020년 하계 올림픽 농구 남자 예선      와일드카드 토너먼트를 통한 예선     141  \n",
       "2020년 하계 올림픽 키리바시 선수단      유도                     69  \n",
       "2020년 하계 올림픽 여자 복식 배드민턴    경쟁 형식                  94  \n",
       "2020년 하계 올림픽 육상 남자 400m 허들 요약                    168  \n",
       "2020년 하계 올림픽 노르웨이 선수단      요약                    106  "
      ]
     },
     "execution_count": 50,
     "metadata": {},
     "output_type": "execute_result"
    }
   ],
   "source": [
    "# We have hosted the processed dataset, so you can download it directly without having to recreate it.\n",
    "# This dataset has already been split into sections, one row for each section of the Wikipedia page.\n",
    "\n",
    "# df = pd.read_csv('./data/olympics_sections_text.csv')\n",
    "df_ko = pd.read_csv('./data/olympics_sections_text_ko.csv')\n",
    "# df = pd.read_csv('https://cdn.openai.com/API/examples/data/olympics_sections_text.csv')\n",
    "df_ko = df_ko.set_index([\"title\", \"heading\"])\n",
    "print(f\"{len(df_ko)} rows in the data.\")\n",
    "df_ko.sample(5)"
   ]
  },
  {
   "cell_type": "markdown",
   "id": "a17b88b9-7ea2-491e-9727-12617c74a77d",
   "metadata": {},
   "source": [
    "각 섹션에 임베딩 벡터를 생성하여 문서 섹션을 사전 처리합니다. 임베딩은 텍스트가 의미적으로 얼마나 유사하거나 다른지 이해하는 데 도움이 되는 숫자 벡터입니다. 두 임베딩이 서로 가까울수록 그 내용이 더 유사합니다. 자세한 내용은 [OpenAI 임베딩 문서](https://beta.openai.com/docs/guides/embeddings)를 참조하세요.\n",
    "\n",
    "이 인덱싱 단계는 오프라인에서 실행할 수 있으며, 데이터 세트의 인덱스를 미리 계산하여 나중에 각 콘텐츠를 검색할 수 있도록 한 번만 실행합니다. 이것은 작은 예시이므로 임베딩을 로컬에 저장하고 검색할 것입니다. 더 큰 데이터 세트가 있는 경우, [Pinecone](https://www.pinecone.io/) 또는 [Weaviate](https://github.com/semi-technologies/weaviate)와 같은 벡터 검색 엔진을 사용하여 검색을 강화하는 것을 고려해 보세요.\n",
    "\n",
    "------------\n",
    "\n",
    "We preprocess the document sections by creating an embedding vector for each section. An embedding is a vector of numbers that helps us understand how semantically similar or different the texts are. The closer two embeddings are to each other, the more similar are their contents. See the [documentation on OpenAI embeddings](https://beta.openai.com/docs/guides/embeddings) for more information.\n",
    "\n",
    "This indexing stage can be executed offline and only runs once to precompute the indexes for the dataset so that each piece of content can be retrieved later. Since this is a small example, we will store and search the embeddings locally. If you have a larger dataset, consider using a vector search engine like [Pinecone](https://www.pinecone.io/) or [Weaviate](https://github.com/semi-technologies/weaviate) to power the search."
   ]
  },
  {
   "cell_type": "code",
   "execution_count": 40,
   "id": "ba475f30-ef7f-431c-b60d-d5970b62ad09",
   "metadata": {},
   "outputs": [],
   "source": [
    "import time\n",
    "from tenacity import (\n",
    "    retry,\n",
    "    stop_after_attempt,\n",
    "    wait_random_exponential,\n",
    ")  # for exponential backoff\n",
    "\n",
    "@retry(wait=wait_random_exponential(min=1, max=60), stop=stop_after_attempt(6))\n",
    "def get_embedding(text: str, model: str=EMBEDDING_MODEL) -> list[float]:\n",
    "    result = openai.Embedding.create(\n",
    "      model=model,\n",
    "      input=text\n",
    "    )\n",
    "    return result[\"data\"][0][\"embedding\"]\n",
    "\n",
    "def compute_doc_embeddings(df: pd.DataFrame) -> dict[tuple[str, str], list[float]]:\n",
    "    \"\"\"\n",
    "    Create an embedding for each row in the dataframe using the OpenAI Embeddings API.\n",
    "    \n",
    "    Return a dictionary that maps between each embedding vector and the index of the row that it corresponds to.\n",
    "    \"\"\"\n",
    "    return {\n",
    "        idx: get_embedding(r.content) for idx, r in df.iterrows()\n",
    "    }"
   ]
  },
  {
   "cell_type": "code",
   "execution_count": 53,
   "id": "737266aa-cbe7-4691-87c1-fce8a31632f1",
   "metadata": {},
   "outputs": [],
   "source": [
    "def load_embeddings(fname: str) -> dict[tuple[str, str], list[float]]:\n",
    "    \"\"\"\n",
    "    Read the document embeddings and their keys from a CSV.\n",
    "    \n",
    "    fname is the path to a CSV with exactly these named columns: \n",
    "        \"title\", \"heading\", \"0\", \"1\", ... up to the length of the embedding vectors.\n",
    "    \"\"\"\n",
    "    \n",
    "    df = pd.read_csv(fname, header=0)\n",
    "    max_dim = max([int(c) for c in df.columns if c != \"title\" and c != \"heading\"])\n",
    "    return {\n",
    "           (r.title, r.heading): [r[str(i)] for i in range(max_dim + 1)] for _, r in df.iterrows()\n",
    "    }\n",
    "\n",
    "def load_embeddings1(fname: str):\n",
    "    document_embeddings1 = np.load(fname, allow_pickle=True)\n",
    "    document_embeddings2 = eval(str(document_embeddings1))\n",
    "    return document_embeddings2"
   ]
  },
  {
   "cell_type": "markdown",
   "id": "cfe9c723-f838-4c75-8ed8-286b2e491a60",
   "metadata": {},
   "source": [
    "다시 한 번 말씀드리지만, 처음부터 다시 계산할 필요가 없도록 임베딩을 호스팅했습니다.\n",
    "\n",
    "------\n",
    "\n",
    "Again, we have hosted the embeddings for you so you don't have to re-calculate them from scratch."
   ]
  },
  {
   "cell_type": "code",
   "execution_count": 54,
   "id": "ab50bfca-cb02-41c6-b338-4400abe1d86e",
   "metadata": {
    "scrolled": true
   },
   "outputs": [],
   "source": [
    "document_embeddings = load_embeddings(\"./data/olympics_sections_document_embeddings.csv\")\n",
    "\n",
    "document_embeddings_ko = load_embeddings1(\"./data/olympics_sections_document_embeddings_ko.npy\")\n",
    "\n",
    "# ===== OR, uncomment the below line to recaculate the embeddings from scratch. ========\n",
    "\n",
    "# document_embeddings_ko = compute_doc_embeddings(df)\n",
    "# np.save(\"./data/olympics_sections_document_embeddings_ko.npy\", document_embeddings_ko)"
   ]
  },
  {
   "cell_type": "code",
   "execution_count": 55,
   "id": "b9a8c713-c8a9-47dc-85a4-871ee1395566",
   "metadata": {
    "scrolled": true
   },
   "outputs": [
    {
     "name": "stdout",
     "output_type": "stream",
     "text": [
      "('2020 Summer Olympics', 'Summary') : [0.0037565305829048, -0.0061981128528714, -0.0087078781798481, -0.0071364338509738, -0.0025227521546185]... (1536 entries)\n"
     ]
    }
   ],
   "source": [
    "# An example embedding:\n",
    "example_entry = list(document_embeddings.items())[0]\n",
    "print(f\"{example_entry[0]} : {example_entry[1][:5]}... ({len(example_entry[1])} entries)\")"
   ]
  },
  {
   "cell_type": "code",
   "execution_count": 56,
   "id": "6a4515ed",
   "metadata": {},
   "outputs": [
    {
     "name": "stdout",
     "output_type": "stream",
     "text": [
      "('2020년 하계 올림픽', '요약') : [-0.0007347206119447947, -0.02737029641866684, 0.012973889708518982, -0.017294129356741905, -0.016912156715989113]... (1536 entries)\n"
     ]
    }
   ],
   "source": [
    "# An example embedding:\n",
    "example_entry = list(document_embeddings_ko.items())[0]\n",
    "print(f\"{example_entry[0]} : {example_entry[1][:5]}... ({len(example_entry[1])} entries)\")"
   ]
  },
  {
   "cell_type": "markdown",
   "id": "aa32cf88-9edb-4dc6-b4cf-a16a8de7d304",
   "metadata": {
    "tags": []
   },
   "source": [
    "따라서 문서 라이브러리를 섹션으로 분할하고 각 청크를 나타내는 임베딩 벡터를 생성하여 인코딩했습니다. 이제 이 임베딩을 사용하여 사용자의 질문에 답하겠습니다.\n",
    "\n",
    "----\n",
    "\n",
    "So we have split our document library into sections, and encoded them by creating embedding vectors that represent each chunk. Next we will use these embeddings to answer our users' questions.\n",
    "\n",
    "# 2) 질문 임베딩과 가장 유사한 문서 임베딩 찾기\n",
    "\n",
    "질문 답변 시 사용자의 질문에 답변하기 위해 질문의 쿼리 임베딩을 계산하고 이를 사용하여 가장 유사한 문서 섹션을 찾습니다. 이것은 작은 예시이므로 임베딩을 로컬에 저장하고 검색합니다. 더 큰 데이터 세트가 있는 경우, [Pinecone](https://www.pinecone.io/) 또는 [Weaviate](https://github.com/semi-technologies/weaviate)와 같은 벡터 검색 엔진을 사용하여 검색을 강화하는 것을 고려해 보세요.\n",
    "\n",
    "------\n",
    "\n",
    "At the time of question-answering, to answer the user's query we compute the query embedding of the question and use it to find the most similar document sections. Since this is a small example, we store and search the embeddings locally. If you have a larger dataset, consider using a vector search engine like [Pinecone](https://www.pinecone.io/) or [Weaviate](https://github.com/semi-technologies/weaviate) to power the search."
   ]
  },
  {
   "cell_type": "code",
   "execution_count": 57,
   "id": "dcd680e9-f194-4180-b14f-fc357498eb92",
   "metadata": {},
   "outputs": [],
   "source": [
    "def vector_similarity(x: list[float], y: list[float]) -> float:\n",
    "    \"\"\"\n",
    "    Returns the similarity between two vectors.\n",
    "    \n",
    "    Because OpenAI Embeddings are normalized to length 1, the cosine similarity is the same as the dot product.\n",
    "    \"\"\"\n",
    "    return np.dot(np.array(x), np.array(y))\n",
    "\n",
    "def order_document_sections_by_query_similarity(query: str, contexts: dict[(str, str), np.array]) -> list[(float, (str, str))]:\n",
    "    \"\"\"\n",
    "    Find the query embedding for the supplied query, and compare it against all of the pre-calculated document embeddings\n",
    "    to find the most relevant sections. \n",
    "    \n",
    "    Return the list of document sections, sorted by relevance in descending order.\n",
    "    \"\"\"\n",
    "    query_embedding = get_embedding(query)\n",
    "    \n",
    "    document_similarities = sorted([\n",
    "        (vector_similarity(query_embedding, doc_embedding), doc_index) for doc_index, doc_embedding in contexts.items()\n",
    "    ], reverse=True)\n",
    "    \n",
    "    return document_similarities"
   ]
  },
  {
   "cell_type": "code",
   "execution_count": 58,
   "id": "e3a27d73-f47f-480d-b336-079414f749cb",
   "metadata": {},
   "outputs": [
    {
     "data": {
      "text/plain": [
       "[(0.8848643084506063,\n",
       "  (\"Athletics at the 2020 Summer Olympics – Men's high jump\", 'Summary')),\n",
       " (0.8633938355935517,\n",
       "  (\"Athletics at the 2020 Summer Olympics – Men's pole vault\", 'Summary')),\n",
       " (0.8616397305838509,\n",
       "  (\"Athletics at the 2020 Summer Olympics – Men's long jump\", 'Summary')),\n",
       " (0.8560523857031264,\n",
       "  (\"Athletics at the 2020 Summer Olympics – Men's triple jump\", 'Summary')),\n",
       " (0.8469039130441239,\n",
       "  (\"Athletics at the 2020 Summer Olympics – Men's 110 metres hurdles\",\n",
       "   'Summary'))]"
      ]
     },
     "execution_count": 58,
     "metadata": {},
     "output_type": "execute_result"
    }
   ],
   "source": [
    "order_document_sections_by_query_similarity(\"Who won the men's high jump?\", document_embeddings)[:5]"
   ]
  },
  {
   "cell_type": "code",
   "execution_count": 59,
   "id": "299c0ec0",
   "metadata": {},
   "outputs": [
    {
     "data": {
      "text/plain": [
       "[(0.8286895041455207, ('2020년 하계 올림픽 남자 장대높이뛰기 육상', '요약')),\n",
       " (0.8283764589885092, ('2020년 하계 올림픽 육상 남자 높이뛰기', '요약')),\n",
       " (0.8082286047921805, ('2020년 하계 올림픽 카타르 선수단', '유도')),\n",
       " (0.8055966875979891, ('2020년 하계 올림픽 이란 선수단', '수영')),\n",
       " (0.8054871105960392, ('2020년 하계 올림픽 팀 점핑 승마 선수', '요약'))]"
      ]
     },
     "execution_count": 59,
     "metadata": {},
     "output_type": "execute_result"
    }
   ],
   "source": [
    "order_document_sections_by_query_similarity(\"Who won the men's high jump?\", document_embeddings_ko)[:5]"
   ]
  },
  {
   "cell_type": "code",
   "execution_count": 60,
   "id": "e408e026",
   "metadata": {},
   "outputs": [
    {
     "data": {
      "text/plain": [
       "[(0.7956144506001539,\n",
       "  ('South Korea at the 2020 Summer Olympics', 'Weightlifting')),\n",
       " (0.7936195708216873,\n",
       "  ('South Korea at the 2020 Summer Olympics', 'Sport climbing')),\n",
       " (0.7850900018882987,\n",
       "  ('South Korea at the 2020 Summer Olympics', 'Taekwondo')),\n",
       " (0.7833226662594626, ('South Korea at the 2020 Summer Olympics', 'Fencing')),\n",
       " (0.782352247020456, ('South Korea at the 2020 Summer Olympics', 'Road'))]"
      ]
     },
     "execution_count": 60,
     "metadata": {},
     "output_type": "execute_result"
    }
   ],
   "source": [
    "order_document_sections_by_query_similarity(\"남자 높이뛰기 우승은 누가 차지했을까요?\", document_embeddings)[:5]"
   ]
  },
  {
   "cell_type": "code",
   "execution_count": 61,
   "id": "07276f66",
   "metadata": {},
   "outputs": [
    {
     "data": {
      "text/plain": [
       "[(0.8631883030965419, ('2020년 하계 올림픽 남자 장대높이뛰기 육상', '요약')),\n",
       " (0.8556307692880826, ('2020년 하계 올림픽 육상 남자 세단뛰기', '경쟁 형식')),\n",
       " (0.8511686288520715, ('2020년 하계 올림픽 남자 개인 양궁', '경쟁 형식')),\n",
       " (0.8507390194977021, ('2020년 하계 올림픽 육상 남자 멀리뛰기', '경쟁 형식')),\n",
       " (0.8491722183125778, ('2020년 하계 올림픽 남자 장대높이뛰기 육상', '자격'))]"
      ]
     },
     "execution_count": 61,
     "metadata": {},
     "output_type": "execute_result"
    }
   ],
   "source": [
    "order_document_sections_by_query_similarity(\"남자 높이뛰기 우승은 누가 차지했을까요?\", document_embeddings_ko)[:5]"
   ]
  },
  {
   "cell_type": "code",
   "execution_count": 62,
   "id": "b68d3255",
   "metadata": {},
   "outputs": [
    {
     "data": {
      "text/plain": [
       "[(0.7935790951627926,\n",
       "  ('South Korea at the 2020 Summer Olympics', 'Weightlifting')),\n",
       " (0.7881596031826641,\n",
       "  ('South Korea at the 2020 Summer Olympics', 'Sport climbing')),\n",
       " (0.7835148275477701,\n",
       "  ('South Korea at the 2020 Summer Olympics', 'Taekwondo')),\n",
       " (0.7800376001118339, ('South Korea at the 2020 Summer Olympics', 'Fencing')),\n",
       " (0.7780477617782913,\n",
       "  ('South Korea at the 2020 Winter Youth Olympics', 'Ice hockey'))]"
      ]
     },
     "execution_count": 62,
     "metadata": {},
     "output_type": "execute_result"
    }
   ],
   "source": [
    "order_document_sections_by_query_similarity(\"남자 높이뛰기 우승자는 누구일까요?\", document_embeddings)[:5]"
   ]
  },
  {
   "cell_type": "code",
   "execution_count": 63,
   "id": "499c6a87",
   "metadata": {},
   "outputs": [
    {
     "data": {
      "text/plain": [
       "[(0.8594850831427614, ('2020년 하계 올림픽 남자 장대높이뛰기 육상', '요약')),\n",
       " (0.8521748875501011, ('2020년 하계 올림픽 남자 개인 양궁', '경쟁 형식')),\n",
       " (0.8479371494525972, ('2020년 하계 올림픽 페루 선수단', '유도')),\n",
       " (0.8471660540707427, ('2020년 하계 올림픽 남자 장대높이뛰기 육상', '자격')),\n",
       " (0.8467606835380379, ('2020년 하계 올림픽 남아프리카 선수단', '도로'))]"
      ]
     },
     "execution_count": 63,
     "metadata": {},
     "output_type": "execute_result"
    }
   ],
   "source": [
    "order_document_sections_by_query_similarity(\"남자 높이뛰기 우승자는 누구일까요?\", document_embeddings_ko)[:5]"
   ]
  },
  {
   "cell_type": "code",
   "execution_count": 64,
   "id": "9b40e161",
   "metadata": {},
   "outputs": [
    {
     "data": {
      "text/plain": [
       "[(0.7933665732940947,\n",
       "  ('South Korea at the 2020 Summer Olympics', 'Weightlifting')),\n",
       " (0.7917093223361004,\n",
       "  ('South Korea at the 2020 Summer Olympics', 'Sport climbing')),\n",
       " (0.7831200061773314,\n",
       "  ('South Korea at the 2020 Summer Olympics', 'Taekwondo')),\n",
       " (0.7811997626700711, ('South Korea at the 2020 Summer Olympics', 'Fencing')),\n",
       " (0.7809583779799547, ('South Korea at the 2020 Summer Olympics', 'Road'))]"
      ]
     },
     "execution_count": 64,
     "metadata": {},
     "output_type": "execute_result"
    }
   ],
   "source": [
    "order_document_sections_by_query_similarity(\"남자 높이뛰기 우승은 누가 차지했나요?\", document_embeddings)[:5]"
   ]
  },
  {
   "cell_type": "code",
   "execution_count": 65,
   "id": "2d1a3a1d",
   "metadata": {},
   "outputs": [
    {
     "data": {
      "text/plain": [
       "[(0.8602916217975064, ('2020년 하계 올림픽 남자 장대높이뛰기 육상', '요약')),\n",
       " (0.8539209305756406, ('2020년 하계 올림픽 육상 남자 세단뛰기', '경쟁 형식')),\n",
       " (0.8484875667423182, ('2020년 하계 올림픽 육상 남자 멀리뛰기', '경쟁 형식')),\n",
       " (0.8478048135236838, ('2020년 하계 올림픽 남자 개인 양궁', '경쟁 형식')),\n",
       " (0.8469847217342875, ('2020년 하계 올림픽 남아프리카 선수단', '도로'))]"
      ]
     },
     "execution_count": 65,
     "metadata": {},
     "output_type": "execute_result"
    }
   ],
   "source": [
    "order_document_sections_by_query_similarity(\"남자 높이뛰기 우승은 누가 차지했나요?\", document_embeddings_ko)[:5]"
   ]
  },
  {
   "cell_type": "code",
   "execution_count": 66,
   "id": "771da084",
   "metadata": {},
   "outputs": [
    {
     "data": {
      "text/plain": [
       "[(0.7635534172820961,\n",
       "  ('South Korea at the 2020 Summer Olympics', 'Weightlifting')),\n",
       " (0.7633939736139879, ('South Korea at the 2020 Summer Olympics', 'Fencing')),\n",
       " (0.7630680956131137,\n",
       "  ('South Korea at the 2020 Summer Olympics', 'Sport climbing')),\n",
       " (0.7593761449072172,\n",
       "  ('South Korea at the 2020 Summer Olympics', 'Wrestling')),\n",
       " (0.7576893728449536,\n",
       "  ('South Korea at the 2020 Winter Youth Olympics', 'Ice hockey'))]"
      ]
     },
     "execution_count": 66,
     "metadata": {},
     "output_type": "execute_result"
    }
   ],
   "source": [
    "order_document_sections_by_query_similarity(\"남자 높이뛰기 금메달\", document_embeddings)[:5]"
   ]
  },
  {
   "cell_type": "code",
   "execution_count": 67,
   "id": "2132a8e9",
   "metadata": {},
   "outputs": [
    {
     "data": {
      "text/plain": [
       "[(0.8570895052030021, ('2020년 하계 올림픽 남자 장대높이뛰기 육상', '요약')),\n",
       " (0.8522542803446811, ('2020년 하계 올림픽 수단 선수단', '유도')),\n",
       " (0.8434983828590918, ('2020년 하계 올림픽 육상 남자 높이뛰기', '요약')),\n",
       " (0.8394705788929422, ('2020년 하계 올림픽 이집트 선수단', '다이빙')),\n",
       " (0.8381554434998647, ('2020년 하계 올림픽 이집트 선수단', '양궁'))]"
      ]
     },
     "execution_count": 67,
     "metadata": {},
     "output_type": "execute_result"
    }
   ],
   "source": [
    "order_document_sections_by_query_similarity(\"남자 높이뛰기 금메달\", document_embeddings_ko)[:5]"
   ]
  },
  {
   "cell_type": "code",
   "execution_count": 87,
   "id": "2646ce09",
   "metadata": {},
   "outputs": [
    {
     "data": {
      "text/plain": [
       "[(0.8542594597855905, ('2020년 하계 올림픽 남자 장대높이뛰기 육상', '요약')),\n",
       " (0.8440834044838897, ('2020년 하계 올림픽 수단 선수단', '유도')),\n",
       " (0.8394626808988683, ('2020년 하계 올림픽 육상 남자 높이뛰기', '요약')),\n",
       " (0.8355090342397328, ('2020년 하계 올림픽 이집트 선수단', '다이빙')),\n",
       " (0.8327883143274571, ('2020년 하계 올림픽 여자 장대높이뛰기 육상', '요약'))]"
      ]
     },
     "execution_count": 87,
     "metadata": {},
     "output_type": "execute_result"
    }
   ],
   "source": [
    "order_document_sections_by_query_similarity(\"남자 높이뛰기 금메달은 누가 차지했나요?\", document_embeddings_ko)[:5]"
   ]
  },
  {
   "cell_type": "code",
   "execution_count": 68,
   "id": "729c2ce7-8540-4ab2-bb3a-76c4dfcb689c",
   "metadata": {},
   "outputs": [
    {
     "data": {
      "text/plain": [
       "[(0.8726341132259559,\n",
       "  (\"Athletics at the 2020 Summer Olympics – Women's long jump\", 'Summary')),\n",
       " (0.8682291583662214,\n",
       "  (\"Athletics at the 2020 Summer Olympics – Women's high jump\", 'Summary')),\n",
       " (0.8631917331894747,\n",
       "  (\"Athletics at the 2020 Summer Olympics – Women's pole vault\", 'Summary')),\n",
       " (0.860951601983651,\n",
       "  (\"Athletics at the 2020 Summer Olympics – Women's triple jump\", 'Summary')),\n",
       " (0.8581876900497669,\n",
       "  (\"Athletics at the 2020 Summer Olympics – Women's 100 metres hurdles\",\n",
       "   'Summary'))]"
      ]
     },
     "execution_count": 68,
     "metadata": {},
     "output_type": "execute_result"
    }
   ],
   "source": [
    "order_document_sections_by_query_similarity(\"Who won the women's high jump?\", document_embeddings)[:5]"
   ]
  },
  {
   "cell_type": "code",
   "execution_count": 69,
   "id": "7dd92305",
   "metadata": {},
   "outputs": [
    {
     "data": {
      "text/plain": [
       "[(0.8289406102266239, ('2020년 하계 올림픽 여자 장대높이뛰기 육상', '요약')),\n",
       " (0.8238366088038306, ('2020년 하계 올림픽 육상 여자 멀리뛰기', '요약')),\n",
       " (0.8226336634557346, ('2020년 하계 올림픽 육상 여자 1500m', '요약')),\n",
       " (0.8190963460940452, ('2020년 하계 올림픽 베네수엘라 선수단', '여자 세단뛰기')),\n",
       " (0.8180512232486251, ('2020년 하계 올림픽 육상 여자 100m', '요약'))]"
      ]
     },
     "execution_count": 69,
     "metadata": {},
     "output_type": "execute_result"
    }
   ],
   "source": [
    "order_document_sections_by_query_similarity(\"Who won the women's high jump?\", document_embeddings_ko)[:5]"
   ]
  },
  {
   "cell_type": "code",
   "execution_count": 70,
   "id": "d16f2c3c",
   "metadata": {},
   "outputs": [
    {
     "data": {
      "text/plain": [
       "[(0.80451334355092,\n",
       "  ('South Korea at the 2020 Summer Olympics', 'Sport climbing')),\n",
       " (0.8043829668709872, ('South Korea at the 2020 Summer Olympics', 'Road')),\n",
       " (0.8000587783422114,\n",
       "  ('South Korea at the 2020 Summer Olympics', 'Weightlifting')),\n",
       " (0.7873142663762336, ('South Korea at the 2020 Summer Olympics', 'Boxing')),\n",
       " (0.7865130863113933,\n",
       "  ('South Korea at the 2020 Summer Olympics', 'Taekwondo'))]"
      ]
     },
     "execution_count": 70,
     "metadata": {},
     "output_type": "execute_result"
    }
   ],
   "source": [
    "order_document_sections_by_query_similarity(\"여자 높이뛰기 우승은 누가 차지했을까요?\", document_embeddings)[:5]"
   ]
  },
  {
   "cell_type": "code",
   "execution_count": 71,
   "id": "56e3861d",
   "metadata": {},
   "outputs": [
    {
     "data": {
      "text/plain": [
       "[(0.8668776419160141, ('2020년 하계 올림픽 육상 여자 높이뛰기', '요약')),\n",
       " (0.8582323551653556, ('2020년 하계 올림픽 육상 여자 높이뛰기', '자격')),\n",
       " (0.8572834252398688, ('2020년 하계 올림픽 여자 장대높이뛰기 육상', '요약')),\n",
       " (0.8512330500592004, ('2020년 하계 올림픽 여자 장대높이뛰기 육상', '자격')),\n",
       " (0.851200673212585, ('2020년 하계 올림픽 몽골 선수단', '양궁'))]"
      ]
     },
     "execution_count": 71,
     "metadata": {},
     "output_type": "execute_result"
    }
   ],
   "source": [
    "order_document_sections_by_query_similarity(\"여자 높이뛰기 우승은 누가 차지했을까요?\", document_embeddings_ko)[:5]"
   ]
  },
  {
   "cell_type": "markdown",
   "id": "3cf71fae-abb1-46b2-a483-c1b2f1a915c2",
   "metadata": {},
   "source": [
    "각 질문과 가장 관련성이 높은 문서 섹션에는 남자 및 여자 높이뛰기 경기 요약이 포함되어 있으며, 이는 우리가 예상한 것과 정확히 일치합니다.\n",
    "\n",
    "--------\n",
    "\n",
    "We can see that the most relevant document sections for each question include the summaries for the Men's and Women's high jump competitions - which is exactly what we would expect."
   ]
  },
  {
   "cell_type": "markdown",
   "id": "a0efa0f6-4469-457a-89a4-a2f5736a01e0",
   "metadata": {},
   "source": [
    "# 3) 가장 관련성이 높은 문서 섹션을 쿼리 프롬프트에 추가하기\n",
    "\n",
    "가장 관련성이 높은 문맥을 계산한 후에는 제공된 쿼리에 이를 추가하여 프롬프트를 구성합니다. 쿼리 구분 기호를 사용하면 모델이 개별 텍스트를 구분하는 데 도움이 됩니다.\n",
    "\n",
    "---------\n",
    "\n",
    "Once we've calculated the most relevant pieces of context, we construct a prompt by simply prepending them to the supplied query. It is helpful to use a query separator to help the model distinguish between separate pieces of text."
   ]
  },
  {
   "cell_type": "code",
   "execution_count": 72,
   "id": "b763ace2-1946-48e0-8ff1-91ba335d47a0",
   "metadata": {},
   "outputs": [
    {
     "data": {
      "text/plain": [
       "'Context separator contains 3 tokens'"
      ]
     },
     "execution_count": 72,
     "metadata": {},
     "output_type": "execute_result"
    }
   ],
   "source": [
    "MAX_SECTION_LEN = 500\n",
    "SEPARATOR = \"\\n* \"\n",
    "ENCODING = \"gpt2\"  # encoding for text-davinci-003\n",
    "\n",
    "encoding = tiktoken.get_encoding(ENCODING)\n",
    "separator_len = len(encoding.encode(SEPARATOR))\n",
    "\n",
    "f\"Context separator contains {separator_len} tokens\""
   ]
  },
  {
   "cell_type": "code",
   "execution_count": 77,
   "id": "0c5c0509-eeb9-4552-a5d4-6ace04ef73dd",
   "metadata": {},
   "outputs": [],
   "source": [
    "def construct_prompt(question: str, context_embeddings: dict, df: pd.DataFrame) -> str:\n",
    "    \"\"\"\n",
    "    Fetch relevant \n",
    "    \"\"\"\n",
    "    most_relevant_document_sections = order_document_sections_by_query_similarity(question, context_embeddings)\n",
    "    \n",
    "    chosen_sections = []\n",
    "    chosen_sections_len = 0\n",
    "    chosen_sections_indexes = []\n",
    "     \n",
    "    for _, section_index in most_relevant_document_sections:\n",
    "        # Add contexts until we run out of space.        \n",
    "        document_section = df.loc[section_index]\n",
    "        \n",
    "        chosen_sections_len += document_section.tokens + separator_len\n",
    "        if chosen_sections_len > MAX_SECTION_LEN:\n",
    "            break\n",
    "            \n",
    "        chosen_sections.append(SEPARATOR + document_section.content.replace(\"\\n\", \" \"))\n",
    "        chosen_sections_indexes.append(str(section_index))\n",
    "            \n",
    "    # Useful diagnostic information\n",
    "    print(f\"Selected {len(chosen_sections)} document sections:\")\n",
    "    print(\"\\n\".join(chosen_sections_indexes))\n",
    "    \n",
    "    header = \"\"\"Answer the question as truthfully as possible using the provided context, and if the answer is not contained within the text below, say \"I don't know.\"\\n\\nContext:\\n\"\"\"\n",
    "    \n",
    "    return header + \"\".join(chosen_sections) + \"\\n\\n Q: \" + question + \"\\n A:\"\n",
    "\n",
    "\n",
    "\n",
    "def construct_prompt_ko(question: str, context_embeddings: dict, df: pd.DataFrame) -> str:\n",
    "    \"\"\"\n",
    "    Fetch relevant \n",
    "    \"\"\"\n",
    "    most_relevant_document_sections = order_document_sections_by_query_similarity(question, context_embeddings)\n",
    "    \n",
    "    chosen_sections = []\n",
    "    chosen_sections_len = 0\n",
    "    chosen_sections_indexes = []\n",
    "     \n",
    "    for _, section_index in most_relevant_document_sections:\n",
    "        # Add contexts until we run out of space.        \n",
    "        document_section = df.loc[section_index]\n",
    "        \n",
    "        chosen_sections_len += document_section.tokens + separator_len\n",
    "        if chosen_sections_len > MAX_SECTION_LEN:\n",
    "            break\n",
    "            \n",
    "        chosen_sections.append(SEPARATOR + document_section.content.replace(\"\\n\", \" \"))\n",
    "        chosen_sections_indexes.append(str(section_index))\n",
    "            \n",
    "    # Useful diagnostic information\n",
    "    print(f\"Selected {len(chosen_sections)} document sections:\")\n",
    "    print(\"\\n\".join(chosen_sections_indexes))\n",
    "    \n",
    "    header = \"\"\"제공된 문맥을 사용하여 질문에 최대한 사실대로 답하고, 아래 텍스트에 답이 포함되어 있지 않은 경우 \"모름\"이라고 답합니다.\\n\\n문맥:\\n\"\"\"\n",
    "    \n",
    "    return header + \"\".join(chosen_sections) + \"\\n\\n Q: \" + question + \"\\n A:\""
   ]
  },
  {
   "cell_type": "code",
   "execution_count": 74,
   "id": "f614045a-3917-4b28-9643-7e0c299ec1a7",
   "metadata": {},
   "outputs": [
    {
     "name": "stdout",
     "output_type": "stream",
     "text": [
      "Selected 2 document sections:\n",
      "(\"Athletics at the 2020 Summer Olympics – Men's high jump\", 'Summary')\n",
      "(\"Athletics at the 2020 Summer Olympics – Men's long jump\", 'Summary')\n",
      "===\n",
      " Answer the question as truthfully as possible using the provided context, and if the answer is not contained within the text below, say \"I don't know.\"\n",
      "\n",
      "Context:\n",
      "\n",
      "* The men's high jump event at the 2020 Summer Olympics took place between 30 July and 1 August 2021 at the Olympic Stadium. 33 athletes from 24 nations competed; the total possible number depended on how many nations would use universality places to enter athletes in addition to the 32 qualifying through mark or ranking (no universality places were used in 2021). Italian athlete Gianmarco Tamberi along with Qatari athlete Mutaz Essa Barshim emerged as joint winners of the event following a tie between both of them as they cleared 2.37m. Both Tamberi and Barshim agreed to share the gold medal in a rare instance where the athletes of different nations had agreed to share the same medal in the history of Olympics. Barshim in particular was heard to ask a competition official \"Can we have two golds?\" in response to being offered a 'jump off'. Maksim Nedasekau of Belarus took bronze. The medals were the first ever in the men's high jump for Italy and Belarus, the first gold in the men's high jump for Italy and Qatar, and the third consecutive medal in the men's high jump for Qatar (all by Barshim). Barshim became only the second man to earn three medals in high jump, joining Patrik Sjöberg of Sweden (1984 to 1992).\n",
      "* The men's long jump event at the 2020 Summer Olympics took place between 31 July and 2 August 2021 at the Japan National Stadium. Approximately 35 athletes were expected to compete; the exact number was dependent on how many nations use universality places to enter athletes in addition to the 32 qualifying through time or ranking (1 universality place was used in 2016). 31 athletes from 20 nations competed. Miltiadis Tentoglou won the gold medal, Greece's first medal in the men's long jump. Cuban athletes Juan Miguel Echevarría and Maykel Massó earned silver and bronze, respectively, the nation's first medals in the event since 2008.\n",
      "\n",
      " Q: Who won the 2020 Summer Olympics men's high jump?\n",
      " A:\n"
     ]
    }
   ],
   "source": [
    "prompt = construct_prompt(\n",
    "    \"Who won the 2020 Summer Olympics men's high jump?\",\n",
    "    document_embeddings,\n",
    "    df\n",
    ")\n",
    "\n",
    "print(\"===\\n\", prompt)"
   ]
  },
  {
   "cell_type": "code",
   "execution_count": 76,
   "id": "8168e427",
   "metadata": {
    "scrolled": true
   },
   "outputs": [
    {
     "name": "stdout",
     "output_type": "stream",
     "text": [
      "Selected 2 document sections:\n",
      "('2020년 하계 올림픽 육상 남자 높이뛰기', '요약')\n",
      "('2020년 하계 올림픽 남자 장대높이뛰기 육상', '요약')\n",
      "===\n",
      " Answer the question as truthfully as possible using the provided context, and if the answer is not contained within the text below, say \"I don't know.\"\n",
      "\n",
      "Context:\n",
      "\n",
      "* 2020년 하계 올림픽 남자 높이뛰기 경기가 2021년 7월 30일부터 8월 1일까지 올림픽 스타디움에서 열렸습니다. 24개국에서 온 33명의 선수들이 경쟁했습니다. 가능한 총 수는 마크 또는 순위를 통해 자격을 갖춘 32개 국가 외에 얼마나 많은 국가가 보편성 위치를 사용하여 선수를 입력하는지에 따라 달라집니다(2021년에는 보편성 위치가 사용되지 않음). 이탈리아 선수 지안마르코 탐베리(Gianmarco Tamberi)와 카타르 선수 무타즈 에사 바르심(Mutaz Essa Barshim)이 2.37m를 동점으로 통과하며 공동 우승자로 부상했습니다. Tamberi와 Barshim은 올림픽 역사상 서로 다른 국가의 선수들이 같은 메달을 공유하기로 합의한 드문 경우에 금메달을 공유하기로 합의했습니다. 특히 Barshim은 대회 관계자에게 \"두 개의 금메달을 가질 수 있습니까? \"라고 묻는 것을 들었습니다. '점프 오프'를 제안받은 것에 대한 응답으로. 벨로루시의 Maksim Nedasekau가 동메달을 차지했습니다. 메달은 이탈리아와 벨라루스의 남자 높이뛰기 사상 최초, 이탈리아와 카타르의 남자 높이뛰기 첫 금메달, 카타르의 남자 높이뛰기 연속 3연패 메달(모두 Barshim)입니다. Barshim은 높이뛰기에서 3개의 메달을 획득한 두 번째 남자가 되었으며, 스웨덴의 Patrik Sj철berg(1984-1992)에 이어졌습니다.\n",
      "* 2020년 하계 올림픽 남자 장대높이뛰기 경기가 2021년 7월 31일부터 8월 3일까지 일본 국립 경기장에서 열렸습니다. 18개국에서 온 29명의 선수들이 경쟁했습니다. 스웨덴의 Armand Duplantis가 금메달을, 미국의 Christopher Nilsen이 은메달을, 브라질의 Thiago Braz가 동메달을 차지했습니다. 이 대회에서 스웨덴의 첫 승리이자 1952년 이후 남자 장대높이뛰기에서 모든 색상의 첫 메달이었습니다. 2016년에 우승한 Braz는 장대높이뛰기에서 여러 메달을 획득한 9번째 선수가 되었습니다.\n",
      "\n",
      " Q: Who won the 2020 Summer Olympics men's high jump?\n",
      " A:\n"
     ]
    }
   ],
   "source": [
    "prompt = construct_prompt(\n",
    "    \"Who won the 2020 Summer Olympics men's high jump?\",\n",
    "    document_embeddings_ko,\n",
    "    df_ko\n",
    ")\n",
    "\n",
    "print(\"===\\n\", prompt)"
   ]
  },
  {
   "cell_type": "code",
   "execution_count": 90,
   "id": "ed5fd9c3",
   "metadata": {
    "scrolled": true
   },
   "outputs": [
    {
     "name": "stdout",
     "output_type": "stream",
     "text": [
      "Selected 4 document sections:\n",
      "('2020년 하계 올림픽 남자 장대높이뛰기 육상', '요약')\n",
      "('2020년 하계 올림픽 수단 선수단', '유도')\n",
      "('2020년 하계 올림픽 육상 남자 높이뛰기', '요약')\n",
      "('2020년 하계 올림픽 이집트 선수단', '다이빙')\n",
      "===\n",
      " 제공된 문맥을 사용하여 질문에 최대한 사실대로 답하고, 아래 텍스트에 답이 포함되어 있지 않은 경우 \"모름\"이라고 답합니다.\n",
      "\n",
      "문맥:\n",
      "\n",
      "* 2020년 하계 올림픽 남자 장대높이뛰기 경기가 2021년 7월 31일부터 8월 3일까지 일본 국립 경기장에서 열렸습니다. 18개국에서 온 29명의 선수들이 경쟁했습니다. 스웨덴의 Armand Duplantis가 금메달을, 미국의 Christopher Nilsen이 은메달을, 브라질의 Thiago Braz가 동메달을 차지했습니다. 이 대회에서 스웨덴의 첫 승리이자 1952년 이후 남자 장대높이뛰기에서 모든 색상의 첫 메달이었습니다. 2016년에 우승한 Braz는 장대높이뛰기에서 여러 메달을 획득한 9번째 선수가 되었습니다.\n",
      "* 수단은 남자 경량급(73kg)의 모하메드 압달라술을 올림픽에 보내 달라는 노사정위원회와 국제유도연맹의 초청을 받았다.\n",
      "* 2020년 하계 올림픽 남자 높이뛰기 경기가 2021년 7월 30일부터 8월 1일까지 올림픽 스타디움에서 열렸습니다. 24개국에서 온 33명의 선수들이 경쟁했습니다. 가능한 총 수는 마크 또는 순위를 통해 자격을 갖춘 32개 국가 외에 얼마나 많은 국가가 보편성 위치를 사용하여 선수를 입력하는지에 따라 달라집니다(2021년에는 보편성 위치가 사용되지 않음). 이탈리아 선수 지안마르코 탐베리(Gianmarco Tamberi)와 카타르 선수 무타즈 에사 바르심(Mutaz Essa Barshim)이 2.37m를 동점으로 통과하며 공동 우승자로 부상했습니다. Tamberi와 Barshim은 올림픽 역사상 서로 다른 국가의 선수들이 같은 메달을 공유하기로 합의한 드문 경우에 금메달을 공유하기로 합의했습니다. 특히 Barshim은 대회 관계자에게 \"두 개의 금메달을 가질 수 있습니까? \"라고 묻는 것을 들었습니다. '점프 오프'를 제안받은 것에 대한 응답으로. 벨로루시의 Maksim Nedasekau가 동메달을 차지했습니다. 메달은 이탈리아와 벨라루스의 남자 높이뛰기 사상 최초, 이탈리아와 카타르의 남자 높이뛰기 첫 금메달, 카타르의 남자 높이뛰기 연속 3연패 메달(모두 Barshim)입니다. Barshim은 높이뛰기에서 3개의 메달을 획득한 두 번째 남자가 되었으며, 스웨덴의 Patrik Sj철berg(1984-1992)에 이어졌습니다.\n",
      "* 이집트는 남아프리카공화국 더반에서 열린 2019 아프리카예선대회에서 개인전에서 각각 금메달을 따며 3명의 잠수부(남자 2명, 여자 1명)를 올림픽 본선에 내보냈다.\n",
      "\n",
      " Q: 남자 높이뛰기 금메달\n",
      " A:\n"
     ]
    }
   ],
   "source": [
    "prompt = construct_prompt_ko(\n",
    "    \"남자 높이뛰기 금메달\",\n",
    "    document_embeddings_ko,\n",
    "    df_ko\n",
    ")\n",
    "\n",
    "print(\"===\\n\", prompt)"
   ]
  },
  {
   "cell_type": "markdown",
   "id": "1b022fd4-0a3c-4ae1-bed1-4c80e4f0fb56",
   "metadata": {
    "tags": []
   },
   "source": [
    "이제 질문과 가장 관련이 있는 문서 섹션을 확보했습니다. 마지막 단계로 질문에 대한 답을 얻기 위해 이 모든 것을 종합해 보겠습니다.\n",
    "\n",
    "--------\n",
    "\n",
    "We have now obtained the document sections that are most relevant to the question. As a final step, let's put it all together to get an answer to the question.\n",
    "\n",
    "# 4) 컨텍스트에 따라 사용자의 질문에 답변합니다.\n",
    "\n",
    "이제 관련 컨텍스트를 검색하고 프롬프트를 구성했으므로 이제 완성 API를 사용하여 사용자의 쿼리에 답변할 수 있습니다.\n",
    "\n",
    "--------\n",
    "\n",
    "Now that we've retrieved the relevant context and constructed our prompt, we can finally use the Completions API to answer the user's query."
   ]
  },
  {
   "cell_type": "code",
   "execution_count": 79,
   "id": "b0edfec7-9243-4573-92e0-253d31c771ad",
   "metadata": {},
   "outputs": [],
   "source": [
    "COMPLETIONS_API_PARAMS = {\n",
    "    # We use temperature of 0.0 because it gives the most predictable, factual answer.\n",
    "    \"temperature\": 0.0,\n",
    "    \"max_tokens\": 300,\n",
    "    \"model\": COMPLETIONS_MODEL,\n",
    "}"
   ]
  },
  {
   "cell_type": "code",
   "execution_count": 82,
   "id": "9c1c9a69-848e-4099-a90d-c8da36c153d5",
   "metadata": {},
   "outputs": [],
   "source": [
    "def answer_query_with_context(\n",
    "    query: str,\n",
    "    df: pd.DataFrame,\n",
    "    document_embeddings: dict[(str, str), np.array],\n",
    "    show_prompt: bool = False\n",
    ") -> str:\n",
    "    prompt = construct_prompt(\n",
    "        query,\n",
    "        document_embeddings,\n",
    "        df\n",
    "    )\n",
    "    \n",
    "    if show_prompt:\n",
    "        print(prompt)\n",
    "\n",
    "    response = openai.Completion.create(\n",
    "                prompt=prompt,\n",
    "                **COMPLETIONS_API_PARAMS\n",
    "            )\n",
    "\n",
    "    return response[\"choices\"][0][\"text\"].strip(\" \\n\")\n",
    "\n",
    "\n",
    "def answer_query_with_context_ko(\n",
    "    query: str,\n",
    "    df: pd.DataFrame,\n",
    "    document_embeddings: dict[(str, str), np.array],\n",
    "    show_prompt: bool = False\n",
    ") -> str:\n",
    "    prompt = construct_prompt_ko(\n",
    "        query,\n",
    "        document_embeddings,\n",
    "        df\n",
    "    )\n",
    "    \n",
    "    if show_prompt:\n",
    "        print(prompt)\n",
    "\n",
    "    response = openai.Completion.create(\n",
    "                prompt=prompt,\n",
    "                **COMPLETIONS_API_PARAMS\n",
    "            )\n",
    "\n",
    "    return response[\"choices\"][0][\"text\"].strip(\" \\n\")"
   ]
  },
  {
   "cell_type": "code",
   "execution_count": 81,
   "id": "c233e449-bf33-4c9e-b095-6a4dd278c8fd",
   "metadata": {
    "scrolled": true
   },
   "outputs": [
    {
     "name": "stdout",
     "output_type": "stream",
     "text": [
      "Selected 2 document sections:\n",
      "(\"Athletics at the 2020 Summer Olympics – Men's high jump\", 'Summary')\n",
      "(\"Athletics at the 2020 Summer Olympics – Men's long jump\", 'Summary')\n"
     ]
    },
    {
     "data": {
      "text/plain": [
       "'Gianmarco Tamberi and Mutaz Essa Barshim emerged as joint winners of the event following a tie between both of them as they cleared 2.37m. Both Tamberi and Barshim agreed to share the gold medal.'"
      ]
     },
     "execution_count": 81,
     "metadata": {},
     "output_type": "execute_result"
    }
   ],
   "source": [
    "answer_query_with_context(\"Who won the 2020 Summer Olympics men's high jump?\", df, document_embeddings)"
   ]
  },
  {
   "cell_type": "code",
   "execution_count": 83,
   "id": "df162c28",
   "metadata": {
    "scrolled": true
   },
   "outputs": [
    {
     "name": "stdout",
     "output_type": "stream",
     "text": [
      "Selected 2 document sections:\n",
      "('2020년 하계 올림픽 육상 남자 높이뛰기', '요약')\n",
      "('2020년 하계 올림픽 남자 장대높이뛰기 육상', '요약')\n"
     ]
    },
    {
     "data": {
      "text/plain": [
       "\"Gianmarco Tamberi and Mutaz Essa Barshim won the 2020 Summer Olympics men's high jump, sharing the gold medal.\""
      ]
     },
     "execution_count": 83,
     "metadata": {},
     "output_type": "execute_result"
    }
   ],
   "source": [
    "answer_query_with_context(\"Who won the 2020 Summer Olympics men's high jump?\", df_ko, document_embeddings_ko)"
   ]
  },
  {
   "cell_type": "code",
   "execution_count": 85,
   "id": "b24eb2df",
   "metadata": {},
   "outputs": [
    {
     "name": "stdout",
     "output_type": "stream",
     "text": [
      "Selected 4 document sections:\n",
      "('2020년 하계 올림픽 남자 장대높이뛰기 육상', '요약')\n",
      "('2020년 하계 올림픽 남자 개인 양궁', '경쟁 형식')\n",
      "('2020년 하계 올림픽 수단 선수단', '유도')\n",
      "('2020년 하계 올림픽 육상 남자 세단뛰기', '경쟁 형식')\n"
     ]
    },
    {
     "data": {
      "text/plain": [
       "'Armand Duplantis가 금메달을, Christopher Nilsen이 은메달을, Thiago Braz가 동메달을 차지했습니다.'"
      ]
     },
     "execution_count": 85,
     "metadata": {},
     "output_type": "execute_result"
    }
   ],
   "source": [
    "answer_query_with_context(\"남자 높이뛰기 우승은 누가 차지했을까요?\", df_ko, document_embeddings_ko)"
   ]
  },
  {
   "cell_type": "code",
   "execution_count": 91,
   "id": "40ee3dcc",
   "metadata": {},
   "outputs": [
    {
     "name": "stdout",
     "output_type": "stream",
     "text": [
      "Selected 4 document sections:\n",
      "('2020년 하계 올림픽 남자 장대높이뛰기 육상', '요약')\n",
      "('2020년 하계 올림픽 수단 선수단', '유도')\n",
      "('2020년 하계 올림픽 육상 남자 높이뛰기', '요약')\n",
      "('2020년 하계 올림픽 이집트 선수단', '다이빙')\n"
     ]
    },
    {
     "data": {
      "text/plain": [
       "'이탈리아 선수 지안마르코 탐베리(Gianmarco Tamberi)와 카타르 선수 무타즈 에사 바르심(Mutaz Essa Barshim)이 2.37m를 동점으로 통과하며 공동 우승자로 부상했습니다. Tamberi와 Barshim은 올림픽 역사상 서로 다른 국가의 선수들이 같은 메달을 공유하기로 합의한 드문 경우에 금메달을 공유'"
      ]
     },
     "execution_count": 91,
     "metadata": {},
     "output_type": "execute_result"
    }
   ],
   "source": [
    "answer_query_with_context(\"남자 높이뛰기 금메달\", df_ko, document_embeddings_ko)"
   ]
  },
  {
   "cell_type": "markdown",
   "id": "7b48d155-d2d4-447c-ab8e-5a5b4722b07c",
   "metadata": {},
   "source": [
    "임베딩과 완성 API를 결합하여 방대한 추가 지식 기반을 사용하여 질문에 답할 수 있는 질문 답변 모델을 만들었습니다. 또한 답을 모르는 경우에도 이해할 수 있습니다! \n",
    "\n",
    "이 예에서는 위키피디아 문서의 데이터 세트를 사용했지만 이 데이터 세트는 책, 기사, 문서, 서비스 매뉴얼 등으로 대체할 수 있습니다. **GPT-3로 무엇을 만들 수 있을지 기대됩니다!**\n",
    "\n",
    "------------\n",
    "\n",
    "By combining the Embeddings and Completions APIs, we have created a question-answering model which can answer questions using a large base of additional knowledge. It also understands when it doesn't know the answer! \n",
    "\n",
    "For this example we have used a dataset of Wikipedia articles, but that dataset could be replaced with books, articles, documentation, service manuals, or much much more. **We can't wait to see what you create with GPT-3!**\n",
    "\n",
    "# 더 많은 예제 보기\n",
    "\n",
    "이제 몇 가지 예제를 더 살펴봅시다.\n",
    "\n",
    "-------------\n",
    "\n",
    "Let's have some fun and try some more examples."
   ]
  },
  {
   "cell_type": "code",
   "execution_count": 92,
   "id": "1127867b-2884-44bb-9439-0e8ae171c835",
   "metadata": {},
   "outputs": [
    {
     "name": "stdout",
     "output_type": "stream",
     "text": [
      "Selected 1 document sections:\n",
      "('Concerns and controversies at the 2020 Summer Olympics', 'Summary')\n",
      "\n",
      "Q: Why was the 2020 Summer Olympics originally postponed?\n",
      "A: The 2020 Summer Olympics were originally postponed due to the COVID-19 pandemic.\n"
     ]
    }
   ],
   "source": [
    "query = \"Why was the 2020 Summer Olympics originally postponed?\"\n",
    "answer = answer_query_with_context(query, df, document_embeddings)\n",
    "\n",
    "print(f\"\\nQ: {query}\\nA: {answer}\")"
   ]
  },
  {
   "cell_type": "code",
   "execution_count": 94,
   "id": "ac543d68",
   "metadata": {},
   "outputs": [
    {
     "name": "stdout",
     "output_type": "stream",
     "text": [
      "Selected 1 document sections:\n",
      "('2020년 하계 올림픽 바베이도스 선수단', '요약')\n",
      "\n",
      "Q: Why was the 2020 Summer Olympics originally postponed?\n",
      "A: Due to the COVID-19 pandemic.\n"
     ]
    }
   ],
   "source": [
    "query = \"Why was the 2020 Summer Olympics originally postponed?\"\n",
    "answer = answer_query_with_context_ko(query, df_ko, document_embeddings_ko)\n",
    "\n",
    "print(f\"\\nQ: {query}\\nA: {answer}\")"
   ]
  },
  {
   "cell_type": "code",
   "execution_count": 96,
   "id": "0bc9b1ba",
   "metadata": {},
   "outputs": [
    {
     "name": "stdout",
     "output_type": "stream",
     "text": [
      "Selected 7 document sections:\n",
      "('2020년 하계 올림픽 적도 기니 선수단', '요약')\n",
      "('2020년 하계 올림픽 방송인 목록', '요약')\n",
      "('2020년 하계 올림픽 양궁', '요약')\n",
      "('2020년 하계 올림픽 서핑', '요약')\n",
      "('2020년 하계 올림픽 팔라우 선수단', '요약')\n",
      "('2020년 하계 올림픽 나우루', '요약')\n",
      "('2020년 하계 올림픽 예선 수영', '요약')\n",
      "\n",
      "Q: 2020 하계 올림픽이 원래 연기된 이유\n",
      "A: COVID-19 대유행\n"
     ]
    }
   ],
   "source": [
    "query = \"2020 하계 올림픽이 원래 연기된 이유\"\n",
    "answer = answer_query_with_context_ko(query, df_ko, document_embeddings_ko)\n",
    "\n",
    "print(f\"\\nQ: {query}\\nA: {answer}\")"
   ]
  },
  {
   "cell_type": "code",
   "execution_count": 95,
   "id": "6509184b",
   "metadata": {
    "scrolled": true
   },
   "outputs": [
    {
     "name": "stdout",
     "output_type": "stream",
     "text": [
      "Selected 7 document sections:\n",
      "('2020년 하계 올림픽 방송인 목록', '요약')\n",
      "('2020년 하계 올림픽 예선 수영', '요약')\n",
      "('2020년 하계 올림픽 양궁', '요약')\n",
      "('2020년 하계 올림픽 적도 기니 선수단', '요약')\n",
      "('2020년 하계 올림픽 예선 카누', '요약')\n",
      "('2020년 하계 올림픽 팔라우 선수단', '요약')\n",
      "('2020년 하계 올림픽 수단 선수단', '요약')\n",
      "\n",
      "Q: 2020년 하계 올림픽은 왜 연기되었나요?\n",
      "A: COVID-19 대유행으로 인해 2021년으로 연기되었습니다.\n"
     ]
    }
   ],
   "source": [
    "query = \"2020년 하계 올림픽은 왜 연기되었나요?\"\n",
    "answer = answer_query_with_context_ko(query, df_ko, document_embeddings_ko)\n",
    "\n",
    "print(f\"\\nQ: {query}\\nA: {answer}\")"
   ]
  },
  {
   "cell_type": "code",
   "execution_count": 97,
   "id": "720d9e0b-b189-4101-91ee-babf736199e6",
   "metadata": {},
   "outputs": [
    {
     "name": "stdout",
     "output_type": "stream",
     "text": [
      "Selected 2 document sections:\n",
      "('2020 Summer Olympics medal table', 'Summary')\n",
      "('List of 2020 Summer Olympics medal winners', 'Summary')\n",
      "\n",
      "Q: In the 2020 Summer Olympics, how many gold medals did the country which won the most medals win?\n",
      "A: The United States won the most medals overall, with 113, and the most gold medals, with 39.\n"
     ]
    }
   ],
   "source": [
    "query = \"In the 2020 Summer Olympics, how many gold medals did the country which won the most medals win?\"\n",
    "answer = answer_query_with_context(query, df, document_embeddings)\n",
    "\n",
    "print(f\"\\nQ: {query}\\nA: {answer}\")"
   ]
  },
  {
   "cell_type": "code",
   "execution_count": 98,
   "id": "87851e3a",
   "metadata": {
    "scrolled": true
   },
   "outputs": [
    {
     "name": "stdout",
     "output_type": "stream",
     "text": [
      "Selected 2 document sections:\n",
      "('2020 Summer Olympics medal table', 'Summary')\n",
      "('List of 2020 Summer Olympics medal winners', 'Summary')\n",
      "\n",
      "Q: In the 2020 Summer Olympics, how many gold medals did the country which won the most medals win?\n",
      "A: The United States won the most medals overall, with 113, and the most gold medals, with 39.\n"
     ]
    }
   ],
   "source": [
    "query = \"In the 2020 Summer Olympics, how many gold medals did the country which won the most medals win?\"\n",
    "answer = answer_query_with_context_ko(query, df, document_embeddings)\n",
    "\n",
    "print(f\"\\nQ: {query}\\nA: {answer}\")"
   ]
  },
  {
   "cell_type": "code",
   "execution_count": 99,
   "id": "b970b91b",
   "metadata": {},
   "outputs": [
    {
     "name": "stdout",
     "output_type": "stream",
     "text": [
      "Selected 1 document sections:\n",
      "('2020년 하계 올림픽 메달 테이블', '요약')\n",
      "\n",
      "Q: In the 2020 Summer Olympics, how many gold medals did the country which won the most medals win?\n",
      "A: The United States won 39 gold medals.\n"
     ]
    }
   ],
   "source": [
    "query = \"In the 2020 Summer Olympics, how many gold medals did the country which won the most medals win?\"\n",
    "answer = answer_query_with_context(query, df_ko, document_embeddings_ko)\n",
    "\n",
    "print(f\"\\nQ: {query}\\nA: {answer}\")"
   ]
  },
  {
   "cell_type": "code",
   "execution_count": 100,
   "id": "9b3c7a0e",
   "metadata": {},
   "outputs": [
    {
     "name": "stdout",
     "output_type": "stream",
     "text": [
      "Selected 1 document sections:\n",
      "('2020년 하계 올림픽 메달 테이블', '요약')\n",
      "\n",
      "Q: In the 2020 Summer Olympics, how many gold medals did the country which won the most medals win?\n",
      "A: 39개\n"
     ]
    }
   ],
   "source": [
    "query = \"In the 2020 Summer Olympics, how many gold medals did the country which won the most medals win?\"\n",
    "answer = answer_query_with_context_ko(query, df_ko, document_embeddings_ko)\n",
    "\n",
    "print(f\"\\nQ: {query}\\nA: {answer}\")"
   ]
  },
  {
   "cell_type": "code",
   "execution_count": 101,
   "id": "b0013502",
   "metadata": {},
   "outputs": [
    {
     "name": "stdout",
     "output_type": "stream",
     "text": [
      "Selected 1 document sections:\n",
      "('2020년 하계 올림픽 미국 선수단', '요약')\n",
      "\n",
      "Q: 2020 하계 올림픽에서 가장 많은 메달을 획득한 국가는 몇 개의 금메달을 획득했나요?\n",
      "A: 한국이 39개의 금메달을 획득했습니다.\n"
     ]
    }
   ],
   "source": [
    "query = \"2020 하계 올림픽에서 가장 많은 메달을 획득한 국가는 몇 개의 금메달을 획득했나요?\"\n",
    "answer = answer_query_with_context_ko(query, df_ko, document_embeddings_ko)\n",
    "\n",
    "print(f\"\\nQ: {query}\\nA: {answer}\")"
   ]
  },
  {
   "attachments": {},
   "cell_type": "markdown",
   "id": "8ecae0a2",
   "metadata": {},
   "source": [
    "google 번역 오류로 한국으로 번역되었음.\n",
    "\n",
    "#### 원본\n",
    "The United States, represented by the United States Olympic & Paralympic Committee (USOPC), competed at the 2020 Summer Olympics in Tokyo. Originally scheduled to take place in the summer of 2020, the Games were postponed to July 23 to August 8, 2021, due to the COVID-19 pandemic. U.S. athletes have appeared in every Summer Olympics of the modern era, with the exception of the 1980 Summer Olympics in Moscow, which the U.S. boycotted. The opening ceremony flag-bearers for the United States were baseball player Eddy Alvarez and basketball player Sue Bird. Javelin thrower Kara Winger was the flag-bearer for the closing ceremony.The country finished the Games with 113 medals, the most amongst all nations: 39 gold, 41 silver, and 33 bronze. These individual totals were each the highest of the Games, after a final-day tally of three gold medals (women's basketball, women's omnium, and women's volleyball) surpassed China's total of 38 golds. This was the third consecutive Summer Olympics that the U.S. was the medal table leader. Overall, the medal total was slightly lower than five years prior in Rio de Janeiro, where the United States won 46 gold and 121 total medals.\n",
    "As Los Angeles will be the host city of the 2028 Summer Olympics, the United States, along with France, which is hosting the 2024 Summer Olympics in Paris, marched in the opening ceremony just before the host nation Japan.\n",
    "\n",
    "#### 번역본\n",
    "미국 올림픽 패럴림픽 위원회(USOPC)가 대표하는 미국은 도쿄에서 열리는 2020년 하계 올림픽에 참가했습니다. 원래 2020년 여름에 열릴 예정이었던 올림픽은 COVID-19 대유행으로 인해 2021년 7월 23일부터 8월 8일까지로 연기되었습니다. 미국이 보이콧한 1980년 모스크바 하계올림픽을 제외하고 미국 선수들은 근대 하계올림픽 때마다 출전했다. 미국의 개막식 기수는 야구선수 에디 알바레즈와 농구선수 수 버드였다. 폐막식의 기수는 창던지기 카라 윙거(Kara Winger)였다. 한국은 금메달 39개, 은메달 41개, 동메달 33개로 세계 최다인 113개의 메달을 획득하며 대회를 마쳤다. 이 개인 총계는 마지막 날 3개의 금메달(여자 농구, 여자 옴니엄, 여자 배구)의 집계가 중국의 총 38개 금메달을 넘어선 후 각각 올림픽 최고 기록을 세웠습니다. 이것은 미국이 메달 테이블 리더였던 세 번째 연속 하계 올림픽이었습니다. 전반적으로 총 메달 수는 미국이 46개의 금메달과 121개의 메달을 획득한 5년 전 리우데자네이루보다 약간 낮았습니다. 로스엔젤레스가 2028년 하계올림픽 개최지가 됨에 따라 미국은 2024년 파리에서 하계올림픽을 개최하는 프랑스와 함께 개최국 일본에 앞서 개회식에 입장했다."
   ]
  },
  {
   "cell_type": "code",
   "execution_count": 103,
   "id": "2d7114bc",
   "metadata": {},
   "outputs": [
    {
     "name": "stdout",
     "output_type": "stream",
     "text": [
      "Selected 4 document sections:\n",
      "('2020 동계 청소년 올림픽 메달 표', '메달 표')\n",
      "('2020년 하계 올림픽 단체전 승마', '최종 순위(점프 후)')\n",
      "('2020년 하계 올림픽 미국 선수단', '농구')\n",
      "('2020년 하계 올림픽 육상 여자 4 × 100m 계주', '결정적인')\n",
      "\n",
      "Q: 가장 많은 금메달을 획득한 국가는 몇 개의 금메달을 획득했나요?\n",
      "A: 미국이 46개의 금메달을 획득했습니다.\n"
     ]
    }
   ],
   "source": [
    "query = \"가장 많은 금메달을 획득한 국가는 몇 개의 금메달을 획득했나요?\"\n",
    "answer = answer_query_with_context_ko(query, df_ko, document_embeddings_ko)\n",
    "\n",
    "print(f\"\\nQ: {query}\\nA: {answer}\")"
   ]
  },
  {
   "cell_type": "code",
   "execution_count": 108,
   "id": "4e8e51cc-e4eb-4557-9e09-2929d4df5b7f",
   "metadata": {},
   "outputs": [
    {
     "name": "stdout",
     "output_type": "stream",
     "text": [
      "Selected 2 document sections:\n",
      "(\"Athletics at the 2020 Summer Olympics – Men's shot put\", 'Summary')\n",
      "(\"Athletics at the 2020 Summer Olympics – Men's discus throw\", 'Summary')\n",
      "\n",
      "Q: What was unusual about the men’s shot put competition?\n",
      "A: The same three competitors received the same medals in back-to-back editions of the same individual event.\n"
     ]
    }
   ],
   "source": [
    "query = \"What was unusual about the men’s shot put competition?\"\n",
    "answer = answer_query_with_context(query, df, document_embeddings)\n",
    "\n",
    "print(f\"\\nQ: {query}\\nA: {answer}\")"
   ]
  },
  {
   "cell_type": "code",
   "execution_count": 107,
   "id": "471c8e2d",
   "metadata": {},
   "outputs": [
    {
     "name": "stdout",
     "output_type": "stream",
     "text": [
      "Selected 2 document sections:\n",
      "('2020년 하계 올림픽 사격', '경쟁 형식')\n",
      "('2020년 하계 올림픽 육상 남자 멀리뛰기', '경쟁 형식')\n",
      "\n",
      "Q: What was unusual about the men’s shot put competition?\n",
      "A: Men's shot put competition was replaced with a mixed team event consisting of three male-only events: 50m rifle prone, 50m pistol, and double trap.\n"
     ]
    }
   ],
   "source": [
    "query = \"What was unusual about the men’s shot put competition?\"\n",
    "answer = answer_query_with_context_ko(query, df_ko, document_embeddings_ko)\n",
    "\n",
    "print(f\"\\nQ: {query}\\nA: {answer}\")"
   ]
  },
  {
   "cell_type": "code",
   "execution_count": 110,
   "id": "0a3aaed3",
   "metadata": {},
   "outputs": [
    {
     "name": "stdout",
     "output_type": "stream",
     "text": [
      "Selected 3 document sections:\n",
      "('2020년 하계 올림픽 남자 개인 양궁', '요약')\n",
      "('2020년 하계 올림픽 수영 혼성 4 × 100m 혼계영', '레이스 규칙')\n",
      "('2020년 하계 올림픽 남자 개인 양궁', '경쟁 형식')\n",
      "\n",
      "Q: 남자 포환던지기 경기의 특이한 점은 무엇인가요?\n",
      "A: 리커브 양궁 종목으로 세계 양궁이 승인한 70m 거리 및 규정에 따라 진행되며, 각 경기는 궁수 1인당 3발씩 최대 5세트로 구성되며, 녹아웃 경기는 2012년 도입된 세트제를 사용한다는 점입니다.\n"
     ]
    }
   ],
   "source": [
    "query = \"남자 포환던지기 경기의 특이한 점은 무엇인가요?\"\n",
    "answer = answer_query_with_context_ko(query, df_ko, document_embeddings_ko)\n",
    "\n",
    "print(f\"\\nQ: {query}\\nA: {answer}\")"
   ]
  },
  {
   "cell_type": "code",
   "execution_count": 111,
   "id": "37c83519-e3c6-4c44-8b4a-98cbb3a5f5ba",
   "metadata": {},
   "outputs": [
    {
     "name": "stdout",
     "output_type": "stream",
     "text": [
      "Selected 2 document sections:\n",
      "('Italy at the 2020 Summer Olympics', 'Summary')\n",
      "('San Marino at the 2020 Summer Olympics', 'Summary')\n",
      "\n",
      "Q: In the 2020 Summer Olympics, how many silver medals did Italy win?\n",
      "A: 10 silver medals.\n"
     ]
    }
   ],
   "source": [
    "query = \"In the 2020 Summer Olympics, how many silver medals did Italy win?\"\n",
    "answer = answer_query_with_context(query, df, document_embeddings)\n",
    "\n",
    "print(f\"\\nQ: {query}\\nA: {answer}\")"
   ]
  },
  {
   "cell_type": "markdown",
   "id": "177c945e-f5c4-4fa5-8331-44f328b25e44",
   "metadata": {},
   "source": [
    "질의응답 모델은 답변이 엉뚱한 방향으로 흘러가는 경향이 적고, 무엇을 아는지 모르는지 더 잘 파악할 수 있습니다. 문맥에 정보가 포함되어 있지 않거나, 질문이 무의미한 경우, 또는 이론적으로는 답변이 가능하지만 GPT-3의 능력을 넘어서는 질문일 때 효과적입니다!\n",
    "\n",
    "----------\n",
    "\n",
    "Our Q&A model is less prone to hallucinating answers, and has a better sense of what it does or doesn't know. This works when the information isn't contained in the context; when the question is nonsensical; or when the question is theoretically answerable but beyond GPT-3's powers!"
   ]
  },
  {
   "cell_type": "code",
   "execution_count": 112,
   "id": "26a1a9ef-e1ee-4f80-a1b1-6164ccfa5bac",
   "metadata": {},
   "outputs": [
    {
     "name": "stdout",
     "output_type": "stream",
     "text": [
      "Selected 4 document sections:\n",
      "('France at the 2020 Summer Olympics', 'Taekwondo')\n",
      "('Taekwondo at the 2020 Summer Olympics – Qualification', 'Qualification summary')\n",
      "('2020 Summer Olympics medal table', 'Medal count')\n",
      "(\"Taekwondo at the 2020 Summer Olympics – Men's 80 kg\", 'Competition format')\n",
      "\n",
      "Q: What is the total number of medals won by France, multiplied by the number of Taekwondo medals given out to all countries?\n",
      "A: I don't know.\n"
     ]
    }
   ],
   "source": [
    "query = \"What is the total number of medals won by France, multiplied by the number of Taekwondo medals given out to all countries?\"\n",
    "answer = answer_query_with_context(query, df, document_embeddings)\n",
    "\n",
    "print(f\"\\nQ: {query}\\nA: {answer}\")"
   ]
  },
  {
   "cell_type": "code",
   "execution_count": 115,
   "id": "a0ac20ff",
   "metadata": {},
   "outputs": [
    {
     "name": "stdout",
     "output_type": "stream",
     "text": [
      "Selected 4 document sections:\n",
      "('2020년 하계 올림픽 프랑스 선수단', '태권도')\n",
      "('2020년 하계 올림픽 예선 태권도', '자격 요약')\n",
      "('2020년 하계 올림픽 태국 선수단', '승마자')\n",
      "('2020년 하계 올림픽 프랑스 선수단', '권투')\n",
      "\n",
      "Q: What is the total number of medals won by France, multiplied by the number of Taekwondo medals given out to all countries?\n",
      "A: 모름\n"
     ]
    }
   ],
   "source": [
    "query = \"What is the total number of medals won by France, multiplied by the number of Taekwondo medals given out to all countries?\"\n",
    "answer = answer_query_with_context_ko(query, df_ko, document_embeddings_ko)\n",
    "\n",
    "print(f\"\\nQ: {query}\\nA: {answer}\")"
   ]
  },
  {
   "cell_type": "code",
   "execution_count": 117,
   "id": "479e4726",
   "metadata": {},
   "outputs": [
    {
     "name": "stdout",
     "output_type": "stream",
     "text": [
      "Selected 3 document sections:\n",
      "('2020 동계 청소년 올림픽 메달 표', '메달 표')\n",
      "('2020년 하계 올림픽 프랑스 선수단', '태권도')\n",
      "('2020년 하계 올림픽 프랑스 선수단', '권투')\n",
      "\n",
      "Q: 프랑스가 획득한 총 메달 수에 모든 국가에 수여된 태권도 메달 수를 곱한 값은 얼마입니까?\n",
      "A: 모름\n"
     ]
    }
   ],
   "source": [
    "query = \"프랑스가 획득한 총 메달 수에 모든 국가에 수여된 태권도 메달 수를 곱한 값은 얼마입니까?\"\n",
    "answer = answer_query_with_context_ko(query, df_ko, document_embeddings_ko)\n",
    "\n",
    "print(f\"\\nQ: {query}\\nA: {answer}\")"
   ]
  },
  {
   "cell_type": "code",
   "execution_count": 113,
   "id": "9fba8a63-eb81-4661-ae17-59bb5e2933d6",
   "metadata": {},
   "outputs": [
    {
     "name": "stdout",
     "output_type": "stream",
     "text": [
      "Selected 3 document sections:\n",
      "(\"Ski mountaineering at the 2020 Winter Youth Olympics – Boys' individual\", 'Summary')\n",
      "(\"Sport climbing at the 2020 Summer Olympics – Men's combined\", 'Route-setting')\n",
      "(\"Ski mountaineering at the 2020 Winter Youth Olympics – Girls' individual\", 'Summary')\n",
      "\n",
      "Q: What is the tallest mountain in the world?\n",
      "A: I don't know.\n"
     ]
    }
   ],
   "source": [
    "query = \"What is the tallest mountain in the world?\"\n",
    "answer = answer_query_with_context(query, df, document_embeddings)\n",
    "\n",
    "print(f\"\\nQ: {query}\\nA: {answer}\")"
   ]
  },
  {
   "cell_type": "code",
   "execution_count": 118,
   "id": "2c6b836a",
   "metadata": {},
   "outputs": [
    {
     "name": "stdout",
     "output_type": "stream",
     "text": [
      "Selected 1 document sections:\n",
      "('2020년 하계 올림픽 육상 남자 높이뛰기', '요약')\n",
      "\n",
      "Q: What is the tallest mountain in the world?\n",
      "A: 모름\n"
     ]
    }
   ],
   "source": [
    "query = \"What is the tallest mountain in the world?\"\n",
    "answer = answer_query_with_context_ko(query, df_ko, document_embeddings_ko)\n",
    "\n",
    "print(f\"\\nQ: {query}\\nA: {answer}\")"
   ]
  },
  {
   "cell_type": "code",
   "execution_count": 119,
   "id": "27f9ba70",
   "metadata": {},
   "outputs": [
    {
     "name": "stdout",
     "output_type": "stream",
     "text": [
      "Selected 6 document sections:\n",
      "('2020년 하계 올림픽에서 세운 세계 및 올림픽 기록', '요약')\n",
      "('2020년 하계 올림픽 육상', '수치 기록')\n",
      "('2020년 하계 올림픽 뉴질랜드 선수단', '서핑')\n",
      "('2020년 하계 올림픽 부룬디 선수단', '체육 실기')\n",
      "('2020년 하계 올림픽 모로코 선수단', '서핑')\n",
      "('2020년 하계 올림픽 혼성 단체 양궁', '경쟁 대진표')\n",
      "\n",
      "Q: 세계에서 가장 높은 산은 무엇인가요?\n",
      "A: 모름\n"
     ]
    }
   ],
   "source": [
    "query = \"세계에서 가장 높은 산은 무엇인가요?\"\n",
    "answer = answer_query_with_context_ko(query, df_ko, document_embeddings_ko)\n",
    "\n",
    "print(f\"\\nQ: {query}\\nA: {answer}\")"
   ]
  },
  {
   "cell_type": "code",
   "execution_count": 114,
   "id": "2d4c693b-cdb9-4f4c-bd1b-f77b29097a1f",
   "metadata": {},
   "outputs": [
    {
     "name": "stdout",
     "output_type": "stream",
     "text": [
      "Selected 2 document sections:\n",
      "(\"Gymnastics at the 2020 Summer Olympics – Women's trampoline\", 'Summary')\n",
      "('Equestrian at the 2020 Summer Olympics – Team jumping', 'Summary')\n",
      "\n",
      "Q: Who won the grimblesplatch competition at the 2020 Summer Olympic games?\n",
      "A: I don't know.\n"
     ]
    }
   ],
   "source": [
    "query = \"Who won the grimblesplatch competition at the 2020 Summer Olympic games?\"\n",
    "answer = answer_query_with_context(query, df, document_embeddings)\n",
    "\n",
    "print(f\"\\nQ: {query}\\nA: {answer}\")"
   ]
  },
  {
   "cell_type": "code",
   "execution_count": 120,
   "id": "26afbe6d",
   "metadata": {},
   "outputs": [
    {
     "name": "stdout",
     "output_type": "stream",
     "text": [
      "Selected 2 document sections:\n",
      "('2020년 하계 올림픽 팀 점핑 승마 선수', '요약')\n",
      "('2020년 하계 올림픽 펜싱 남자 대표팀 챕터', '배경')\n",
      "\n",
      "Q: Who won the grimblesplatch competition at the 2020 Summer Olympic games?\n",
      "A: Sweden\n"
     ]
    }
   ],
   "source": [
    "query = \"Who won the grimblesplatch competition at the 2020 Summer Olympic games?\"\n",
    "answer = answer_query_with_context_ko(query, df_ko, document_embeddings_ko)\n",
    "\n",
    "print(f\"\\nQ: {query}\\nA: {answer}\")"
   ]
  },
  {
   "cell_type": "code",
   "execution_count": 121,
   "id": "22d0cc7a",
   "metadata": {},
   "outputs": [
    {
     "name": "stdout",
     "output_type": "stream",
     "text": [
      "Selected 6 document sections:\n",
      "('2020년 하계 올림픽 배구 남미 예선', '요약')\n",
      "('2020년 하계 올림픽 배구 남자 아프리카 예선', '요약')\n",
      "('2020년 하계 올림픽 태권도', '요약')\n",
      "('2020년 하계 올림픽 호주 선수단', '탁구')\n",
      "('2020년 하계 올림픽 근대5종', '요약')\n",
      "('2020년 하계 올림픽 여자 예선 배구', '요약')\n",
      "\n",
      "Q: 2020 하계 올림픽 그림블스플래치 대회 우승자?\n",
      "A: 모름\n"
     ]
    }
   ],
   "source": [
    "query = \"2020 하계 올림픽 그림블스플래치 대회 우승자?\"\n",
    "answer = answer_query_with_context_ko(query, df_ko, document_embeddings_ko)\n",
    "\n",
    "print(f\"\\nQ: {query}\\nA: {answer}\")"
   ]
  },
  {
   "cell_type": "code",
   "execution_count": null,
   "id": "7e2669f6",
   "metadata": {},
   "outputs": [],
   "source": []
  }
 ],
 "metadata": {
  "kernelspec": {
   "display_name": "Python 3 (ipykernel)",
   "language": "python",
   "name": "python3"
  },
  "language_info": {
   "codemirror_mode": {
    "name": "ipython",
    "version": 3
   },
   "file_extension": ".py",
   "mimetype": "text/x-python",
   "name": "python",
   "nbconvert_exporter": "python",
   "pygments_lexer": "ipython3",
   "version": "3.10.10"
  },
  "vscode": {
   "interpreter": {
    "hash": "365536dcbde60510dc9073d6b991cd35db2d9bac356a11f5b64279a5e6708b97"
   }
  }
 },
 "nbformat": 4,
 "nbformat_minor": 5
}
